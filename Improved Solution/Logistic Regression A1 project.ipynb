{
 "cells": [
  {
   "cell_type": "code",
   "execution_count": 1,
   "id": "83e0a061",
   "metadata": {},
   "outputs": [],
   "source": [
    "%matplotlib inline\n",
    "%load_ext autoreload\n",
    "%autoreload 2"
   ]
  },
  {
   "cell_type": "code",
   "execution_count": 2,
   "id": "cae30d7b",
   "metadata": {},
   "outputs": [],
   "source": [
    "import numpy as np\n",
    "import pandas as pd\n",
    "from sklearn.linear_model import LogisticRegression, LinearRegression\n",
    "from sklearn.model_selection import train_test_split\n",
    "import seaborn as sns\n",
    "import matplotlib.pyplot as plt\n",
    "from ISLP import load_data\n",
    "from sklearn.metrics import confusion_matrix, classification_report\n",
    "import statsmodels.formula.api as smf\n",
    "import statsmodels.api as sm\n",
    "from sklearn.model_selection import LeaveOneOut\n",
    "import matplotlib.cm as cm\n",
    "from sklearn.metrics import ConfusionMatrixDisplay\n",
    "from sklearn.model_selection import cross_val_score, GridSearchCV"
   ]
  },
  {
   "cell_type": "code",
   "execution_count": 3,
   "id": "f8814707",
   "metadata": {},
   "outputs": [
    {
     "data": {
      "text/html": [
       "<div>\n",
       "<style scoped>\n",
       "    .dataframe tbody tr th:only-of-type {\n",
       "        vertical-align: middle;\n",
       "    }\n",
       "\n",
       "    .dataframe tbody tr th {\n",
       "        vertical-align: top;\n",
       "    }\n",
       "\n",
       "    .dataframe thead th {\n",
       "        text-align: right;\n",
       "    }\n",
       "</style>\n",
       "<table border=\"1\" class=\"dataframe\">\n",
       "  <thead>\n",
       "    <tr style=\"text-align: right;\">\n",
       "      <th></th>\n",
       "      <th>index</th>\n",
       "      <th>Patient Id</th>\n",
       "      <th>Age</th>\n",
       "      <th>Gender</th>\n",
       "      <th>Air Pollution</th>\n",
       "      <th>Alcohol use</th>\n",
       "      <th>Dust Allergy</th>\n",
       "      <th>OccuPational Hazards</th>\n",
       "      <th>Genetic Risk</th>\n",
       "      <th>chronic Lung Disease</th>\n",
       "      <th>...</th>\n",
       "      <th>Fatigue</th>\n",
       "      <th>Weight Loss</th>\n",
       "      <th>Shortness of Breath</th>\n",
       "      <th>Wheezing</th>\n",
       "      <th>Swallowing Difficulty</th>\n",
       "      <th>Clubbing of Finger Nails</th>\n",
       "      <th>Frequent Cold</th>\n",
       "      <th>Dry Cough</th>\n",
       "      <th>Snoring</th>\n",
       "      <th>Level</th>\n",
       "    </tr>\n",
       "  </thead>\n",
       "  <tbody>\n",
       "    <tr>\n",
       "      <th>0</th>\n",
       "      <td>0</td>\n",
       "      <td>P1</td>\n",
       "      <td>33</td>\n",
       "      <td>1</td>\n",
       "      <td>2</td>\n",
       "      <td>4</td>\n",
       "      <td>5</td>\n",
       "      <td>4</td>\n",
       "      <td>3</td>\n",
       "      <td>2</td>\n",
       "      <td>...</td>\n",
       "      <td>3</td>\n",
       "      <td>4</td>\n",
       "      <td>2</td>\n",
       "      <td>2</td>\n",
       "      <td>3</td>\n",
       "      <td>1</td>\n",
       "      <td>2</td>\n",
       "      <td>3</td>\n",
       "      <td>4</td>\n",
       "      <td>Low</td>\n",
       "    </tr>\n",
       "    <tr>\n",
       "      <th>1</th>\n",
       "      <td>1</td>\n",
       "      <td>P10</td>\n",
       "      <td>17</td>\n",
       "      <td>1</td>\n",
       "      <td>3</td>\n",
       "      <td>1</td>\n",
       "      <td>5</td>\n",
       "      <td>3</td>\n",
       "      <td>4</td>\n",
       "      <td>2</td>\n",
       "      <td>...</td>\n",
       "      <td>1</td>\n",
       "      <td>3</td>\n",
       "      <td>7</td>\n",
       "      <td>8</td>\n",
       "      <td>6</td>\n",
       "      <td>2</td>\n",
       "      <td>1</td>\n",
       "      <td>7</td>\n",
       "      <td>2</td>\n",
       "      <td>Medium</td>\n",
       "    </tr>\n",
       "    <tr>\n",
       "      <th>2</th>\n",
       "      <td>2</td>\n",
       "      <td>P100</td>\n",
       "      <td>35</td>\n",
       "      <td>1</td>\n",
       "      <td>4</td>\n",
       "      <td>5</td>\n",
       "      <td>6</td>\n",
       "      <td>5</td>\n",
       "      <td>5</td>\n",
       "      <td>4</td>\n",
       "      <td>...</td>\n",
       "      <td>8</td>\n",
       "      <td>7</td>\n",
       "      <td>9</td>\n",
       "      <td>2</td>\n",
       "      <td>1</td>\n",
       "      <td>4</td>\n",
       "      <td>6</td>\n",
       "      <td>7</td>\n",
       "      <td>2</td>\n",
       "      <td>High</td>\n",
       "    </tr>\n",
       "    <tr>\n",
       "      <th>3</th>\n",
       "      <td>3</td>\n",
       "      <td>P1000</td>\n",
       "      <td>37</td>\n",
       "      <td>1</td>\n",
       "      <td>7</td>\n",
       "      <td>7</td>\n",
       "      <td>7</td>\n",
       "      <td>7</td>\n",
       "      <td>6</td>\n",
       "      <td>7</td>\n",
       "      <td>...</td>\n",
       "      <td>4</td>\n",
       "      <td>2</td>\n",
       "      <td>3</td>\n",
       "      <td>1</td>\n",
       "      <td>4</td>\n",
       "      <td>5</td>\n",
       "      <td>6</td>\n",
       "      <td>7</td>\n",
       "      <td>5</td>\n",
       "      <td>High</td>\n",
       "    </tr>\n",
       "    <tr>\n",
       "      <th>4</th>\n",
       "      <td>4</td>\n",
       "      <td>P101</td>\n",
       "      <td>46</td>\n",
       "      <td>1</td>\n",
       "      <td>6</td>\n",
       "      <td>8</td>\n",
       "      <td>7</td>\n",
       "      <td>7</td>\n",
       "      <td>7</td>\n",
       "      <td>6</td>\n",
       "      <td>...</td>\n",
       "      <td>3</td>\n",
       "      <td>2</td>\n",
       "      <td>4</td>\n",
       "      <td>1</td>\n",
       "      <td>4</td>\n",
       "      <td>2</td>\n",
       "      <td>4</td>\n",
       "      <td>2</td>\n",
       "      <td>3</td>\n",
       "      <td>High</td>\n",
       "    </tr>\n",
       "    <tr>\n",
       "      <th>...</th>\n",
       "      <td>...</td>\n",
       "      <td>...</td>\n",
       "      <td>...</td>\n",
       "      <td>...</td>\n",
       "      <td>...</td>\n",
       "      <td>...</td>\n",
       "      <td>...</td>\n",
       "      <td>...</td>\n",
       "      <td>...</td>\n",
       "      <td>...</td>\n",
       "      <td>...</td>\n",
       "      <td>...</td>\n",
       "      <td>...</td>\n",
       "      <td>...</td>\n",
       "      <td>...</td>\n",
       "      <td>...</td>\n",
       "      <td>...</td>\n",
       "      <td>...</td>\n",
       "      <td>...</td>\n",
       "      <td>...</td>\n",
       "      <td>...</td>\n",
       "    </tr>\n",
       "    <tr>\n",
       "      <th>995</th>\n",
       "      <td>995</td>\n",
       "      <td>P995</td>\n",
       "      <td>44</td>\n",
       "      <td>1</td>\n",
       "      <td>6</td>\n",
       "      <td>7</td>\n",
       "      <td>7</td>\n",
       "      <td>7</td>\n",
       "      <td>7</td>\n",
       "      <td>6</td>\n",
       "      <td>...</td>\n",
       "      <td>5</td>\n",
       "      <td>3</td>\n",
       "      <td>2</td>\n",
       "      <td>7</td>\n",
       "      <td>8</td>\n",
       "      <td>2</td>\n",
       "      <td>4</td>\n",
       "      <td>5</td>\n",
       "      <td>3</td>\n",
       "      <td>High</td>\n",
       "    </tr>\n",
       "    <tr>\n",
       "      <th>996</th>\n",
       "      <td>996</td>\n",
       "      <td>P996</td>\n",
       "      <td>37</td>\n",
       "      <td>2</td>\n",
       "      <td>6</td>\n",
       "      <td>8</td>\n",
       "      <td>7</td>\n",
       "      <td>7</td>\n",
       "      <td>7</td>\n",
       "      <td>6</td>\n",
       "      <td>...</td>\n",
       "      <td>9</td>\n",
       "      <td>6</td>\n",
       "      <td>5</td>\n",
       "      <td>7</td>\n",
       "      <td>2</td>\n",
       "      <td>4</td>\n",
       "      <td>3</td>\n",
       "      <td>1</td>\n",
       "      <td>4</td>\n",
       "      <td>High</td>\n",
       "    </tr>\n",
       "    <tr>\n",
       "      <th>997</th>\n",
       "      <td>997</td>\n",
       "      <td>P997</td>\n",
       "      <td>25</td>\n",
       "      <td>2</td>\n",
       "      <td>4</td>\n",
       "      <td>5</td>\n",
       "      <td>6</td>\n",
       "      <td>5</td>\n",
       "      <td>5</td>\n",
       "      <td>4</td>\n",
       "      <td>...</td>\n",
       "      <td>8</td>\n",
       "      <td>7</td>\n",
       "      <td>9</td>\n",
       "      <td>2</td>\n",
       "      <td>1</td>\n",
       "      <td>4</td>\n",
       "      <td>6</td>\n",
       "      <td>7</td>\n",
       "      <td>2</td>\n",
       "      <td>High</td>\n",
       "    </tr>\n",
       "    <tr>\n",
       "      <th>998</th>\n",
       "      <td>998</td>\n",
       "      <td>P998</td>\n",
       "      <td>18</td>\n",
       "      <td>2</td>\n",
       "      <td>6</td>\n",
       "      <td>8</td>\n",
       "      <td>7</td>\n",
       "      <td>7</td>\n",
       "      <td>7</td>\n",
       "      <td>6</td>\n",
       "      <td>...</td>\n",
       "      <td>3</td>\n",
       "      <td>2</td>\n",
       "      <td>4</td>\n",
       "      <td>1</td>\n",
       "      <td>4</td>\n",
       "      <td>2</td>\n",
       "      <td>4</td>\n",
       "      <td>2</td>\n",
       "      <td>3</td>\n",
       "      <td>High</td>\n",
       "    </tr>\n",
       "    <tr>\n",
       "      <th>999</th>\n",
       "      <td>999</td>\n",
       "      <td>P999</td>\n",
       "      <td>47</td>\n",
       "      <td>1</td>\n",
       "      <td>6</td>\n",
       "      <td>5</td>\n",
       "      <td>6</td>\n",
       "      <td>5</td>\n",
       "      <td>5</td>\n",
       "      <td>4</td>\n",
       "      <td>...</td>\n",
       "      <td>8</td>\n",
       "      <td>7</td>\n",
       "      <td>9</td>\n",
       "      <td>2</td>\n",
       "      <td>1</td>\n",
       "      <td>4</td>\n",
       "      <td>6</td>\n",
       "      <td>7</td>\n",
       "      <td>2</td>\n",
       "      <td>High</td>\n",
       "    </tr>\n",
       "  </tbody>\n",
       "</table>\n",
       "<p>1000 rows × 26 columns</p>\n",
       "</div>"
      ],
      "text/plain": [
       "     index Patient Id  Age  Gender  Air Pollution  Alcohol use  Dust Allergy  \\\n",
       "0        0         P1   33       1              2            4             5   \n",
       "1        1        P10   17       1              3            1             5   \n",
       "2        2       P100   35       1              4            5             6   \n",
       "3        3      P1000   37       1              7            7             7   \n",
       "4        4       P101   46       1              6            8             7   \n",
       "..     ...        ...  ...     ...            ...          ...           ...   \n",
       "995    995       P995   44       1              6            7             7   \n",
       "996    996       P996   37       2              6            8             7   \n",
       "997    997       P997   25       2              4            5             6   \n",
       "998    998       P998   18       2              6            8             7   \n",
       "999    999       P999   47       1              6            5             6   \n",
       "\n",
       "     OccuPational Hazards  Genetic Risk  chronic Lung Disease  ...  Fatigue  \\\n",
       "0                       4             3                     2  ...        3   \n",
       "1                       3             4                     2  ...        1   \n",
       "2                       5             5                     4  ...        8   \n",
       "3                       7             6                     7  ...        4   \n",
       "4                       7             7                     6  ...        3   \n",
       "..                    ...           ...                   ...  ...      ...   \n",
       "995                     7             7                     6  ...        5   \n",
       "996                     7             7                     6  ...        9   \n",
       "997                     5             5                     4  ...        8   \n",
       "998                     7             7                     6  ...        3   \n",
       "999                     5             5                     4  ...        8   \n",
       "\n",
       "     Weight Loss  Shortness of Breath  Wheezing  Swallowing Difficulty  \\\n",
       "0              4                    2         2                      3   \n",
       "1              3                    7         8                      6   \n",
       "2              7                    9         2                      1   \n",
       "3              2                    3         1                      4   \n",
       "4              2                    4         1                      4   \n",
       "..           ...                  ...       ...                    ...   \n",
       "995            3                    2         7                      8   \n",
       "996            6                    5         7                      2   \n",
       "997            7                    9         2                      1   \n",
       "998            2                    4         1                      4   \n",
       "999            7                    9         2                      1   \n",
       "\n",
       "     Clubbing of Finger Nails  Frequent Cold  Dry Cough  Snoring   Level  \n",
       "0                           1              2          3        4     Low  \n",
       "1                           2              1          7        2  Medium  \n",
       "2                           4              6          7        2    High  \n",
       "3                           5              6          7        5    High  \n",
       "4                           2              4          2        3    High  \n",
       "..                        ...            ...        ...      ...     ...  \n",
       "995                         2              4          5        3    High  \n",
       "996                         4              3          1        4    High  \n",
       "997                         4              6          7        2    High  \n",
       "998                         2              4          2        3    High  \n",
       "999                         4              6          7        2    High  \n",
       "\n",
       "[1000 rows x 26 columns]"
      ]
     },
     "execution_count": 3,
     "metadata": {},
     "output_type": "execute_result"
    }
   ],
   "source": [
    "df = pd.read_csv('cancer patient data sets.csv')\n",
    "df"
   ]
  },
  {
   "cell_type": "code",
   "execution_count": 4,
   "id": "f345d038",
   "metadata": {},
   "outputs": [
    {
     "data": {
      "text/html": [
       "<div>\n",
       "<style scoped>\n",
       "    .dataframe tbody tr th:only-of-type {\n",
       "        vertical-align: middle;\n",
       "    }\n",
       "\n",
       "    .dataframe tbody tr th {\n",
       "        vertical-align: top;\n",
       "    }\n",
       "\n",
       "    .dataframe thead th {\n",
       "        text-align: right;\n",
       "    }\n",
       "</style>\n",
       "<table border=\"1\" class=\"dataframe\">\n",
       "  <thead>\n",
       "    <tr style=\"text-align: right;\">\n",
       "      <th></th>\n",
       "      <th>index</th>\n",
       "      <th>Patient Id</th>\n",
       "      <th>Age</th>\n",
       "      <th>Gender</th>\n",
       "      <th>Air Pollution</th>\n",
       "      <th>Alcohol use</th>\n",
       "      <th>Dust Allergy</th>\n",
       "      <th>OccuPational Hazards</th>\n",
       "      <th>Genetic Risk</th>\n",
       "      <th>chronic Lung Disease</th>\n",
       "      <th>...</th>\n",
       "      <th>Weight Loss</th>\n",
       "      <th>Shortness of Breath</th>\n",
       "      <th>Wheezing</th>\n",
       "      <th>Swallowing Difficulty</th>\n",
       "      <th>Clubbing of Finger Nails</th>\n",
       "      <th>Frequent Cold</th>\n",
       "      <th>Dry Cough</th>\n",
       "      <th>Snoring</th>\n",
       "      <th>Level</th>\n",
       "      <th>Level_cat</th>\n",
       "    </tr>\n",
       "  </thead>\n",
       "  <tbody>\n",
       "    <tr>\n",
       "      <th>0</th>\n",
       "      <td>0</td>\n",
       "      <td>P1</td>\n",
       "      <td>33</td>\n",
       "      <td>1</td>\n",
       "      <td>2</td>\n",
       "      <td>4</td>\n",
       "      <td>5</td>\n",
       "      <td>4</td>\n",
       "      <td>3</td>\n",
       "      <td>2</td>\n",
       "      <td>...</td>\n",
       "      <td>4</td>\n",
       "      <td>2</td>\n",
       "      <td>2</td>\n",
       "      <td>3</td>\n",
       "      <td>1</td>\n",
       "      <td>2</td>\n",
       "      <td>3</td>\n",
       "      <td>4</td>\n",
       "      <td>Low</td>\n",
       "      <td>0</td>\n",
       "    </tr>\n",
       "    <tr>\n",
       "      <th>1</th>\n",
       "      <td>1</td>\n",
       "      <td>P10</td>\n",
       "      <td>17</td>\n",
       "      <td>1</td>\n",
       "      <td>3</td>\n",
       "      <td>1</td>\n",
       "      <td>5</td>\n",
       "      <td>3</td>\n",
       "      <td>4</td>\n",
       "      <td>2</td>\n",
       "      <td>...</td>\n",
       "      <td>3</td>\n",
       "      <td>7</td>\n",
       "      <td>8</td>\n",
       "      <td>6</td>\n",
       "      <td>2</td>\n",
       "      <td>1</td>\n",
       "      <td>7</td>\n",
       "      <td>2</td>\n",
       "      <td>Medium</td>\n",
       "      <td>1</td>\n",
       "    </tr>\n",
       "    <tr>\n",
       "      <th>2</th>\n",
       "      <td>2</td>\n",
       "      <td>P100</td>\n",
       "      <td>35</td>\n",
       "      <td>1</td>\n",
       "      <td>4</td>\n",
       "      <td>5</td>\n",
       "      <td>6</td>\n",
       "      <td>5</td>\n",
       "      <td>5</td>\n",
       "      <td>4</td>\n",
       "      <td>...</td>\n",
       "      <td>7</td>\n",
       "      <td>9</td>\n",
       "      <td>2</td>\n",
       "      <td>1</td>\n",
       "      <td>4</td>\n",
       "      <td>6</td>\n",
       "      <td>7</td>\n",
       "      <td>2</td>\n",
       "      <td>High</td>\n",
       "      <td>2</td>\n",
       "    </tr>\n",
       "    <tr>\n",
       "      <th>3</th>\n",
       "      <td>3</td>\n",
       "      <td>P1000</td>\n",
       "      <td>37</td>\n",
       "      <td>1</td>\n",
       "      <td>7</td>\n",
       "      <td>7</td>\n",
       "      <td>7</td>\n",
       "      <td>7</td>\n",
       "      <td>6</td>\n",
       "      <td>7</td>\n",
       "      <td>...</td>\n",
       "      <td>2</td>\n",
       "      <td>3</td>\n",
       "      <td>1</td>\n",
       "      <td>4</td>\n",
       "      <td>5</td>\n",
       "      <td>6</td>\n",
       "      <td>7</td>\n",
       "      <td>5</td>\n",
       "      <td>High</td>\n",
       "      <td>2</td>\n",
       "    </tr>\n",
       "    <tr>\n",
       "      <th>4</th>\n",
       "      <td>4</td>\n",
       "      <td>P101</td>\n",
       "      <td>46</td>\n",
       "      <td>1</td>\n",
       "      <td>6</td>\n",
       "      <td>8</td>\n",
       "      <td>7</td>\n",
       "      <td>7</td>\n",
       "      <td>7</td>\n",
       "      <td>6</td>\n",
       "      <td>...</td>\n",
       "      <td>2</td>\n",
       "      <td>4</td>\n",
       "      <td>1</td>\n",
       "      <td>4</td>\n",
       "      <td>2</td>\n",
       "      <td>4</td>\n",
       "      <td>2</td>\n",
       "      <td>3</td>\n",
       "      <td>High</td>\n",
       "      <td>2</td>\n",
       "    </tr>\n",
       "    <tr>\n",
       "      <th>...</th>\n",
       "      <td>...</td>\n",
       "      <td>...</td>\n",
       "      <td>...</td>\n",
       "      <td>...</td>\n",
       "      <td>...</td>\n",
       "      <td>...</td>\n",
       "      <td>...</td>\n",
       "      <td>...</td>\n",
       "      <td>...</td>\n",
       "      <td>...</td>\n",
       "      <td>...</td>\n",
       "      <td>...</td>\n",
       "      <td>...</td>\n",
       "      <td>...</td>\n",
       "      <td>...</td>\n",
       "      <td>...</td>\n",
       "      <td>...</td>\n",
       "      <td>...</td>\n",
       "      <td>...</td>\n",
       "      <td>...</td>\n",
       "      <td>...</td>\n",
       "    </tr>\n",
       "    <tr>\n",
       "      <th>995</th>\n",
       "      <td>995</td>\n",
       "      <td>P995</td>\n",
       "      <td>44</td>\n",
       "      <td>1</td>\n",
       "      <td>6</td>\n",
       "      <td>7</td>\n",
       "      <td>7</td>\n",
       "      <td>7</td>\n",
       "      <td>7</td>\n",
       "      <td>6</td>\n",
       "      <td>...</td>\n",
       "      <td>3</td>\n",
       "      <td>2</td>\n",
       "      <td>7</td>\n",
       "      <td>8</td>\n",
       "      <td>2</td>\n",
       "      <td>4</td>\n",
       "      <td>5</td>\n",
       "      <td>3</td>\n",
       "      <td>High</td>\n",
       "      <td>2</td>\n",
       "    </tr>\n",
       "    <tr>\n",
       "      <th>996</th>\n",
       "      <td>996</td>\n",
       "      <td>P996</td>\n",
       "      <td>37</td>\n",
       "      <td>2</td>\n",
       "      <td>6</td>\n",
       "      <td>8</td>\n",
       "      <td>7</td>\n",
       "      <td>7</td>\n",
       "      <td>7</td>\n",
       "      <td>6</td>\n",
       "      <td>...</td>\n",
       "      <td>6</td>\n",
       "      <td>5</td>\n",
       "      <td>7</td>\n",
       "      <td>2</td>\n",
       "      <td>4</td>\n",
       "      <td>3</td>\n",
       "      <td>1</td>\n",
       "      <td>4</td>\n",
       "      <td>High</td>\n",
       "      <td>2</td>\n",
       "    </tr>\n",
       "    <tr>\n",
       "      <th>997</th>\n",
       "      <td>997</td>\n",
       "      <td>P997</td>\n",
       "      <td>25</td>\n",
       "      <td>2</td>\n",
       "      <td>4</td>\n",
       "      <td>5</td>\n",
       "      <td>6</td>\n",
       "      <td>5</td>\n",
       "      <td>5</td>\n",
       "      <td>4</td>\n",
       "      <td>...</td>\n",
       "      <td>7</td>\n",
       "      <td>9</td>\n",
       "      <td>2</td>\n",
       "      <td>1</td>\n",
       "      <td>4</td>\n",
       "      <td>6</td>\n",
       "      <td>7</td>\n",
       "      <td>2</td>\n",
       "      <td>High</td>\n",
       "      <td>2</td>\n",
       "    </tr>\n",
       "    <tr>\n",
       "      <th>998</th>\n",
       "      <td>998</td>\n",
       "      <td>P998</td>\n",
       "      <td>18</td>\n",
       "      <td>2</td>\n",
       "      <td>6</td>\n",
       "      <td>8</td>\n",
       "      <td>7</td>\n",
       "      <td>7</td>\n",
       "      <td>7</td>\n",
       "      <td>6</td>\n",
       "      <td>...</td>\n",
       "      <td>2</td>\n",
       "      <td>4</td>\n",
       "      <td>1</td>\n",
       "      <td>4</td>\n",
       "      <td>2</td>\n",
       "      <td>4</td>\n",
       "      <td>2</td>\n",
       "      <td>3</td>\n",
       "      <td>High</td>\n",
       "      <td>2</td>\n",
       "    </tr>\n",
       "    <tr>\n",
       "      <th>999</th>\n",
       "      <td>999</td>\n",
       "      <td>P999</td>\n",
       "      <td>47</td>\n",
       "      <td>1</td>\n",
       "      <td>6</td>\n",
       "      <td>5</td>\n",
       "      <td>6</td>\n",
       "      <td>5</td>\n",
       "      <td>5</td>\n",
       "      <td>4</td>\n",
       "      <td>...</td>\n",
       "      <td>7</td>\n",
       "      <td>9</td>\n",
       "      <td>2</td>\n",
       "      <td>1</td>\n",
       "      <td>4</td>\n",
       "      <td>6</td>\n",
       "      <td>7</td>\n",
       "      <td>2</td>\n",
       "      <td>High</td>\n",
       "      <td>2</td>\n",
       "    </tr>\n",
       "  </tbody>\n",
       "</table>\n",
       "<p>1000 rows × 27 columns</p>\n",
       "</div>"
      ],
      "text/plain": [
       "     index Patient Id  Age  Gender  Air Pollution  Alcohol use  Dust Allergy  \\\n",
       "0        0         P1   33       1              2            4             5   \n",
       "1        1        P10   17       1              3            1             5   \n",
       "2        2       P100   35       1              4            5             6   \n",
       "3        3      P1000   37       1              7            7             7   \n",
       "4        4       P101   46       1              6            8             7   \n",
       "..     ...        ...  ...     ...            ...          ...           ...   \n",
       "995    995       P995   44       1              6            7             7   \n",
       "996    996       P996   37       2              6            8             7   \n",
       "997    997       P997   25       2              4            5             6   \n",
       "998    998       P998   18       2              6            8             7   \n",
       "999    999       P999   47       1              6            5             6   \n",
       "\n",
       "     OccuPational Hazards  Genetic Risk  chronic Lung Disease  ...  \\\n",
       "0                       4             3                     2  ...   \n",
       "1                       3             4                     2  ...   \n",
       "2                       5             5                     4  ...   \n",
       "3                       7             6                     7  ...   \n",
       "4                       7             7                     6  ...   \n",
       "..                    ...           ...                   ...  ...   \n",
       "995                     7             7                     6  ...   \n",
       "996                     7             7                     6  ...   \n",
       "997                     5             5                     4  ...   \n",
       "998                     7             7                     6  ...   \n",
       "999                     5             5                     4  ...   \n",
       "\n",
       "     Weight Loss  Shortness of Breath  Wheezing  Swallowing Difficulty  \\\n",
       "0              4                    2         2                      3   \n",
       "1              3                    7         8                      6   \n",
       "2              7                    9         2                      1   \n",
       "3              2                    3         1                      4   \n",
       "4              2                    4         1                      4   \n",
       "..           ...                  ...       ...                    ...   \n",
       "995            3                    2         7                      8   \n",
       "996            6                    5         7                      2   \n",
       "997            7                    9         2                      1   \n",
       "998            2                    4         1                      4   \n",
       "999            7                    9         2                      1   \n",
       "\n",
       "     Clubbing of Finger Nails  Frequent Cold  Dry Cough  Snoring   Level  \\\n",
       "0                           1              2          3        4     Low   \n",
       "1                           2              1          7        2  Medium   \n",
       "2                           4              6          7        2    High   \n",
       "3                           5              6          7        5    High   \n",
       "4                           2              4          2        3    High   \n",
       "..                        ...            ...        ...      ...     ...   \n",
       "995                         2              4          5        3    High   \n",
       "996                         4              3          1        4    High   \n",
       "997                         4              6          7        2    High   \n",
       "998                         2              4          2        3    High   \n",
       "999                         4              6          7        2    High   \n",
       "\n",
       "     Level_cat  \n",
       "0            0  \n",
       "1            1  \n",
       "2            2  \n",
       "3            2  \n",
       "4            2  \n",
       "..         ...  \n",
       "995          2  \n",
       "996          2  \n",
       "997          2  \n",
       "998          2  \n",
       "999          2  \n",
       "\n",
       "[1000 rows x 27 columns]"
      ]
     },
     "execution_count": 4,
     "metadata": {},
     "output_type": "execute_result"
    }
   ],
   "source": [
    "df['Level_cat'] = np.array([0 if u == \"Low\" else 1 if u == \"Medium\" else 2 for u in df['Level']])\n",
    "df"
   ]
  },
  {
   "cell_type": "code",
   "execution_count": 5,
   "id": "38250d24",
   "metadata": {},
   "outputs": [],
   "source": [
    "df = df.drop([\"Patient Id\", \"Level\"], axis=1)"
   ]
  },
  {
   "cell_type": "code",
   "execution_count": 6,
   "id": "1df9d25c",
   "metadata": {},
   "outputs": [
    {
     "data": {
      "text/html": [
       "<div>\n",
       "<style scoped>\n",
       "    .dataframe tbody tr th:only-of-type {\n",
       "        vertical-align: middle;\n",
       "    }\n",
       "\n",
       "    .dataframe tbody tr th {\n",
       "        vertical-align: top;\n",
       "    }\n",
       "\n",
       "    .dataframe thead th {\n",
       "        text-align: right;\n",
       "    }\n",
       "</style>\n",
       "<table border=\"1\" class=\"dataframe\">\n",
       "  <thead>\n",
       "    <tr style=\"text-align: right;\">\n",
       "      <th></th>\n",
       "      <th>index</th>\n",
       "      <th>Age</th>\n",
       "      <th>Gender</th>\n",
       "      <th>Air Pollution</th>\n",
       "      <th>Alcohol use</th>\n",
       "      <th>Dust Allergy</th>\n",
       "      <th>OccuPational Hazards</th>\n",
       "      <th>Genetic Risk</th>\n",
       "      <th>chronic Lung Disease</th>\n",
       "      <th>Balanced Diet</th>\n",
       "      <th>...</th>\n",
       "      <th>Fatigue</th>\n",
       "      <th>Weight Loss</th>\n",
       "      <th>Shortness of Breath</th>\n",
       "      <th>Wheezing</th>\n",
       "      <th>Swallowing Difficulty</th>\n",
       "      <th>Clubbing of Finger Nails</th>\n",
       "      <th>Frequent Cold</th>\n",
       "      <th>Dry Cough</th>\n",
       "      <th>Snoring</th>\n",
       "      <th>Level_cat</th>\n",
       "    </tr>\n",
       "  </thead>\n",
       "  <tbody>\n",
       "    <tr>\n",
       "      <th>0</th>\n",
       "      <td>0</td>\n",
       "      <td>33</td>\n",
       "      <td>1</td>\n",
       "      <td>2</td>\n",
       "      <td>4</td>\n",
       "      <td>5</td>\n",
       "      <td>4</td>\n",
       "      <td>3</td>\n",
       "      <td>2</td>\n",
       "      <td>2</td>\n",
       "      <td>...</td>\n",
       "      <td>3</td>\n",
       "      <td>4</td>\n",
       "      <td>2</td>\n",
       "      <td>2</td>\n",
       "      <td>3</td>\n",
       "      <td>1</td>\n",
       "      <td>2</td>\n",
       "      <td>3</td>\n",
       "      <td>4</td>\n",
       "      <td>0</td>\n",
       "    </tr>\n",
       "    <tr>\n",
       "      <th>1</th>\n",
       "      <td>1</td>\n",
       "      <td>17</td>\n",
       "      <td>1</td>\n",
       "      <td>3</td>\n",
       "      <td>1</td>\n",
       "      <td>5</td>\n",
       "      <td>3</td>\n",
       "      <td>4</td>\n",
       "      <td>2</td>\n",
       "      <td>2</td>\n",
       "      <td>...</td>\n",
       "      <td>1</td>\n",
       "      <td>3</td>\n",
       "      <td>7</td>\n",
       "      <td>8</td>\n",
       "      <td>6</td>\n",
       "      <td>2</td>\n",
       "      <td>1</td>\n",
       "      <td>7</td>\n",
       "      <td>2</td>\n",
       "      <td>1</td>\n",
       "    </tr>\n",
       "    <tr>\n",
       "      <th>2</th>\n",
       "      <td>2</td>\n",
       "      <td>35</td>\n",
       "      <td>1</td>\n",
       "      <td>4</td>\n",
       "      <td>5</td>\n",
       "      <td>6</td>\n",
       "      <td>5</td>\n",
       "      <td>5</td>\n",
       "      <td>4</td>\n",
       "      <td>6</td>\n",
       "      <td>...</td>\n",
       "      <td>8</td>\n",
       "      <td>7</td>\n",
       "      <td>9</td>\n",
       "      <td>2</td>\n",
       "      <td>1</td>\n",
       "      <td>4</td>\n",
       "      <td>6</td>\n",
       "      <td>7</td>\n",
       "      <td>2</td>\n",
       "      <td>2</td>\n",
       "    </tr>\n",
       "    <tr>\n",
       "      <th>3</th>\n",
       "      <td>3</td>\n",
       "      <td>37</td>\n",
       "      <td>1</td>\n",
       "      <td>7</td>\n",
       "      <td>7</td>\n",
       "      <td>7</td>\n",
       "      <td>7</td>\n",
       "      <td>6</td>\n",
       "      <td>7</td>\n",
       "      <td>7</td>\n",
       "      <td>...</td>\n",
       "      <td>4</td>\n",
       "      <td>2</td>\n",
       "      <td>3</td>\n",
       "      <td>1</td>\n",
       "      <td>4</td>\n",
       "      <td>5</td>\n",
       "      <td>6</td>\n",
       "      <td>7</td>\n",
       "      <td>5</td>\n",
       "      <td>2</td>\n",
       "    </tr>\n",
       "    <tr>\n",
       "      <th>4</th>\n",
       "      <td>4</td>\n",
       "      <td>46</td>\n",
       "      <td>1</td>\n",
       "      <td>6</td>\n",
       "      <td>8</td>\n",
       "      <td>7</td>\n",
       "      <td>7</td>\n",
       "      <td>7</td>\n",
       "      <td>6</td>\n",
       "      <td>7</td>\n",
       "      <td>...</td>\n",
       "      <td>3</td>\n",
       "      <td>2</td>\n",
       "      <td>4</td>\n",
       "      <td>1</td>\n",
       "      <td>4</td>\n",
       "      <td>2</td>\n",
       "      <td>4</td>\n",
       "      <td>2</td>\n",
       "      <td>3</td>\n",
       "      <td>2</td>\n",
       "    </tr>\n",
       "    <tr>\n",
       "      <th>...</th>\n",
       "      <td>...</td>\n",
       "      <td>...</td>\n",
       "      <td>...</td>\n",
       "      <td>...</td>\n",
       "      <td>...</td>\n",
       "      <td>...</td>\n",
       "      <td>...</td>\n",
       "      <td>...</td>\n",
       "      <td>...</td>\n",
       "      <td>...</td>\n",
       "      <td>...</td>\n",
       "      <td>...</td>\n",
       "      <td>...</td>\n",
       "      <td>...</td>\n",
       "      <td>...</td>\n",
       "      <td>...</td>\n",
       "      <td>...</td>\n",
       "      <td>...</td>\n",
       "      <td>...</td>\n",
       "      <td>...</td>\n",
       "      <td>...</td>\n",
       "    </tr>\n",
       "    <tr>\n",
       "      <th>995</th>\n",
       "      <td>995</td>\n",
       "      <td>44</td>\n",
       "      <td>1</td>\n",
       "      <td>6</td>\n",
       "      <td>7</td>\n",
       "      <td>7</td>\n",
       "      <td>7</td>\n",
       "      <td>7</td>\n",
       "      <td>6</td>\n",
       "      <td>7</td>\n",
       "      <td>...</td>\n",
       "      <td>5</td>\n",
       "      <td>3</td>\n",
       "      <td>2</td>\n",
       "      <td>7</td>\n",
       "      <td>8</td>\n",
       "      <td>2</td>\n",
       "      <td>4</td>\n",
       "      <td>5</td>\n",
       "      <td>3</td>\n",
       "      <td>2</td>\n",
       "    </tr>\n",
       "    <tr>\n",
       "      <th>996</th>\n",
       "      <td>996</td>\n",
       "      <td>37</td>\n",
       "      <td>2</td>\n",
       "      <td>6</td>\n",
       "      <td>8</td>\n",
       "      <td>7</td>\n",
       "      <td>7</td>\n",
       "      <td>7</td>\n",
       "      <td>6</td>\n",
       "      <td>7</td>\n",
       "      <td>...</td>\n",
       "      <td>9</td>\n",
       "      <td>6</td>\n",
       "      <td>5</td>\n",
       "      <td>7</td>\n",
       "      <td>2</td>\n",
       "      <td>4</td>\n",
       "      <td>3</td>\n",
       "      <td>1</td>\n",
       "      <td>4</td>\n",
       "      <td>2</td>\n",
       "    </tr>\n",
       "    <tr>\n",
       "      <th>997</th>\n",
       "      <td>997</td>\n",
       "      <td>25</td>\n",
       "      <td>2</td>\n",
       "      <td>4</td>\n",
       "      <td>5</td>\n",
       "      <td>6</td>\n",
       "      <td>5</td>\n",
       "      <td>5</td>\n",
       "      <td>4</td>\n",
       "      <td>6</td>\n",
       "      <td>...</td>\n",
       "      <td>8</td>\n",
       "      <td>7</td>\n",
       "      <td>9</td>\n",
       "      <td>2</td>\n",
       "      <td>1</td>\n",
       "      <td>4</td>\n",
       "      <td>6</td>\n",
       "      <td>7</td>\n",
       "      <td>2</td>\n",
       "      <td>2</td>\n",
       "    </tr>\n",
       "    <tr>\n",
       "      <th>998</th>\n",
       "      <td>998</td>\n",
       "      <td>18</td>\n",
       "      <td>2</td>\n",
       "      <td>6</td>\n",
       "      <td>8</td>\n",
       "      <td>7</td>\n",
       "      <td>7</td>\n",
       "      <td>7</td>\n",
       "      <td>6</td>\n",
       "      <td>7</td>\n",
       "      <td>...</td>\n",
       "      <td>3</td>\n",
       "      <td>2</td>\n",
       "      <td>4</td>\n",
       "      <td>1</td>\n",
       "      <td>4</td>\n",
       "      <td>2</td>\n",
       "      <td>4</td>\n",
       "      <td>2</td>\n",
       "      <td>3</td>\n",
       "      <td>2</td>\n",
       "    </tr>\n",
       "    <tr>\n",
       "      <th>999</th>\n",
       "      <td>999</td>\n",
       "      <td>47</td>\n",
       "      <td>1</td>\n",
       "      <td>6</td>\n",
       "      <td>5</td>\n",
       "      <td>6</td>\n",
       "      <td>5</td>\n",
       "      <td>5</td>\n",
       "      <td>4</td>\n",
       "      <td>6</td>\n",
       "      <td>...</td>\n",
       "      <td>8</td>\n",
       "      <td>7</td>\n",
       "      <td>9</td>\n",
       "      <td>2</td>\n",
       "      <td>1</td>\n",
       "      <td>4</td>\n",
       "      <td>6</td>\n",
       "      <td>7</td>\n",
       "      <td>2</td>\n",
       "      <td>2</td>\n",
       "    </tr>\n",
       "  </tbody>\n",
       "</table>\n",
       "<p>1000 rows × 25 columns</p>\n",
       "</div>"
      ],
      "text/plain": [
       "     index  Age  Gender  Air Pollution  Alcohol use  Dust Allergy  \\\n",
       "0        0   33       1              2            4             5   \n",
       "1        1   17       1              3            1             5   \n",
       "2        2   35       1              4            5             6   \n",
       "3        3   37       1              7            7             7   \n",
       "4        4   46       1              6            8             7   \n",
       "..     ...  ...     ...            ...          ...           ...   \n",
       "995    995   44       1              6            7             7   \n",
       "996    996   37       2              6            8             7   \n",
       "997    997   25       2              4            5             6   \n",
       "998    998   18       2              6            8             7   \n",
       "999    999   47       1              6            5             6   \n",
       "\n",
       "     OccuPational Hazards  Genetic Risk  chronic Lung Disease  Balanced Diet  \\\n",
       "0                       4             3                     2              2   \n",
       "1                       3             4                     2              2   \n",
       "2                       5             5                     4              6   \n",
       "3                       7             6                     7              7   \n",
       "4                       7             7                     6              7   \n",
       "..                    ...           ...                   ...            ...   \n",
       "995                     7             7                     6              7   \n",
       "996                     7             7                     6              7   \n",
       "997                     5             5                     4              6   \n",
       "998                     7             7                     6              7   \n",
       "999                     5             5                     4              6   \n",
       "\n",
       "     ...  Fatigue  Weight Loss  Shortness of Breath  Wheezing  \\\n",
       "0    ...        3            4                    2         2   \n",
       "1    ...        1            3                    7         8   \n",
       "2    ...        8            7                    9         2   \n",
       "3    ...        4            2                    3         1   \n",
       "4    ...        3            2                    4         1   \n",
       "..   ...      ...          ...                  ...       ...   \n",
       "995  ...        5            3                    2         7   \n",
       "996  ...        9            6                    5         7   \n",
       "997  ...        8            7                    9         2   \n",
       "998  ...        3            2                    4         1   \n",
       "999  ...        8            7                    9         2   \n",
       "\n",
       "     Swallowing Difficulty  Clubbing of Finger Nails  Frequent Cold  \\\n",
       "0                        3                         1              2   \n",
       "1                        6                         2              1   \n",
       "2                        1                         4              6   \n",
       "3                        4                         5              6   \n",
       "4                        4                         2              4   \n",
       "..                     ...                       ...            ...   \n",
       "995                      8                         2              4   \n",
       "996                      2                         4              3   \n",
       "997                      1                         4              6   \n",
       "998                      4                         2              4   \n",
       "999                      1                         4              6   \n",
       "\n",
       "     Dry Cough  Snoring  Level_cat  \n",
       "0            3        4          0  \n",
       "1            7        2          1  \n",
       "2            7        2          2  \n",
       "3            7        5          2  \n",
       "4            2        3          2  \n",
       "..         ...      ...        ...  \n",
       "995          5        3          2  \n",
       "996          1        4          2  \n",
       "997          7        2          2  \n",
       "998          2        3          2  \n",
       "999          7        2          2  \n",
       "\n",
       "[1000 rows x 25 columns]"
      ]
     },
     "execution_count": 6,
     "metadata": {},
     "output_type": "execute_result"
    }
   ],
   "source": [
    "df"
   ]
  },
  {
   "cell_type": "code",
   "execution_count": 7,
   "id": "35aaf806",
   "metadata": {},
   "outputs": [],
   "source": [
    "X = df.drop([\"Level_cat\", \"index\"], axis=1)\n",
    "y = df[\"Level_cat\"]"
   ]
  },
  {
   "cell_type": "code",
   "execution_count": 11,
   "id": "f476bcc8",
   "metadata": {},
   "outputs": [
    {
     "data": {
      "image/png": "[encoded data removed]",
      "text/plain": [
       "<Figure size 1296x648 with 2 Axes>"
      ]
     },
     "metadata": {
      "needs_background": "light"
     },
     "output_type": "display_data"
    }
   ],
   "source": [
    "new_df = df.drop([\"index\", \"Age\", \"Gender\", \"Wheezing\", \"Swallowing Difficulty\", \"Snoring\"], axis=1)\n",
    "plt.figure(figsize = (18,9))\n",
    "sns.heatmap(new_df.corr(), cmap='GnBu', annot=True)\n",
    "plt.show()"
   ]
  },
  {
   "cell_type": "markdown",
   "id": "e122a372",
   "metadata": {},
   "source": [
    "# Ridge Regression penalty term (l2)"
   ]
  },
  {
   "cell_type": "code",
   "execution_count": 12,
   "id": "a90383b6",
   "metadata": {},
   "outputs": [
    {
     "data": {
      "text/plain": [
       "array([0.95, 0.95, 0.92, 0.95, 0.97, 0.95, 0.94, 0.96, 0.95, 0.96])"
      ]
     },
     "execution_count": 12,
     "metadata": {},
     "output_type": "execute_result"
    }
   ],
   "source": [
    "X = df.drop([\"Level_cat\", \"index\"], axis=1)\n",
    "y = df[\"Level_cat\"]\n",
    "# Obtaining the Cross validation scores for a l2 penalty term (Ridge)\n",
    "cross_val_score(LogisticRegression(max_iter=10000 ,C=10e-4, multi_class='multinomial', solver='saga'), X, y, cv=10)"
   ]
  },
  {
   "cell_type": "code",
   "execution_count": 13,
   "id": "d51aac14",
   "metadata": {},
   "outputs": [
    {
     "data": {
      "text/plain": [
       "{'mean_fit_time': array([0.53374634, 1.53195653, 0.96966038, 0.74236655, 0.33096237]),\n",
       " 'std_fit_time': array([0.03926295, 0.08267769, 0.07691454, 0.01577083, 0.03411855]),\n",
       " 'mean_score_time': array([0.0016048 , 0.00160413, 0.00080004, 0.00240011, 0.00079999]),\n",
       " 'std_score_time': array([0.00196548, 0.00196467, 0.00160007, 0.00195968, 0.00159998]),\n",
       " 'param_C': masked_array(data=[1, 0.1, 0.01, 0.001, 0.0001],\n",
       "              mask=[False, False, False, False, False],\n",
       "        fill_value='?',\n",
       "             dtype=object),\n",
       " 'params': [{'C': 1}, {'C': 0.1}, {'C': 0.01}, {'C': 0.001}, {'C': 0.0001}],\n",
       " 'split0_test_score': array([0.985, 1.   , 0.96 , 0.95 , 0.86 ]),\n",
       " 'split1_test_score': array([0.99 , 1.   , 0.95 , 0.935, 0.875]),\n",
       " 'split2_test_score': array([0.995, 1.   , 0.965, 0.96 , 0.89 ]),\n",
       " 'split3_test_score': array([1.   , 1.   , 0.965, 0.955, 0.905]),\n",
       " 'split4_test_score': array([1.   , 1.   , 0.965, 0.95 , 0.885]),\n",
       " 'mean_test_score': array([0.994, 1.   , 0.961, 0.95 , 0.883]),\n",
       " 'std_test_score': array([0.00583095, 0.        , 0.00583095, 0.0083666 , 0.0150333 ]),\n",
       " 'rank_test_score': array([2, 1, 3, 4, 5]),\n",
       " 'split0_train_score': array([0.9975 , 1.     , 0.96   , 0.95   , 0.88375]),\n",
       " 'split1_train_score': array([1.     , 1.     , 0.9625 , 0.95375, 0.895  ]),\n",
       " 'split2_train_score': array([1.     , 1.     , 0.95875, 0.9475 , 0.87625]),\n",
       " 'split3_train_score': array([1.     , 1.     , 0.95875, 0.94875, 0.8875 ]),\n",
       " 'split4_train_score': array([1.     , 1.     , 0.97125, 0.95   , 0.87875]),\n",
       " 'mean_train_score': array([0.9995 , 1.     , 0.96225, 0.95   , 0.88425]),\n",
       " 'std_train_score': array([0.001     , 0.        , 0.00470372, 0.00209165, 0.00664267])}"
      ]
     },
     "execution_count": 13,
     "metadata": {},
     "output_type": "execute_result"
    }
   ],
   "source": [
    "# Perform Grid search cross validation for a l2 penalty term (Ridge)\n",
    "\n",
    "clf = GridSearchCV(LogisticRegression(max_iter=10000, multi_class='multinomial', solver='saga'), {\n",
    "    'C': [1, 0.1, 0.01, 0.001, 0.0001]\n",
    "}, cv=5, return_train_score=True)\n",
    "\n",
    "clf.fit(X, y)\n",
    "clf.cv_results_"
   ]
  },
  {
   "cell_type": "markdown",
   "id": "67dfae02",
   "metadata": {},
   "source": [
    "We want to get the smallest possible value for our regularization term, without underfitting the model, since a smaller value for C will reduce the variance of the model as much as possible, meaning that the model won't have a lot of noisy variables as their weights are effectively reduced to a value close to 0 when using the Ridge Regression penalty term. We performed Cross validation 5 times on the data set using the GridSearchCV and also tested all these CV sets on 5 different values for C, being 1, 0.1, 0.01, 0.001 and 0.0001. It is clear that there is a trade off between score and the lower value of C, so we have to find a value for C that is as small as possible, but still obtains a high score. Looking at the results above, we can see that for a value of C between 0.01 and 0.001, we obtain a low value of C and a high accuracy score. "
   ]
  },
  {
   "cell_type": "code",
   "execution_count": 14,
   "id": "94021051",
   "metadata": {},
   "outputs": [],
   "source": [
    "num = 0"
   ]
  },
  {
   "cell_type": "code",
   "execution_count": 15,
   "id": "0c0b826d",
   "metadata": {},
   "outputs": [
    {
     "name": "stdout",
     "output_type": "stream",
     "text": [
      "0.9566666666666667\n",
      "(3, 23)\n",
      "[[ 0.00349956  0.07564566  0.00187633 -0.08873688 -0.07563613 -0.00781387\n",
      "  -0.11657402 -0.02691976  0.01241486 -0.20817814  0.02199958 -0.1542696\n",
      "   0.02059128 -0.11996267 -0.21862027 -0.04302685 -0.1357253  -0.16700967\n",
      "  -0.16127116 -0.17389683 -0.10376639 -0.06654005 -0.12544612]\n",
      " [ 0.03886964 -0.03317809 -0.20699734 -0.0840898   0.19922997  0.04833318\n",
      "   0.09823517  0.00280532 -0.12396349  0.05373437 -0.11943557 -0.12289513\n",
      "   0.02638378 -0.0574698  -0.05097421 -0.02385986  0.04300169  0.19461584\n",
      "   0.08039883  0.16224228  0.04968233 -0.04270293  0.19841117]\n",
      " [-0.0423692  -0.04246757  0.20512102  0.17282668 -0.12359384 -0.04051931\n",
      "   0.01833885  0.02411444  0.11154863  0.15444376  0.09743599  0.27716473\n",
      "  -0.04697507  0.17743248  0.26959448  0.0668867   0.09272361 -0.02760618\n",
      "   0.08087233  0.01165455  0.05408405  0.10924298 -0.07296504]] ['Age' 'Gender' 'Air Pollution' 'Alcohol use' 'Dust Allergy'\n",
      " 'OccuPational Hazards' 'Genetic Risk' 'chronic Lung Disease'\n",
      " 'Balanced Diet' 'Obesity' 'Smoking' 'Passive Smoker' 'Chest Pain'\n",
      " 'Coughing of Blood' 'Fatigue' 'Weight Loss' 'Shortness of Breath'\n",
      " 'Wheezing' 'Swallowing Difficulty' 'Clubbing of Finger Nails'\n",
      " 'Frequent Cold' 'Dry Cough' 'Snoring']\n"
     ]
    },
    {
     "data": {
      "image/png": "[encoded data removed]",
      "text/plain": [
       "<Figure size 432x288 with 2 Axes>"
      ]
     },
     "metadata": {
      "needs_background": "light"
     },
     "output_type": "display_data"
    }
   ],
   "source": [
    "X_new_train, X_new_test, y_new_train, y_new_test = train_test_split(X, y, test_size=0.3, random_state=num)\n",
    "log = LogisticRegression(max_iter=10000 ,C=0.01, multi_class='multinomial', solver='saga')\n",
    "log.fit(X_new_train, y_new_train)\n",
    "\n",
    "y_pred = log.predict(X_new_test)\n",
    "\n",
    "print(log.score(X_new_test, y_new_test))\n",
    "print(log.coef_.shape)\n",
    "print(log.coef_, log.feature_names_in_)\n",
    "cmx = confusion_matrix(y_new_test, y_pred)\n",
    "ConfusionMatrixDisplay(cmx, display_labels=[0,1,2]).plot(cmap=plt.cm.Blues)\n",
    "plt.show()"
   ]
  },
  {
   "cell_type": "code",
   "execution_count": 16,
   "id": "46855f05",
   "metadata": {},
   "outputs": [
    {
     "name": "stdout",
     "output_type": "stream",
     "text": [
      "0.9366666666666666\n",
      "(3, 23)\n",
      "[[-0.00365283  0.0074146  -0.01314565 -0.05430778 -0.06754534 -0.04203639\n",
      "  -0.0509959  -0.02493052 -0.01785867 -0.08043233  0.00420463 -0.04281782\n",
      "  -0.0309927  -0.05838576 -0.07999515 -0.05635648 -0.07468827 -0.07851138\n",
      "  -0.08143137 -0.07599687 -0.06093164 -0.02870606 -0.06155077]\n",
      " [ 0.02028522 -0.00137211 -0.07236794 -0.00875145  0.05746503  0.02351062\n",
      "   0.01817448 -0.00448483 -0.04970949 -0.00301596 -0.08081497 -0.05884761\n",
      "   0.00209291 -0.04174594 -0.02508536  0.01519913  0.03247076  0.09074721\n",
      "   0.05017696  0.07387436  0.01142397 -0.02624936  0.0582652 ]\n",
      " [-0.01663239 -0.00604249  0.08551358  0.06305923  0.01008031  0.01852577\n",
      "   0.03282143  0.02941535  0.06756816  0.08344829  0.07661034  0.10166544\n",
      "   0.02889979  0.1001317   0.10508052  0.04115735  0.04221751 -0.01223582\n",
      "   0.03125441  0.0021225   0.04950767  0.05495542  0.00328557]] ['Age' 'Gender' 'Air Pollution' 'Alcohol use' 'Dust Allergy'\n",
      " 'OccuPational Hazards' 'Genetic Risk' 'chronic Lung Disease'\n",
      " 'Balanced Diet' 'Obesity' 'Smoking' 'Passive Smoker' 'Chest Pain'\n",
      " 'Coughing of Blood' 'Fatigue' 'Weight Loss' 'Shortness of Breath'\n",
      " 'Wheezing' 'Swallowing Difficulty' 'Clubbing of Finger Nails'\n",
      " 'Frequent Cold' 'Dry Cough' 'Snoring']\n"
     ]
    },
    {
     "data": {
      "image/png": "[encoded data removed]",
      "text/plain": [
       "<Figure size 432x288 with 2 Axes>"
      ]
     },
     "metadata": {
      "needs_background": "light"
     },
     "output_type": "display_data"
    }
   ],
   "source": [
    "X_new_train, X_new_test, y_new_train, y_new_test = train_test_split(X, y, test_size=0.3, random_state=num)\n",
    "log = LogisticRegression(max_iter=10000 ,C=0.001, multi_class='multinomial', solver='saga')\n",
    "log.fit(X_new_train, y_new_train)\n",
    "\n",
    "y_pred = log.predict(X_new_test)\n",
    "\n",
    "print(log.score(X_new_test, y_new_test))\n",
    "print(log.coef_.shape)\n",
    "print(log.coef_, log.feature_names_in_)\n",
    "cmx = confusion_matrix(y_new_test, y_pred)\n",
    "ConfusionMatrixDisplay(cmx, display_labels=[0,1,2]).plot(cmap=plt.cm.Blues)\n",
    "plt.show()"
   ]
  },
  {
   "cell_type": "markdown",
   "id": "ff178070",
   "metadata": {},
   "source": [
    "When Investigating the relationship between a penalty term of 0.01 and 0.001, we can see that they have a score of 0.956667 and 0.9366666 respectively. We can also see that for a penalty term of 0.001, we obtain weights that are really close to 0, meaning that variables that contains more noise in the model has an effectively low value, that it almost has no effect on predicting the target variable. So all that is left to do is find the value between 0.01 and 0.001 that minimizes C and obtains a high score."
   ]
  },
  {
   "cell_type": "code",
   "execution_count": 17,
   "id": "5e2d8766",
   "metadata": {},
   "outputs": [
    {
     "data": {
      "text/plain": [
       "{'mean_fit_time': array([0.93040714, 0.93608198, 0.95673733, 0.94674048, 0.93251295,\n",
       "        0.97959223, 0.90927901, 0.93365908, 0.96785913, 0.77177339]),\n",
       " 'std_fit_time': array([0.02811608, 0.01729609, 0.01916711, 0.01175959, 0.01230183,\n",
       "        0.0415494 , 0.0159737 , 0.07800092, 0.03459467, 0.05248368]),\n",
       " 'mean_score_time': array([0.00159316, 0.00239763, 0.00160022, 0.00326681, 0.00080009,\n",
       "        0.00427384, 0.00080018, 0.00232134, 0.00399981, 0.00084662]),\n",
       " 'std_score_time': array([1.95121637e-03, 1.95766569e-03, 1.95985857e-03, 1.63852796e-03,\n",
       "        1.60017014e-03, 7.76427685e-04, 1.60036087e-03, 1.90076451e-03,\n",
       "        1.51240840e-06, 1.69324875e-03]),\n",
       " 'param_C': masked_array(data=[0.01, 0.009, 0.008, 0.007, 0.006, 0.005, 0.004, 0.003,\n",
       "                    0.002, 0.001],\n",
       "              mask=[False, False, False, False, False, False, False, False,\n",
       "                    False, False],\n",
       "        fill_value='?',\n",
       "             dtype=object),\n",
       " 'params': [{'C': 0.01},\n",
       "  {'C': 0.009},\n",
       "  {'C': 0.008},\n",
       "  {'C': 0.007},\n",
       "  {'C': 0.006},\n",
       "  {'C': 0.005},\n",
       "  {'C': 0.004},\n",
       "  {'C': 0.003},\n",
       "  {'C': 0.002},\n",
       "  {'C': 0.001}],\n",
       " 'split0_test_score': array([0.96, 0.96, 0.96, 0.96, 0.96, 0.96, 0.96, 0.95, 0.95, 0.95]),\n",
       " 'split1_test_score': array([0.95 , 0.95 , 0.95 , 0.95 , 0.95 , 0.95 , 0.935, 0.935, 0.935,\n",
       "        0.935]),\n",
       " 'split2_test_score': array([0.965, 0.965, 0.965, 0.965, 0.965, 0.965, 0.965, 0.965, 0.96 ,\n",
       "        0.96 ]),\n",
       " 'split3_test_score': array([0.965, 0.965, 0.965, 0.965, 0.965, 0.965, 0.965, 0.955, 0.955,\n",
       "        0.955]),\n",
       " 'split4_test_score': array([0.965, 0.96 , 0.96 , 0.96 , 0.96 , 0.96 , 0.96 , 0.95 , 0.95 ,\n",
       "        0.95 ]),\n",
       " 'mean_test_score': array([0.961, 0.96 , 0.96 , 0.96 , 0.96 , 0.96 , 0.957, 0.951, 0.95 ,\n",
       "        0.95 ]),\n",
       " 'std_test_score': array([0.00583095, 0.00547723, 0.00547723, 0.00547723, 0.00547723,\n",
       "        0.00547723, 0.01122497, 0.00969536, 0.0083666 , 0.0083666 ]),\n",
       " 'rank_test_score': array([1, 2, 2, 2, 2, 2, 7, 8, 9, 9]),\n",
       " 'split0_train_score': array([0.96, 0.96, 0.96, 0.96, 0.96, 0.96, 0.96, 0.95, 0.95, 0.95]),\n",
       " 'split1_train_score': array([0.9625 , 0.9625 , 0.9625 , 0.9625 , 0.9625 , 0.9625 , 0.95375,\n",
       "        0.95375, 0.95375, 0.95375]),\n",
       " 'split2_train_score': array([0.95875, 0.95875, 0.95875, 0.95875, 0.95875, 0.95875, 0.95875,\n",
       "        0.95875, 0.9475 , 0.9475 ]),\n",
       " 'split3_train_score': array([0.95875, 0.95875, 0.95875, 0.95875, 0.95875, 0.95875, 0.95875,\n",
       "        0.94875, 0.94875, 0.94875]),\n",
       " 'split4_train_score': array([0.97125, 0.96375, 0.96375, 0.96   , 0.96   , 0.96   , 0.96   ,\n",
       "        0.95   , 0.95   , 0.95   ]),\n",
       " 'mean_train_score': array([0.96225, 0.96075, 0.96075, 0.96   , 0.96   , 0.96   , 0.95825,\n",
       "        0.95225, 0.95   , 0.95   ]),\n",
       " 'std_train_score': array([0.00470372, 0.00203101, 0.00203101, 0.00136931, 0.00136931,\n",
       "        0.00136931, 0.0023184 , 0.00365718, 0.00209165, 0.00209165])}"
      ]
     },
     "execution_count": 17,
     "metadata": {},
     "output_type": "execute_result"
    }
   ],
   "source": [
    "# Perform Grid search cross validation for a l2 penalty term (Ridge)\n",
    "clf = GridSearchCV(LogisticRegression(max_iter=10000, multi_class='multinomial', solver='saga'), {\n",
    "    'C': [0.01, 0.009, 0.008, 0.007, 0.006, 0.005, 0.004, 0.003, 0.002, 0.001]\n",
    "}, cv=5, return_train_score=True)\n",
    "\n",
    "clf.fit(X, y)\n",
    "clf.cv_results_"
   ]
  },
  {
   "cell_type": "markdown",
   "id": "6b45f337",
   "metadata": {},
   "source": [
    "After investigating the C terms between 0.01 and 0.001 by looking at each C values mean test score and taking into account the standard deviation between all of the cross validation scores, we can see that the smallest possible number for C that also obtains a great score and a low std_test_score is 0.005, meaning that 0.005 is the best hyperparamater to use when fitting the model.\n",
    "\n",
    "std_test_score represents the standard deviation of the test scores obtained during cross-validation for each parameter combination.\n",
    "\n",
    "It is very important to look at the std_test_score values, as it shows us what the deviation between all the scores are. This is important, because we might obtain a large mean_test_score because of two or three high prediction accuracies, while the other scores are not as great, meaning that the mean_test_score will be high. We can then use the std_test_score to see that the results vary a lot between each test data set."
   ]
  },
  {
   "cell_type": "code",
   "execution_count": 18,
   "id": "ad887b13",
   "metadata": {},
   "outputs": [
    {
     "name": "stdout",
     "output_type": "stream",
     "text": [
      "0.9433333333333334\n",
      "(3, 23)\n",
      "[[-0.00189173  0.03295401 -0.00437735 -0.0710026  -0.08846966 -0.03440702\n",
      "  -0.08969873 -0.02869695 -0.00290348 -0.161604    0.01352693 -0.10444843\n",
      "  -0.01423349 -0.09968195 -0.16304425 -0.0645797  -0.11917835 -0.14695148\n",
      "  -0.14921935 -0.14631504 -0.10083739 -0.05468794 -0.1177746 ]\n",
      " [ 0.03246112 -0.01345381 -0.1552175  -0.04739829  0.13719552  0.04337596\n",
      "   0.06042943 -0.00260606 -0.09475794  0.03001054 -0.11598551 -0.09929881\n",
      "   0.02193599 -0.05570759 -0.04285231 -0.01013649  0.04100732  0.16351133\n",
      "   0.07715275  0.13063418  0.03307096 -0.04333573  0.14583333]\n",
      " [-0.03056938 -0.0195002   0.15959485  0.11840089 -0.04872586 -0.00896894\n",
      "   0.0292693   0.03130301  0.09766142  0.13159346  0.10245858  0.20374724\n",
      "  -0.0077025   0.15538955  0.20589656  0.07471619  0.07817103 -0.01655985\n",
      "   0.0720666   0.01568086  0.06776643  0.09802367 -0.02805873]] ['Age' 'Gender' 'Air Pollution' 'Alcohol use' 'Dust Allergy'\n",
      " 'OccuPational Hazards' 'Genetic Risk' 'chronic Lung Disease'\n",
      " 'Balanced Diet' 'Obesity' 'Smoking' 'Passive Smoker' 'Chest Pain'\n",
      " 'Coughing of Blood' 'Fatigue' 'Weight Loss' 'Shortness of Breath'\n",
      " 'Wheezing' 'Swallowing Difficulty' 'Clubbing of Finger Nails'\n",
      " 'Frequent Cold' 'Dry Cough' 'Snoring']\n"
     ]
    },
    {
     "data": {
      "image/png": "[encoded data removed]",
      "text/plain": [
       "<Figure size 432x288 with 2 Axes>"
      ]
     },
     "metadata": {
      "needs_background": "light"
     },
     "output_type": "display_data"
    }
   ],
   "source": [
    "X_new_train, X_new_test, y_new_train, y_new_test = train_test_split(X, y, test_size=0.3, random_state=num)\n",
    "log = LogisticRegression(max_iter=10000 ,C=0.005, multi_class='multinomial', solver='saga')\n",
    "log.fit(X_new_train, y_new_train)\n",
    "\n",
    "y_pred = log.predict(X_new_test)\n",
    "\n",
    "print(log.score(X_new_test, y_new_test))\n",
    "print(log.coef_.shape)\n",
    "print(log.coef_, log.feature_names_in_)\n",
    "cmx = confusion_matrix(y_new_test, y_pred)\n",
    "ConfusionMatrixDisplay(cmx, display_labels=[0,1,2]).plot(cmap=plt.cm.Blues)\n",
    "plt.show()"
   ]
  },
  {
   "cell_type": "markdown",
   "id": "06cdb60f",
   "metadata": {},
   "source": [
    "Looking at the weights, it is objectively lower that the weights obtained in the Logistic regression fitted with a 0.01 penalty term and the score is higher than the score obtained in the Logistic regression model fitted with a 0.001 penalty term."
   ]
  },
  {
   "cell_type": "markdown",
   "id": "9709933c",
   "metadata": {},
   "source": [
    "# Lasso Regression penalty term (l1)"
   ]
  },
  {
   "cell_type": "code",
   "execution_count": 19,
   "id": "b7304f21",
   "metadata": {},
   "outputs": [
    {
     "data": {
      "text/plain": [
       "array([0.94, 0.95, 0.92, 0.95, 0.98, 0.95, 0.94, 0.96, 0.96, 0.95])"
      ]
     },
     "execution_count": 19,
     "metadata": {},
     "output_type": "execute_result"
    }
   ],
   "source": [
    "X = df.drop([\"Level_cat\", \"index\"], axis=1)\n",
    "y = df[\"Level_cat\"]\n",
    "# Obtaining the Cross validation scores for a l2 penalty term (Ridge)\n",
    "cross_val_score(LogisticRegression(max_iter=10000 ,C=10e-3, multi_class='multinomial', solver='saga', penalty='l1'), X, y, cv=10)"
   ]
  },
  {
   "cell_type": "code",
   "execution_count": 20,
   "id": "7ec7ab59",
   "metadata": {},
   "outputs": [
    {
     "data": {
      "text/plain": [
       "{'mean_fit_time': array([1.46214976, 3.02750959, 0.90370588, 0.01103129, 0.00463471]),\n",
       " 'std_fit_time': array([0.40853133, 0.39447565, 0.0394745 , 0.00173395, 0.00276243]),\n",
       " 'mean_score_time': array([0.00080028, 0.00168147, 0.00287595, 0.00041966, 0.0024826 ]),\n",
       " 'std_score_time': array([0.00160055, 0.00182295, 0.00153863, 0.00083933, 0.0020338 ]),\n",
       " 'param_C': masked_array(data=[1, 0.1, 0.01, 0.001, 0.0001],\n",
       "              mask=[False, False, False, False, False],\n",
       "        fill_value='?',\n",
       "             dtype=object),\n",
       " 'params': [{'C': 1}, {'C': 0.1}, {'C': 0.01}, {'C': 0.001}, {'C': 0.0001}],\n",
       " 'split0_test_score': array([0.985, 1.   , 0.945, 0.365, 0.33 ]),\n",
       " 'split1_test_score': array([0.99 , 0.975, 0.935, 0.365, 0.365]),\n",
       " 'split2_test_score': array([0.995, 1.   , 0.96 , 0.365, 0.365]),\n",
       " 'split3_test_score': array([1.   , 1.   , 0.955, 0.365, 0.365]),\n",
       " 'split4_test_score': array([1.   , 0.985, 0.95 , 0.365, 0.335]),\n",
       " 'mean_test_score': array([0.994, 0.992, 0.949, 0.365, 0.352]),\n",
       " 'std_test_score': array([0.00583095, 0.01029563, 0.00860233, 0.        , 0.016     ]),\n",
       " 'rank_test_score': array([1, 2, 3, 4, 5])}"
      ]
     },
     "execution_count": 20,
     "metadata": {},
     "output_type": "execute_result"
    }
   ],
   "source": [
    "# Perform Grid search cross validation for a l1 penalty term (Lasso)\n",
    "\n",
    "clf = GridSearchCV(LogisticRegression(max_iter=10000, multi_class='multinomial', solver='saga', penalty='l1'), {\n",
    "    'C': [1, 0.1, 0.01, 0.001, 0.0001]\n",
    "}, cv=5, return_train_score=False)\n",
    "\n",
    "clf.fit(X, y)\n",
    "clf.cv_results_"
   ]
  },
  {
   "cell_type": "markdown",
   "id": "2edbbf9d",
   "metadata": {},
   "source": [
    "We want to get the smallest possible value for our regularization term, since a smaller value for C will reduce the variance of the model as much as possible, meaning that the model won't have a lot of noisy variables as their weights are effectively reduced to a value to 0 when using the Lasso Regression penalty term. We performed Cross validation 5 times on the data set using the GridSearchCV and also tested all these CV sets on 5 different values for C, being 1, 0.1, 0.01, 0.001 and 0.0001. It is clear that there is a trade off between score and the lower value of C, so we have to find a value for C that is as small as possible, but still obtains a high score. Looking at the results above, we can see that for a value of C between 0.01 and 0.001, we obtain a low value of C and a high accuracy score. There must be a point between 0.1 and 0.001 where the regularization term is small and where the score is as high as possible. It is quite clear that the penalty term between 0.1 and 0.01 gives a very high score, but we want to obtain a value as small as possible for C."
   ]
  },
  {
   "cell_type": "code",
   "execution_count": 21,
   "id": "0f151df3",
   "metadata": {},
   "outputs": [
    {
     "name": "stdout",
     "output_type": "stream",
     "text": [
      "0.9333333333333333\n",
      "(3, 23)\n",
      "[[ 0.          0.          0.          0.         -0.12933138  0.\n",
      "   0.          0.          0.         -0.12766665  0.          0.\n",
      "   0.          0.         -0.09236372  0.         -0.13587873 -0.05921284\n",
      "  -0.10226153 -0.1859535   0.          0.          0.        ]\n",
      " [ 0.02068576  0.          0.          0.          0.          0.\n",
      "   0.          0.          0.          0.          0.          0.\n",
      "   0.          0.          0.          0.          0.          0.13793341\n",
      "   0.          0.          0.          0.          0.        ]\n",
      " [ 0.          0.          0.12533612  0.          0.          0.\n",
      "   0.          0.          0.          0.          0.          0.39411184\n",
      "   0.          0.39595128  0.15918828  0.          0.          0.\n",
      "   0.          0.          0.          0.          0.        ]] ['Age' 'Gender' 'Air Pollution' 'Alcohol use' 'Dust Allergy'\n",
      " 'OccuPational Hazards' 'Genetic Risk' 'chronic Lung Disease'\n",
      " 'Balanced Diet' 'Obesity' 'Smoking' 'Passive Smoker' 'Chest Pain'\n",
      " 'Coughing of Blood' 'Fatigue' 'Weight Loss' 'Shortness of Breath'\n",
      " 'Wheezing' 'Swallowing Difficulty' 'Clubbing of Finger Nails'\n",
      " 'Frequent Cold' 'Dry Cough' 'Snoring']\n"
     ]
    },
    {
     "data": {
      "image/png": "[encoded data removed]",
      "text/plain": [
       "<Figure size 432x288 with 2 Axes>"
      ]
     },
     "metadata": {
      "needs_background": "light"
     },
     "output_type": "display_data"
    }
   ],
   "source": [
    "X_new_train, X_new_test, y_new_train, y_new_test = train_test_split(X, y, test_size=0.3, random_state=num)\n",
    "log = LogisticRegression(max_iter=2000 ,C=10e-3, solver='saga' , penalty='l1', multi_class='multinomial')\n",
    "log.fit(X_new_train, y_new_train)\n",
    "\n",
    "y_pred = log.predict(X_new_test)\n",
    "\n",
    "print(log.score(X_new_test, y_new_test))\n",
    "print(log.coef_.shape)\n",
    "print(log.coef_, log.feature_names_in_)\n",
    "cmx = confusion_matrix(y_new_test, y_pred)\n",
    "ConfusionMatrixDisplay(cmx, display_labels=[0,1,2]).plot(cmap=plt.cm.Blues)\n",
    "plt.show()"
   ]
  },
  {
   "cell_type": "code",
   "execution_count": 22,
   "id": "d146f72d",
   "metadata": {},
   "outputs": [
    {
     "name": "stdout",
     "output_type": "stream",
     "text": [
      "0.36\n",
      "(3, 23)\n",
      "[[0. 0. 0. 0. 0. 0. 0. 0. 0. 0. 0. 0. 0. 0. 0. 0. 0. 0. 0. 0. 0. 0. 0.]\n",
      " [0. 0. 0. 0. 0. 0. 0. 0. 0. 0. 0. 0. 0. 0. 0. 0. 0. 0. 0. 0. 0. 0. 0.]\n",
      " [0. 0. 0. 0. 0. 0. 0. 0. 0. 0. 0. 0. 0. 0. 0. 0. 0. 0. 0. 0. 0. 0. 0.]] ['Age' 'Gender' 'Air Pollution' 'Alcohol use' 'Dust Allergy'\n",
      " 'OccuPational Hazards' 'Genetic Risk' 'chronic Lung Disease'\n",
      " 'Balanced Diet' 'Obesity' 'Smoking' 'Passive Smoker' 'Chest Pain'\n",
      " 'Coughing of Blood' 'Fatigue' 'Weight Loss' 'Shortness of Breath'\n",
      " 'Wheezing' 'Swallowing Difficulty' 'Clubbing of Finger Nails'\n",
      " 'Frequent Cold' 'Dry Cough' 'Snoring']\n"
     ]
    },
    {
     "data": {
      "image/png": "[encoded data removed]",
      "text/plain": [
       "<Figure size 432x288 with 2 Axes>"
      ]
     },
     "metadata": {
      "needs_background": "light"
     },
     "output_type": "display_data"
    }
   ],
   "source": [
    "X_new_train, X_new_test, y_new_train, y_new_test = train_test_split(X, y, test_size=0.3, random_state=num)\n",
    "log = LogisticRegression(max_iter=2000 ,C=10e-4, solver='saga' , penalty='l1', multi_class='multinomial')\n",
    "log.fit(X_new_train, y_new_train)\n",
    "\n",
    "y_pred = log.predict(X_new_test)\n",
    "\n",
    "print(log.score(X_new_test, y_new_test))\n",
    "print(log.coef_.shape)\n",
    "print(log.coef_, log.feature_names_in_)\n",
    "cmx = confusion_matrix(y_new_test, y_pred)\n",
    "ConfusionMatrixDisplay(cmx, display_labels=[0,1,2]).plot(cmap=plt.cm.Blues)\n",
    "plt.show()"
   ]
  },
  {
   "cell_type": "markdown",
   "id": "c9b8329d",
   "metadata": {},
   "source": [
    "Looking at these two values, a penalty term or 0.001 reduces the weights of each variable to 0, so this means the penalty term of 0.001 is way to small. We have to find a value between 0.01 and 0.001 that maximizes the score, while minimizing the weights."
   ]
  },
  {
   "cell_type": "code",
   "execution_count": 23,
   "id": "f1898bbd",
   "metadata": {},
   "outputs": [
    {
     "data": {
      "text/plain": [
       "{'mean_fit_time': array([2.52138634, 2.22439599, 1.93343287, 1.77212849, 0.81371589,\n",
       "        0.73170972, 0.73018084, 0.72755375, 0.58679957]),\n",
       " 'std_fit_time': array([0.21556225, 0.05778531, 0.08790015, 0.06266011, 0.03743309,\n",
       "        0.03356404, 0.08427023, 0.08694733, 0.02863432]),\n",
       " 'mean_score_time': array([1.23600960e-03, 2.14772224e-03, 4.34398651e-05, 2.85825729e-03,\n",
       "        1.26657486e-03, 1.64098740e-03, 1.48820877e-03, 1.58596039e-03,\n",
       "        2.45962143e-03]),\n",
       " 'std_score_time': array([1.00934635e-03, 1.88182165e-03, 8.68797302e-05, 1.67394591e-03,\n",
       "        1.03441465e-03, 2.01402867e-03, 1.82592460e-03, 1.94258229e-03,\n",
       "        2.01322553e-03]),\n",
       " 'param_C': masked_array(data=[0.05, 0.04, 0.03, 0.02, 0.01, 0.009, 0.008, 0.007,\n",
       "                    0.006],\n",
       "              mask=[False, False, False, False, False, False, False, False,\n",
       "                    False],\n",
       "        fill_value='?',\n",
       "             dtype=object),\n",
       " 'params': [{'C': 0.05},\n",
       "  {'C': 0.04},\n",
       "  {'C': 0.03},\n",
       "  {'C': 0.02},\n",
       "  {'C': 0.01},\n",
       "  {'C': 0.009},\n",
       "  {'C': 0.008},\n",
       "  {'C': 0.007},\n",
       "  {'C': 0.006}],\n",
       " 'split0_test_score': array([0.99 , 0.99 , 0.98 , 0.97 , 0.945, 0.945, 0.92 , 0.91 , 0.905]),\n",
       " 'split1_test_score': array([0.97 , 0.97 , 0.96 , 0.975, 0.935, 0.935, 0.935, 0.91 , 0.91 ]),\n",
       " 'split2_test_score': array([0.995, 0.995, 0.985, 0.985, 0.96 , 0.96 , 0.94 , 0.94 , 0.92 ]),\n",
       " 'split3_test_score': array([0.99 , 0.99 , 0.98 , 0.98 , 0.955, 0.955, 0.955, 0.925, 0.925]),\n",
       " 'split4_test_score': array([0.99, 0.98, 0.98, 0.98, 0.95, 0.95, 0.93, 0.92, 0.92]),\n",
       " 'mean_test_score': array([0.987, 0.985, 0.977, 0.978, 0.949, 0.949, 0.936, 0.921, 0.916]),\n",
       " 'std_test_score': array([0.0087178 , 0.00894427, 0.0087178 , 0.00509902, 0.00860233,\n",
       "        0.00860233, 0.01157584, 0.01113553, 0.00734847]),\n",
       " 'rank_test_score': array([1, 2, 4, 3, 5, 5, 7, 8, 9])}"
      ]
     },
     "execution_count": 23,
     "metadata": {},
     "output_type": "execute_result"
    }
   ],
   "source": [
    "# Perform Grid search cross validation for a l2 penalty term (Ridge)\n",
    "clf = GridSearchCV(LogisticRegression(max_iter=10000, multi_class='multinomial', solver='saga', penalty='l1'), {\n",
    "    'C': [0.05, 0.04, 0.03, 0.02, 0.01, 0.009, 0.008, 0.007, 0.006]\n",
    "}, cv=5, return_train_score=False)\n",
    "\n",
    "clf.fit(X, y)\n",
    "clf.cv_results_"
   ]
  },
  {
   "cell_type": "markdown",
   "id": "89eb0b7d",
   "metadata": {},
   "source": [
    "Looking at these values we can see that 0.009, 0.008 and 0.007 are all small values that obtains a very high score. By investigating the std_test_score, we can clearly see that 0.009 is the best value to choose as C, but lets investigate it a littel bit more."
   ]
  },
  {
   "cell_type": "code",
   "execution_count": 24,
   "id": "d575a32d",
   "metadata": {},
   "outputs": [
    {
     "name": "stdout",
     "output_type": "stream",
     "text": [
      "0.9333333333333333\n",
      "(3, 23)\n",
      "[[ 0.          0.          0.          0.         -0.13464085  0.\n",
      "   0.          0.          0.         -0.10332417  0.          0.\n",
      "   0.          0.         -0.07486584  0.         -0.13088883 -0.04535731\n",
      "  -0.08290182 -0.1660851   0.          0.          0.        ]\n",
      " [ 0.01947707  0.          0.          0.          0.          0.\n",
      "   0.          0.          0.          0.          0.          0.\n",
      "   0.          0.          0.          0.          0.          0.12457689\n",
      "   0.          0.          0.          0.          0.        ]\n",
      " [ 0.          0.          0.09671904  0.          0.          0.\n",
      "   0.          0.          0.          0.          0.          0.37694402\n",
      "   0.          0.39428084  0.14065944  0.          0.          0.\n",
      "   0.          0.          0.          0.          0.        ]] ['Age' 'Gender' 'Air Pollution' 'Alcohol use' 'Dust Allergy'\n",
      " 'OccuPational Hazards' 'Genetic Risk' 'chronic Lung Disease'\n",
      " 'Balanced Diet' 'Obesity' 'Smoking' 'Passive Smoker' 'Chest Pain'\n",
      " 'Coughing of Blood' 'Fatigue' 'Weight Loss' 'Shortness of Breath'\n",
      " 'Wheezing' 'Swallowing Difficulty' 'Clubbing of Finger Nails'\n",
      " 'Frequent Cold' 'Dry Cough' 'Snoring']\n"
     ]
    },
    {
     "data": {
      "image/png": "[encoded data removed]",
      "text/plain": [
       "<Figure size 432x288 with 2 Axes>"
      ]
     },
     "metadata": {
      "needs_background": "light"
     },
     "output_type": "display_data"
    }
   ],
   "source": [
    "X_new_train, X_new_test, y_new_train, y_new_test = train_test_split(X, y, test_size=0.3, random_state=num)\n",
    "log = LogisticRegression(max_iter=2000 ,C=0.009, solver='saga' , penalty='l1', multi_class='multinomial')\n",
    "log.fit(X_new_train, y_new_train)\n",
    "\n",
    "y_pred = log.predict(X_new_test)\n",
    "\n",
    "print(log.score(X_new_test, y_new_test))\n",
    "print(log.coef_.shape)\n",
    "print(log.coef_, log.feature_names_in_)\n",
    "cmx = confusion_matrix(y_new_test, y_pred)\n",
    "ConfusionMatrixDisplay(cmx, display_labels=[0,1,2]).plot(cmap=plt.cm.Blues)\n",
    "plt.show()"
   ]
  },
  {
   "cell_type": "code",
   "execution_count": 25,
   "id": "6ab3ea1d",
   "metadata": {},
   "outputs": [
    {
     "name": "stdout",
     "output_type": "stream",
     "text": [
      "0.9133333333333333\n",
      "(3, 23)\n",
      "[[ 0.          0.          0.          0.         -0.14076381  0.\n",
      "   0.          0.          0.         -0.07802171  0.          0.\n",
      "   0.          0.         -0.05593451  0.         -0.1242832  -0.03217859\n",
      "  -0.05970173 -0.14346852  0.          0.          0.        ]\n",
      " [ 0.01810139  0.          0.          0.          0.          0.\n",
      "   0.          0.          0.          0.          0.          0.\n",
      "   0.          0.          0.          0.          0.          0.10755464\n",
      "   0.          0.          0.          0.          0.        ]\n",
      " [ 0.          0.          0.06435362  0.          0.          0.\n",
      "   0.          0.          0.          0.          0.          0.35816311\n",
      "   0.          0.39294162  0.12002738  0.          0.          0.\n",
      "   0.          0.          0.          0.          0.        ]] ['Age' 'Gender' 'Air Pollution' 'Alcohol use' 'Dust Allergy'\n",
      " 'OccuPational Hazards' 'Genetic Risk' 'chronic Lung Disease'\n",
      " 'Balanced Diet' 'Obesity' 'Smoking' 'Passive Smoker' 'Chest Pain'\n",
      " 'Coughing of Blood' 'Fatigue' 'Weight Loss' 'Shortness of Breath'\n",
      " 'Wheezing' 'Swallowing Difficulty' 'Clubbing of Finger Nails'\n",
      " 'Frequent Cold' 'Dry Cough' 'Snoring']\n"
     ]
    },
    {
     "data": {
      "image/png": "[encoded data removed]",
      "text/plain": [
       "<Figure size 432x288 with 2 Axes>"
      ]
     },
     "metadata": {
      "needs_background": "light"
     },
     "output_type": "display_data"
    }
   ],
   "source": [
    "X_new_train, X_new_test, y_new_train, y_new_test = train_test_split(X, y, test_size=0.3, random_state=num)\n",
    "log = LogisticRegression(max_iter=2000 ,C=0.008, solver='saga' , penalty='l1', multi_class='multinomial')\n",
    "log.fit(X_new_train, y_new_train)\n",
    "\n",
    "y_pred = log.predict(X_new_test)\n",
    "\n",
    "print(log.score(X_new_test, y_new_test))\n",
    "print(log.coef_.shape)\n",
    "print(log.coef_, log.feature_names_in_)\n",
    "cmx = confusion_matrix(y_new_test, y_pred)\n",
    "ConfusionMatrixDisplay(cmx, display_labels=[0,1,2]).plot(cmap=plt.cm.Blues)\n",
    "plt.show()"
   ]
  },
  {
   "cell_type": "code",
   "execution_count": 26,
   "id": "d48e8b62",
   "metadata": {},
   "outputs": [
    {
     "name": "stdout",
     "output_type": "stream",
     "text": [
      "0.8733333333333333\n",
      "(3, 23)\n",
      "[[ 0.          0.          0.          0.         -0.14801707  0.\n",
      "   0.          0.          0.         -0.05199251  0.          0.\n",
      "   0.          0.         -0.03562771  0.         -0.115355   -0.02043271\n",
      "  -0.03140292 -0.11754738  0.          0.          0.        ]\n",
      " [ 0.01649301  0.          0.          0.          0.          0.\n",
      "   0.          0.          0.          0.          0.          0.\n",
      "   0.          0.          0.          0.          0.          0.08507551\n",
      "   0.          0.          0.          0.          0.        ]\n",
      " [ 0.          0.          0.02708048  0.          0.          0.\n",
      "   0.          0.          0.          0.          0.          0.3376528\n",
      "   0.          0.39222039  0.09661506  0.          0.          0.\n",
      "   0.          0.          0.          0.          0.        ]] ['Age' 'Gender' 'Air Pollution' 'Alcohol use' 'Dust Allergy'\n",
      " 'OccuPational Hazards' 'Genetic Risk' 'chronic Lung Disease'\n",
      " 'Balanced Diet' 'Obesity' 'Smoking' 'Passive Smoker' 'Chest Pain'\n",
      " 'Coughing of Blood' 'Fatigue' 'Weight Loss' 'Shortness of Breath'\n",
      " 'Wheezing' 'Swallowing Difficulty' 'Clubbing of Finger Nails'\n",
      " 'Frequent Cold' 'Dry Cough' 'Snoring']\n"
     ]
    },
    {
     "data": {
      "image/png": "[encoded data removed]",
      "text/plain": [
       "<Figure size 432x288 with 2 Axes>"
      ]
     },
     "metadata": {
      "needs_background": "light"
     },
     "output_type": "display_data"
    }
   ],
   "source": [
    "X_new_train, X_new_test, y_new_train, y_new_test = train_test_split(X, y, test_size=0.3, random_state=num)\n",
    "log = LogisticRegression(max_iter=2000 ,C=0.007, solver='saga' , penalty='l1', multi_class='multinomial')\n",
    "log.fit(X_new_train, y_new_train)\n",
    "\n",
    "y_pred = log.predict(X_new_test)\n",
    "\n",
    "print(log.score(X_new_test, y_new_test))\n",
    "print(log.coef_.shape)\n",
    "print(log.coef_, log.feature_names_in_)\n",
    "cmx = confusion_matrix(y_new_test, y_pred)\n",
    "ConfusionMatrixDisplay(cmx, display_labels=[0,1,2]).plot(cmap=plt.cm.Blues)\n",
    "plt.show()"
   ]
  },
  {
   "cell_type": "markdown",
   "id": "f266cf88",
   "metadata": {},
   "source": [
    "After further investigating these values for C, we can see that 0.009 gives the best accuracy score trade off, so it is best to choose C as 0.009"
   ]
  },
  {
   "cell_type": "code",
   "execution_count": 27,
   "id": "8d9d218d",
   "metadata": {},
   "outputs": [
    {
     "name": "stdout",
     "output_type": "stream",
     "text": [
      "0.9333333333333333\n",
      "(3, 23)\n",
      "[[ 0.          0.          0.          0.         -0.13470176  0.\n",
      "   0.          0.          0.         -0.1033337   0.          0.\n",
      "   0.          0.         -0.07489564  0.         -0.13089969 -0.04543998\n",
      "  -0.08297682 -0.16614016  0.          0.          0.        ]\n",
      " [ 0.01947425  0.          0.          0.          0.          0.\n",
      "   0.          0.          0.          0.          0.          0.\n",
      "   0.          0.          0.          0.          0.          0.12445927\n",
      "   0.          0.          0.          0.          0.        ]\n",
      " [ 0.          0.          0.0967507   0.          0.          0.\n",
      "   0.          0.          0.          0.          0.          0.37695063\n",
      "   0.          0.39440341  0.14070017  0.          0.          0.\n",
      "   0.          0.          0.          0.          0.        ]] ['Age' 'Gender' 'Air Pollution' 'Alcohol use' 'Dust Allergy'\n",
      " 'OccuPational Hazards' 'Genetic Risk' 'chronic Lung Disease'\n",
      " 'Balanced Diet' 'Obesity' 'Smoking' 'Passive Smoker' 'Chest Pain'\n",
      " 'Coughing of Blood' 'Fatigue' 'Weight Loss' 'Shortness of Breath'\n",
      " 'Wheezing' 'Swallowing Difficulty' 'Clubbing of Finger Nails'\n",
      " 'Frequent Cold' 'Dry Cough' 'Snoring']\n"
     ]
    },
    {
     "data": {
      "image/png": "[encoded data removed]",
      "text/plain": [
       "<Figure size 432x288 with 2 Axes>"
      ]
     },
     "metadata": {
      "needs_background": "light"
     },
     "output_type": "display_data"
    }
   ],
   "source": [
    "X_new_train, X_new_test, y_new_train, y_new_test = train_test_split(X, y, test_size=0.3, random_state=num)\n",
    "log = LogisticRegression(max_iter=2000 ,C=0.009, solver='saga' , penalty='l1', multi_class='multinomial')\n",
    "log.fit(X_new_train, y_new_train)\n",
    "\n",
    "y_pred = log.predict(X_new_test)\n",
    "\n",
    "print(log.score(X_new_test, y_new_test))\n",
    "print(log.coef_.shape)\n",
    "print(log.coef_, log.feature_names_in_)\n",
    "cmx = confusion_matrix(y_new_test, y_pred)\n",
    "ConfusionMatrixDisplay(cmx, display_labels=[0,1,2]).plot(cmap=plt.cm.Blues)\n",
    "plt.show()"
   ]
  },
  {
   "cell_type": "markdown",
   "id": "90b29121",
   "metadata": {},
   "source": [
    "# Elasticnet (Both Lasso and Ridge regression penalty)"
   ]
  },
  {
   "cell_type": "markdown",
   "id": "6f16d9e1",
   "metadata": {},
   "source": [
    "Elasticnet uses both the Ridge regression penalty(l2) and the Lasso regression penalty(l1). We use the logistic regressions parameter 'l1_ratio' to define what ratio of l1 and l2 we should use. The penalty is then determined by:\n",
    "\n",
    "* l1_ratio x l1 + (1-l1_ratio) x l2\n",
    "\n",
    "Thus the elasticnet penalty either reduces the weights of each coefficient to either 0 or close to 0. We are going to use a GridSearchCV to estimate the best ratio and the best possible penalty term."
   ]
  },
  {
   "cell_type": "code",
   "execution_count": 25,
   "id": "ccbdc4ab",
   "metadata": {},
   "outputs": [
    {
     "data": {
      "text/plain": [
       "{'mean_fit_time': array([0.82027807, 0.91604738, 0.91078181, 0.96273508, 0.96318278,\n",
       "        0.92371998, 1.0622601 , 1.00306945, 1.09922624, 2.40969877,\n",
       "        2.38488641, 2.72156906, 2.78020716, 2.83499351, 3.02686143,\n",
       "        3.20550084, 2.60597   , 2.43880382, 1.8352406 , 1.4377728 ,\n",
       "        1.37999978, 1.31966643, 1.43945494, 1.22952123, 1.11850338,\n",
       "        1.21565504, 1.09387856, 0.65023975, 0.4169147 , 0.27559958,\n",
       "        0.23291578, 0.20192218, 0.16022434, 0.06615949, 0.02049274,\n",
       "        0.01296339, 0.01156888, 0.00639286, 0.00438838, 0.00479312,\n",
       "        0.00498176, 0.00459962, 0.00459962, 0.00440598, 0.0046443 ]),\n",
       " 'std_fit_time': array([0.06060144, 0.02010336, 0.04205807, 0.06668903, 0.01954725,\n",
       "        0.02918425, 0.04181851, 0.02976382, 0.14511559, 0.03262545,\n",
       "        0.05290159, 0.12371833, 0.22411962, 0.03780017, 0.15206688,\n",
       "        0.11621794, 0.13301092, 0.4027995 , 0.11728241, 0.01429458,\n",
       "        0.02432575, 0.03594198, 0.0920091 , 0.03331821, 0.01861567,\n",
       "        0.09377365, 0.11290128, 0.02398124, 0.01559837, 0.01049948,\n",
       "        0.01461765, 0.00534396, 0.00671712, 0.03286329, 0.00206615,\n",
       "        0.0016685 , 0.00162064, 0.00080009, 0.00101608, 0.00097091,\n",
       "        0.00110519, 0.00102857, 0.00100601, 0.00081602, 0.00091928]),\n",
       " 'mean_score_time': array([0.00159206, 0.00179825, 0.00159163, 0.00119681, 0.00139656,\n",
       "        0.00139189, 0.00179639, 0.00139322, 0.00159273, 0.00160046,\n",
       "        0.00140343, 0.00098872, 0.00099583, 0.00139666, 0.00159559,\n",
       "        0.00159612, 0.00130119, 0.00161581, 0.00158548, 0.00119715,\n",
       "        0.00099797, 0.0015903 , 0.00149927, 0.00159631, 0.00139675,\n",
       "        0.00139699, 0.0019855 , 0.0015892 , 0.0015964 , 0.00099545,\n",
       "        0.00179672, 0.0019958 , 0.00139503, 0.00139351, 0.00179572,\n",
       "        0.00199685, 0.00179677, 0.00138526, 0.00159826, 0.00139103,\n",
       "        0.00159488, 0.00198288, 0.00198569, 0.00119085, 0.00159583]),\n",
       " 'std_score_time': array([4.84693621e-04, 4.02000552e-04, 4.84840800e-04, 3.99494598e-04,\n",
       "        4.89767396e-04, 4.92395450e-04, 3.99271946e-04, 4.79739502e-04,\n",
       "        4.86861564e-04, 4.82449368e-04, 4.85152450e-04, 3.05882767e-05,\n",
       "        3.25648710e-06, 4.88713937e-04, 4.88013901e-04, 4.88636202e-04,\n",
       "        3.97497862e-04, 5.07190201e-04, 4.73506189e-04, 3.98731260e-04,\n",
       "        2.78041453e-07, 4.83823861e-04, 4.46926310e-04, 4.88889109e-04,\n",
       "        4.88733445e-04, 4.89025568e-04, 6.30895231e-04, 4.97427340e-04,\n",
       "        4.88480312e-04, 6.30995413e-04, 3.98525538e-04, 6.33098923e-04,\n",
       "        4.92111920e-04, 4.89851181e-04, 7.45511884e-04, 4.01959866e-06,\n",
       "        3.99140171e-04, 4.93232884e-04, 4.91873109e-04, 4.94416388e-04,\n",
       "        4.85782090e-04, 1.82557030e-05, 8.96569985e-04, 4.08446569e-04,\n",
       "        4.88525931e-04]),\n",
       " 'param_C': masked_array(data=[1, 1, 1, 1, 1, 1, 1, 1, 1, 0.1, 0.1, 0.1, 0.1, 0.1,\n",
       "                    0.1, 0.1, 0.1, 0.1, 0.01, 0.01, 0.01, 0.01, 0.01, 0.01,\n",
       "                    0.01, 0.01, 0.01, 0.001, 0.001, 0.001, 0.001, 0.001,\n",
       "                    0.001, 0.001, 0.001, 0.001, 0.0001, 0.0001, 0.0001,\n",
       "                    0.0001, 0.0001, 0.0001, 0.0001, 0.0001, 0.0001],\n",
       "              mask=[False, False, False, False, False, False, False, False,\n",
       "                    False, False, False, False, False, False, False, False,\n",
       "                    False, False, False, False, False, False, False, False,\n",
       "                    False, False, False, False, False, False, False, False,\n",
       "                    False, False, False, False, False, False, False, False,\n",
       "                    False, False, False, False, False],\n",
       "        fill_value='?',\n",
       "             dtype=object),\n",
       " 'param_l1_ratio': masked_array(data=[0.1, 0.2, 0.3, 0.4, 0.5, 0.6, 0.7, 0.8, 0.9, 0.1, 0.2,\n",
       "                    0.3, 0.4, 0.5, 0.6, 0.7, 0.8, 0.9, 0.1, 0.2, 0.3, 0.4,\n",
       "                    0.5, 0.6, 0.7, 0.8, 0.9, 0.1, 0.2, 0.3, 0.4, 0.5, 0.6,\n",
       "                    0.7, 0.8, 0.9, 0.1, 0.2, 0.3, 0.4, 0.5, 0.6, 0.7, 0.8,\n",
       "                    0.9],\n",
       "              mask=[False, False, False, False, False, False, False, False,\n",
       "                    False, False, False, False, False, False, False, False,\n",
       "                    False, False, False, False, False, False, False, False,\n",
       "                    False, False, False, False, False, False, False, False,\n",
       "                    False, False, False, False, False, False, False, False,\n",
       "                    False, False, False, False, False],\n",
       "        fill_value='?',\n",
       "             dtype=object),\n",
       " 'params': [{'C': 1, 'l1_ratio': 0.1},\n",
       "  {'C': 1, 'l1_ratio': 0.2},\n",
       "  {'C': 1, 'l1_ratio': 0.3},\n",
       "  {'C': 1, 'l1_ratio': 0.4},\n",
       "  {'C': 1, 'l1_ratio': 0.5},\n",
       "  {'C': 1, 'l1_ratio': 0.6},\n",
       "  {'C': 1, 'l1_ratio': 0.7},\n",
       "  {'C': 1, 'l1_ratio': 0.8},\n",
       "  {'C': 1, 'l1_ratio': 0.9},\n",
       "  {'C': 0.1, 'l1_ratio': 0.1},\n",
       "  {'C': 0.1, 'l1_ratio': 0.2},\n",
       "  {'C': 0.1, 'l1_ratio': 0.3},\n",
       "  {'C': 0.1, 'l1_ratio': 0.4},\n",
       "  {'C': 0.1, 'l1_ratio': 0.5},\n",
       "  {'C': 0.1, 'l1_ratio': 0.6},\n",
       "  {'C': 0.1, 'l1_ratio': 0.7},\n",
       "  {'C': 0.1, 'l1_ratio': 0.8},\n",
       "  {'C': 0.1, 'l1_ratio': 0.9},\n",
       "  {'C': 0.01, 'l1_ratio': 0.1},\n",
       "  {'C': 0.01, 'l1_ratio': 0.2},\n",
       "  {'C': 0.01, 'l1_ratio': 0.3},\n",
       "  {'C': 0.01, 'l1_ratio': 0.4},\n",
       "  {'C': 0.01, 'l1_ratio': 0.5},\n",
       "  {'C': 0.01, 'l1_ratio': 0.6},\n",
       "  {'C': 0.01, 'l1_ratio': 0.7},\n",
       "  {'C': 0.01, 'l1_ratio': 0.8},\n",
       "  {'C': 0.01, 'l1_ratio': 0.9},\n",
       "  {'C': 0.001, 'l1_ratio': 0.1},\n",
       "  {'C': 0.001, 'l1_ratio': 0.2},\n",
       "  {'C': 0.001, 'l1_ratio': 0.3},\n",
       "  {'C': 0.001, 'l1_ratio': 0.4},\n",
       "  {'C': 0.001, 'l1_ratio': 0.5},\n",
       "  {'C': 0.001, 'l1_ratio': 0.6},\n",
       "  {'C': 0.001, 'l1_ratio': 0.7},\n",
       "  {'C': 0.001, 'l1_ratio': 0.8},\n",
       "  {'C': 0.001, 'l1_ratio': 0.9},\n",
       "  {'C': 0.0001, 'l1_ratio': 0.1},\n",
       "  {'C': 0.0001, 'l1_ratio': 0.2},\n",
       "  {'C': 0.0001, 'l1_ratio': 0.3},\n",
       "  {'C': 0.0001, 'l1_ratio': 0.4},\n",
       "  {'C': 0.0001, 'l1_ratio': 0.5},\n",
       "  {'C': 0.0001, 'l1_ratio': 0.6},\n",
       "  {'C': 0.0001, 'l1_ratio': 0.7},\n",
       "  {'C': 0.0001, 'l1_ratio': 0.8},\n",
       "  {'C': 0.0001, 'l1_ratio': 0.9}],\n",
       " 'split0_test_score': array([0.985, 0.985, 0.985, 0.985, 0.985, 0.985, 0.985, 0.985, 0.985,\n",
       "        1.   , 1.   , 1.   , 1.   , 1.   , 1.   , 1.   , 1.   , 1.   ,\n",
       "        0.96 , 0.96 , 0.96 , 0.96 , 0.96 , 0.945, 0.945, 0.945, 0.945,\n",
       "        0.91 , 0.825, 0.705, 0.665, 0.6  , 0.6  , 0.4  , 0.365, 0.365,\n",
       "        0.365, 0.365, 0.365, 0.365, 0.365, 0.365, 0.365, 0.365, 0.365]),\n",
       " 'split1_test_score': array([0.99 , 0.99 , 0.99 , 0.99 , 0.99 , 0.99 , 0.99 , 0.99 , 0.99 ,\n",
       "        1.   , 1.   , 1.   , 1.   , 1.   , 1.   , 1.   , 0.985, 0.975,\n",
       "        0.95 , 0.95 , 0.95 , 0.95 , 0.95 , 0.935, 0.935, 0.935, 0.935,\n",
       "        0.905, 0.845, 0.695, 0.715, 0.615, 0.615, 0.39 , 0.365, 0.365,\n",
       "        0.365, 0.365, 0.365, 0.365, 0.365, 0.365, 0.365, 0.365, 0.365]),\n",
       " 'split2_test_score': array([0.995, 0.995, 0.995, 0.995, 0.995, 0.995, 0.995, 0.995, 0.995,\n",
       "        1.   , 1.   , 1.   , 1.   , 1.   , 1.   , 1.   , 0.99 , 0.99 ,\n",
       "        0.965, 0.965, 0.965, 0.965, 0.965, 0.965, 0.97 , 0.97 , 0.965,\n",
       "        0.92 , 0.855, 0.715, 0.65 , 0.615, 0.565, 0.395, 0.365, 0.365,\n",
       "        0.365, 0.365, 0.365, 0.365, 0.365, 0.365, 0.365, 0.365, 0.365]),\n",
       " 'split3_test_score': array([1.   , 1.   , 1.   , 1.   , 1.   , 1.   , 1.   , 1.   , 1.   ,\n",
       "        1.   , 1.   , 1.   , 1.   , 1.   , 1.   , 1.   , 1.   , 1.   ,\n",
       "        0.975, 0.965, 0.965, 0.965, 0.975, 0.965, 0.955, 0.955, 0.955,\n",
       "        0.935, 0.86 , 0.73 , 0.68 , 0.635, 0.585, 0.395, 0.365, 0.365,\n",
       "        0.365, 0.365, 0.365, 0.365, 0.365, 0.365, 0.365, 0.365, 0.365]),\n",
       " 'split4_test_score': array([1.   , 1.   , 1.   , 1.   , 1.   , 1.   , 1.   , 1.   , 1.   ,\n",
       "        1.   , 1.   , 1.   , 0.985, 0.985, 0.985, 0.985, 0.985, 0.985,\n",
       "        0.965, 0.965, 0.96 , 0.965, 0.965, 0.96 , 0.94 , 0.95 , 0.95 ,\n",
       "        0.92 , 0.86 , 0.705, 0.685, 0.63 , 0.57 , 0.365, 0.365, 0.365,\n",
       "        0.365, 0.365, 0.3  , 0.365, 0.365, 0.365, 0.365, 0.365, 0.365]),\n",
       " 'mean_test_score': array([0.994, 0.994, 0.994, 0.994, 0.994, 0.994, 0.994, 0.994, 0.994,\n",
       "        1.   , 1.   , 1.   , 0.997, 0.997, 0.997, 0.997, 0.992, 0.99 ,\n",
       "        0.963, 0.961, 0.96 , 0.961, 0.963, 0.954, 0.949, 0.951, 0.95 ,\n",
       "        0.918, 0.849, 0.71 , 0.679, 0.619, 0.587, 0.389, 0.365, 0.365,\n",
       "        0.365, 0.365, 0.352, 0.365, 0.365, 0.365, 0.365, 0.365, 0.365]),\n",
       " 'std_test_score': array([0.00583095, 0.00583095, 0.00583095, 0.00583095, 0.00583095,\n",
       "        0.00583095, 0.00583095, 0.00583095, 0.00583095, 0.        ,\n",
       "        0.        , 0.        , 0.006     , 0.006     , 0.006     ,\n",
       "        0.006     , 0.00678233, 0.00948683, 0.00812404, 0.00583095,\n",
       "        0.00547723, 0.00583095, 0.00812404, 0.012     , 0.01240967,\n",
       "        0.01157584, 0.01      , 0.01029563, 0.01319091, 0.01183216,\n",
       "        0.02177154, 0.01240967, 0.01860108, 0.01240967, 0.        ,\n",
       "        0.        , 0.        , 0.        , 0.026     , 0.        ,\n",
       "        0.        , 0.        , 0.        , 0.        , 0.        ]),\n",
       " 'rank_test_score': array([ 8,  8,  8,  8,  8,  8,  8,  8,  8,  1,  1,  1,  4,  4,  4,  4, 17,\n",
       "        18, 19, 21, 23, 21, 19, 24, 27, 25, 26, 28, 29, 30, 31, 32, 33, 34,\n",
       "        35, 35, 35, 35, 45, 35, 35, 35, 35, 35, 35])}"
      ]
     },
     "execution_count": 25,
     "metadata": {},
     "output_type": "execute_result"
    }
   ],
   "source": [
    "# Perform Grid search cross validation for a l2/l1 penalty term (Ridge/Lasso)\n",
    "\n",
    "clf = GridSearchCV(LogisticRegression(max_iter=10000, multi_class='multinomial', solver='saga', penalty='elasticnet'), {\n",
    "    'C': [1, 0.1, 0.01, 0.001, 0.0001],\n",
    "    'l1_ratio': [0.1, 0.2, 0.3, 0.4, 0.5, 0.6, 0.7, 0.8, 0.9]\n",
    "}, cv=5, return_train_score=False)\n",
    "\n",
    "clf.fit(X, y)\n",
    "clf.cv_results_"
   ]
  },
  {
   "cell_type": "markdown",
   "id": "d3542eae",
   "metadata": {},
   "source": [
    "It is quite hard to interpret these results, but taking a closer look at it, each row of the results is the different penalty term sizes, while each column represents the ratio between l2 and l1.\n",
    "\n",
    "Knowing this and looking at the mean of each result, we can see that to obtain the highest possible score, and the lowest possible C value, we have to look at:\n",
    "* C = 0.01; l1_ratio = 0.4\n",
    "* C = 0.01; l1_ratio = 0.5\n",
    "* C = 0.01; l1_ratio = 0.6"
   ]
  },
  {
   "cell_type": "code",
   "execution_count": 28,
   "id": "47f137f4",
   "metadata": {},
   "outputs": [
    {
     "name": "stdout",
     "output_type": "stream",
     "text": [
      "0.9466666666666667\n",
      "(3, 23)\n",
      "[[ 0.          0.          0.         -0.03656938 -0.0962146   0.\n",
      "  -0.07357306  0.          0.         -0.21112368  0.          0.\n",
      "   0.         -0.0116029  -0.16854639  0.         -0.14572216 -0.15399131\n",
      "  -0.193891   -0.21940858 -0.03373594  0.         -0.04877973]\n",
      " [ 0.0311427   0.         -0.0605922   0.          0.05881363  0.\n",
      "   0.          0.          0.          0.         -0.07759341  0.\n",
      "   0.          0.          0.          0.          0.          0.16248527\n",
      "   0.          0.03139856  0.          0.          0.08251299]\n",
      " [-0.00636225  0.          0.21428088  0.05492748  0.          0.\n",
      "   0.          0.          0.0635287   0.06683178  0.03980589  0.32435682\n",
      "   0.          0.28034232  0.26563312  0.          0.          0.\n",
      "   0.          0.          0.          0.07539891  0.        ]] ['Age' 'Gender' 'Air Pollution' 'Alcohol use' 'Dust Allergy'\n",
      " 'OccuPational Hazards' 'Genetic Risk' 'chronic Lung Disease'\n",
      " 'Balanced Diet' 'Obesity' 'Smoking' 'Passive Smoker' 'Chest Pain'\n",
      " 'Coughing of Blood' 'Fatigue' 'Weight Loss' 'Shortness of Breath'\n",
      " 'Wheezing' 'Swallowing Difficulty' 'Clubbing of Finger Nails'\n",
      " 'Frequent Cold' 'Dry Cough' 'Snoring']\n"
     ]
    },
    {
     "data": {
      "image/png": "[encoded data removed]",
      "text/plain": [
       "<Figure size 432x288 with 2 Axes>"
      ]
     },
     "metadata": {
      "needs_background": "light"
     },
     "output_type": "display_data"
    }
   ],
   "source": [
    "X_new_train, X_new_test, y_new_train, y_new_test = train_test_split(X, y, test_size=0.3, random_state=num)\n",
    "log = LogisticRegression(max_iter=10000 ,C=0.01, solver='saga' , penalty='elasticnet', multi_class='multinomial', l1_ratio=0.4)\n",
    "log.fit(X_new_train, y_new_train)\n",
    "\n",
    "y_pred = log.predict(X_new_test)\n",
    "\n",
    "print(log.score(X_new_test, y_new_test))\n",
    "print(log.coef_.shape)\n",
    "print(log.coef_, log.feature_names_in_)\n",
    "cmx = confusion_matrix(y_new_test, y_pred)\n",
    "ConfusionMatrixDisplay(cmx, display_labels=[0,1,2]).plot(cmap=plt.cm.Blues)\n",
    "plt.show()"
   ]
  },
  {
   "cell_type": "code",
   "execution_count": 31,
   "id": "457ac251",
   "metadata": {},
   "outputs": [
    {
     "name": "stdout",
     "output_type": "stream",
     "text": [
      "0.9333333333333333\n",
      "(3, 23)\n",
      "[[ 0.          0.          0.         -0.03291856 -0.12195908  0.\n",
      "  -0.04908129  0.          0.         -0.21472496  0.          0.\n",
      "   0.          0.         -0.1617913   0.         -0.14616851 -0.14247134\n",
      "  -0.1825574  -0.23035226 -0.0137178   0.         -0.03867194]\n",
      " [ 0.03002478  0.         -0.02061211  0.          0.          0.\n",
      "   0.          0.          0.          0.         -0.0640723   0.\n",
      "   0.          0.          0.          0.          0.          0.16300228\n",
      "   0.          0.00315901  0.          0.          0.04901268]\n",
      " [-0.00133939  0.          0.2174952   0.01980146  0.          0.\n",
      "   0.          0.          0.04754452  0.03279472  0.0318124   0.34022077\n",
      "   0.          0.31334547  0.24801063  0.          0.          0.\n",
      "   0.          0.          0.          0.05056662  0.        ]] ['Age' 'Gender' 'Air Pollution' 'Alcohol use' 'Dust Allergy'\n",
      " 'OccuPational Hazards' 'Genetic Risk' 'chronic Lung Disease'\n",
      " 'Balanced Diet' 'Obesity' 'Smoking' 'Passive Smoker' 'Chest Pain'\n",
      " 'Coughing of Blood' 'Fatigue' 'Weight Loss' 'Shortness of Breath'\n",
      " 'Wheezing' 'Swallowing Difficulty' 'Clubbing of Finger Nails'\n",
      " 'Frequent Cold' 'Dry Cough' 'Snoring']\n"
     ]
    },
    {
     "data": {
      "image/png": "[encoded data removed]",
      "text/plain": [
       "<Figure size 432x288 with 2 Axes>"
      ]
     },
     "metadata": {
      "needs_background": "light"
     },
     "output_type": "display_data"
    }
   ],
   "source": [
    "X_new_train, X_new_test, y_new_train, y_new_test = train_test_split(X, y, test_size=0.3, random_state=num)\n",
    "log = LogisticRegression(max_iter=10000 ,C=0.01, solver='saga' , penalty='elasticnet', multi_class='multinomial', l1_ratio=0.5)\n",
    "log.fit(X_new_train, y_new_train)\n",
    "\n",
    "y_pred = log.predict(X_new_test)\n",
    "\n",
    "print(log.score(X_new_test, y_new_test))\n",
    "print(log.coef_.shape)\n",
    "print(log.coef_, log.feature_names_in_)\n",
    "cmx = confusion_matrix(y_new_test, y_pred)\n",
    "ConfusionMatrixDisplay(cmx, display_labels=[0,1,2]).plot(cmap=plt.cm.Blues)\n",
    "plt.show()"
   ]
  },
  {
   "cell_type": "code",
   "execution_count": 32,
   "id": "3f0ead0b",
   "metadata": {},
   "outputs": [
    {
     "name": "stdout",
     "output_type": "stream",
     "text": [
      "0.9466666666666667\n",
      "(3, 23)\n",
      "[[ 0.          0.          0.         -0.0201342  -0.12499977  0.\n",
      "  -0.01365951  0.          0.         -0.21173999  0.          0.\n",
      "   0.          0.         -0.15110367  0.         -0.14766334 -0.13222043\n",
      "  -0.17040065 -0.23150315  0.          0.         -0.02722026]\n",
      " [ 0.0275573   0.          0.          0.          0.          0.\n",
      "   0.          0.          0.          0.         -0.04593061  0.\n",
      "   0.          0.          0.          0.          0.          0.15270029\n",
      "   0.          0.          0.          0.          0.01923446]\n",
      " [ 0.          0.          0.21949787  0.01050402  0.          0.\n",
      "   0.          0.          0.03213369  0.01267764  0.02670452  0.3532642\n",
      "   0.          0.34655819  0.23239338  0.          0.          0.\n",
      "   0.          0.          0.          0.03331291  0.        ]] ['Age' 'Gender' 'Air Pollution' 'Alcohol use' 'Dust Allergy'\n",
      " 'OccuPational Hazards' 'Genetic Risk' 'chronic Lung Disease'\n",
      " 'Balanced Diet' 'Obesity' 'Smoking' 'Passive Smoker' 'Chest Pain'\n",
      " 'Coughing of Blood' 'Fatigue' 'Weight Loss' 'Shortness of Breath'\n",
      " 'Wheezing' 'Swallowing Difficulty' 'Clubbing of Finger Nails'\n",
      " 'Frequent Cold' 'Dry Cough' 'Snoring']\n"
     ]
    },
    {
     "data": {
      "image/png": "[encoded data removed]",
      "text/plain": [
       "<Figure size 432x288 with 2 Axes>"
      ]
     },
     "metadata": {
      "needs_background": "light"
     },
     "output_type": "display_data"
    }
   ],
   "source": [
    "X_new_train, X_new_test, y_new_train, y_new_test = train_test_split(X, y, test_size=0.3, random_state=num)\n",
    "log = LogisticRegression(max_iter=10000 ,C=0.01, solver='saga' , penalty='elasticnet', multi_class='multinomial', l1_ratio=0.6)\n",
    "log.fit(X_new_train, y_new_train)\n",
    "\n",
    "y_pred = log.predict(X_new_test)\n",
    "\n",
    "print(log.score(X_new_test, y_new_test))\n",
    "print(log.coef_.shape)\n",
    "print(log.coef_, log.feature_names_in_)\n",
    "cmx = confusion_matrix(y_new_test, y_pred)\n",
    "ConfusionMatrixDisplay(cmx, display_labels=[0,1,2]).plot(cmap=plt.cm.Blues)\n",
    "plt.show()"
   ]
  },
  {
   "cell_type": "markdown",
   "id": "c687654e",
   "metadata": {},
   "source": [
    "After a closer investigation of our findings, we can see that a penalty term of 0.01 and an l1_ratio of 0.4 does indeed work the best, as it does reduce most of the coefficients to 0 and the coefficients that does not result to 0 is much closer to 0 and it has the smallest std_test_score.\n",
    "\n",
    "So now we have to find the smallest value for C between 0.01 and 0.001 using the l1_ratio of 0.4"
   ]
  },
  {
   "cell_type": "code",
   "execution_count": 56,
   "id": "223899ea",
   "metadata": {},
   "outputs": [
    {
     "data": {
      "text/plain": [
       "{'mean_fit_time': array([1.46992164, 1.23651662, 1.22534175, 1.22959394, 1.34312687,\n",
       "        1.07287416, 0.78316579, 0.61301503, 0.43490238, 0.20980783]),\n",
       " 'std_fit_time': array([0.14115645, 0.01625549, 0.06510247, 0.08787641, 0.1438134 ,\n",
       "        0.10355056, 0.0314716 , 0.02508986, 0.01336076, 0.01072153]),\n",
       " 'mean_score_time': array([0.0008132 , 0.00194182, 0.00198812, 0.00203915, 0.00164518,\n",
       "        0.00408096, 0.00126619, 0.00157824, 0.00200825, 0.00119505]),\n",
       " 'std_score_time': array([0.0016264 , 0.00244996, 0.00175398, 0.00177166, 0.00192695,\n",
       "        0.00020264, 0.00169381, 0.00193351, 0.00177453, 0.0015729 ]),\n",
       " 'param_C': masked_array(data=[0.01, 0.009, 0.008, 0.007, 0.006, 0.005, 0.004, 0.003,\n",
       "                    0.002, 0.001],\n",
       "              mask=[False, False, False, False, False, False, False, False,\n",
       "                    False, False],\n",
       "        fill_value='?',\n",
       "             dtype=object),\n",
       " 'params': [{'C': 0.01},\n",
       "  {'C': 0.009},\n",
       "  {'C': 0.008},\n",
       "  {'C': 0.007},\n",
       "  {'C': 0.006},\n",
       "  {'C': 0.005},\n",
       "  {'C': 0.004},\n",
       "  {'C': 0.003},\n",
       "  {'C': 0.002},\n",
       "  {'C': 0.001}],\n",
       " 'split0_test_score': array([0.96 , 0.96 , 0.945, 0.945, 0.935, 0.935, 0.935, 0.91 , 0.855,\n",
       "        0.665]),\n",
       " 'split1_test_score': array([0.95 , 0.95 , 0.935, 0.925, 0.925, 0.925, 0.925, 0.905, 0.87 ,\n",
       "        0.715]),\n",
       " 'split2_test_score': array([0.965, 0.965, 0.965, 0.96 , 0.96 , 0.95 , 0.95 , 0.93 , 0.86 ,\n",
       "        0.65 ]),\n",
       " 'split3_test_score': array([0.965, 0.965, 0.965, 0.96 , 0.95 , 0.95 , 0.95 , 0.935, 0.875,\n",
       "        0.68 ]),\n",
       " 'split4_test_score': array([0.965, 0.965, 0.965, 0.965, 0.94 , 0.94 , 0.94 , 0.92 , 0.865,\n",
       "        0.685]),\n",
       " 'mean_test_score': array([0.961, 0.961, 0.955, 0.951, 0.942, 0.94 , 0.94 , 0.92 , 0.865,\n",
       "        0.679]),\n",
       " 'std_test_score': array([0.00583095, 0.00583095, 0.01264911, 0.01462874, 0.01208305,\n",
       "        0.00948683, 0.00948683, 0.01140175, 0.00707107, 0.02177154]),\n",
       " 'rank_test_score': array([ 1,  1,  3,  4,  5,  6,  6,  8,  9, 10])}"
      ]
     },
     "execution_count": 56,
     "metadata": {},
     "output_type": "execute_result"
    }
   ],
   "source": [
    "# Perform Grid search cross validation for a l2/l1 penalty term (Ridge/Lasso)\n",
    "\n",
    "clf = GridSearchCV(LogisticRegression(max_iter=10000, multi_class='multinomial', solver='saga', penalty='elasticnet', l1_ratio=0.4), {\n",
    "    'C': [0.01, 0.009, 0.008, 0.007, 0.006, 0.005, 0.004, 0.003, 0.002, 0.001]\n",
    "}, cv=5, return_train_score=False)\n",
    "\n",
    "clf.fit(X, y)\n",
    "clf.cv_results_"
   ]
  },
  {
   "cell_type": "markdown",
   "id": "628c701c",
   "metadata": {},
   "source": [
    "Looking at these results, we can see the optimal values for C is:\n",
    "* 0.009\n",
    "* 0.008\n",
    "* 0.007\n",
    "\n",
    "We have to investigate this further"
   ]
  },
  {
   "cell_type": "code",
   "execution_count": 34,
   "id": "cf2451c9",
   "metadata": {},
   "outputs": [
    {
     "name": "stdout",
     "output_type": "stream",
     "text": [
      "0.9466666666666667\n",
      "(3, 23)\n",
      "[[ 0.          0.          0.         -0.03884811 -0.10543717  0.\n",
      "  -0.06532919  0.          0.         -0.19982558  0.          0.\n",
      "   0.         -0.00803532 -0.15984798  0.         -0.14285029 -0.14511467\n",
      "  -0.18409586 -0.20841788 -0.03000844  0.         -0.04704617]\n",
      " [ 0.03033041  0.         -0.04998222  0.          0.03741722  0.\n",
      "   0.          0.          0.          0.         -0.07536918  0.\n",
      "   0.          0.          0.          0.          0.          0.15743853\n",
      "   0.          0.02855757  0.          0.          0.063633  ]\n",
      " [-0.00472851  0.          0.20485748  0.04736709  0.          0.\n",
      "   0.          0.          0.06214825  0.06763061  0.04365046  0.30605896\n",
      "   0.          0.27558469  0.25041187  0.          0.          0.\n",
      "   0.          0.          0.          0.06587676  0.        ]] ['Age' 'Gender' 'Air Pollution' 'Alcohol use' 'Dust Allergy'\n",
      " 'OccuPational Hazards' 'Genetic Risk' 'chronic Lung Disease'\n",
      " 'Balanced Diet' 'Obesity' 'Smoking' 'Passive Smoker' 'Chest Pain'\n",
      " 'Coughing of Blood' 'Fatigue' 'Weight Loss' 'Shortness of Breath'\n",
      " 'Wheezing' 'Swallowing Difficulty' 'Clubbing of Finger Nails'\n",
      " 'Frequent Cold' 'Dry Cough' 'Snoring']\n"
     ]
    },
    {
     "data": {
      "image/png": "[encoded data removed]",
      "text/plain": [
       "<Figure size 432x288 with 2 Axes>"
      ]
     },
     "metadata": {
      "needs_background": "light"
     },
     "output_type": "display_data"
    }
   ],
   "source": [
    "X_new_train, X_new_test, y_new_train, y_new_test = train_test_split(X, y, test_size=0.3, random_state=num)\n",
    "log = LogisticRegression(max_iter=10000 ,C=0.009, solver='saga' , penalty='elasticnet', multi_class='multinomial', l1_ratio=0.4)\n",
    "log.fit(X_new_train, y_new_train)\n",
    "\n",
    "y_pred = log.predict(X_new_test)\n",
    "\n",
    "print(log.score(X_new_test, y_new_test))\n",
    "print(log.coef_.shape)\n",
    "print(log.coef_, log.feature_names_in_)\n",
    "cmx = confusion_matrix(y_new_test, y_pred)\n",
    "ConfusionMatrixDisplay(cmx, display_labels=[0,1,2]).plot(cmap=plt.cm.Blues)\n",
    "plt.show()"
   ]
  },
  {
   "cell_type": "code",
   "execution_count": 35,
   "id": "45f1846b",
   "metadata": {},
   "outputs": [
    {
     "name": "stdout",
     "output_type": "stream",
     "text": [
      "0.9333333333333333\n",
      "(3, 23)\n",
      "[[ 0.          0.          0.         -0.04157323 -0.11423566  0.\n",
      "  -0.05569908  0.          0.         -0.18737395  0.          0.\n",
      "   0.         -0.00373984 -0.15018722  0.         -0.13950467 -0.1350739\n",
      "  -0.17226967 -0.19563554 -0.02580446  0.         -0.04393429]\n",
      " [ 0.02938189  0.         -0.03785076  0.          0.01506953  0.\n",
      "   0.          0.          0.          0.         -0.07235191  0.\n",
      "   0.          0.          0.          0.          0.          0.15225264\n",
      "   0.          0.02557131  0.          0.          0.04353317]\n",
      " [-0.0030715   0.          0.19450573  0.03967332  0.          0.\n",
      "   0.          0.          0.06044065  0.06825891  0.04751393  0.28677474\n",
      "   0.          0.26994932  0.23365977  0.          0.          0.\n",
      "   0.          0.          0.          0.05468284  0.        ]] ['Age' 'Gender' 'Air Pollution' 'Alcohol use' 'Dust Allergy'\n",
      " 'OccuPational Hazards' 'Genetic Risk' 'chronic Lung Disease'\n",
      " 'Balanced Diet' 'Obesity' 'Smoking' 'Passive Smoker' 'Chest Pain'\n",
      " 'Coughing of Blood' 'Fatigue' 'Weight Loss' 'Shortness of Breath'\n",
      " 'Wheezing' 'Swallowing Difficulty' 'Clubbing of Finger Nails'\n",
      " 'Frequent Cold' 'Dry Cough' 'Snoring']\n"
     ]
    },
    {
     "data": {
      "image/png": "[encoded data removed]",
      "text/plain": [
       "<Figure size 432x288 with 2 Axes>"
      ]
     },
     "metadata": {
      "needs_background": "light"
     },
     "output_type": "display_data"
    }
   ],
   "source": [
    "X_new_train, X_new_test, y_new_train, y_new_test = train_test_split(X, y, test_size=0.3, random_state=num)\n",
    "log = LogisticRegression(max_iter=10000 ,C=0.008, solver='saga' , penalty='elasticnet', multi_class='multinomial', l1_ratio=0.4)\n",
    "log.fit(X_new_train, y_new_train)\n",
    "\n",
    "y_pred = log.predict(X_new_test)\n",
    "\n",
    "print(log.score(X_new_test, y_new_test))\n",
    "print(log.coef_.shape)\n",
    "print(log.coef_, log.feature_names_in_)\n",
    "cmx = confusion_matrix(y_new_test, y_pred)\n",
    "ConfusionMatrixDisplay(cmx, display_labels=[0,1,2]).plot(cmap=plt.cm.Blues)\n",
    "plt.show()"
   ]
  },
  {
   "cell_type": "code",
   "execution_count": 36,
   "id": "0594bb81",
   "metadata": {},
   "outputs": [
    {
     "name": "stdout",
     "output_type": "stream",
     "text": [
      "0.9333333333333333\n",
      "(3, 23)\n",
      "[[ 0.          0.          0.         -0.04305102 -0.11929146  0.\n",
      "  -0.04385585  0.          0.         -0.17242676  0.          0.\n",
      "   0.          0.         -0.13864444  0.         -0.13525928 -0.12445397\n",
      "  -0.1582525  -0.18241517 -0.0213291   0.         -0.04006342]\n",
      " [ 0.02832443  0.         -0.02393745  0.          0.          0.\n",
      "   0.          0.          0.          0.         -0.06787847  0.\n",
      "   0.          0.          0.          0.          0.          0.14474897\n",
      "   0.          0.02085867  0.          0.          0.02132747]\n",
      " [-0.00090019  0.          0.18358295  0.03351634  0.          0.\n",
      "   0.          0.          0.05980305  0.07020173  0.0511065   0.26637422\n",
      "   0.          0.26506494  0.21506277  0.          0.          0.\n",
      "   0.          0.          0.          0.04202733  0.        ]] ['Age' 'Gender' 'Air Pollution' 'Alcohol use' 'Dust Allergy'\n",
      " 'OccuPational Hazards' 'Genetic Risk' 'chronic Lung Disease'\n",
      " 'Balanced Diet' 'Obesity' 'Smoking' 'Passive Smoker' 'Chest Pain'\n",
      " 'Coughing of Blood' 'Fatigue' 'Weight Loss' 'Shortness of Breath'\n",
      " 'Wheezing' 'Swallowing Difficulty' 'Clubbing of Finger Nails'\n",
      " 'Frequent Cold' 'Dry Cough' 'Snoring']\n"
     ]
    },
    {
     "data": {
      "image/png": "[encoded data removed]",
      "text/plain": [
       "<Figure size 432x288 with 2 Axes>"
      ]
     },
     "metadata": {
      "needs_background": "light"
     },
     "output_type": "display_data"
    }
   ],
   "source": [
    "X_new_train, X_new_test, y_new_train, y_new_test = train_test_split(X, y, test_size=0.3, random_state=num)\n",
    "log = LogisticRegression(max_iter=10000 ,C=0.007, solver='saga' , penalty='elasticnet', multi_class='multinomial', l1_ratio=0.4)\n",
    "log.fit(X_new_train, y_new_train)\n",
    "\n",
    "y_pred = log.predict(X_new_test)\n",
    "\n",
    "print(log.score(X_new_test, y_new_test))\n",
    "print(log.coef_.shape)\n",
    "print(log.coef_, log.feature_names_in_)\n",
    "cmx = confusion_matrix(y_new_test, y_pred)\n",
    "ConfusionMatrixDisplay(cmx, display_labels=[0,1,2]).plot(cmap=plt.cm.Blues)\n",
    "plt.show()"
   ]
  },
  {
   "cell_type": "markdown",
   "id": "beaad829",
   "metadata": {},
   "source": [
    "Using Cross validation"
   ]
  },
  {
   "cell_type": "code",
   "execution_count": 39,
   "id": "7ff62e3a",
   "metadata": {},
   "outputs": [
    {
     "name": "stdout",
     "output_type": "stream",
     "text": [
      "[0.96 0.96 0.94 0.96 0.97 0.96 0.95 0.98 0.96 0.97]\n",
      "[0.96 0.96 0.94 0.96 0.97 0.96 0.95 0.97 0.96 0.97]\n",
      "[0.94 0.96 0.94 0.96 0.97 0.96 0.95 0.97 0.96 0.97]\n"
     ]
    }
   ],
   "source": [
    "X = df.drop([\"Level_cat\", \"index\"], axis=1)\n",
    "y = df[\"Level_cat\"]\n",
    "# Obtaining the Cross validation scores\n",
    "cvs4 = cross_val_score(LogisticRegression(max_iter=10000 ,C=0.009, multi_class='multinomial', solver='saga', penalty='elasticnet', l1_ratio=0.4), X, y, cv=10)\n",
    "cvs3 = cross_val_score(LogisticRegression(max_iter=10000 ,C=0.008, multi_class='multinomial', solver='saga', penalty='elasticnet', l1_ratio=0.4), X, y, cv=10)\n",
    "cvs2 = cross_val_score(LogisticRegression(max_iter=10000 ,C=0.007, multi_class='multinomial', solver='saga', penalty='elasticnet', l1_ratio=0.4), X, y, cv=10)\n",
    "print(cvs4)\n",
    "print(cvs3)\n",
    "print(cvs2)"
   ]
  },
  {
   "cell_type": "code",
   "execution_count": 40,
   "id": "95907df1",
   "metadata": {},
   "outputs": [
    {
     "name": "stdout",
     "output_type": "stream",
     "text": [
      "0.9610000000000001\n",
      "0.96\n",
      "0.958\n"
     ]
    }
   ],
   "source": [
    "print(cvs4.mean())\n",
    "print(cvs3.mean())\n",
    "print(cvs2.mean())"
   ]
  },
  {
   "cell_type": "markdown",
   "id": "a7aaa52c",
   "metadata": {},
   "source": [
    "Looking at the trade off between these and the std_test_score, we can clearly see that a value of C=0.009 is the best in this case."
   ]
  },
  {
   "cell_type": "markdown",
   "id": "a5d4a657",
   "metadata": {},
   "source": [
    "# Comparing our models"
   ]
  },
  {
   "cell_type": "markdown",
   "id": "7df39f9b",
   "metadata": {},
   "source": [
    "After using cross validation to tune our hyperparamaters, we have now obtained 3 logistic regression models with:\n",
    "* l2 as the penalty and C = 0.005\n",
    "* l1 as the penalty and C = 0.009\n",
    "* elasticnet as the penalty, C = 0.009 and l1_ratio = 0.4"
   ]
  },
  {
   "cell_type": "code",
   "execution_count": 41,
   "id": "b1968bcc",
   "metadata": {},
   "outputs": [],
   "source": [
    "X = df.drop([\"Level_cat\", \"index\"], axis=1)\n",
    "y = df[\"Level_cat\"]\n",
    "\n",
    "cvs_ratio = cross_val_score(LogisticRegression(max_iter=10000 ,C=0.009, multi_class='multinomial', solver='saga', penalty='elasticnet', l1_ratio=0.4), X, y, cv=10)\n",
    "cvs_l2 = cross_val_score(LogisticRegression(max_iter=10000 ,C=0.005, multi_class='multinomial', solver='saga'), X, y, cv=10)\n",
    "cvs_l1 = cross_val_score(LogisticRegression(max_iter=10000 ,C=0.009, multi_class='multinomial', solver='saga', penalty='l1'), X, y, cv=10)"
   ]
  },
  {
   "cell_type": "code",
   "execution_count": 42,
   "id": "0d828d7c",
   "metadata": {},
   "outputs": [
    {
     "name": "stdout",
     "output_type": "stream",
     "text": [
      "[0.96 0.96 0.94 0.96 0.97 0.96 0.95 0.98 0.96 0.97]\n",
      "[0.96 0.96 0.94 0.96 0.97 0.96 0.95 0.98 0.96 0.97]\n",
      "[0.94 0.95 0.92 0.95 0.97 0.95 0.94 0.96 0.96 0.95]\n"
     ]
    }
   ],
   "source": [
    "print(cvs_ratio)\n",
    "print(cvs_l2)\n",
    "print(cvs_l1)"
   ]
  },
  {
   "cell_type": "code",
   "execution_count": 43,
   "id": "cb9333ed",
   "metadata": {},
   "outputs": [
    {
     "name": "stdout",
     "output_type": "stream",
     "text": [
      "0.9610000000000001\n",
      "0.9610000000000001\n",
      "0.9489999999999998\n"
     ]
    }
   ],
   "source": [
    "print(cvs_ratio.mean())\n",
    "print(cvs_l2.mean())\n",
    "print(cvs_l1.mean())"
   ]
  },
  {
   "cell_type": "markdown",
   "id": "59a349df",
   "metadata": {},
   "source": [
    "Using a CV of K = 10, we can see that the l2 penalty logistic regression and the elaticnet logistic regression performs the best."
   ]
  },
  {
   "cell_type": "code",
   "execution_count": 44,
   "id": "1223eabb",
   "metadata": {},
   "outputs": [],
   "source": [
    "X = df.drop([\"Level_cat\", \"index\"], axis=1)\n",
    "y = df[\"Level_cat\"]\n",
    "\n",
    "cvs_ratio = cross_val_score(LogisticRegression(max_iter=10000 ,C=0.009, multi_class='multinomial', solver='saga', penalty='elasticnet', l1_ratio=0.4), X, y, cv=5)\n",
    "cvs_l2 = cross_val_score(LogisticRegression(max_iter=10000 ,C=0.005, multi_class='multinomial', solver='saga'), X, y, cv=5)\n",
    "cvs_l1 = cross_val_score(LogisticRegression(max_iter=10000 ,C=0.009, multi_class='multinomial', solver='saga', penalty='l1'), X, y, cv=5)"
   ]
  },
  {
   "cell_type": "code",
   "execution_count": 45,
   "id": "4968edd6",
   "metadata": {},
   "outputs": [
    {
     "name": "stdout",
     "output_type": "stream",
     "text": [
      "[0.96  0.95  0.965 0.965 0.965]\n",
      "[0.96  0.95  0.965 0.965 0.96 ]\n",
      "[0.945 0.935 0.96  0.955 0.95 ]\n"
     ]
    }
   ],
   "source": [
    "print(cvs_ratio)\n",
    "print(cvs_l2)\n",
    "print(cvs_l1)"
   ]
  },
  {
   "cell_type": "code",
   "execution_count": 46,
   "id": "6dd2b87a",
   "metadata": {},
   "outputs": [
    {
     "name": "stdout",
     "output_type": "stream",
     "text": [
      "0.961\n",
      "0.96\n",
      "0.9490000000000001\n"
     ]
    }
   ],
   "source": [
    "print(cvs_ratio.mean())\n",
    "print(cvs_l2.mean())\n",
    "print(cvs_l1.mean())"
   ]
  },
  {
   "cell_type": "markdown",
   "id": "96cb1428",
   "metadata": {},
   "source": [
    "Again using a CV of K = 5, we have larger test sets and it still comes out that the l2 penalty logistic regression and the elaticnet logistic regression model perform the best, but the elasticnet logistic regression model just about performs the best"
   ]
  },
  {
   "cell_type": "code",
   "execution_count": 53,
   "id": "0c139d49",
   "metadata": {},
   "outputs": [],
   "source": [
    "X = df.drop([\"Level_cat\", \"index\"], axis=1)\n",
    "y = df[\"Level_cat\"]\n",
    "\n",
    "cvs_ratio = cross_val_score(LogisticRegression(max_iter=10000 ,C=0.009, multi_class='multinomial', solver='saga', penalty='elasticnet', l1_ratio=0.4), X, y, cv=2)\n",
    "cvs_l2 = cross_val_score(LogisticRegression(max_iter=10000 ,C=0.005, multi_class='multinomial', solver='saga'), X, y, cv=2)\n",
    "cvs_l1 = cross_val_score(LogisticRegression(max_iter=10000 ,C=0.009, multi_class='multinomial', solver='saga', penalty='l1'), X, y, cv=2)"
   ]
  },
  {
   "cell_type": "code",
   "execution_count": 54,
   "id": "5ab6405d",
   "metadata": {},
   "outputs": [
    {
     "name": "stdout",
     "output_type": "stream",
     "text": [
      "[0.936 0.944]\n",
      "[0.948 0.952]\n",
      "[0.894 0.922]\n"
     ]
    }
   ],
   "source": [
    "print(cvs_ratio)\n",
    "print(cvs_l2)\n",
    "print(cvs_l1)"
   ]
  },
  {
   "cell_type": "code",
   "execution_count": 55,
   "id": "42386527",
   "metadata": {},
   "outputs": [
    {
     "name": "stdout",
     "output_type": "stream",
     "text": [
      "0.94\n",
      "0.95\n",
      "0.908\n"
     ]
    }
   ],
   "source": [
    "print(cvs_ratio.mean())\n",
    "print(cvs_l2.mean())\n",
    "print(cvs_l1.mean())"
   ]
  },
  {
   "cell_type": "markdown",
   "id": "5c2b1fec",
   "metadata": {},
   "source": [
    "Using a CV of K = 2, effectively using an even larger test set, we can see that the l2 penalty logistic regression performs the best."
   ]
  },
  {
   "cell_type": "code",
   "execution_count": 107,
   "id": "04cec7f4",
   "metadata": {},
   "outputs": [],
   "source": [
    "X = df.drop([\"Level_cat\", \"index\"], axis=1)\n",
    "y = df[\"Level_cat\"]\n",
    "\n",
    "cvs_ratio = cross_val_score(LogisticRegression(max_iter=10000 ,C=0.009, multi_class='multinomial', solver='saga', penalty='elasticnet', l1_ratio=0.4), X, y, cv=20)\n",
    "cvs_l2 = cross_val_score(LogisticRegression(max_iter=10000 ,C=0.005, multi_class='multinomial', solver='saga'), X, y, cv=20)\n",
    "cvs_l1 = cross_val_score(LogisticRegression(max_iter=10000 ,C=0.009, multi_class='multinomial', solver='saga', penalty='l1'), X, y, cv=20)"
   ]
  },
  {
   "cell_type": "code",
   "execution_count": 108,
   "id": "7c68832c",
   "metadata": {},
   "outputs": [
    {
     "name": "stdout",
     "output_type": "stream",
     "text": [
      "[0.92 1.   0.92 1.   0.9  0.98 0.94 0.98 0.94 1.   0.96 0.96 0.98 0.92\n",
      " 0.98 0.94 0.98 0.94 0.96 1.  ]\n",
      "[0.92 1.   0.92 1.   0.9  0.98 0.94 0.98 0.94 1.   0.96 0.96 0.98 0.92\n",
      " 0.98 0.94 0.98 0.94 0.96 1.  ]\n",
      "[0.88 1.   0.9  1.   0.86 0.98 0.94 0.96 0.96 1.   0.94 0.96 0.96 0.92\n",
      " 0.96 0.96 0.94 0.96 0.94 0.98]\n"
     ]
    }
   ],
   "source": [
    "print(cvs_ratio)\n",
    "print(cvs_l2)\n",
    "print(cvs_l1)"
   ]
  },
  {
   "cell_type": "code",
   "execution_count": 109,
   "id": "0037b693",
   "metadata": {},
   "outputs": [
    {
     "name": "stdout",
     "output_type": "stream",
     "text": [
      "0.96\n",
      "0.96\n",
      "0.9500000000000002\n"
     ]
    }
   ],
   "source": [
    "print(cvs_ratio.mean())\n",
    "print(cvs_l2.mean())\n",
    "print(cvs_l1.mean())"
   ]
  },
  {
   "cell_type": "markdown",
   "id": "74e94bd3",
   "metadata": {},
   "source": [
    "For a CV of K = 20, we can see that elasticnet and l2 perform the best again."
   ]
  },
  {
   "cell_type": "markdown",
   "id": "60c2dcb3",
   "metadata": {},
   "source": [
    "Taking all of this into consideration, we can choose between the elasticnet logistic regression model and the l2 logistic regression model, and since l2 uses both Lasso and Ridge regression penalties, the elasticnet reduces some of the coefficients to 0, meaning that variables that has little to no effect on the prediction will be completely ignored instead of the l2 penalty model, that always considers every variable."
   ]
  },
  {
   "cell_type": "code",
   "execution_count": 110,
   "id": "593be954",
   "metadata": {},
   "outputs": [],
   "source": [
    "X = df.drop([\"Level_cat\", \"index\"], axis=1)\n",
    "y = df[\"Level_cat\"]\n",
    "\n",
    "cvs_ratio = cross_val_score(LogisticRegression(max_iter=10000 ,C=0.009, multi_class='multinomial', solver='saga', penalty='elasticnet', l1_ratio=0.4), X, y, cv=50)\n",
    "cvs_l2 = cross_val_score(LogisticRegression(max_iter=10000 ,C=0.005, multi_class='multinomial', solver='saga'), X, y, cv=50)\n",
    "cvs_l1 = cross_val_score(LogisticRegression(max_iter=10000 ,C=0.009, multi_class='multinomial', solver='saga', penalty='l1'), X, y, cv=50)"
   ]
  },
  {
   "cell_type": "code",
   "execution_count": 111,
   "id": "39d0c49a",
   "metadata": {},
   "outputs": [
    {
     "name": "stdout",
     "output_type": "stream",
     "text": [
      "[0.85 0.95 1.   1.   1.   0.95 0.85 1.   1.   1.   0.95 0.8  0.95 1.\n",
      " 1.   0.95 0.9  1.   1.   0.95 0.9  0.95 1.   1.   1.   0.95 0.9  0.95\n",
      " 1.   1.   0.95 1.   0.9  0.9  1.   0.95 1.   1.   0.9  0.95 0.95 1.\n",
      " 1.   1.   0.8  0.95 1.   1.   1.   1.  ]\n",
      "[0.85 0.95 1.   1.   1.   0.95 0.85 1.   1.   1.   0.95 0.8  0.95 1.\n",
      " 1.   0.95 0.9  1.   1.   0.95 0.9  0.95 1.   1.   1.   0.95 0.9  0.95\n",
      " 1.   1.   0.95 1.   0.9  0.9  1.   0.95 1.   1.   0.9  0.95 0.95 1.\n",
      " 1.   1.   0.8  0.95 1.   1.   1.   1.  ]\n",
      "[0.9  0.85 0.95 1.   1.   0.9  0.85 1.   1.   1.   0.9  0.8  0.9  1.\n",
      " 1.   0.95 0.9  1.   0.95 0.95 0.9  1.   1.   1.   1.   0.9  0.9  0.95\n",
      " 1.   1.   0.9  1.   0.9  0.9  1.   0.9  1.   1.   0.9  0.95 0.9  1.\n",
      " 1.   1.   0.9  0.85 1.   1.   1.   0.95]\n"
     ]
    }
   ],
   "source": [
    "print(cvs_ratio)\n",
    "print(cvs_l2)\n",
    "print(cvs_l1)"
   ]
  },
  {
   "cell_type": "code",
   "execution_count": 113,
   "id": "7b0638a9",
   "metadata": {},
   "outputs": [
    {
     "name": "stdout",
     "output_type": "stream",
     "text": [
      "0.96\n",
      "0.96\n",
      "0.95\n"
     ]
    }
   ],
   "source": [
    "print(cvs_ratio.mean())\n",
    "print(cvs_l2.mean())\n",
    "print(cvs_l1.mean())"
   ]
  },
  {
   "cell_type": "markdown",
   "id": "312b0b0d",
   "metadata": {},
   "source": [
    "Lastly we will look at the results when each model is fitted with most of the data."
   ]
  },
  {
   "cell_type": "markdown",
   "id": "594c0b68",
   "metadata": {},
   "source": [
    "We will take a closer look at the confusion matrix entries for 20 random samples."
   ]
  },
  {
   "cell_type": "code",
   "execution_count": 148,
   "id": "3225cce0",
   "metadata": {},
   "outputs": [],
   "source": [
    "TR = []\n",
    "BL = []\n",
    "scores = []\n",
    "for i in range(0, 20):\n",
    "    X_new_train, X_new_test, y_new_train, y_new_test = train_test_split(X, y, test_size=0.1, random_state=i)\n",
    "    log = LogisticRegression(max_iter=10000 ,C=0.005, multi_class='multinomial', solver='saga')\n",
    "    log.fit(X_new_train, y_new_train)\n",
    "\n",
    "    y_pred = log.predict(X_new_test)\n",
    "\n",
    "    cmx = confusion_matrix(y_new_test, y_pred)\n",
    "    TR.append(cmx[0,2])\n",
    "    scores.append(log.score(X_new_test, y_new_test))\n",
    "    BL.append(cmx[2,0])"
   ]
  },
  {
   "cell_type": "code",
   "execution_count": 150,
   "id": "b00182c9",
   "metadata": {},
   "outputs": [
    {
     "name": "stdout",
     "output_type": "stream",
     "text": [
      "[0, 0, 0, 0, 0, 0, 0, 0, 0, 0, 0, 0, 0, 0, 0, 0, 0, 0, 0, 0]\n",
      "[0, 0, 0, 0, 0, 0, 0, 0, 0, 0, 0, 0, 0, 0, 0, 0, 0, 0, 0, 0]\n",
      "[0.96, 0.96, 0.95, 0.98, 1.0, 0.97, 0.95, 0.96, 0.97, 0.98, 0.98, 0.98, 0.98, 0.91, 0.94, 0.97, 0.98, 0.95, 1.0, 0.96]\n"
     ]
    }
   ],
   "source": [
    "print(TR)\n",
    "print(BL)\n",
    "print(scores)"
   ]
  },
  {
   "cell_type": "code",
   "execution_count": 153,
   "id": "48190eea",
   "metadata": {},
   "outputs": [
    {
     "name": "stdout",
     "output_type": "stream",
     "text": [
      "0.0\n",
      "0.0\n",
      "0.9664999999999999\n"
     ]
    }
   ],
   "source": [
    "TR = np.asarray(TR)\n",
    "BL = np.asarray(BL)\n",
    "scores = np.asarray(scores)\n",
    "print(TR.mean())\n",
    "print(BL.mean())\n",
    "print(scores.mean())"
   ]
  },
  {
   "cell_type": "markdown",
   "id": "0ad1da49",
   "metadata": {},
   "source": [
    "This is very good from our Ridge regression model, as there are no cases where we predict a person to have a low chance of lung cancer, when the person actually has a high chance and there are no cases where we predict a person to have a high chance of lung cancer, when the person has a low chance. It also has an average score of 0.9665"
   ]
  },
  {
   "cell_type": "code",
   "execution_count": 154,
   "id": "b0e59582",
   "metadata": {},
   "outputs": [],
   "source": [
    "TR = []\n",
    "BL = []\n",
    "scores = []\n",
    "for i in range(0, 20):\n",
    "    X_new_train, X_new_test, y_new_train, y_new_test = train_test_split(X, y, test_size=0.1, random_state=i)\n",
    "    log = LogisticRegression(max_iter=10000 ,C=0.009, solver='saga' , penalty='elasticnet', multi_class='multinomial', l1_ratio=0.4)\n",
    "    log.fit(X_new_train, y_new_train)\n",
    "\n",
    "    y_pred = log.predict(X_new_test)\n",
    "\n",
    "    cmx = confusion_matrix(y_new_test, y_pred)\n",
    "    TR.append(cmx[0,2])\n",
    "    scores.append(log.score(X_new_test, y_new_test))\n",
    "    BL.append(cmx[2,0])"
   ]
  },
  {
   "cell_type": "code",
   "execution_count": 155,
   "id": "5d64667d",
   "metadata": {},
   "outputs": [
    {
     "name": "stdout",
     "output_type": "stream",
     "text": [
      "[0, 0, 0, 0, 0, 0, 0, 0, 0, 0, 0, 0, 0, 0, 0, 0, 0, 0, 3, 0]\n",
      "[0, 0, 0, 0, 0, 0, 0, 0, 0, 0, 0, 0, 0, 0, 0, 0, 0, 0, 0, 0]\n",
      "[0.96, 0.93, 0.95, 0.98, 0.99, 0.97, 0.96, 0.96, 0.97, 0.98, 0.98, 0.98, 0.98, 0.91, 0.94, 0.97, 0.98, 0.95, 0.97, 0.96]\n"
     ]
    }
   ],
   "source": [
    "print(TR)\n",
    "print(BL)\n",
    "print(scores)"
   ]
  },
  {
   "cell_type": "code",
   "execution_count": 156,
   "id": "a240f86f",
   "metadata": {},
   "outputs": [
    {
     "name": "stdout",
     "output_type": "stream",
     "text": [
      "0.15\n",
      "0.0\n",
      "0.9635\n"
     ]
    }
   ],
   "source": [
    "TR = np.asarray(TR)\n",
    "BL = np.asarray(BL)\n",
    "scores = np.asarray(scores)\n",
    "print(TR.mean())\n",
    "print(BL.mean())\n",
    "print(scores.mean())"
   ]
  },
  {
   "cell_type": "markdown",
   "id": "fec0e2d1",
   "metadata": {},
   "source": [
    "The Elasticnet regression model performs very well. Out of 20 random samples, it never predicted a person to have a low chance of lung cancer, when the person had a high chance. It did however predict on one occasion that 3 people had a high chance of having lung cancer when the person had a low chance. It also had an average score of 0.9635 "
   ]
  },
  {
   "cell_type": "code",
   "execution_count": 157,
   "id": "82729825",
   "metadata": {},
   "outputs": [],
   "source": [
    "TR = []\n",
    "BL = []\n",
    "scores = []\n",
    "for i in range(0, 20):\n",
    "    X_new_train, X_new_test, y_new_train, y_new_test = train_test_split(X, y, test_size=0.1, random_state=i)\n",
    "    log = LogisticRegression(max_iter=2000 ,C=0.009, solver='saga' , penalty='l1', multi_class='multinomial')\n",
    "    log.fit(X_new_train, y_new_train)\n",
    "\n",
    "    y_pred = log.predict(X_new_test)\n",
    "\n",
    "    cmx = confusion_matrix(y_new_test, y_pred)\n",
    "    TR.append(cmx[0,2])\n",
    "    scores.append(log.score(X_new_test, y_new_test))\n",
    "    BL.append(cmx[2,0])"
   ]
  },
  {
   "cell_type": "code",
   "execution_count": 158,
   "id": "de5abb93",
   "metadata": {},
   "outputs": [
    {
     "name": "stdout",
     "output_type": "stream",
     "text": [
      "[1, 2, 2, 0, 1, 2, 2, 0, 1, 1, 1, 1, 1, 0, 1, 0, 0, 0, 3, 1]\n",
      "[0, 0, 0, 0, 0, 0, 0, 0, 0, 0, 0, 0, 0, 0, 0, 0, 0, 0, 0, 0]\n",
      "[0.94, 0.9, 0.94, 0.97, 0.96, 0.95, 0.94, 0.96, 0.94, 0.97, 0.97, 0.96, 0.97, 0.91, 0.92, 0.96, 0.98, 0.94, 0.97, 0.97]\n"
     ]
    }
   ],
   "source": [
    "print(TR)\n",
    "print(BL)\n",
    "print(scores)"
   ]
  },
  {
   "cell_type": "code",
   "execution_count": 159,
   "id": "b6ccb1fe",
   "metadata": {},
   "outputs": [
    {
     "name": "stdout",
     "output_type": "stream",
     "text": [
      "1.0\n",
      "0.0\n",
      "0.951\n"
     ]
    }
   ],
   "source": [
    "TR = np.asarray(TR)\n",
    "BL = np.asarray(BL)\n",
    "scores = np.asarray(scores)\n",
    "print(TR.mean())\n",
    "print(BL.mean())\n",
    "print(scores.mean())"
   ]
  },
  {
   "cell_type": "markdown",
   "id": "6ce2151d",
   "metadata": {},
   "source": [
    "The Lasso regression model will on average predict one person to have a high chance of lung cancer when the person actually has a low chance. This is really not good and considering all of the previous investigation we have done, it is quite clear that the Lasso regression model is not the best model to use. It's average score was also the lowest at 0.951"
   ]
  },
  {
   "cell_type": "code",
   "execution_count": 160,
   "id": "ffcf3713",
   "metadata": {},
   "outputs": [],
   "source": [
    "TR = []\n",
    "BL = []\n",
    "scores = []\n",
    "for i in range(0, 50):\n",
    "    X_new_train, X_new_test, y_new_train, y_new_test = train_test_split(X, y, test_size=0.1, random_state=i)\n",
    "    log = LogisticRegression(max_iter=10000 ,C=0.005, multi_class='multinomial', solver='saga')\n",
    "    log.fit(X_new_train, y_new_train)\n",
    "\n",
    "    y_pred = log.predict(X_new_test)\n",
    "\n",
    "    cmx = confusion_matrix(y_new_test, y_pred)\n",
    "    TR.append(cmx[0,2])\n",
    "    scores.append(log.score(X_new_test, y_new_test))\n",
    "    BL.append(cmx[2,0])"
   ]
  },
  {
   "cell_type": "code",
   "execution_count": 161,
   "id": "b4874ed5",
   "metadata": {},
   "outputs": [
    {
     "name": "stdout",
     "output_type": "stream",
     "text": [
      "[0, 0, 0, 0, 0, 0, 0, 0, 0, 0, 0, 0, 0, 0, 0, 0, 0, 0, 0, 0, 0, 0, 0, 0, 0, 0, 0, 0, 0, 0, 0, 0, 0, 0, 0, 0, 0, 0, 0, 0, 0, 0, 0, 0, 0, 0, 0, 0, 0, 0]\n",
      "[0, 0, 0, 0, 0, 0, 0, 0, 0, 0, 0, 0, 0, 0, 0, 0, 0, 0, 0, 0, 0, 0, 0, 0, 0, 0, 0, 0, 0, 0, 0, 0, 0, 0, 0, 0, 0, 0, 0, 0, 0, 0, 0, 0, 0, 0, 0, 0, 0, 0]\n",
      "[0.96, 0.96, 0.95, 0.98, 1.0, 0.97, 0.95, 0.96, 0.97, 0.98, 0.98, 0.98, 0.98, 0.91, 0.94, 0.97, 0.98, 0.95, 1.0, 0.96, 0.98, 0.92, 0.96, 0.98, 0.98, 0.95, 0.99, 0.95, 0.98, 0.97, 0.97, 0.95, 0.93, 0.94, 0.95, 0.95, 0.93, 0.97, 0.94, 0.99, 0.95, 0.97, 0.95, 0.94, 0.96, 0.95, 0.94, 0.95, 0.98, 0.96]\n"
     ]
    }
   ],
   "source": [
    "print(TR)\n",
    "print(BL)\n",
    "print(scores)"
   ]
  },
  {
   "cell_type": "code",
   "execution_count": 162,
   "id": "1705d773",
   "metadata": {},
   "outputs": [
    {
     "name": "stdout",
     "output_type": "stream",
     "text": [
      "0.0\n",
      "0.0\n",
      "0.9612\n"
     ]
    }
   ],
   "source": [
    "TR = np.asarray(TR)\n",
    "BL = np.asarray(BL)\n",
    "scores = np.asarray(scores)\n",
    "print(TR.mean())\n",
    "print(BL.mean())\n",
    "print(scores.mean())"
   ]
  },
  {
   "cell_type": "markdown",
   "id": "86461a27",
   "metadata": {},
   "source": [
    "When we use 50 random samples, we can see that Ridge regression performs very good again. Getting 0 and 0 again on the confusion matrix. We also get an average score of 0.9612"
   ]
  },
  {
   "cell_type": "code",
   "execution_count": 166,
   "id": "015a39c9",
   "metadata": {},
   "outputs": [],
   "source": [
    "TR = []\n",
    "BL = []\n",
    "scores = []\n",
    "for i in range(0, 50):\n",
    "    X_new_train, X_new_test, y_new_train, y_new_test = train_test_split(X, y, test_size=0.1, random_state=i)\n",
    "    log = LogisticRegression(max_iter=10000 ,C=0.009, solver='saga' , penalty='elasticnet', multi_class='multinomial', l1_ratio=0.4)\n",
    "    log.fit(X_new_train, y_new_train)\n",
    "\n",
    "    y_pred = log.predict(X_new_test)\n",
    "\n",
    "    cmx = confusion_matrix(y_new_test, y_pred)\n",
    "    TR.append(cmx[0,2])\n",
    "    scores.append(log.score(X_new_test, y_new_test))\n",
    "    BL.append(cmx[2,0])"
   ]
  },
  {
   "cell_type": "code",
   "execution_count": 167,
   "id": "5a9a91d6",
   "metadata": {},
   "outputs": [
    {
     "name": "stdout",
     "output_type": "stream",
     "text": [
      "[0, 0, 0, 0, 0, 0, 0, 0, 0, 0, 0, 0, 0, 0, 0, 0, 0, 0, 3, 0, 0, 0, 0, 0, 0, 0, 0, 0, 0, 0, 0, 0, 0, 0, 0, 0, 0, 0, 0, 0, 0, 0, 0, 0, 0, 0, 0, 0, 0, 0]\n",
      "[0, 0, 0, 0, 0, 0, 0, 0, 0, 0, 0, 0, 0, 0, 0, 0, 0, 0, 0, 0, 0, 0, 0, 0, 0, 0, 0, 0, 0, 0, 0, 0, 0, 0, 0, 0, 0, 0, 0, 0, 0, 0, 0, 0, 0, 0, 0, 0, 0, 0]\n",
      "[0.96, 0.93, 0.95, 0.98, 0.99, 0.97, 0.96, 0.96, 0.97, 0.98, 0.98, 0.98, 0.98, 0.91, 0.94, 0.97, 0.98, 0.95, 0.97, 0.96, 0.98, 0.92, 0.96, 0.98, 0.98, 0.96, 0.99, 0.95, 0.98, 0.97, 0.97, 0.95, 0.94, 0.94, 0.95, 0.95, 0.93, 0.97, 0.95, 0.98, 0.95, 0.97, 0.95, 0.95, 0.96, 0.95, 0.94, 0.95, 0.98, 0.96]\n"
     ]
    }
   ],
   "source": [
    "print(TR)\n",
    "print(BL)\n",
    "print(scores)"
   ]
  },
  {
   "cell_type": "code",
   "execution_count": 168,
   "id": "58fa9ae8",
   "metadata": {},
   "outputs": [
    {
     "name": "stdout",
     "output_type": "stream",
     "text": [
      "0.06\n",
      "0.0\n",
      "0.9606\n"
     ]
    }
   ],
   "source": [
    "TR = np.asarray(TR)\n",
    "BL = np.asarray(BL)\n",
    "scores = np.asarray(scores)\n",
    "print(TR.mean())\n",
    "print(BL.mean())\n",
    "print(scores.mean())"
   ]
  },
  {
   "cell_type": "markdown",
   "id": "f2ee2e48",
   "metadata": {},
   "source": [
    "When we use 50 random samples, we can see that our Elastic regression model only predicts one top right wrong again and gets an average score of 0.9606"
   ]
  },
  {
   "cell_type": "markdown",
   "id": "aae3f34e",
   "metadata": {},
   "source": [
    "Here we can see that the Ridge regression performs the best. The last step we will use, that doesn't matter all tha much is to build our models based on the current approach."
   ]
  },
  {
   "cell_type": "code",
   "execution_count": 9,
   "id": "be740dbd",
   "metadata": {},
   "outputs": [],
   "source": [
    "X_train,X_test,y_train,y_test=train_test_split(X,y,test_size=0.30,random_state=1)"
   ]
  },
  {
   "cell_type": "code",
   "execution_count": 171,
   "id": "2bce526b",
   "metadata": {},
   "outputs": [
    {
     "data": {
      "text/html": [
       "<style>#sk-container-id-3 {color: black;}#sk-container-id-3 pre{padding: 0;}#sk-container-id-3 div.sk-toggleable {background-color: white;}#sk-container-id-3 label.sk-toggleable__label {cursor: pointer;display: block;width: 100%;margin-bottom: 0;padding: 0.3em;box-sizing: border-box;text-align: center;}#sk-container-id-3 label.sk-toggleable__label-arrow:before {content: \"▸\";float: left;margin-right: 0.25em;color: #696969;}#sk-container-id-3 label.sk-toggleable__label-arrow:hover:before {color: black;}#sk-container-id-3 div.sk-estimator:hover label.sk-toggleable__label-arrow:before {color: black;}#sk-container-id-3 div.sk-toggleable__content {max-height: 0;max-width: 0;overflow: hidden;text-align: left;background-color: #f0f8ff;}#sk-container-id-3 div.sk-toggleable__content pre {margin: 0.2em;color: black;border-radius: 0.25em;background-color: #f0f8ff;}#sk-container-id-3 input.sk-toggleable__control:checked~div.sk-toggleable__content {max-height: 200px;max-width: 100%;overflow: auto;}#sk-container-id-3 input.sk-toggleable__control:checked~label.sk-toggleable__label-arrow:before {content: \"▾\";}#sk-container-id-3 div.sk-estimator input.sk-toggleable__control:checked~label.sk-toggleable__label {background-color: #d4ebff;}#sk-container-id-3 div.sk-label input.sk-toggleable__control:checked~label.sk-toggleable__label {background-color: #d4ebff;}#sk-container-id-3 input.sk-hidden--visually {border: 0;clip: rect(1px 1px 1px 1px);clip: rect(1px, 1px, 1px, 1px);height: 1px;margin: -1px;overflow: hidden;padding: 0;position: absolute;width: 1px;}#sk-container-id-3 div.sk-estimator {font-family: monospace;background-color: #f0f8ff;border: 1px dotted black;border-radius: 0.25em;box-sizing: border-box;margin-bottom: 0.5em;}#sk-container-id-3 div.sk-estimator:hover {background-color: #d4ebff;}#sk-container-id-3 div.sk-parallel-item::after {content: \"\";width: 100%;border-bottom: 1px solid gray;flex-grow: 1;}#sk-container-id-3 div.sk-label:hover label.sk-toggleable__label {background-color: #d4ebff;}#sk-container-id-3 div.sk-serial::before {content: \"\";position: absolute;border-left: 1px solid gray;box-sizing: border-box;top: 0;bottom: 0;left: 50%;z-index: 0;}#sk-container-id-3 div.sk-serial {display: flex;flex-direction: column;align-items: center;background-color: white;padding-right: 0.2em;padding-left: 0.2em;position: relative;}#sk-container-id-3 div.sk-item {position: relative;z-index: 1;}#sk-container-id-3 div.sk-parallel {display: flex;align-items: stretch;justify-content: center;background-color: white;position: relative;}#sk-container-id-3 div.sk-item::before, #sk-container-id-3 div.sk-parallel-item::before {content: \"\";position: absolute;border-left: 1px solid gray;box-sizing: border-box;top: 0;bottom: 0;left: 50%;z-index: -1;}#sk-container-id-3 div.sk-parallel-item {display: flex;flex-direction: column;z-index: 1;position: relative;background-color: white;}#sk-container-id-3 div.sk-parallel-item:first-child::after {align-self: flex-end;width: 50%;}#sk-container-id-3 div.sk-parallel-item:last-child::after {align-self: flex-start;width: 50%;}#sk-container-id-3 div.sk-parallel-item:only-child::after {width: 0;}#sk-container-id-3 div.sk-dashed-wrapped {border: 1px dashed gray;margin: 0 0.4em 0.5em 0.4em;box-sizing: border-box;padding-bottom: 0.4em;background-color: white;}#sk-container-id-3 div.sk-label label {font-family: monospace;font-weight: bold;display: inline-block;line-height: 1.2em;}#sk-container-id-3 div.sk-label-container {text-align: center;}#sk-container-id-3 div.sk-container {/* jupyter's `normalize.less` sets `[hidden] { display: none; }` but bootstrap.min.css set `[hidden] { display: none !important; }` so we also need the `!important` here to be able to override the default hidden behavior on the sphinx rendered scikit-learn.org. See: https://github.com/scikit-learn/scikit-learn/issues/21755 */display: inline-block !important;position: relative;}#sk-container-id-3 div.sk-text-repr-fallback {display: none;}</style><div id=\"sk-container-id-3\" class=\"sk-top-container\"><div class=\"sk-text-repr-fallback\"><pre>LogisticRegression(C=0.005, max_iter=10000, multi_class=&#x27;multinomial&#x27;,\n",
       "                   solver=&#x27;saga&#x27;)</pre><b>In a Jupyter environment, please rerun this cell to show the HTML representation or trust the notebook. <br />On GitHub, the HTML representation is unable to render, please try loading this page with nbviewer.org.</b></div><div class=\"sk-container\" hidden><div class=\"sk-item\"><div class=\"sk-estimator sk-toggleable\"><input class=\"sk-toggleable__control sk-hidden--visually\" id=\"sk-estimator-id-3\" type=\"checkbox\" checked><label for=\"sk-estimator-id-3\" class=\"sk-toggleable__label sk-toggleable__label-arrow\">LogisticRegression</label><div class=\"sk-toggleable__content\"><pre>LogisticRegression(C=0.005, max_iter=10000, multi_class=&#x27;multinomial&#x27;,\n",
       "                   solver=&#x27;saga&#x27;)</pre></div></div></div></div></div>"
      ],
      "text/plain": [
       "LogisticRegression(C=0.005, max_iter=10000, multi_class='multinomial',\n",
       "                   solver='saga')"
      ]
     },
     "execution_count": 171,
     "metadata": {},
     "output_type": "execute_result"
    }
   ],
   "source": [
    "log = LogisticRegression(max_iter=10000 ,C=0.005, multi_class='multinomial', solver='saga')\n",
    "log.fit(X_train, y_train)"
   ]
  },
  {
   "cell_type": "code",
   "execution_count": 176,
   "id": "09bb3350",
   "metadata": {},
   "outputs": [
    {
     "name": "stdout",
     "output_type": "stream",
     "text": [
      "0.9533333333333334\n"
     ]
    },
    {
     "data": {
      "image/png": "[encoded data removed]",
      "text/plain": [
       "<Figure size 432x288 with 2 Axes>"
      ]
     },
     "metadata": {
      "needs_background": "light"
     },
     "output_type": "display_data"
    }
   ],
   "source": [
    "y_pred = log.predict(X_test)\n",
    "print(log.score(X_test, y_test))\n",
    "cmx = confusion_matrix(y_test, y_pred)\n",
    "ConfusionMatrixDisplay(cmx, display_labels=[0,1,2]).plot(cmap=plt.cm.Blues)\n",
    "plt.show()"
   ]
  },
  {
   "cell_type": "markdown",
   "id": "e4c8562a",
   "metadata": {},
   "source": [
    "Current approach score: 0.9033333333333333\n",
    "\n",
    "Improved approach score: 0.9533333333333334"
   ]
  },
  {
   "cell_type": "code",
   "execution_count": 177,
   "id": "630066ea",
   "metadata": {},
   "outputs": [
    {
     "data": {
      "text/html": [
       "<style>#sk-container-id-4 {color: black;}#sk-container-id-4 pre{padding: 0;}#sk-container-id-4 div.sk-toggleable {background-color: white;}#sk-container-id-4 label.sk-toggleable__label {cursor: pointer;display: block;width: 100%;margin-bottom: 0;padding: 0.3em;box-sizing: border-box;text-align: center;}#sk-container-id-4 label.sk-toggleable__label-arrow:before {content: \"▸\";float: left;margin-right: 0.25em;color: #696969;}#sk-container-id-4 label.sk-toggleable__label-arrow:hover:before {color: black;}#sk-container-id-4 div.sk-estimator:hover label.sk-toggleable__label-arrow:before {color: black;}#sk-container-id-4 div.sk-toggleable__content {max-height: 0;max-width: 0;overflow: hidden;text-align: left;background-color: #f0f8ff;}#sk-container-id-4 div.sk-toggleable__content pre {margin: 0.2em;color: black;border-radius: 0.25em;background-color: #f0f8ff;}#sk-container-id-4 input.sk-toggleable__control:checked~div.sk-toggleable__content {max-height: 200px;max-width: 100%;overflow: auto;}#sk-container-id-4 input.sk-toggleable__control:checked~label.sk-toggleable__label-arrow:before {content: \"▾\";}#sk-container-id-4 div.sk-estimator input.sk-toggleable__control:checked~label.sk-toggleable__label {background-color: #d4ebff;}#sk-container-id-4 div.sk-label input.sk-toggleable__control:checked~label.sk-toggleable__label {background-color: #d4ebff;}#sk-container-id-4 input.sk-hidden--visually {border: 0;clip: rect(1px 1px 1px 1px);clip: rect(1px, 1px, 1px, 1px);height: 1px;margin: -1px;overflow: hidden;padding: 0;position: absolute;width: 1px;}#sk-container-id-4 div.sk-estimator {font-family: monospace;background-color: #f0f8ff;border: 1px dotted black;border-radius: 0.25em;box-sizing: border-box;margin-bottom: 0.5em;}#sk-container-id-4 div.sk-estimator:hover {background-color: #d4ebff;}#sk-container-id-4 div.sk-parallel-item::after {content: \"\";width: 100%;border-bottom: 1px solid gray;flex-grow: 1;}#sk-container-id-4 div.sk-label:hover label.sk-toggleable__label {background-color: #d4ebff;}#sk-container-id-4 div.sk-serial::before {content: \"\";position: absolute;border-left: 1px solid gray;box-sizing: border-box;top: 0;bottom: 0;left: 50%;z-index: 0;}#sk-container-id-4 div.sk-serial {display: flex;flex-direction: column;align-items: center;background-color: white;padding-right: 0.2em;padding-left: 0.2em;position: relative;}#sk-container-id-4 div.sk-item {position: relative;z-index: 1;}#sk-container-id-4 div.sk-parallel {display: flex;align-items: stretch;justify-content: center;background-color: white;position: relative;}#sk-container-id-4 div.sk-item::before, #sk-container-id-4 div.sk-parallel-item::before {content: \"\";position: absolute;border-left: 1px solid gray;box-sizing: border-box;top: 0;bottom: 0;left: 50%;z-index: -1;}#sk-container-id-4 div.sk-parallel-item {display: flex;flex-direction: column;z-index: 1;position: relative;background-color: white;}#sk-container-id-4 div.sk-parallel-item:first-child::after {align-self: flex-end;width: 50%;}#sk-container-id-4 div.sk-parallel-item:last-child::after {align-self: flex-start;width: 50%;}#sk-container-id-4 div.sk-parallel-item:only-child::after {width: 0;}#sk-container-id-4 div.sk-dashed-wrapped {border: 1px dashed gray;margin: 0 0.4em 0.5em 0.4em;box-sizing: border-box;padding-bottom: 0.4em;background-color: white;}#sk-container-id-4 div.sk-label label {font-family: monospace;font-weight: bold;display: inline-block;line-height: 1.2em;}#sk-container-id-4 div.sk-label-container {text-align: center;}#sk-container-id-4 div.sk-container {/* jupyter's `normalize.less` sets `[hidden] { display: none; }` but bootstrap.min.css set `[hidden] { display: none !important; }` so we also need the `!important` here to be able to override the default hidden behavior on the sphinx rendered scikit-learn.org. See: https://github.com/scikit-learn/scikit-learn/issues/21755 */display: inline-block !important;position: relative;}#sk-container-id-4 div.sk-text-repr-fallback {display: none;}</style><div id=\"sk-container-id-4\" class=\"sk-top-container\"><div class=\"sk-text-repr-fallback\"><pre>LogisticRegression(C=0.009, l1_ratio=0.4, max_iter=10000,\n",
       "                   multi_class=&#x27;multinomial&#x27;, penalty=&#x27;elasticnet&#x27;,\n",
       "                   solver=&#x27;saga&#x27;)</pre><b>In a Jupyter environment, please rerun this cell to show the HTML representation or trust the notebook. <br />On GitHub, the HTML representation is unable to render, please try loading this page with nbviewer.org.</b></div><div class=\"sk-container\" hidden><div class=\"sk-item\"><div class=\"sk-estimator sk-toggleable\"><input class=\"sk-toggleable__control sk-hidden--visually\" id=\"sk-estimator-id-4\" type=\"checkbox\" checked><label for=\"sk-estimator-id-4\" class=\"sk-toggleable__label sk-toggleable__label-arrow\">LogisticRegression</label><div class=\"sk-toggleable__content\"><pre>LogisticRegression(C=0.009, l1_ratio=0.4, max_iter=10000,\n",
       "                   multi_class=&#x27;multinomial&#x27;, penalty=&#x27;elasticnet&#x27;,\n",
       "                   solver=&#x27;saga&#x27;)</pre></div></div></div></div></div>"
      ],
      "text/plain": [
       "LogisticRegression(C=0.009, l1_ratio=0.4, max_iter=10000,\n",
       "                   multi_class='multinomial', penalty='elasticnet',\n",
       "                   solver='saga')"
      ]
     },
     "execution_count": 177,
     "metadata": {},
     "output_type": "execute_result"
    }
   ],
   "source": [
    "log = LogisticRegression(max_iter=10000 ,C=0.009, solver='saga' , penalty='elasticnet', multi_class='multinomial', l1_ratio=0.4)\n",
    "log.fit(X_train, y_train)"
   ]
  },
  {
   "cell_type": "code",
   "execution_count": 178,
   "id": "060bc50b",
   "metadata": {},
   "outputs": [
    {
     "name": "stdout",
     "output_type": "stream",
     "text": [
      "0.9366666666666666\n"
     ]
    },
    {
     "data": {
      "image/png": "[encoded data removed]",
      "text/plain": [
       "<Figure size 432x288 with 2 Axes>"
      ]
     },
     "metadata": {
      "needs_background": "light"
     },
     "output_type": "display_data"
    }
   ],
   "source": [
    "y_pred = log.predict(X_test)\n",
    "print(log.score(X_test, y_test))\n",
    "cmx = confusion_matrix(y_test, y_pred)\n",
    "ConfusionMatrixDisplay(cmx, display_labels=[0,1,2]).plot(cmap=plt.cm.Blues)\n",
    "plt.show()"
   ]
  },
  {
   "cell_type": "code",
   "execution_count": 11,
   "id": "589862db",
   "metadata": {},
   "outputs": [
    {
     "data": {
      "text/html": [
       "<style>#sk-container-id-2 {color: black;}#sk-container-id-2 pre{padding: 0;}#sk-container-id-2 div.sk-toggleable {background-color: white;}#sk-container-id-2 label.sk-toggleable__label {cursor: pointer;display: block;width: 100%;margin-bottom: 0;padding: 0.3em;box-sizing: border-box;text-align: center;}#sk-container-id-2 label.sk-toggleable__label-arrow:before {content: \"▸\";float: left;margin-right: 0.25em;color: #696969;}#sk-container-id-2 label.sk-toggleable__label-arrow:hover:before {color: black;}#sk-container-id-2 div.sk-estimator:hover label.sk-toggleable__label-arrow:before {color: black;}#sk-container-id-2 div.sk-toggleable__content {max-height: 0;max-width: 0;overflow: hidden;text-align: left;background-color: #f0f8ff;}#sk-container-id-2 div.sk-toggleable__content pre {margin: 0.2em;color: black;border-radius: 0.25em;background-color: #f0f8ff;}#sk-container-id-2 input.sk-toggleable__control:checked~div.sk-toggleable__content {max-height: 200px;max-width: 100%;overflow: auto;}#sk-container-id-2 input.sk-toggleable__control:checked~label.sk-toggleable__label-arrow:before {content: \"▾\";}#sk-container-id-2 div.sk-estimator input.sk-toggleable__control:checked~label.sk-toggleable__label {background-color: #d4ebff;}#sk-container-id-2 div.sk-label input.sk-toggleable__control:checked~label.sk-toggleable__label {background-color: #d4ebff;}#sk-container-id-2 input.sk-hidden--visually {border: 0;clip: rect(1px 1px 1px 1px);clip: rect(1px, 1px, 1px, 1px);height: 1px;margin: -1px;overflow: hidden;padding: 0;position: absolute;width: 1px;}#sk-container-id-2 div.sk-estimator {font-family: monospace;background-color: #f0f8ff;border: 1px dotted black;border-radius: 0.25em;box-sizing: border-box;margin-bottom: 0.5em;}#sk-container-id-2 div.sk-estimator:hover {background-color: #d4ebff;}#sk-container-id-2 div.sk-parallel-item::after {content: \"\";width: 100%;border-bottom: 1px solid gray;flex-grow: 1;}#sk-container-id-2 div.sk-label:hover label.sk-toggleable__label {background-color: #d4ebff;}#sk-container-id-2 div.sk-serial::before {content: \"\";position: absolute;border-left: 1px solid gray;box-sizing: border-box;top: 0;bottom: 0;left: 50%;z-index: 0;}#sk-container-id-2 div.sk-serial {display: flex;flex-direction: column;align-items: center;background-color: white;padding-right: 0.2em;padding-left: 0.2em;position: relative;}#sk-container-id-2 div.sk-item {position: relative;z-index: 1;}#sk-container-id-2 div.sk-parallel {display: flex;align-items: stretch;justify-content: center;background-color: white;position: relative;}#sk-container-id-2 div.sk-item::before, #sk-container-id-2 div.sk-parallel-item::before {content: \"\";position: absolute;border-left: 1px solid gray;box-sizing: border-box;top: 0;bottom: 0;left: 50%;z-index: -1;}#sk-container-id-2 div.sk-parallel-item {display: flex;flex-direction: column;z-index: 1;position: relative;background-color: white;}#sk-container-id-2 div.sk-parallel-item:first-child::after {align-self: flex-end;width: 50%;}#sk-container-id-2 div.sk-parallel-item:last-child::after {align-self: flex-start;width: 50%;}#sk-container-id-2 div.sk-parallel-item:only-child::after {width: 0;}#sk-container-id-2 div.sk-dashed-wrapped {border: 1px dashed gray;margin: 0 0.4em 0.5em 0.4em;box-sizing: border-box;padding-bottom: 0.4em;background-color: white;}#sk-container-id-2 div.sk-label label {font-family: monospace;font-weight: bold;display: inline-block;line-height: 1.2em;}#sk-container-id-2 div.sk-label-container {text-align: center;}#sk-container-id-2 div.sk-container {/* jupyter's `normalize.less` sets `[hidden] { display: none; }` but bootstrap.min.css set `[hidden] { display: none !important; }` so we also need the `!important` here to be able to override the default hidden behavior on the sphinx rendered scikit-learn.org. See: https://github.com/scikit-learn/scikit-learn/issues/21755 */display: inline-block !important;position: relative;}#sk-container-id-2 div.sk-text-repr-fallback {display: none;}</style><div id=\"sk-container-id-2\" class=\"sk-top-container\"><div class=\"sk-text-repr-fallback\"><pre>LogisticRegression(C=0.009, max_iter=10000, multi_class=&#x27;multinomial&#x27;,\n",
       "                   penalty=&#x27;l1&#x27;, solver=&#x27;saga&#x27;)</pre><b>In a Jupyter environment, please rerun this cell to show the HTML representation or trust the notebook. <br />On GitHub, the HTML representation is unable to render, please try loading this page with nbviewer.org.</b></div><div class=\"sk-container\" hidden><div class=\"sk-item\"><div class=\"sk-estimator sk-toggleable\"><input class=\"sk-toggleable__control sk-hidden--visually\" id=\"sk-estimator-id-2\" type=\"checkbox\" checked><label for=\"sk-estimator-id-2\" class=\"sk-toggleable__label sk-toggleable__label-arrow\">LogisticRegression</label><div class=\"sk-toggleable__content\"><pre>LogisticRegression(C=0.009, max_iter=10000, multi_class=&#x27;multinomial&#x27;,\n",
       "                   penalty=&#x27;l1&#x27;, solver=&#x27;saga&#x27;)</pre></div></div></div></div></div>"
      ],
      "text/plain": [
       "LogisticRegression(C=0.009, max_iter=10000, multi_class='multinomial',\n",
       "                   penalty='l1', solver='saga')"
      ]
     },
     "execution_count": 11,
     "metadata": {},
     "output_type": "execute_result"
    }
   ],
   "source": [
    "log = LogisticRegression(max_iter=10000 ,C=0.009, multi_class='multinomial', solver='saga', penalty='l1')\n",
    "log.fit(X_train, y_train)"
   ]
  },
  {
   "cell_type": "code",
   "execution_count": 12,
   "id": "a54e9e59",
   "metadata": {},
   "outputs": [
    {
     "name": "stdout",
     "output_type": "stream",
     "text": [
      "0.93\n"
     ]
    },
    {
     "data": {
      "image/png": "[encoded data removed]",
      "text/plain": [
       "<Figure size 432x288 with 2 Axes>"
      ]
     },
     "metadata": {
      "needs_background": "light"
     },
     "output_type": "display_data"
    }
   ],
   "source": [
    "y_pred = log.predict(X_test)\n",
    "print(log.score(X_test, y_test))\n",
    "cmx = confusion_matrix(y_test, y_pred)\n",
    "ConfusionMatrixDisplay(cmx, display_labels=[0,1,2]).plot(cmap=plt.cm.Blues)\n",
    "plt.show()"
   ]
  },
  {
   "cell_type": "markdown",
   "id": "9e04d7b8",
   "metadata": {},
   "source": [
    "After all of the investigation, we saw that:\n",
    "* Ridge regression has the smallest value for C (0.005)\n",
    "* Ridge regression performs the best out of all the other models in terms of accuracy\n",
    "* Ridge regression performs the best in terms of critical predictions (Top right and bottem left)\n",
    "* Ridge regression gets the highest score when using the current approach's approach."
   ]
  },
  {
   "cell_type": "markdown",
   "id": "00d67b58",
   "metadata": {},
   "source": [
    "# Thus the best logistic regression model we can use for this data is a logistic regression model that uses a Ridge regression regularization term of C=0.005"
   ]
  }
 ],
 "metadata": {
  "kernelspec": {
   "display_name": "Python 3 (ipykernel)",
   "language": "python",
   "name": "python3"
  },
  "language_info": {
   "codemirror_mode": {
    "name": "ipython",
    "version": 3
   },
   "file_extension": ".py",
   "mimetype": "text/x-python",
   "name": "python",
   "nbconvert_exporter": "python",
   "pygments_lexer": "ipython3",
   "version": "3.9.12"
  }
 },
 "nbformat": 4,
 "nbformat_minor": 5
}
