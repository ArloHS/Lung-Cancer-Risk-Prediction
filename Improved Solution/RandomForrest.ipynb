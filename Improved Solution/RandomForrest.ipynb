{
 "cells": [
  {
   "cell_type": "code",
   "execution_count": 1,
   "id": "0596c7b2",
   "metadata": {},
   "outputs": [],
   "source": [
    "%matplotlib inline\n",
    "%load_ext autoreload\n",
    "%autoreload 2"
   ]
  },
  {
   "cell_type": "code",
   "execution_count": 2,
   "id": "6e2740d7",
   "metadata": {},
   "outputs": [],
   "source": [
    "import numpy as np\n",
    "import pandas as pd\n",
    "from sklearn.linear_model import LogisticRegression, LinearRegression\n",
    "from sklearn.model_selection import train_test_split\n",
    "import seaborn as sns\n",
    "import matplotlib.pyplot as plt\n",
    "from ISLP import load_data\n",
    "from sklearn.metrics import confusion_matrix, classification_report\n",
    "import statsmodels.formula.api as smf\n",
    "import statsmodels.api as sm\n",
    "from sklearn.model_selection import LeaveOneOut\n",
    "import matplotlib.cm as cm\n",
    "from sklearn.metrics import ConfusionMatrixDisplay\n",
    "from sklearn.model_selection import cross_val_score, GridSearchCV\n",
    "import xgboost as xgb\n",
    "from sklearn.ensemble import RandomForestClassifier, RandomForestRegressor, GradientBoostingRegressor, GradientBoostingClassifier"
   ]
  },
  {
   "cell_type": "code",
   "execution_count": 3,
   "id": "f837a030",
   "metadata": {},
   "outputs": [
    {
     "data": {
      "text/html": [
       "<div>\n",
       "<style scoped>\n",
       "    .dataframe tbody tr th:only-of-type {\n",
       "        vertical-align: middle;\n",
       "    }\n",
       "\n",
       "    .dataframe tbody tr th {\n",
       "        vertical-align: top;\n",
       "    }\n",
       "\n",
       "    .dataframe thead th {\n",
       "        text-align: right;\n",
       "    }\n",
       "</style>\n",
       "<table border=\"1\" class=\"dataframe\">\n",
       "  <thead>\n",
       "    <tr style=\"text-align: right;\">\n",
       "      <th></th>\n",
       "      <th>index</th>\n",
       "      <th>Patient Id</th>\n",
       "      <th>Age</th>\n",
       "      <th>Gender</th>\n",
       "      <th>Air Pollution</th>\n",
       "      <th>Alcohol use</th>\n",
       "      <th>Dust Allergy</th>\n",
       "      <th>OccuPational Hazards</th>\n",
       "      <th>Genetic Risk</th>\n",
       "      <th>chronic Lung Disease</th>\n",
       "      <th>...</th>\n",
       "      <th>Fatigue</th>\n",
       "      <th>Weight Loss</th>\n",
       "      <th>Shortness of Breath</th>\n",
       "      <th>Wheezing</th>\n",
       "      <th>Swallowing Difficulty</th>\n",
       "      <th>Clubbing of Finger Nails</th>\n",
       "      <th>Frequent Cold</th>\n",
       "      <th>Dry Cough</th>\n",
       "      <th>Snoring</th>\n",
       "      <th>Level</th>\n",
       "    </tr>\n",
       "  </thead>\n",
       "  <tbody>\n",
       "    <tr>\n",
       "      <th>0</th>\n",
       "      <td>0</td>\n",
       "      <td>P1</td>\n",
       "      <td>33</td>\n",
       "      <td>1</td>\n",
       "      <td>2</td>\n",
       "      <td>4</td>\n",
       "      <td>5</td>\n",
       "      <td>4</td>\n",
       "      <td>3</td>\n",
       "      <td>2</td>\n",
       "      <td>...</td>\n",
       "      <td>3</td>\n",
       "      <td>4</td>\n",
       "      <td>2</td>\n",
       "      <td>2</td>\n",
       "      <td>3</td>\n",
       "      <td>1</td>\n",
       "      <td>2</td>\n",
       "      <td>3</td>\n",
       "      <td>4</td>\n",
       "      <td>Low</td>\n",
       "    </tr>\n",
       "    <tr>\n",
       "      <th>1</th>\n",
       "      <td>1</td>\n",
       "      <td>P10</td>\n",
       "      <td>17</td>\n",
       "      <td>1</td>\n",
       "      <td>3</td>\n",
       "      <td>1</td>\n",
       "      <td>5</td>\n",
       "      <td>3</td>\n",
       "      <td>4</td>\n",
       "      <td>2</td>\n",
       "      <td>...</td>\n",
       "      <td>1</td>\n",
       "      <td>3</td>\n",
       "      <td>7</td>\n",
       "      <td>8</td>\n",
       "      <td>6</td>\n",
       "      <td>2</td>\n",
       "      <td>1</td>\n",
       "      <td>7</td>\n",
       "      <td>2</td>\n",
       "      <td>Medium</td>\n",
       "    </tr>\n",
       "    <tr>\n",
       "      <th>2</th>\n",
       "      <td>2</td>\n",
       "      <td>P100</td>\n",
       "      <td>35</td>\n",
       "      <td>1</td>\n",
       "      <td>4</td>\n",
       "      <td>5</td>\n",
       "      <td>6</td>\n",
       "      <td>5</td>\n",
       "      <td>5</td>\n",
       "      <td>4</td>\n",
       "      <td>...</td>\n",
       "      <td>8</td>\n",
       "      <td>7</td>\n",
       "      <td>9</td>\n",
       "      <td>2</td>\n",
       "      <td>1</td>\n",
       "      <td>4</td>\n",
       "      <td>6</td>\n",
       "      <td>7</td>\n",
       "      <td>2</td>\n",
       "      <td>High</td>\n",
       "    </tr>\n",
       "    <tr>\n",
       "      <th>3</th>\n",
       "      <td>3</td>\n",
       "      <td>P1000</td>\n",
       "      <td>37</td>\n",
       "      <td>1</td>\n",
       "      <td>7</td>\n",
       "      <td>7</td>\n",
       "      <td>7</td>\n",
       "      <td>7</td>\n",
       "      <td>6</td>\n",
       "      <td>7</td>\n",
       "      <td>...</td>\n",
       "      <td>4</td>\n",
       "      <td>2</td>\n",
       "      <td>3</td>\n",
       "      <td>1</td>\n",
       "      <td>4</td>\n",
       "      <td>5</td>\n",
       "      <td>6</td>\n",
       "      <td>7</td>\n",
       "      <td>5</td>\n",
       "      <td>High</td>\n",
       "    </tr>\n",
       "    <tr>\n",
       "      <th>4</th>\n",
       "      <td>4</td>\n",
       "      <td>P101</td>\n",
       "      <td>46</td>\n",
       "      <td>1</td>\n",
       "      <td>6</td>\n",
       "      <td>8</td>\n",
       "      <td>7</td>\n",
       "      <td>7</td>\n",
       "      <td>7</td>\n",
       "      <td>6</td>\n",
       "      <td>...</td>\n",
       "      <td>3</td>\n",
       "      <td>2</td>\n",
       "      <td>4</td>\n",
       "      <td>1</td>\n",
       "      <td>4</td>\n",
       "      <td>2</td>\n",
       "      <td>4</td>\n",
       "      <td>2</td>\n",
       "      <td>3</td>\n",
       "      <td>High</td>\n",
       "    </tr>\n",
       "    <tr>\n",
       "      <th>...</th>\n",
       "      <td>...</td>\n",
       "      <td>...</td>\n",
       "      <td>...</td>\n",
       "      <td>...</td>\n",
       "      <td>...</td>\n",
       "      <td>...</td>\n",
       "      <td>...</td>\n",
       "      <td>...</td>\n",
       "      <td>...</td>\n",
       "      <td>...</td>\n",
       "      <td>...</td>\n",
       "      <td>...</td>\n",
       "      <td>...</td>\n",
       "      <td>...</td>\n",
       "      <td>...</td>\n",
       "      <td>...</td>\n",
       "      <td>...</td>\n",
       "      <td>...</td>\n",
       "      <td>...</td>\n",
       "      <td>...</td>\n",
       "      <td>...</td>\n",
       "    </tr>\n",
       "    <tr>\n",
       "      <th>995</th>\n",
       "      <td>995</td>\n",
       "      <td>P995</td>\n",
       "      <td>44</td>\n",
       "      <td>1</td>\n",
       "      <td>6</td>\n",
       "      <td>7</td>\n",
       "      <td>7</td>\n",
       "      <td>7</td>\n",
       "      <td>7</td>\n",
       "      <td>6</td>\n",
       "      <td>...</td>\n",
       "      <td>5</td>\n",
       "      <td>3</td>\n",
       "      <td>2</td>\n",
       "      <td>7</td>\n",
       "      <td>8</td>\n",
       "      <td>2</td>\n",
       "      <td>4</td>\n",
       "      <td>5</td>\n",
       "      <td>3</td>\n",
       "      <td>High</td>\n",
       "    </tr>\n",
       "    <tr>\n",
       "      <th>996</th>\n",
       "      <td>996</td>\n",
       "      <td>P996</td>\n",
       "      <td>37</td>\n",
       "      <td>2</td>\n",
       "      <td>6</td>\n",
       "      <td>8</td>\n",
       "      <td>7</td>\n",
       "      <td>7</td>\n",
       "      <td>7</td>\n",
       "      <td>6</td>\n",
       "      <td>...</td>\n",
       "      <td>9</td>\n",
       "      <td>6</td>\n",
       "      <td>5</td>\n",
       "      <td>7</td>\n",
       "      <td>2</td>\n",
       "      <td>4</td>\n",
       "      <td>3</td>\n",
       "      <td>1</td>\n",
       "      <td>4</td>\n",
       "      <td>High</td>\n",
       "    </tr>\n",
       "    <tr>\n",
       "      <th>997</th>\n",
       "      <td>997</td>\n",
       "      <td>P997</td>\n",
       "      <td>25</td>\n",
       "      <td>2</td>\n",
       "      <td>4</td>\n",
       "      <td>5</td>\n",
       "      <td>6</td>\n",
       "      <td>5</td>\n",
       "      <td>5</td>\n",
       "      <td>4</td>\n",
       "      <td>...</td>\n",
       "      <td>8</td>\n",
       "      <td>7</td>\n",
       "      <td>9</td>\n",
       "      <td>2</td>\n",
       "      <td>1</td>\n",
       "      <td>4</td>\n",
       "      <td>6</td>\n",
       "      <td>7</td>\n",
       "      <td>2</td>\n",
       "      <td>High</td>\n",
       "    </tr>\n",
       "    <tr>\n",
       "      <th>998</th>\n",
       "      <td>998</td>\n",
       "      <td>P998</td>\n",
       "      <td>18</td>\n",
       "      <td>2</td>\n",
       "      <td>6</td>\n",
       "      <td>8</td>\n",
       "      <td>7</td>\n",
       "      <td>7</td>\n",
       "      <td>7</td>\n",
       "      <td>6</td>\n",
       "      <td>...</td>\n",
       "      <td>3</td>\n",
       "      <td>2</td>\n",
       "      <td>4</td>\n",
       "      <td>1</td>\n",
       "      <td>4</td>\n",
       "      <td>2</td>\n",
       "      <td>4</td>\n",
       "      <td>2</td>\n",
       "      <td>3</td>\n",
       "      <td>High</td>\n",
       "    </tr>\n",
       "    <tr>\n",
       "      <th>999</th>\n",
       "      <td>999</td>\n",
       "      <td>P999</td>\n",
       "      <td>47</td>\n",
       "      <td>1</td>\n",
       "      <td>6</td>\n",
       "      <td>5</td>\n",
       "      <td>6</td>\n",
       "      <td>5</td>\n",
       "      <td>5</td>\n",
       "      <td>4</td>\n",
       "      <td>...</td>\n",
       "      <td>8</td>\n",
       "      <td>7</td>\n",
       "      <td>9</td>\n",
       "      <td>2</td>\n",
       "      <td>1</td>\n",
       "      <td>4</td>\n",
       "      <td>6</td>\n",
       "      <td>7</td>\n",
       "      <td>2</td>\n",
       "      <td>High</td>\n",
       "    </tr>\n",
       "  </tbody>\n",
       "</table>\n",
       "<p>1000 rows × 26 columns</p>\n",
       "</div>"
      ],
      "text/plain": [
       "     index Patient Id  Age  Gender  Air Pollution  Alcohol use  Dust Allergy  \\\n",
       "0        0         P1   33       1              2            4             5   \n",
       "1        1        P10   17       1              3            1             5   \n",
       "2        2       P100   35       1              4            5             6   \n",
       "3        3      P1000   37       1              7            7             7   \n",
       "4        4       P101   46       1              6            8             7   \n",
       "..     ...        ...  ...     ...            ...          ...           ...   \n",
       "995    995       P995   44       1              6            7             7   \n",
       "996    996       P996   37       2              6            8             7   \n",
       "997    997       P997   25       2              4            5             6   \n",
       "998    998       P998   18       2              6            8             7   \n",
       "999    999       P999   47       1              6            5             6   \n",
       "\n",
       "     OccuPational Hazards  Genetic Risk  chronic Lung Disease  ...  Fatigue  \\\n",
       "0                       4             3                     2  ...        3   \n",
       "1                       3             4                     2  ...        1   \n",
       "2                       5             5                     4  ...        8   \n",
       "3                       7             6                     7  ...        4   \n",
       "4                       7             7                     6  ...        3   \n",
       "..                    ...           ...                   ...  ...      ...   \n",
       "995                     7             7                     6  ...        5   \n",
       "996                     7             7                     6  ...        9   \n",
       "997                     5             5                     4  ...        8   \n",
       "998                     7             7                     6  ...        3   \n",
       "999                     5             5                     4  ...        8   \n",
       "\n",
       "     Weight Loss  Shortness of Breath  Wheezing  Swallowing Difficulty  \\\n",
       "0              4                    2         2                      3   \n",
       "1              3                    7         8                      6   \n",
       "2              7                    9         2                      1   \n",
       "3              2                    3         1                      4   \n",
       "4              2                    4         1                      4   \n",
       "..           ...                  ...       ...                    ...   \n",
       "995            3                    2         7                      8   \n",
       "996            6                    5         7                      2   \n",
       "997            7                    9         2                      1   \n",
       "998            2                    4         1                      4   \n",
       "999            7                    9         2                      1   \n",
       "\n",
       "     Clubbing of Finger Nails  Frequent Cold  Dry Cough  Snoring   Level  \n",
       "0                           1              2          3        4     Low  \n",
       "1                           2              1          7        2  Medium  \n",
       "2                           4              6          7        2    High  \n",
       "3                           5              6          7        5    High  \n",
       "4                           2              4          2        3    High  \n",
       "..                        ...            ...        ...      ...     ...  \n",
       "995                         2              4          5        3    High  \n",
       "996                         4              3          1        4    High  \n",
       "997                         4              6          7        2    High  \n",
       "998                         2              4          2        3    High  \n",
       "999                         4              6          7        2    High  \n",
       "\n",
       "[1000 rows x 26 columns]"
      ]
     },
     "execution_count": 3,
     "metadata": {},
     "output_type": "execute_result"
    }
   ],
   "source": [
    "df = pd.read_csv('cancer patient data sets.csv')\n",
    "df"
   ]
  },
  {
   "cell_type": "code",
   "execution_count": 4,
   "id": "b8033a64",
   "metadata": {},
   "outputs": [
    {
     "data": {
      "text/html": [
       "<div>\n",
       "<style scoped>\n",
       "    .dataframe tbody tr th:only-of-type {\n",
       "        vertical-align: middle;\n",
       "    }\n",
       "\n",
       "    .dataframe tbody tr th {\n",
       "        vertical-align: top;\n",
       "    }\n",
       "\n",
       "    .dataframe thead th {\n",
       "        text-align: right;\n",
       "    }\n",
       "</style>\n",
       "<table border=\"1\" class=\"dataframe\">\n",
       "  <thead>\n",
       "    <tr style=\"text-align: right;\">\n",
       "      <th></th>\n",
       "      <th>index</th>\n",
       "      <th>Patient Id</th>\n",
       "      <th>Age</th>\n",
       "      <th>Gender</th>\n",
       "      <th>Air Pollution</th>\n",
       "      <th>Alcohol use</th>\n",
       "      <th>Dust Allergy</th>\n",
       "      <th>OccuPational Hazards</th>\n",
       "      <th>Genetic Risk</th>\n",
       "      <th>chronic Lung Disease</th>\n",
       "      <th>...</th>\n",
       "      <th>Weight Loss</th>\n",
       "      <th>Shortness of Breath</th>\n",
       "      <th>Wheezing</th>\n",
       "      <th>Swallowing Difficulty</th>\n",
       "      <th>Clubbing of Finger Nails</th>\n",
       "      <th>Frequent Cold</th>\n",
       "      <th>Dry Cough</th>\n",
       "      <th>Snoring</th>\n",
       "      <th>Level</th>\n",
       "      <th>Level_cat</th>\n",
       "    </tr>\n",
       "  </thead>\n",
       "  <tbody>\n",
       "    <tr>\n",
       "      <th>0</th>\n",
       "      <td>0</td>\n",
       "      <td>P1</td>\n",
       "      <td>33</td>\n",
       "      <td>1</td>\n",
       "      <td>2</td>\n",
       "      <td>4</td>\n",
       "      <td>5</td>\n",
       "      <td>4</td>\n",
       "      <td>3</td>\n",
       "      <td>2</td>\n",
       "      <td>...</td>\n",
       "      <td>4</td>\n",
       "      <td>2</td>\n",
       "      <td>2</td>\n",
       "      <td>3</td>\n",
       "      <td>1</td>\n",
       "      <td>2</td>\n",
       "      <td>3</td>\n",
       "      <td>4</td>\n",
       "      <td>Low</td>\n",
       "      <td>0</td>\n",
       "    </tr>\n",
       "    <tr>\n",
       "      <th>1</th>\n",
       "      <td>1</td>\n",
       "      <td>P10</td>\n",
       "      <td>17</td>\n",
       "      <td>1</td>\n",
       "      <td>3</td>\n",
       "      <td>1</td>\n",
       "      <td>5</td>\n",
       "      <td>3</td>\n",
       "      <td>4</td>\n",
       "      <td>2</td>\n",
       "      <td>...</td>\n",
       "      <td>3</td>\n",
       "      <td>7</td>\n",
       "      <td>8</td>\n",
       "      <td>6</td>\n",
       "      <td>2</td>\n",
       "      <td>1</td>\n",
       "      <td>7</td>\n",
       "      <td>2</td>\n",
       "      <td>Medium</td>\n",
       "      <td>1</td>\n",
       "    </tr>\n",
       "    <tr>\n",
       "      <th>2</th>\n",
       "      <td>2</td>\n",
       "      <td>P100</td>\n",
       "      <td>35</td>\n",
       "      <td>1</td>\n",
       "      <td>4</td>\n",
       "      <td>5</td>\n",
       "      <td>6</td>\n",
       "      <td>5</td>\n",
       "      <td>5</td>\n",
       "      <td>4</td>\n",
       "      <td>...</td>\n",
       "      <td>7</td>\n",
       "      <td>9</td>\n",
       "      <td>2</td>\n",
       "      <td>1</td>\n",
       "      <td>4</td>\n",
       "      <td>6</td>\n",
       "      <td>7</td>\n",
       "      <td>2</td>\n",
       "      <td>High</td>\n",
       "      <td>2</td>\n",
       "    </tr>\n",
       "    <tr>\n",
       "      <th>3</th>\n",
       "      <td>3</td>\n",
       "      <td>P1000</td>\n",
       "      <td>37</td>\n",
       "      <td>1</td>\n",
       "      <td>7</td>\n",
       "      <td>7</td>\n",
       "      <td>7</td>\n",
       "      <td>7</td>\n",
       "      <td>6</td>\n",
       "      <td>7</td>\n",
       "      <td>...</td>\n",
       "      <td>2</td>\n",
       "      <td>3</td>\n",
       "      <td>1</td>\n",
       "      <td>4</td>\n",
       "      <td>5</td>\n",
       "      <td>6</td>\n",
       "      <td>7</td>\n",
       "      <td>5</td>\n",
       "      <td>High</td>\n",
       "      <td>2</td>\n",
       "    </tr>\n",
       "    <tr>\n",
       "      <th>4</th>\n",
       "      <td>4</td>\n",
       "      <td>P101</td>\n",
       "      <td>46</td>\n",
       "      <td>1</td>\n",
       "      <td>6</td>\n",
       "      <td>8</td>\n",
       "      <td>7</td>\n",
       "      <td>7</td>\n",
       "      <td>7</td>\n",
       "      <td>6</td>\n",
       "      <td>...</td>\n",
       "      <td>2</td>\n",
       "      <td>4</td>\n",
       "      <td>1</td>\n",
       "      <td>4</td>\n",
       "      <td>2</td>\n",
       "      <td>4</td>\n",
       "      <td>2</td>\n",
       "      <td>3</td>\n",
       "      <td>High</td>\n",
       "      <td>2</td>\n",
       "    </tr>\n",
       "    <tr>\n",
       "      <th>...</th>\n",
       "      <td>...</td>\n",
       "      <td>...</td>\n",
       "      <td>...</td>\n",
       "      <td>...</td>\n",
       "      <td>...</td>\n",
       "      <td>...</td>\n",
       "      <td>...</td>\n",
       "      <td>...</td>\n",
       "      <td>...</td>\n",
       "      <td>...</td>\n",
       "      <td>...</td>\n",
       "      <td>...</td>\n",
       "      <td>...</td>\n",
       "      <td>...</td>\n",
       "      <td>...</td>\n",
       "      <td>...</td>\n",
       "      <td>...</td>\n",
       "      <td>...</td>\n",
       "      <td>...</td>\n",
       "      <td>...</td>\n",
       "      <td>...</td>\n",
       "    </tr>\n",
       "    <tr>\n",
       "      <th>995</th>\n",
       "      <td>995</td>\n",
       "      <td>P995</td>\n",
       "      <td>44</td>\n",
       "      <td>1</td>\n",
       "      <td>6</td>\n",
       "      <td>7</td>\n",
       "      <td>7</td>\n",
       "      <td>7</td>\n",
       "      <td>7</td>\n",
       "      <td>6</td>\n",
       "      <td>...</td>\n",
       "      <td>3</td>\n",
       "      <td>2</td>\n",
       "      <td>7</td>\n",
       "      <td>8</td>\n",
       "      <td>2</td>\n",
       "      <td>4</td>\n",
       "      <td>5</td>\n",
       "      <td>3</td>\n",
       "      <td>High</td>\n",
       "      <td>2</td>\n",
       "    </tr>\n",
       "    <tr>\n",
       "      <th>996</th>\n",
       "      <td>996</td>\n",
       "      <td>P996</td>\n",
       "      <td>37</td>\n",
       "      <td>2</td>\n",
       "      <td>6</td>\n",
       "      <td>8</td>\n",
       "      <td>7</td>\n",
       "      <td>7</td>\n",
       "      <td>7</td>\n",
       "      <td>6</td>\n",
       "      <td>...</td>\n",
       "      <td>6</td>\n",
       "      <td>5</td>\n",
       "      <td>7</td>\n",
       "      <td>2</td>\n",
       "      <td>4</td>\n",
       "      <td>3</td>\n",
       "      <td>1</td>\n",
       "      <td>4</td>\n",
       "      <td>High</td>\n",
       "      <td>2</td>\n",
       "    </tr>\n",
       "    <tr>\n",
       "      <th>997</th>\n",
       "      <td>997</td>\n",
       "      <td>P997</td>\n",
       "      <td>25</td>\n",
       "      <td>2</td>\n",
       "      <td>4</td>\n",
       "      <td>5</td>\n",
       "      <td>6</td>\n",
       "      <td>5</td>\n",
       "      <td>5</td>\n",
       "      <td>4</td>\n",
       "      <td>...</td>\n",
       "      <td>7</td>\n",
       "      <td>9</td>\n",
       "      <td>2</td>\n",
       "      <td>1</td>\n",
       "      <td>4</td>\n",
       "      <td>6</td>\n",
       "      <td>7</td>\n",
       "      <td>2</td>\n",
       "      <td>High</td>\n",
       "      <td>2</td>\n",
       "    </tr>\n",
       "    <tr>\n",
       "      <th>998</th>\n",
       "      <td>998</td>\n",
       "      <td>P998</td>\n",
       "      <td>18</td>\n",
       "      <td>2</td>\n",
       "      <td>6</td>\n",
       "      <td>8</td>\n",
       "      <td>7</td>\n",
       "      <td>7</td>\n",
       "      <td>7</td>\n",
       "      <td>6</td>\n",
       "      <td>...</td>\n",
       "      <td>2</td>\n",
       "      <td>4</td>\n",
       "      <td>1</td>\n",
       "      <td>4</td>\n",
       "      <td>2</td>\n",
       "      <td>4</td>\n",
       "      <td>2</td>\n",
       "      <td>3</td>\n",
       "      <td>High</td>\n",
       "      <td>2</td>\n",
       "    </tr>\n",
       "    <tr>\n",
       "      <th>999</th>\n",
       "      <td>999</td>\n",
       "      <td>P999</td>\n",
       "      <td>47</td>\n",
       "      <td>1</td>\n",
       "      <td>6</td>\n",
       "      <td>5</td>\n",
       "      <td>6</td>\n",
       "      <td>5</td>\n",
       "      <td>5</td>\n",
       "      <td>4</td>\n",
       "      <td>...</td>\n",
       "      <td>7</td>\n",
       "      <td>9</td>\n",
       "      <td>2</td>\n",
       "      <td>1</td>\n",
       "      <td>4</td>\n",
       "      <td>6</td>\n",
       "      <td>7</td>\n",
       "      <td>2</td>\n",
       "      <td>High</td>\n",
       "      <td>2</td>\n",
       "    </tr>\n",
       "  </tbody>\n",
       "</table>\n",
       "<p>1000 rows × 27 columns</p>\n",
       "</div>"
      ],
      "text/plain": [
       "     index Patient Id  Age  Gender  Air Pollution  Alcohol use  Dust Allergy  \\\n",
       "0        0         P1   33       1              2            4             5   \n",
       "1        1        P10   17       1              3            1             5   \n",
       "2        2       P100   35       1              4            5             6   \n",
       "3        3      P1000   37       1              7            7             7   \n",
       "4        4       P101   46       1              6            8             7   \n",
       "..     ...        ...  ...     ...            ...          ...           ...   \n",
       "995    995       P995   44       1              6            7             7   \n",
       "996    996       P996   37       2              6            8             7   \n",
       "997    997       P997   25       2              4            5             6   \n",
       "998    998       P998   18       2              6            8             7   \n",
       "999    999       P999   47       1              6            5             6   \n",
       "\n",
       "     OccuPational Hazards  Genetic Risk  chronic Lung Disease  ...  \\\n",
       "0                       4             3                     2  ...   \n",
       "1                       3             4                     2  ...   \n",
       "2                       5             5                     4  ...   \n",
       "3                       7             6                     7  ...   \n",
       "4                       7             7                     6  ...   \n",
       "..                    ...           ...                   ...  ...   \n",
       "995                     7             7                     6  ...   \n",
       "996                     7             7                     6  ...   \n",
       "997                     5             5                     4  ...   \n",
       "998                     7             7                     6  ...   \n",
       "999                     5             5                     4  ...   \n",
       "\n",
       "     Weight Loss  Shortness of Breath  Wheezing  Swallowing Difficulty  \\\n",
       "0              4                    2         2                      3   \n",
       "1              3                    7         8                      6   \n",
       "2              7                    9         2                      1   \n",
       "3              2                    3         1                      4   \n",
       "4              2                    4         1                      4   \n",
       "..           ...                  ...       ...                    ...   \n",
       "995            3                    2         7                      8   \n",
       "996            6                    5         7                      2   \n",
       "997            7                    9         2                      1   \n",
       "998            2                    4         1                      4   \n",
       "999            7                    9         2                      1   \n",
       "\n",
       "     Clubbing of Finger Nails  Frequent Cold  Dry Cough  Snoring   Level  \\\n",
       "0                           1              2          3        4     Low   \n",
       "1                           2              1          7        2  Medium   \n",
       "2                           4              6          7        2    High   \n",
       "3                           5              6          7        5    High   \n",
       "4                           2              4          2        3    High   \n",
       "..                        ...            ...        ...      ...     ...   \n",
       "995                         2              4          5        3    High   \n",
       "996                         4              3          1        4    High   \n",
       "997                         4              6          7        2    High   \n",
       "998                         2              4          2        3    High   \n",
       "999                         4              6          7        2    High   \n",
       "\n",
       "     Level_cat  \n",
       "0            0  \n",
       "1            1  \n",
       "2            2  \n",
       "3            2  \n",
       "4            2  \n",
       "..         ...  \n",
       "995          2  \n",
       "996          2  \n",
       "997          2  \n",
       "998          2  \n",
       "999          2  \n",
       "\n",
       "[1000 rows x 27 columns]"
      ]
     },
     "execution_count": 4,
     "metadata": {},
     "output_type": "execute_result"
    }
   ],
   "source": [
    "df['Level_cat'] = np.array([0 if u == \"Low\" else 1 if u == \"Medium\" else 2 for u in df['Level']])\n",
    "df"
   ]
  },
  {
   "cell_type": "code",
   "execution_count": 5,
   "id": "5d2d0c01",
   "metadata": {},
   "outputs": [],
   "source": [
    "df = df.drop([\"Patient Id\", \"Level\"], axis=1)"
   ]
  },
  {
   "cell_type": "code",
   "execution_count": 6,
   "id": "6ff99034",
   "metadata": {},
   "outputs": [
    {
     "data": {
      "text/html": [
       "<div>\n",
       "<style scoped>\n",
       "    .dataframe tbody tr th:only-of-type {\n",
       "        vertical-align: middle;\n",
       "    }\n",
       "\n",
       "    .dataframe tbody tr th {\n",
       "        vertical-align: top;\n",
       "    }\n",
       "\n",
       "    .dataframe thead th {\n",
       "        text-align: right;\n",
       "    }\n",
       "</style>\n",
       "<table border=\"1\" class=\"dataframe\">\n",
       "  <thead>\n",
       "    <tr style=\"text-align: right;\">\n",
       "      <th></th>\n",
       "      <th>index</th>\n",
       "      <th>Age</th>\n",
       "      <th>Gender</th>\n",
       "      <th>Air Pollution</th>\n",
       "      <th>Alcohol use</th>\n",
       "      <th>Dust Allergy</th>\n",
       "      <th>OccuPational Hazards</th>\n",
       "      <th>Genetic Risk</th>\n",
       "      <th>chronic Lung Disease</th>\n",
       "      <th>Balanced Diet</th>\n",
       "      <th>...</th>\n",
       "      <th>Fatigue</th>\n",
       "      <th>Weight Loss</th>\n",
       "      <th>Shortness of Breath</th>\n",
       "      <th>Wheezing</th>\n",
       "      <th>Swallowing Difficulty</th>\n",
       "      <th>Clubbing of Finger Nails</th>\n",
       "      <th>Frequent Cold</th>\n",
       "      <th>Dry Cough</th>\n",
       "      <th>Snoring</th>\n",
       "      <th>Level_cat</th>\n",
       "    </tr>\n",
       "  </thead>\n",
       "  <tbody>\n",
       "    <tr>\n",
       "      <th>0</th>\n",
       "      <td>0</td>\n",
       "      <td>33</td>\n",
       "      <td>1</td>\n",
       "      <td>2</td>\n",
       "      <td>4</td>\n",
       "      <td>5</td>\n",
       "      <td>4</td>\n",
       "      <td>3</td>\n",
       "      <td>2</td>\n",
       "      <td>2</td>\n",
       "      <td>...</td>\n",
       "      <td>3</td>\n",
       "      <td>4</td>\n",
       "      <td>2</td>\n",
       "      <td>2</td>\n",
       "      <td>3</td>\n",
       "      <td>1</td>\n",
       "      <td>2</td>\n",
       "      <td>3</td>\n",
       "      <td>4</td>\n",
       "      <td>0</td>\n",
       "    </tr>\n",
       "    <tr>\n",
       "      <th>1</th>\n",
       "      <td>1</td>\n",
       "      <td>17</td>\n",
       "      <td>1</td>\n",
       "      <td>3</td>\n",
       "      <td>1</td>\n",
       "      <td>5</td>\n",
       "      <td>3</td>\n",
       "      <td>4</td>\n",
       "      <td>2</td>\n",
       "      <td>2</td>\n",
       "      <td>...</td>\n",
       "      <td>1</td>\n",
       "      <td>3</td>\n",
       "      <td>7</td>\n",
       "      <td>8</td>\n",
       "      <td>6</td>\n",
       "      <td>2</td>\n",
       "      <td>1</td>\n",
       "      <td>7</td>\n",
       "      <td>2</td>\n",
       "      <td>1</td>\n",
       "    </tr>\n",
       "    <tr>\n",
       "      <th>2</th>\n",
       "      <td>2</td>\n",
       "      <td>35</td>\n",
       "      <td>1</td>\n",
       "      <td>4</td>\n",
       "      <td>5</td>\n",
       "      <td>6</td>\n",
       "      <td>5</td>\n",
       "      <td>5</td>\n",
       "      <td>4</td>\n",
       "      <td>6</td>\n",
       "      <td>...</td>\n",
       "      <td>8</td>\n",
       "      <td>7</td>\n",
       "      <td>9</td>\n",
       "      <td>2</td>\n",
       "      <td>1</td>\n",
       "      <td>4</td>\n",
       "      <td>6</td>\n",
       "      <td>7</td>\n",
       "      <td>2</td>\n",
       "      <td>2</td>\n",
       "    </tr>\n",
       "    <tr>\n",
       "      <th>3</th>\n",
       "      <td>3</td>\n",
       "      <td>37</td>\n",
       "      <td>1</td>\n",
       "      <td>7</td>\n",
       "      <td>7</td>\n",
       "      <td>7</td>\n",
       "      <td>7</td>\n",
       "      <td>6</td>\n",
       "      <td>7</td>\n",
       "      <td>7</td>\n",
       "      <td>...</td>\n",
       "      <td>4</td>\n",
       "      <td>2</td>\n",
       "      <td>3</td>\n",
       "      <td>1</td>\n",
       "      <td>4</td>\n",
       "      <td>5</td>\n",
       "      <td>6</td>\n",
       "      <td>7</td>\n",
       "      <td>5</td>\n",
       "      <td>2</td>\n",
       "    </tr>\n",
       "    <tr>\n",
       "      <th>4</th>\n",
       "      <td>4</td>\n",
       "      <td>46</td>\n",
       "      <td>1</td>\n",
       "      <td>6</td>\n",
       "      <td>8</td>\n",
       "      <td>7</td>\n",
       "      <td>7</td>\n",
       "      <td>7</td>\n",
       "      <td>6</td>\n",
       "      <td>7</td>\n",
       "      <td>...</td>\n",
       "      <td>3</td>\n",
       "      <td>2</td>\n",
       "      <td>4</td>\n",
       "      <td>1</td>\n",
       "      <td>4</td>\n",
       "      <td>2</td>\n",
       "      <td>4</td>\n",
       "      <td>2</td>\n",
       "      <td>3</td>\n",
       "      <td>2</td>\n",
       "    </tr>\n",
       "    <tr>\n",
       "      <th>...</th>\n",
       "      <td>...</td>\n",
       "      <td>...</td>\n",
       "      <td>...</td>\n",
       "      <td>...</td>\n",
       "      <td>...</td>\n",
       "      <td>...</td>\n",
       "      <td>...</td>\n",
       "      <td>...</td>\n",
       "      <td>...</td>\n",
       "      <td>...</td>\n",
       "      <td>...</td>\n",
       "      <td>...</td>\n",
       "      <td>...</td>\n",
       "      <td>...</td>\n",
       "      <td>...</td>\n",
       "      <td>...</td>\n",
       "      <td>...</td>\n",
       "      <td>...</td>\n",
       "      <td>...</td>\n",
       "      <td>...</td>\n",
       "      <td>...</td>\n",
       "    </tr>\n",
       "    <tr>\n",
       "      <th>995</th>\n",
       "      <td>995</td>\n",
       "      <td>44</td>\n",
       "      <td>1</td>\n",
       "      <td>6</td>\n",
       "      <td>7</td>\n",
       "      <td>7</td>\n",
       "      <td>7</td>\n",
       "      <td>7</td>\n",
       "      <td>6</td>\n",
       "      <td>7</td>\n",
       "      <td>...</td>\n",
       "      <td>5</td>\n",
       "      <td>3</td>\n",
       "      <td>2</td>\n",
       "      <td>7</td>\n",
       "      <td>8</td>\n",
       "      <td>2</td>\n",
       "      <td>4</td>\n",
       "      <td>5</td>\n",
       "      <td>3</td>\n",
       "      <td>2</td>\n",
       "    </tr>\n",
       "    <tr>\n",
       "      <th>996</th>\n",
       "      <td>996</td>\n",
       "      <td>37</td>\n",
       "      <td>2</td>\n",
       "      <td>6</td>\n",
       "      <td>8</td>\n",
       "      <td>7</td>\n",
       "      <td>7</td>\n",
       "      <td>7</td>\n",
       "      <td>6</td>\n",
       "      <td>7</td>\n",
       "      <td>...</td>\n",
       "      <td>9</td>\n",
       "      <td>6</td>\n",
       "      <td>5</td>\n",
       "      <td>7</td>\n",
       "      <td>2</td>\n",
       "      <td>4</td>\n",
       "      <td>3</td>\n",
       "      <td>1</td>\n",
       "      <td>4</td>\n",
       "      <td>2</td>\n",
       "    </tr>\n",
       "    <tr>\n",
       "      <th>997</th>\n",
       "      <td>997</td>\n",
       "      <td>25</td>\n",
       "      <td>2</td>\n",
       "      <td>4</td>\n",
       "      <td>5</td>\n",
       "      <td>6</td>\n",
       "      <td>5</td>\n",
       "      <td>5</td>\n",
       "      <td>4</td>\n",
       "      <td>6</td>\n",
       "      <td>...</td>\n",
       "      <td>8</td>\n",
       "      <td>7</td>\n",
       "      <td>9</td>\n",
       "      <td>2</td>\n",
       "      <td>1</td>\n",
       "      <td>4</td>\n",
       "      <td>6</td>\n",
       "      <td>7</td>\n",
       "      <td>2</td>\n",
       "      <td>2</td>\n",
       "    </tr>\n",
       "    <tr>\n",
       "      <th>998</th>\n",
       "      <td>998</td>\n",
       "      <td>18</td>\n",
       "      <td>2</td>\n",
       "      <td>6</td>\n",
       "      <td>8</td>\n",
       "      <td>7</td>\n",
       "      <td>7</td>\n",
       "      <td>7</td>\n",
       "      <td>6</td>\n",
       "      <td>7</td>\n",
       "      <td>...</td>\n",
       "      <td>3</td>\n",
       "      <td>2</td>\n",
       "      <td>4</td>\n",
       "      <td>1</td>\n",
       "      <td>4</td>\n",
       "      <td>2</td>\n",
       "      <td>4</td>\n",
       "      <td>2</td>\n",
       "      <td>3</td>\n",
       "      <td>2</td>\n",
       "    </tr>\n",
       "    <tr>\n",
       "      <th>999</th>\n",
       "      <td>999</td>\n",
       "      <td>47</td>\n",
       "      <td>1</td>\n",
       "      <td>6</td>\n",
       "      <td>5</td>\n",
       "      <td>6</td>\n",
       "      <td>5</td>\n",
       "      <td>5</td>\n",
       "      <td>4</td>\n",
       "      <td>6</td>\n",
       "      <td>...</td>\n",
       "      <td>8</td>\n",
       "      <td>7</td>\n",
       "      <td>9</td>\n",
       "      <td>2</td>\n",
       "      <td>1</td>\n",
       "      <td>4</td>\n",
       "      <td>6</td>\n",
       "      <td>7</td>\n",
       "      <td>2</td>\n",
       "      <td>2</td>\n",
       "    </tr>\n",
       "  </tbody>\n",
       "</table>\n",
       "<p>1000 rows × 25 columns</p>\n",
       "</div>"
      ],
      "text/plain": [
       "     index  Age  Gender  Air Pollution  Alcohol use  Dust Allergy  \\\n",
       "0        0   33       1              2            4             5   \n",
       "1        1   17       1              3            1             5   \n",
       "2        2   35       1              4            5             6   \n",
       "3        3   37       1              7            7             7   \n",
       "4        4   46       1              6            8             7   \n",
       "..     ...  ...     ...            ...          ...           ...   \n",
       "995    995   44       1              6            7             7   \n",
       "996    996   37       2              6            8             7   \n",
       "997    997   25       2              4            5             6   \n",
       "998    998   18       2              6            8             7   \n",
       "999    999   47       1              6            5             6   \n",
       "\n",
       "     OccuPational Hazards  Genetic Risk  chronic Lung Disease  Balanced Diet  \\\n",
       "0                       4             3                     2              2   \n",
       "1                       3             4                     2              2   \n",
       "2                       5             5                     4              6   \n",
       "3                       7             6                     7              7   \n",
       "4                       7             7                     6              7   \n",
       "..                    ...           ...                   ...            ...   \n",
       "995                     7             7                     6              7   \n",
       "996                     7             7                     6              7   \n",
       "997                     5             5                     4              6   \n",
       "998                     7             7                     6              7   \n",
       "999                     5             5                     4              6   \n",
       "\n",
       "     ...  Fatigue  Weight Loss  Shortness of Breath  Wheezing  \\\n",
       "0    ...        3            4                    2         2   \n",
       "1    ...        1            3                    7         8   \n",
       "2    ...        8            7                    9         2   \n",
       "3    ...        4            2                    3         1   \n",
       "4    ...        3            2                    4         1   \n",
       "..   ...      ...          ...                  ...       ...   \n",
       "995  ...        5            3                    2         7   \n",
       "996  ...        9            6                    5         7   \n",
       "997  ...        8            7                    9         2   \n",
       "998  ...        3            2                    4         1   \n",
       "999  ...        8            7                    9         2   \n",
       "\n",
       "     Swallowing Difficulty  Clubbing of Finger Nails  Frequent Cold  \\\n",
       "0                        3                         1              2   \n",
       "1                        6                         2              1   \n",
       "2                        1                         4              6   \n",
       "3                        4                         5              6   \n",
       "4                        4                         2              4   \n",
       "..                     ...                       ...            ...   \n",
       "995                      8                         2              4   \n",
       "996                      2                         4              3   \n",
       "997                      1                         4              6   \n",
       "998                      4                         2              4   \n",
       "999                      1                         4              6   \n",
       "\n",
       "     Dry Cough  Snoring  Level_cat  \n",
       "0            3        4          0  \n",
       "1            7        2          1  \n",
       "2            7        2          2  \n",
       "3            7        5          2  \n",
       "4            2        3          2  \n",
       "..         ...      ...        ...  \n",
       "995          5        3          2  \n",
       "996          1        4          2  \n",
       "997          7        2          2  \n",
       "998          2        3          2  \n",
       "999          7        2          2  \n",
       "\n",
       "[1000 rows x 25 columns]"
      ]
     },
     "execution_count": 6,
     "metadata": {},
     "output_type": "execute_result"
    }
   ],
   "source": [
    "df"
   ]
  },
  {
   "cell_type": "code",
   "execution_count": 7,
   "id": "7474636d",
   "metadata": {},
   "outputs": [],
   "source": [
    "X = df.drop([\"Level_cat\", \"index\"], axis=1)\n",
    "y = df[\"Level_cat\"]"
   ]
  },
  {
   "cell_type": "code",
   "execution_count": 8,
   "id": "e3f4f6d1",
   "metadata": {},
   "outputs": [
    {
     "data": {
      "image/png": "[encoded data removed]",
      "text/plain": [
       "<Figure size 1296x648 with 2 Axes>"
      ]
     },
     "metadata": {
      "needs_background": "light"
     },
     "output_type": "display_data"
    }
   ],
   "source": [
    "new_df = df.drop([\"index\", \"Age\", \"Gender\", \"Wheezing\", \"Swallowing Difficulty\", \"Snoring\"], axis=1)\n",
    "plt.figure(figsize = (18,9))\n",
    "sns.heatmap(new_df.corr(), cmap='GnBu', annot=True)\n",
    "plt.show()"
   ]
  },
  {
   "cell_type": "code",
   "execution_count": 75,
   "id": "d58f7044",
   "metadata": {},
   "outputs": [
    {
     "data": {
      "text/html": [
       "<style>#sk-container-id-19 {color: black;}#sk-container-id-19 pre{padding: 0;}#sk-container-id-19 div.sk-toggleable {background-color: white;}#sk-container-id-19 label.sk-toggleable__label {cursor: pointer;display: block;width: 100%;margin-bottom: 0;padding: 0.3em;box-sizing: border-box;text-align: center;}#sk-container-id-19 label.sk-toggleable__label-arrow:before {content: \"▸\";float: left;margin-right: 0.25em;color: #696969;}#sk-container-id-19 label.sk-toggleable__label-arrow:hover:before {color: black;}#sk-container-id-19 div.sk-estimator:hover label.sk-toggleable__label-arrow:before {color: black;}#sk-container-id-19 div.sk-toggleable__content {max-height: 0;max-width: 0;overflow: hidden;text-align: left;background-color: #f0f8ff;}#sk-container-id-19 div.sk-toggleable__content pre {margin: 0.2em;color: black;border-radius: 0.25em;background-color: #f0f8ff;}#sk-container-id-19 input.sk-toggleable__control:checked~div.sk-toggleable__content {max-height: 200px;max-width: 100%;overflow: auto;}#sk-container-id-19 input.sk-toggleable__control:checked~label.sk-toggleable__label-arrow:before {content: \"▾\";}#sk-container-id-19 div.sk-estimator input.sk-toggleable__control:checked~label.sk-toggleable__label {background-color: #d4ebff;}#sk-container-id-19 div.sk-label input.sk-toggleable__control:checked~label.sk-toggleable__label {background-color: #d4ebff;}#sk-container-id-19 input.sk-hidden--visually {border: 0;clip: rect(1px 1px 1px 1px);clip: rect(1px, 1px, 1px, 1px);height: 1px;margin: -1px;overflow: hidden;padding: 0;position: absolute;width: 1px;}#sk-container-id-19 div.sk-estimator {font-family: monospace;background-color: #f0f8ff;border: 1px dotted black;border-radius: 0.25em;box-sizing: border-box;margin-bottom: 0.5em;}#sk-container-id-19 div.sk-estimator:hover {background-color: #d4ebff;}#sk-container-id-19 div.sk-parallel-item::after {content: \"\";width: 100%;border-bottom: 1px solid gray;flex-grow: 1;}#sk-container-id-19 div.sk-label:hover label.sk-toggleable__label {background-color: #d4ebff;}#sk-container-id-19 div.sk-serial::before {content: \"\";position: absolute;border-left: 1px solid gray;box-sizing: border-box;top: 0;bottom: 0;left: 50%;z-index: 0;}#sk-container-id-19 div.sk-serial {display: flex;flex-direction: column;align-items: center;background-color: white;padding-right: 0.2em;padding-left: 0.2em;position: relative;}#sk-container-id-19 div.sk-item {position: relative;z-index: 1;}#sk-container-id-19 div.sk-parallel {display: flex;align-items: stretch;justify-content: center;background-color: white;position: relative;}#sk-container-id-19 div.sk-item::before, #sk-container-id-19 div.sk-parallel-item::before {content: \"\";position: absolute;border-left: 1px solid gray;box-sizing: border-box;top: 0;bottom: 0;left: 50%;z-index: -1;}#sk-container-id-19 div.sk-parallel-item {display: flex;flex-direction: column;z-index: 1;position: relative;background-color: white;}#sk-container-id-19 div.sk-parallel-item:first-child::after {align-self: flex-end;width: 50%;}#sk-container-id-19 div.sk-parallel-item:last-child::after {align-self: flex-start;width: 50%;}#sk-container-id-19 div.sk-parallel-item:only-child::after {width: 0;}#sk-container-id-19 div.sk-dashed-wrapped {border: 1px dashed gray;margin: 0 0.4em 0.5em 0.4em;box-sizing: border-box;padding-bottom: 0.4em;background-color: white;}#sk-container-id-19 div.sk-label label {font-family: monospace;font-weight: bold;display: inline-block;line-height: 1.2em;}#sk-container-id-19 div.sk-label-container {text-align: center;}#sk-container-id-19 div.sk-container {/* jupyter's `normalize.less` sets `[hidden] { display: none; }` but bootstrap.min.css set `[hidden] { display: none !important; }` so we also need the `!important` here to be able to override the default hidden behavior on the sphinx rendered scikit-learn.org. See: https://github.com/scikit-learn/scikit-learn/issues/21755 */display: inline-block !important;position: relative;}#sk-container-id-19 div.sk-text-repr-fallback {display: none;}</style><div id=\"sk-container-id-19\" class=\"sk-top-container\"><div class=\"sk-text-repr-fallback\"><pre>RandomForestClassifier(max_depth=2, random_state=42)</pre><b>In a Jupyter environment, please rerun this cell to show the HTML representation or trust the notebook. <br />On GitHub, the HTML representation is unable to render, please try loading this page with nbviewer.org.</b></div><div class=\"sk-container\" hidden><div class=\"sk-item\"><div class=\"sk-estimator sk-toggleable\"><input class=\"sk-toggleable__control sk-hidden--visually\" id=\"sk-estimator-id-19\" type=\"checkbox\" checked><label for=\"sk-estimator-id-19\" class=\"sk-toggleable__label sk-toggleable__label-arrow\">RandomForestClassifier</label><div class=\"sk-toggleable__content\"><pre>RandomForestClassifier(max_depth=2, random_state=42)</pre></div></div></div></div></div>"
      ],
      "text/plain": [
       "RandomForestClassifier(max_depth=2, random_state=42)"
      ]
     },
     "execution_count": 75,
     "metadata": {},
     "output_type": "execute_result"
    }
   ],
   "source": [
    "X_new_train, X_new_test, y_new_train, y_new_test = train_test_split(X, y, test_size=0.1, random_state=0)\n",
    "forrest = RandomForestClassifier(max_depth=3, random_state=42)\n",
    "forrest.fit(X_new_train, y_new_train)"
   ]
  },
  {
   "cell_type": "code",
   "execution_count": 76,
   "id": "b01edc1a",
   "metadata": {},
   "outputs": [
    {
     "name": "stdout",
     "output_type": "stream",
     "text": [
      "[0.         0.         0.04665847 0.04572409 0.02783673 0.03874952\n",
      " 0.04276057 0.00284662 0.05664199 0.13070886 0.05963895 0.12730316\n",
      " 0.06023693 0.15334569 0.03343148 0.01544856 0.03604762 0.05491772\n",
      " 0.02185117 0.01833862 0.0102363  0.00569418 0.01158278]\n",
      "['Age' 'Gender' 'Air Pollution' 'Alcohol use' 'Dust Allergy'\n",
      " 'OccuPational Hazards' 'Genetic Risk' 'chronic Lung Disease'\n",
      " 'Balanced Diet' 'Obesity' 'Smoking' 'Passive Smoker' 'Chest Pain'\n",
      " 'Coughing of Blood' 'Fatigue' 'Weight Loss' 'Shortness of Breath'\n",
      " 'Wheezing' 'Swallowing Difficulty' 'Clubbing of Finger Nails'\n",
      " 'Frequent Cold' 'Dry Cough' 'Snoring']\n"
     ]
    }
   ],
   "source": [
    "print(forrest.feature_importances_)\n",
    "print(forrest.feature_names_in_)"
   ]
  },
  {
   "cell_type": "code",
   "execution_count": 77,
   "id": "301b0aa8",
   "metadata": {},
   "outputs": [
    {
     "name": "stdout",
     "output_type": "stream",
     "text": [
      "              precision    recall  f1-score   support\n",
      "\n",
      "           0       0.85      0.93      0.89        30\n",
      "           1       0.90      0.82      0.86        34\n",
      "           2       0.94      0.94      0.94        36\n",
      "\n",
      "    accuracy                           0.90       100\n",
      "   macro avg       0.90      0.90      0.90       100\n",
      "weighted avg       0.90      0.90      0.90       100\n",
      "\n"
     ]
    },
    {
     "data": {
      "image/png": "[encoded data removed]",
      "text/plain": [
       "<Figure size 432x288 with 2 Axes>"
      ]
     },
     "metadata": {
      "needs_background": "light"
     },
     "output_type": "display_data"
    }
   ],
   "source": [
    "y_pred = forrest.predict(X_new_test)\n",
    "cmx = confusion_matrix(y_new_test, y_pred)\n",
    "ConfusionMatrixDisplay(cmx, display_labels=[0,1,2]).plot(cmap=plt.cm.Blues)\n",
    "print(classification_report(y_new_test, y_pred))"
   ]
  },
  {
   "cell_type": "code",
   "execution_count": 80,
   "id": "b95aae97",
   "metadata": {},
   "outputs": [
    {
     "data": {
      "text/plain": [
       "array([0.99, 0.97, 0.99, 0.99, 1.  , 1.  , 0.98, 1.  , 1.  , 1.  ])"
      ]
     },
     "execution_count": 80,
     "metadata": {},
     "output_type": "execute_result"
    }
   ],
   "source": [
    "cross_val_score(RandomForestClassifier(max_depth=3, random_state=0), X, y, cv=10)"
   ]
  },
  {
   "cell_type": "code",
   "execution_count": 94,
   "id": "e3dcff7b",
   "metadata": {},
   "outputs": [
    {
     "data": {
      "text/html": [
       "<div>\n",
       "<style scoped>\n",
       "    .dataframe tbody tr th:only-of-type {\n",
       "        vertical-align: middle;\n",
       "    }\n",
       "\n",
       "    .dataframe tbody tr th {\n",
       "        vertical-align: top;\n",
       "    }\n",
       "\n",
       "    .dataframe thead th {\n",
       "        text-align: right;\n",
       "    }\n",
       "</style>\n",
       "<table border=\"1\" class=\"dataframe\">\n",
       "  <thead>\n",
       "    <tr style=\"text-align: right;\">\n",
       "      <th></th>\n",
       "      <th>Air Pollution</th>\n",
       "      <th>Alcohol use</th>\n",
       "      <th>Dust Allergy</th>\n",
       "      <th>OccuPational Hazards</th>\n",
       "      <th>Genetic Risk</th>\n",
       "      <th>chronic Lung Disease</th>\n",
       "      <th>Balanced Diet</th>\n",
       "      <th>Obesity</th>\n",
       "      <th>Smoking</th>\n",
       "      <th>Passive Smoker</th>\n",
       "      <th>Chest Pain</th>\n",
       "      <th>Coughing of Blood</th>\n",
       "      <th>Fatigue</th>\n",
       "      <th>Weight Loss</th>\n",
       "      <th>Shortness of Breath</th>\n",
       "      <th>Wheezing</th>\n",
       "      <th>Swallowing Difficulty</th>\n",
       "      <th>Clubbing of Finger Nails</th>\n",
       "      <th>Frequent Cold</th>\n",
       "      <th>Snoring</th>\n",
       "    </tr>\n",
       "  </thead>\n",
       "  <tbody>\n",
       "    <tr>\n",
       "      <th>0</th>\n",
       "      <td>2</td>\n",
       "      <td>4</td>\n",
       "      <td>5</td>\n",
       "      <td>4</td>\n",
       "      <td>3</td>\n",
       "      <td>2</td>\n",
       "      <td>2</td>\n",
       "      <td>4</td>\n",
       "      <td>3</td>\n",
       "      <td>2</td>\n",
       "      <td>2</td>\n",
       "      <td>4</td>\n",
       "      <td>3</td>\n",
       "      <td>4</td>\n",
       "      <td>2</td>\n",
       "      <td>2</td>\n",
       "      <td>3</td>\n",
       "      <td>1</td>\n",
       "      <td>2</td>\n",
       "      <td>4</td>\n",
       "    </tr>\n",
       "    <tr>\n",
       "      <th>1</th>\n",
       "      <td>3</td>\n",
       "      <td>1</td>\n",
       "      <td>5</td>\n",
       "      <td>3</td>\n",
       "      <td>4</td>\n",
       "      <td>2</td>\n",
       "      <td>2</td>\n",
       "      <td>2</td>\n",
       "      <td>2</td>\n",
       "      <td>4</td>\n",
       "      <td>2</td>\n",
       "      <td>3</td>\n",
       "      <td>1</td>\n",
       "      <td>3</td>\n",
       "      <td>7</td>\n",
       "      <td>8</td>\n",
       "      <td>6</td>\n",
       "      <td>2</td>\n",
       "      <td>1</td>\n",
       "      <td>2</td>\n",
       "    </tr>\n",
       "    <tr>\n",
       "      <th>2</th>\n",
       "      <td>4</td>\n",
       "      <td>5</td>\n",
       "      <td>6</td>\n",
       "      <td>5</td>\n",
       "      <td>5</td>\n",
       "      <td>4</td>\n",
       "      <td>6</td>\n",
       "      <td>7</td>\n",
       "      <td>2</td>\n",
       "      <td>3</td>\n",
       "      <td>4</td>\n",
       "      <td>8</td>\n",
       "      <td>8</td>\n",
       "      <td>7</td>\n",
       "      <td>9</td>\n",
       "      <td>2</td>\n",
       "      <td>1</td>\n",
       "      <td>4</td>\n",
       "      <td>6</td>\n",
       "      <td>2</td>\n",
       "    </tr>\n",
       "    <tr>\n",
       "      <th>3</th>\n",
       "      <td>7</td>\n",
       "      <td>7</td>\n",
       "      <td>7</td>\n",
       "      <td>7</td>\n",
       "      <td>6</td>\n",
       "      <td>7</td>\n",
       "      <td>7</td>\n",
       "      <td>7</td>\n",
       "      <td>7</td>\n",
       "      <td>7</td>\n",
       "      <td>7</td>\n",
       "      <td>8</td>\n",
       "      <td>4</td>\n",
       "      <td>2</td>\n",
       "      <td>3</td>\n",
       "      <td>1</td>\n",
       "      <td>4</td>\n",
       "      <td>5</td>\n",
       "      <td>6</td>\n",
       "      <td>5</td>\n",
       "    </tr>\n",
       "    <tr>\n",
       "      <th>4</th>\n",
       "      <td>6</td>\n",
       "      <td>8</td>\n",
       "      <td>7</td>\n",
       "      <td>7</td>\n",
       "      <td>7</td>\n",
       "      <td>6</td>\n",
       "      <td>7</td>\n",
       "      <td>7</td>\n",
       "      <td>8</td>\n",
       "      <td>7</td>\n",
       "      <td>7</td>\n",
       "      <td>9</td>\n",
       "      <td>3</td>\n",
       "      <td>2</td>\n",
       "      <td>4</td>\n",
       "      <td>1</td>\n",
       "      <td>4</td>\n",
       "      <td>2</td>\n",
       "      <td>4</td>\n",
       "      <td>3</td>\n",
       "    </tr>\n",
       "    <tr>\n",
       "      <th>...</th>\n",
       "      <td>...</td>\n",
       "      <td>...</td>\n",
       "      <td>...</td>\n",
       "      <td>...</td>\n",
       "      <td>...</td>\n",
       "      <td>...</td>\n",
       "      <td>...</td>\n",
       "      <td>...</td>\n",
       "      <td>...</td>\n",
       "      <td>...</td>\n",
       "      <td>...</td>\n",
       "      <td>...</td>\n",
       "      <td>...</td>\n",
       "      <td>...</td>\n",
       "      <td>...</td>\n",
       "      <td>...</td>\n",
       "      <td>...</td>\n",
       "      <td>...</td>\n",
       "      <td>...</td>\n",
       "      <td>...</td>\n",
       "    </tr>\n",
       "    <tr>\n",
       "      <th>995</th>\n",
       "      <td>6</td>\n",
       "      <td>7</td>\n",
       "      <td>7</td>\n",
       "      <td>7</td>\n",
       "      <td>7</td>\n",
       "      <td>6</td>\n",
       "      <td>7</td>\n",
       "      <td>7</td>\n",
       "      <td>7</td>\n",
       "      <td>8</td>\n",
       "      <td>7</td>\n",
       "      <td>7</td>\n",
       "      <td>5</td>\n",
       "      <td>3</td>\n",
       "      <td>2</td>\n",
       "      <td>7</td>\n",
       "      <td>8</td>\n",
       "      <td>2</td>\n",
       "      <td>4</td>\n",
       "      <td>3</td>\n",
       "    </tr>\n",
       "    <tr>\n",
       "      <th>996</th>\n",
       "      <td>6</td>\n",
       "      <td>8</td>\n",
       "      <td>7</td>\n",
       "      <td>7</td>\n",
       "      <td>7</td>\n",
       "      <td>6</td>\n",
       "      <td>7</td>\n",
       "      <td>7</td>\n",
       "      <td>7</td>\n",
       "      <td>8</td>\n",
       "      <td>7</td>\n",
       "      <td>7</td>\n",
       "      <td>9</td>\n",
       "      <td>6</td>\n",
       "      <td>5</td>\n",
       "      <td>7</td>\n",
       "      <td>2</td>\n",
       "      <td>4</td>\n",
       "      <td>3</td>\n",
       "      <td>4</td>\n",
       "    </tr>\n",
       "    <tr>\n",
       "      <th>997</th>\n",
       "      <td>4</td>\n",
       "      <td>5</td>\n",
       "      <td>6</td>\n",
       "      <td>5</td>\n",
       "      <td>5</td>\n",
       "      <td>4</td>\n",
       "      <td>6</td>\n",
       "      <td>7</td>\n",
       "      <td>2</td>\n",
       "      <td>3</td>\n",
       "      <td>4</td>\n",
       "      <td>8</td>\n",
       "      <td>8</td>\n",
       "      <td>7</td>\n",
       "      <td>9</td>\n",
       "      <td>2</td>\n",
       "      <td>1</td>\n",
       "      <td>4</td>\n",
       "      <td>6</td>\n",
       "      <td>2</td>\n",
       "    </tr>\n",
       "    <tr>\n",
       "      <th>998</th>\n",
       "      <td>6</td>\n",
       "      <td>8</td>\n",
       "      <td>7</td>\n",
       "      <td>7</td>\n",
       "      <td>7</td>\n",
       "      <td>6</td>\n",
       "      <td>7</td>\n",
       "      <td>7</td>\n",
       "      <td>8</td>\n",
       "      <td>7</td>\n",
       "      <td>7</td>\n",
       "      <td>9</td>\n",
       "      <td>3</td>\n",
       "      <td>2</td>\n",
       "      <td>4</td>\n",
       "      <td>1</td>\n",
       "      <td>4</td>\n",
       "      <td>2</td>\n",
       "      <td>4</td>\n",
       "      <td>3</td>\n",
       "    </tr>\n",
       "    <tr>\n",
       "      <th>999</th>\n",
       "      <td>6</td>\n",
       "      <td>5</td>\n",
       "      <td>6</td>\n",
       "      <td>5</td>\n",
       "      <td>5</td>\n",
       "      <td>4</td>\n",
       "      <td>6</td>\n",
       "      <td>7</td>\n",
       "      <td>2</td>\n",
       "      <td>3</td>\n",
       "      <td>4</td>\n",
       "      <td>8</td>\n",
       "      <td>8</td>\n",
       "      <td>7</td>\n",
       "      <td>9</td>\n",
       "      <td>2</td>\n",
       "      <td>1</td>\n",
       "      <td>4</td>\n",
       "      <td>6</td>\n",
       "      <td>2</td>\n",
       "    </tr>\n",
       "  </tbody>\n",
       "</table>\n",
       "<p>1000 rows × 20 columns</p>\n",
       "</div>"
      ],
      "text/plain": [
       "     Air Pollution  Alcohol use  Dust Allergy  OccuPational Hazards  \\\n",
       "0                2            4             5                     4   \n",
       "1                3            1             5                     3   \n",
       "2                4            5             6                     5   \n",
       "3                7            7             7                     7   \n",
       "4                6            8             7                     7   \n",
       "..             ...          ...           ...                   ...   \n",
       "995              6            7             7                     7   \n",
       "996              6            8             7                     7   \n",
       "997              4            5             6                     5   \n",
       "998              6            8             7                     7   \n",
       "999              6            5             6                     5   \n",
       "\n",
       "     Genetic Risk  chronic Lung Disease  Balanced Diet  Obesity  Smoking  \\\n",
       "0               3                     2              2        4        3   \n",
       "1               4                     2              2        2        2   \n",
       "2               5                     4              6        7        2   \n",
       "3               6                     7              7        7        7   \n",
       "4               7                     6              7        7        8   \n",
       "..            ...                   ...            ...      ...      ...   \n",
       "995             7                     6              7        7        7   \n",
       "996             7                     6              7        7        7   \n",
       "997             5                     4              6        7        2   \n",
       "998             7                     6              7        7        8   \n",
       "999             5                     4              6        7        2   \n",
       "\n",
       "     Passive Smoker  Chest Pain  Coughing of Blood  Fatigue  Weight Loss  \\\n",
       "0                 2           2                  4        3            4   \n",
       "1                 4           2                  3        1            3   \n",
       "2                 3           4                  8        8            7   \n",
       "3                 7           7                  8        4            2   \n",
       "4                 7           7                  9        3            2   \n",
       "..              ...         ...                ...      ...          ...   \n",
       "995               8           7                  7        5            3   \n",
       "996               8           7                  7        9            6   \n",
       "997               3           4                  8        8            7   \n",
       "998               7           7                  9        3            2   \n",
       "999               3           4                  8        8            7   \n",
       "\n",
       "     Shortness of Breath  Wheezing  Swallowing Difficulty  \\\n",
       "0                      2         2                      3   \n",
       "1                      7         8                      6   \n",
       "2                      9         2                      1   \n",
       "3                      3         1                      4   \n",
       "4                      4         1                      4   \n",
       "..                   ...       ...                    ...   \n",
       "995                    2         7                      8   \n",
       "996                    5         7                      2   \n",
       "997                    9         2                      1   \n",
       "998                    4         1                      4   \n",
       "999                    9         2                      1   \n",
       "\n",
       "     Clubbing of Finger Nails  Frequent Cold  Snoring  \n",
       "0                           1              2        4  \n",
       "1                           2              1        2  \n",
       "2                           4              6        2  \n",
       "3                           5              6        5  \n",
       "4                           2              4        3  \n",
       "..                        ...            ...      ...  \n",
       "995                         2              4        3  \n",
       "996                         4              3        4  \n",
       "997                         4              6        2  \n",
       "998                         2              4        3  \n",
       "999                         4              6        2  \n",
       "\n",
       "[1000 rows x 20 columns]"
      ]
     },
     "execution_count": 94,
     "metadata": {},
     "output_type": "execute_result"
    }
   ],
   "source": [
    "X_new = X.drop([\"Age\", \"Gender\", \"Dry Cough\"], axis=1)\n",
    "X_new"
   ]
  },
  {
   "cell_type": "code",
   "execution_count": 95,
   "id": "f7c28abe",
   "metadata": {},
   "outputs": [
    {
     "data": {
      "text/plain": [
       "array([0.99, 1.  , 1.  , 1.  , 1.  , 1.  , 0.98, 0.99, 1.  , 0.99])"
      ]
     },
     "execution_count": 95,
     "metadata": {},
     "output_type": "execute_result"
    }
   ],
   "source": [
    "cross_val_score(RandomForestClassifier(max_depth=3, random_state=0), X_new, y, cv=10)"
   ]
  },
  {
   "cell_type": "code",
   "execution_count": 300,
   "id": "cee03167",
   "metadata": {},
   "outputs": [
    {
     "data": {
      "text/html": [
       "<style>#sk-container-id-87 {color: black;}#sk-container-id-87 pre{padding: 0;}#sk-container-id-87 div.sk-toggleable {background-color: white;}#sk-container-id-87 label.sk-toggleable__label {cursor: pointer;display: block;width: 100%;margin-bottom: 0;padding: 0.3em;box-sizing: border-box;text-align: center;}#sk-container-id-87 label.sk-toggleable__label-arrow:before {content: \"▸\";float: left;margin-right: 0.25em;color: #696969;}#sk-container-id-87 label.sk-toggleable__label-arrow:hover:before {color: black;}#sk-container-id-87 div.sk-estimator:hover label.sk-toggleable__label-arrow:before {color: black;}#sk-container-id-87 div.sk-toggleable__content {max-height: 0;max-width: 0;overflow: hidden;text-align: left;background-color: #f0f8ff;}#sk-container-id-87 div.sk-toggleable__content pre {margin: 0.2em;color: black;border-radius: 0.25em;background-color: #f0f8ff;}#sk-container-id-87 input.sk-toggleable__control:checked~div.sk-toggleable__content {max-height: 200px;max-width: 100%;overflow: auto;}#sk-container-id-87 input.sk-toggleable__control:checked~label.sk-toggleable__label-arrow:before {content: \"▾\";}#sk-container-id-87 div.sk-estimator input.sk-toggleable__control:checked~label.sk-toggleable__label {background-color: #d4ebff;}#sk-container-id-87 div.sk-label input.sk-toggleable__control:checked~label.sk-toggleable__label {background-color: #d4ebff;}#sk-container-id-87 input.sk-hidden--visually {border: 0;clip: rect(1px 1px 1px 1px);clip: rect(1px, 1px, 1px, 1px);height: 1px;margin: -1px;overflow: hidden;padding: 0;position: absolute;width: 1px;}#sk-container-id-87 div.sk-estimator {font-family: monospace;background-color: #f0f8ff;border: 1px dotted black;border-radius: 0.25em;box-sizing: border-box;margin-bottom: 0.5em;}#sk-container-id-87 div.sk-estimator:hover {background-color: #d4ebff;}#sk-container-id-87 div.sk-parallel-item::after {content: \"\";width: 100%;border-bottom: 1px solid gray;flex-grow: 1;}#sk-container-id-87 div.sk-label:hover label.sk-toggleable__label {background-color: #d4ebff;}#sk-container-id-87 div.sk-serial::before {content: \"\";position: absolute;border-left: 1px solid gray;box-sizing: border-box;top: 0;bottom: 0;left: 50%;z-index: 0;}#sk-container-id-87 div.sk-serial {display: flex;flex-direction: column;align-items: center;background-color: white;padding-right: 0.2em;padding-left: 0.2em;position: relative;}#sk-container-id-87 div.sk-item {position: relative;z-index: 1;}#sk-container-id-87 div.sk-parallel {display: flex;align-items: stretch;justify-content: center;background-color: white;position: relative;}#sk-container-id-87 div.sk-item::before, #sk-container-id-87 div.sk-parallel-item::before {content: \"\";position: absolute;border-left: 1px solid gray;box-sizing: border-box;top: 0;bottom: 0;left: 50%;z-index: -1;}#sk-container-id-87 div.sk-parallel-item {display: flex;flex-direction: column;z-index: 1;position: relative;background-color: white;}#sk-container-id-87 div.sk-parallel-item:first-child::after {align-self: flex-end;width: 50%;}#sk-container-id-87 div.sk-parallel-item:last-child::after {align-self: flex-start;width: 50%;}#sk-container-id-87 div.sk-parallel-item:only-child::after {width: 0;}#sk-container-id-87 div.sk-dashed-wrapped {border: 1px dashed gray;margin: 0 0.4em 0.5em 0.4em;box-sizing: border-box;padding-bottom: 0.4em;background-color: white;}#sk-container-id-87 div.sk-label label {font-family: monospace;font-weight: bold;display: inline-block;line-height: 1.2em;}#sk-container-id-87 div.sk-label-container {text-align: center;}#sk-container-id-87 div.sk-container {/* jupyter's `normalize.less` sets `[hidden] { display: none; }` but bootstrap.min.css set `[hidden] { display: none !important; }` so we also need the `!important` here to be able to override the default hidden behavior on the sphinx rendered scikit-learn.org. See: https://github.com/scikit-learn/scikit-learn/issues/21755 */display: inline-block !important;position: relative;}#sk-container-id-87 div.sk-text-repr-fallback {display: none;}</style><div id=\"sk-container-id-87\" class=\"sk-top-container\"><div class=\"sk-text-repr-fallback\"><pre>RandomForestClassifier(max_depth=10, min_samples_leaf=10, min_samples_split=10)</pre><b>In a Jupyter environment, please rerun this cell to show the HTML representation or trust the notebook. <br />On GitHub, the HTML representation is unable to render, please try loading this page with nbviewer.org.</b></div><div class=\"sk-container\" hidden><div class=\"sk-item\"><div class=\"sk-estimator sk-toggleable\"><input class=\"sk-toggleable__control sk-hidden--visually\" id=\"sk-estimator-id-87\" type=\"checkbox\" checked><label for=\"sk-estimator-id-87\" class=\"sk-toggleable__label sk-toggleable__label-arrow\">RandomForestClassifier</label><div class=\"sk-toggleable__content\"><pre>RandomForestClassifier(max_depth=10, min_samples_leaf=10, min_samples_split=10)</pre></div></div></div></div></div>"
      ],
      "text/plain": [
       "RandomForestClassifier(max_depth=10, min_samples_leaf=10, min_samples_split=10)"
      ]
     },
     "execution_count": 300,
     "metadata": {},
     "output_type": "execute_result"
    }
   ],
   "source": [
    "X_new_train, X_new_test, y_new_train, y_new_test = train_test_split(X, y, test_size=0.1, random_state=0)\n",
    "forrest = RandomForestClassifier(n_estimators=100, max_depth=10, min_samples_split=10, min_samples_leaf=10)\n",
    "forrest.fit(X_new_train, y_new_train)"
   ]
  },
  {
   "cell_type": "code",
   "execution_count": 301,
   "id": "da993512",
   "metadata": {},
   "outputs": [
    {
     "name": "stdout",
     "output_type": "stream",
     "text": [
      "[0.00471938 0.00084003 0.03662476 0.05791939 0.04706199 0.02814929\n",
      " 0.02057381 0.0151712  0.05744606 0.09195909 0.04028077 0.08535991\n",
      " 0.03589079 0.11707133 0.06522963 0.02133425 0.04115928 0.09491108\n",
      " 0.03266788 0.03847831 0.01586787 0.01431914 0.03696473]\n",
      "['Age' 'Gender' 'Air Pollution' 'Alcohol use' 'Dust Allergy'\n",
      " 'OccuPational Hazards' 'Genetic Risk' 'chronic Lung Disease'\n",
      " 'Balanced Diet' 'Obesity' 'Smoking' 'Passive Smoker' 'Chest Pain'\n",
      " 'Coughing of Blood' 'Fatigue' 'Weight Loss' 'Shortness of Breath'\n",
      " 'Wheezing' 'Swallowing Difficulty' 'Clubbing of Finger Nails'\n",
      " 'Frequent Cold' 'Dry Cough' 'Snoring']\n"
     ]
    }
   ],
   "source": [
    "print(forrest.feature_importances_)\n",
    "print(forrest.feature_names_in_)"
   ]
  },
  {
   "cell_type": "code",
   "execution_count": 302,
   "id": "667e3e43",
   "metadata": {},
   "outputs": [
    {
     "name": "stdout",
     "output_type": "stream",
     "text": [
      "              precision    recall  f1-score   support\n",
      "\n",
      "           0       1.00      1.00      1.00        30\n",
      "           1       1.00      1.00      1.00        34\n",
      "           2       1.00      1.00      1.00        36\n",
      "\n",
      "    accuracy                           1.00       100\n",
      "   macro avg       1.00      1.00      1.00       100\n",
      "weighted avg       1.00      1.00      1.00       100\n",
      "\n"
     ]
    },
    {
     "data": {
      "image/png": "[encoded data removed]",
      "text/plain": [
       "<Figure size 432x288 with 2 Axes>"
      ]
     },
     "metadata": {
      "needs_background": "light"
     },
     "output_type": "display_data"
    }
   ],
   "source": [
    "y_pred = forrest.predict(X_new_test)\n",
    "cmx = confusion_matrix(y_new_test, y_pred)\n",
    "ConfusionMatrixDisplay(cmx, display_labels=[0,1,2]).plot(cmap=plt.cm.Blues)\n",
    "print(classification_report(y_new_test, y_pred))"
   ]
  },
  {
   "cell_type": "code",
   "execution_count": 225,
   "id": "ca77d2ee",
   "metadata": {},
   "outputs": [
    {
     "data": {
      "text/plain": [
       "array([0.97, 0.96, 0.96, 0.97, 0.98, 0.97, 0.96, 0.98, 0.94, 0.97])"
      ]
     },
     "execution_count": 225,
     "metadata": {},
     "output_type": "execute_result"
    }
   ],
   "source": [
    "cross_val_score(RandomForestClassifier(max_depth=2, random_state=0, max_features='log2'), X, y, cv=10)"
   ]
  },
  {
   "cell_type": "code",
   "execution_count": 111,
   "id": "97679050",
   "metadata": {},
   "outputs": [
    {
     "data": {
      "text/plain": [
       "array([0.97, 0.96, 0.96, 0.97, 0.98, 0.97, 0.96, 0.98, 0.94, 0.97])"
      ]
     },
     "execution_count": 111,
     "metadata": {},
     "output_type": "execute_result"
    }
   ],
   "source": [
    "cross_val_score(RandomForestClassifier(max_depth=2, random_state=0, max_features='sqrt'), X, y, cv=10)"
   ]
  },
  {
   "cell_type": "code",
   "execution_count": 116,
   "id": "a79b39c6",
   "metadata": {},
   "outputs": [
    {
     "data": {
      "text/plain": [
       "array([0.97, 0.96, 0.96, 0.97, 0.98, 0.97, 0.96, 0.98, 0.98, 0.97])"
      ]
     },
     "execution_count": 116,
     "metadata": {},
     "output_type": "execute_result"
    }
   ],
   "source": [
    "cross_val_score(RandomForestClassifier(max_depth=2, random_state=0, max_features='log2'), X_new, y, cv=10)"
   ]
  },
  {
   "cell_type": "code",
   "execution_count": 117,
   "id": "fa23427a",
   "metadata": {},
   "outputs": [
    {
     "data": {
      "text/plain": [
       "array([0.97, 0.96, 0.96, 0.97, 0.98, 0.97, 0.96, 0.98, 0.94, 0.97])"
      ]
     },
     "execution_count": 117,
     "metadata": {},
     "output_type": "execute_result"
    }
   ],
   "source": [
    "cross_val_score(RandomForestClassifier(max_depth=2, random_state=0, max_features='sqrt'), X, y, cv=10)"
   ]
  },
  {
   "cell_type": "markdown",
   "id": "3289620d",
   "metadata": {},
   "source": [
    "How to prevent overfitting:\n",
    "* max_depth size\n",
    "* max_sample split\n",
    "* num_estimators\n",
    "* min_sample_leafs\n",
    "* min_weight_fraction_leaf"
   ]
  },
  {
   "cell_type": "markdown",
   "id": "465c4f7c",
   "metadata": {},
   "source": [
    "# Different criterion of random forest"
   ]
  },
  {
   "cell_type": "markdown",
   "id": "e36075ce",
   "metadata": {},
   "source": [
    "## Gini"
   ]
  },
  {
   "cell_type": "code",
   "execution_count": 303,
   "id": "95668aca",
   "metadata": {},
   "outputs": [],
   "source": [
    "X = df.drop([\"Level_cat\", \"index\"], axis=1)\n",
    "y = df[\"Level_cat\"]"
   ]
  },
  {
   "cell_type": "code",
   "execution_count": 317,
   "id": "1b1fd3a9",
   "metadata": {},
   "outputs": [
    {
     "data": {
      "text/plain": [
       "array([0.9 , 0.88, 0.88, 0.9 , 0.91, 0.9 , 0.89, 0.9 , 0.91, 0.89])"
      ]
     },
     "execution_count": 317,
     "metadata": {},
     "output_type": "execute_result"
    }
   ],
   "source": [
    "cross_val_score(RandomForestClassifier(n_estimators=500, min_samples_split=2, max_leaf_nodes=5, min_impurity_decrease=0.1, random_state=42), X, y, cv=10)"
   ]
  },
  {
   "cell_type": "code",
   "execution_count": 318,
   "id": "bd72dfe8",
   "metadata": {},
   "outputs": [
    {
     "data": {
      "text/plain": [
       "array([0.9 , 0.91, 0.89, 0.9 , 0.91, 0.89, 0.88, 0.89, 0.91, 0.9 ])"
      ]
     },
     "execution_count": 318,
     "metadata": {},
     "output_type": "execute_result"
    }
   ],
   "source": [
    "cross_val_score(RandomForestClassifier(n_estimators=100, min_samples_split=2, max_leaf_nodes=5, min_impurity_decrease=0.1, random_state=42), X, y, cv=10)"
   ]
  },
  {
   "cell_type": "code",
   "execution_count": 319,
   "id": "a254870a",
   "metadata": {},
   "outputs": [
    {
     "data": {
      "text/plain": [
       "array([0.9 , 0.9 , 0.89, 0.9 , 0.9 , 0.9 , 0.89, 0.9 , 0.91, 0.89])"
      ]
     },
     "execution_count": 319,
     "metadata": {},
     "output_type": "execute_result"
    }
   ],
   "source": [
    "cross_val_score(RandomForestClassifier(n_estimators=250, min_samples_split=2, max_leaf_nodes=5, min_impurity_decrease=0.1, random_state=42), X, y, cv=10)"
   ]
  },
  {
   "cell_type": "markdown",
   "id": "5adfb791",
   "metadata": {},
   "source": [
    "By looking at these, we can see that a hihger number of trees prevents overfitting more, but if we use too much trees, then the model will overfit again. Thus we will be using 250 trees to build our model."
   ]
  },
  {
   "cell_type": "markdown",
   "id": "d9e0b756",
   "metadata": {},
   "source": [
    "Also we need to tune the hyperparameters of min_samples_split, to determine the minimum samples we need to have, in order to split into leaf nodes, which encourages the tree to stop splitting earlier, resulting in a simpler model with fewer nodes. It's effective for preventing overfitting, especially when dealing with small datasets or highly complex models.\n",
    "\n",
    "The max_leaf_nodes parameter limits the maximum number of leaf nodes in the tree. Setting a lower value for max_leaf_nodes prevents the tree from becoming too deep and complex, thereby reducing the risk of overfitting. It's useful when you want to control the size of the tree explicitly.\n",
    "\n",
    "The min_impuity_decrease parameter controls the minimum impurity decrease required for a split to occur. Increasing min_impurity_decrease prevents the tree from splitting nodes that result in minimal improvement in impurity, leading to a simpler tree. It's effective for preventing overfitting by limiting unnecessary splits."
   ]
  },
  {
   "cell_type": "code",
   "execution_count": 320,
   "id": "ef34670c",
   "metadata": {},
   "outputs": [
    {
     "data": {
      "text/html": [
       "<style>#sk-container-id-88 {color: black;}#sk-container-id-88 pre{padding: 0;}#sk-container-id-88 div.sk-toggleable {background-color: white;}#sk-container-id-88 label.sk-toggleable__label {cursor: pointer;display: block;width: 100%;margin-bottom: 0;padding: 0.3em;box-sizing: border-box;text-align: center;}#sk-container-id-88 label.sk-toggleable__label-arrow:before {content: \"▸\";float: left;margin-right: 0.25em;color: #696969;}#sk-container-id-88 label.sk-toggleable__label-arrow:hover:before {color: black;}#sk-container-id-88 div.sk-estimator:hover label.sk-toggleable__label-arrow:before {color: black;}#sk-container-id-88 div.sk-toggleable__content {max-height: 0;max-width: 0;overflow: hidden;text-align: left;background-color: #f0f8ff;}#sk-container-id-88 div.sk-toggleable__content pre {margin: 0.2em;color: black;border-radius: 0.25em;background-color: #f0f8ff;}#sk-container-id-88 input.sk-toggleable__control:checked~div.sk-toggleable__content {max-height: 200px;max-width: 100%;overflow: auto;}#sk-container-id-88 input.sk-toggleable__control:checked~label.sk-toggleable__label-arrow:before {content: \"▾\";}#sk-container-id-88 div.sk-estimator input.sk-toggleable__control:checked~label.sk-toggleable__label {background-color: #d4ebff;}#sk-container-id-88 div.sk-label input.sk-toggleable__control:checked~label.sk-toggleable__label {background-color: #d4ebff;}#sk-container-id-88 input.sk-hidden--visually {border: 0;clip: rect(1px 1px 1px 1px);clip: rect(1px, 1px, 1px, 1px);height: 1px;margin: -1px;overflow: hidden;padding: 0;position: absolute;width: 1px;}#sk-container-id-88 div.sk-estimator {font-family: monospace;background-color: #f0f8ff;border: 1px dotted black;border-radius: 0.25em;box-sizing: border-box;margin-bottom: 0.5em;}#sk-container-id-88 div.sk-estimator:hover {background-color: #d4ebff;}#sk-container-id-88 div.sk-parallel-item::after {content: \"\";width: 100%;border-bottom: 1px solid gray;flex-grow: 1;}#sk-container-id-88 div.sk-label:hover label.sk-toggleable__label {background-color: #d4ebff;}#sk-container-id-88 div.sk-serial::before {content: \"\";position: absolute;border-left: 1px solid gray;box-sizing: border-box;top: 0;bottom: 0;left: 50%;z-index: 0;}#sk-container-id-88 div.sk-serial {display: flex;flex-direction: column;align-items: center;background-color: white;padding-right: 0.2em;padding-left: 0.2em;position: relative;}#sk-container-id-88 div.sk-item {position: relative;z-index: 1;}#sk-container-id-88 div.sk-parallel {display: flex;align-items: stretch;justify-content: center;background-color: white;position: relative;}#sk-container-id-88 div.sk-item::before, #sk-container-id-88 div.sk-parallel-item::before {content: \"\";position: absolute;border-left: 1px solid gray;box-sizing: border-box;top: 0;bottom: 0;left: 50%;z-index: -1;}#sk-container-id-88 div.sk-parallel-item {display: flex;flex-direction: column;z-index: 1;position: relative;background-color: white;}#sk-container-id-88 div.sk-parallel-item:first-child::after {align-self: flex-end;width: 50%;}#sk-container-id-88 div.sk-parallel-item:last-child::after {align-self: flex-start;width: 50%;}#sk-container-id-88 div.sk-parallel-item:only-child::after {width: 0;}#sk-container-id-88 div.sk-dashed-wrapped {border: 1px dashed gray;margin: 0 0.4em 0.5em 0.4em;box-sizing: border-box;padding-bottom: 0.4em;background-color: white;}#sk-container-id-88 div.sk-label label {font-family: monospace;font-weight: bold;display: inline-block;line-height: 1.2em;}#sk-container-id-88 div.sk-label-container {text-align: center;}#sk-container-id-88 div.sk-container {/* jupyter's `normalize.less` sets `[hidden] { display: none; }` but bootstrap.min.css set `[hidden] { display: none !important; }` so we also need the `!important` here to be able to override the default hidden behavior on the sphinx rendered scikit-learn.org. See: https://github.com/scikit-learn/scikit-learn/issues/21755 */display: inline-block !important;position: relative;}#sk-container-id-88 div.sk-text-repr-fallback {display: none;}</style><div id=\"sk-container-id-88\" class=\"sk-top-container\"><div class=\"sk-text-repr-fallback\"><pre>RandomForestClassifier(max_leaf_nodes=5, min_impurity_decrease=0.1,\n",
       "                       n_estimators=250, random_state=42)</pre><b>In a Jupyter environment, please rerun this cell to show the HTML representation or trust the notebook. <br />On GitHub, the HTML representation is unable to render, please try loading this page with nbviewer.org.</b></div><div class=\"sk-container\" hidden><div class=\"sk-item\"><div class=\"sk-estimator sk-toggleable\"><input class=\"sk-toggleable__control sk-hidden--visually\" id=\"sk-estimator-id-88\" type=\"checkbox\" checked><label for=\"sk-estimator-id-88\" class=\"sk-toggleable__label sk-toggleable__label-arrow\">RandomForestClassifier</label><div class=\"sk-toggleable__content\"><pre>RandomForestClassifier(max_leaf_nodes=5, min_impurity_decrease=0.1,\n",
       "                       n_estimators=250, random_state=42)</pre></div></div></div></div></div>"
      ],
      "text/plain": [
       "RandomForestClassifier(max_leaf_nodes=5, min_impurity_decrease=0.1,\n",
       "                       n_estimators=250, random_state=42)"
      ]
     },
     "execution_count": 320,
     "metadata": {},
     "output_type": "execute_result"
    }
   ],
   "source": [
    "X_new_train, X_new_test, y_new_train, y_new_test = train_test_split(X, y, test_size=0.1, random_state=0)\n",
    "forrest = RandomForestClassifier(n_estimators=250, min_samples_split=2, max_leaf_nodes=5, min_impurity_decrease=0.1, random_state=42)\n",
    "forrest.fit(X_new_train, y_new_train)"
   ]
  },
  {
   "cell_type": "code",
   "execution_count": 321,
   "id": "26eb13f1",
   "metadata": {},
   "outputs": [
    {
     "name": "stdout",
     "output_type": "stream",
     "text": [
      "[0.         0.         0.037117   0.05966651 0.03208684 0.0317901\n",
      " 0.05224498 0.00194317 0.09867769 0.16563859 0.09491332 0.13490637\n",
      " 0.02906192 0.15507954 0.01100704 0.00502669 0.01567276 0.05876706\n",
      " 0.01367051 0.00115717 0.00157275 0.         0.        ]\n",
      "['Age' 'Gender' 'Air Pollution' 'Alcohol use' 'Dust Allergy'\n",
      " 'OccuPational Hazards' 'Genetic Risk' 'chronic Lung Disease'\n",
      " 'Balanced Diet' 'Obesity' 'Smoking' 'Passive Smoker' 'Chest Pain'\n",
      " 'Coughing of Blood' 'Fatigue' 'Weight Loss' 'Shortness of Breath'\n",
      " 'Wheezing' 'Swallowing Difficulty' 'Clubbing of Finger Nails'\n",
      " 'Frequent Cold' 'Dry Cough' 'Snoring']\n"
     ]
    }
   ],
   "source": [
    "print(forrest.feature_importances_)\n",
    "print(forrest.feature_names_in_)"
   ]
  },
  {
   "cell_type": "markdown",
   "id": "cd0aec84",
   "metadata": {},
   "source": [
    "We can see that features that doesn't have as high of an effect on the prediction has 0 or a really small importance."
   ]
  },
  {
   "cell_type": "code",
   "execution_count": 322,
   "id": "7636c51f",
   "metadata": {},
   "outputs": [
    {
     "name": "stdout",
     "output_type": "stream",
     "text": [
      "              precision    recall  f1-score   support\n",
      "\n",
      "           0       0.83      0.97      0.89        30\n",
      "           1       1.00      0.68      0.81        34\n",
      "           2       0.86      1.00      0.92        36\n",
      "\n",
      "    accuracy                           0.88       100\n",
      "   macro avg       0.90      0.88      0.87       100\n",
      "weighted avg       0.90      0.88      0.87       100\n",
      "\n"
     ]
    },
    {
     "data": {
      "image/png": "[encoded data removed]",
      "text/plain": [
       "<Figure size 432x288 with 2 Axes>"
      ]
     },
     "metadata": {
      "needs_background": "light"
     },
     "output_type": "display_data"
    }
   ],
   "source": [
    "y_pred = forrest.predict(X_new_test)\n",
    "cmx = confusion_matrix(y_new_test, y_pred)\n",
    "ConfusionMatrixDisplay(cmx, display_labels=[0,1,2]).plot(cmap=plt.cm.Blues)\n",
    "print(classification_report(y_new_test, y_pred))"
   ]
  },
  {
   "cell_type": "code",
   "execution_count": 325,
   "id": "65c1e41f",
   "metadata": {},
   "outputs": [
    {
     "name": "stderr",
     "output_type": "stream",
     "text": [
      "C:\\Users\\andre\\anaconda3\\lib\\site-packages\\sklearn\\model_selection\\_validation.py:425: FitFailedWarning: \n",
      "45 fits failed out of a total of 450.\n",
      "The score on these train-test partitions for these parameters will be set to nan.\n",
      "If these failures are not expected, you can try to debug them by setting error_score='raise'.\n",
      "\n",
      "Below are more details about the failures:\n",
      "--------------------------------------------------------------------------------\n",
      "45 fits failed with the following error:\n",
      "Traceback (most recent call last):\n",
      "  File \"C:\\Users\\andre\\anaconda3\\lib\\site-packages\\sklearn\\model_selection\\_validation.py\", line 732, in _fit_and_score\n",
      "    estimator.fit(X_train, y_train, **fit_params)\n",
      "  File \"C:\\Users\\andre\\anaconda3\\lib\\site-packages\\sklearn\\base.py\", line 1144, in wrapper\n",
      "    estimator._validate_params()\n",
      "  File \"C:\\Users\\andre\\anaconda3\\lib\\site-packages\\sklearn\\base.py\", line 637, in _validate_params\n",
      "    validate_parameter_constraints(\n",
      "  File \"C:\\Users\\andre\\anaconda3\\lib\\site-packages\\sklearn\\utils\\_param_validation.py\", line 95, in validate_parameter_constraints\n",
      "    raise InvalidParameterError(\n",
      "sklearn.utils._param_validation.InvalidParameterError: The 'max_leaf_nodes' parameter of RandomForestClassifier must be an int in the range [2, inf) or None. Got 1 instead.\n",
      "\n",
      "  warnings.warn(some_fits_failed_message, FitFailedWarning)\n",
      "C:\\Users\\andre\\anaconda3\\lib\\site-packages\\sklearn\\model_selection\\_search.py:976: UserWarning: One or more of the test scores are non-finite: [  nan   nan   nan   nan   nan   nan   nan   nan   nan 0.76  0.76  0.76\n",
      " 0.76  0.76  0.76  0.76  0.76  0.76  0.892 0.892 0.892 0.892 0.892 0.892\n",
      " 0.892 0.892 0.892 0.892 0.892 0.892 0.892 0.892 0.892 0.892 0.892 0.892\n",
      " 0.892 0.892 0.892 0.892 0.892 0.892 0.892 0.892 0.892 0.892 0.892 0.892\n",
      " 0.892 0.892 0.892 0.892 0.892 0.892 0.892 0.892 0.892 0.892 0.892 0.892\n",
      " 0.892 0.892 0.892 0.892 0.892 0.892 0.892 0.892 0.892 0.892 0.892 0.892\n",
      " 0.892 0.892 0.892 0.892 0.892 0.892 0.892 0.892 0.892 0.892 0.892 0.892\n",
      " 0.892 0.892 0.892 0.892 0.892 0.892]\n",
      "  warnings.warn(\n"
     ]
    },
    {
     "data": {
      "text/plain": [
       "{'mean_fit_time': array([7.98511505e-04, 3.98921967e-04, 2.12907791e-04, 0.00000000e+00,\n",
       "        0.00000000e+00, 0.00000000e+00, 0.00000000e+00, 0.00000000e+00,\n",
       "        0.00000000e+00, 2.61261892e-01, 2.70452738e-01, 2.59346533e-01,\n",
       "        2.68596315e-01, 2.62576962e-01, 2.65180492e-01, 2.61292028e-01,\n",
       "        2.74704409e-01, 2.77392387e-01, 2.70762062e-01, 2.78918028e-01,\n",
       "        2.82866764e-01, 2.83002472e-01, 3.36873960e-01, 3.04945421e-01,\n",
       "        3.12854528e-01, 2.86433792e-01, 3.03528643e-01, 3.30249739e-01,\n",
       "        3.27504969e-01, 3.02574778e-01, 2.95292044e-01, 2.86130333e-01,\n",
       "        2.93597078e-01, 3.59098911e-01, 2.95295286e-01, 3.20771790e-01,\n",
       "        2.84248257e-01, 2.87630367e-01, 3.32246161e-01, 3.14573097e-01,\n",
       "        3.19484377e-01, 2.94601059e-01, 2.87458563e-01, 3.03422928e-01,\n",
       "        3.42970037e-01, 3.36794853e-01, 3.44380379e-01, 2.88279295e-01,\n",
       "        2.89008474e-01, 3.38743830e-01, 2.92770290e-01, 3.18657637e-01,\n",
       "        3.03148890e-01, 2.94056559e-01, 3.26508141e-01, 3.16531038e-01,\n",
       "        3.07171822e-01, 2.96072721e-01, 2.82870054e-01, 2.98407888e-01,\n",
       "        3.29879189e-01, 2.92942095e-01, 3.21154642e-01, 2.82419157e-01,\n",
       "        2.81540585e-01, 2.76856756e-01, 2.80492783e-01, 2.80575132e-01,\n",
       "        2.80475807e-01, 2.85169220e-01, 3.21955395e-01, 3.28867006e-01,\n",
       "        3.29107714e-01, 3.11179066e-01, 3.77001333e-01, 3.44464445e-01,\n",
       "        2.98083496e-01, 3.15734100e-01, 2.90065336e-01, 3.56828594e-01,\n",
       "        3.41734552e-01, 3.03540516e-01, 2.83128977e-01, 2.99618769e-01,\n",
       "        3.04755831e-01, 3.37686968e-01, 3.28689146e-01, 3.10263824e-01,\n",
       "        3.03059578e-01, 3.24090004e-01]),\n",
       " 'std_fit_time': array([0.00039926, 0.00048858, 0.00042582, 0.        , 0.        ,\n",
       "        0.        , 0.        , 0.        , 0.        , 0.00924688,\n",
       "        0.00811788, 0.01301495, 0.00531186, 0.00069412, 0.0074239 ,\n",
       "        0.00096204, 0.00669698, 0.01361548, 0.00759879, 0.00476066,\n",
       "        0.00077881, 0.0007479 , 0.00737953, 0.01935275, 0.02224138,\n",
       "        0.00492348, 0.00694729, 0.02089172, 0.03014396, 0.02103413,\n",
       "        0.01935097, 0.00442606, 0.0152983 , 0.03288524, 0.01114582,\n",
       "        0.01959309, 0.0040902 , 0.00431968, 0.01845877, 0.02555272,\n",
       "        0.03002455, 0.00962596, 0.00494866, 0.02121602, 0.00595259,\n",
       "        0.01036653, 0.00956497, 0.00978449, 0.01714513, 0.01132862,\n",
       "        0.01584692, 0.0226563 , 0.01502206, 0.01189413, 0.0281019 ,\n",
       "        0.02214134, 0.02213026, 0.01830185, 0.00111299, 0.02362653,\n",
       "        0.01087493, 0.01199447, 0.02517478, 0.0050631 , 0.00376856,\n",
       "        0.00375088, 0.00405125, 0.00332377, 0.00362901, 0.00467694,\n",
       "        0.01077311, 0.02176675, 0.01806335, 0.01305617, 0.01768439,\n",
       "        0.03529797, 0.00741315, 0.02419309, 0.02065473, 0.02759859,\n",
       "        0.0030458 , 0.01964341, 0.00071732, 0.0176984 , 0.02394464,\n",
       "        0.01643045, 0.01796844, 0.01420997, 0.00901075, 0.02132488]),\n",
       " 'mean_score_time': array([0.        , 0.        , 0.        , 0.        , 0.        ,\n",
       "        0.        , 0.        , 0.        , 0.        , 0.02473311,\n",
       "        0.02301488, 0.02744541, 0.02419   , 0.0201622 , 0.02348537,\n",
       "        0.02335463, 0.02181201, 0.02297988, 0.02176723, 0.02065001,\n",
       "        0.02219877, 0.02508736, 0.02871571, 0.02543416, 0.06913075,\n",
       "        0.02418857, 0.02747016, 0.03016067, 0.0282536 , 0.02821856,\n",
       "        0.02383375, 0.02058368, 0.02906027, 0.02984142, 0.02377038,\n",
       "        0.03028898, 0.02459998, 0.02095656, 0.02982774, 0.02505522,\n",
       "        0.02580314, 0.02222867, 0.02425079, 0.02408824, 0.0301137 ,\n",
       "        0.030232  , 0.02864146, 0.02420759, 0.02631249, 0.02821679,\n",
       "        0.02624011, 0.02785373, 0.02181578, 0.02663288, 0.03029828,\n",
       "        0.02666659, 0.02420664, 0.02259607, 0.02582936, 0.02460132,\n",
       "        0.02861648, 0.02423239, 0.02903481, 0.02498956, 0.02687106,\n",
       "        0.02823696, 0.02425036, 0.02400618, 0.02222037, 0.02182617,\n",
       "        0.0278295 , 0.02914214, 0.02704406, 0.02434344, 0.02788877,\n",
       "        0.02623143, 0.02790866, 0.02831945, 0.02766299, 0.03215871,\n",
       "        0.03028417, 0.02585306, 0.02362785, 0.0249197 , 0.02623882,\n",
       "        0.02658072, 0.0293406 , 0.02159925, 0.02592936, 0.0308044 ]),\n",
       " 'std_score_time': array([0.00000000e+00, 0.00000000e+00, 0.00000000e+00, 0.00000000e+00,\n",
       "        0.00000000e+00, 0.00000000e+00, 0.00000000e+00, 0.00000000e+00,\n",
       "        0.00000000e+00, 4.40060177e-03, 3.70733146e-03, 7.49708819e-03,\n",
       "        4.22687897e-03, 1.19272215e-05, 3.88490139e-03, 4.46678501e-03,\n",
       "        3.23167300e-03, 3.72585474e-03, 3.21108006e-03, 8.68175197e-04,\n",
       "        4.05184788e-03, 4.37075222e-03, 3.47464526e-03, 4.32620040e-03,\n",
       "        8.68044860e-02, 4.93454558e-03, 4.34541009e-03, 5.66411257e-03,\n",
       "        4.23230165e-03, 3.12005815e-03, 4.50774559e-03, 8.28069269e-04,\n",
       "        6.75892718e-03, 5.13206433e-03, 3.46309430e-03, 6.35594622e-03,\n",
       "        3.90749066e-03, 1.00999774e-03, 5.88877012e-03, 4.37795406e-03,\n",
       "        3.91944530e-03, 3.12714337e-03, 4.25546584e-03, 5.25835351e-03,\n",
       "        1.59471770e-04, 1.79682213e-05, 3.19699907e-03, 3.32643965e-03,\n",
       "        5.05021090e-03, 3.09475843e-03, 4.17981982e-03, 3.93801384e-03,\n",
       "        3.18419533e-03, 4.48503217e-03, 5.90576642e-03, 4.47238684e-03,\n",
       "        4.23515565e-03, 2.92744975e-03, 3.91520377e-03, 4.68369423e-03,\n",
       "        3.22055744e-03, 4.24772185e-03, 9.72959521e-04, 4.32386275e-03,\n",
       "        3.92228023e-03, 3.09854412e-03, 4.93748745e-03, 4.43098576e-03,\n",
       "        3.12187864e-03, 3.47840341e-03, 2.96383418e-03, 1.93070755e-03,\n",
       "        4.04021639e-03, 2.62760214e-03, 5.61741471e-03, 4.54332893e-03,\n",
       "        6.15429270e-03, 4.13056583e-03, 3.05133758e-03, 3.56595746e-03,\n",
       "        1.32847424e-03, 4.67350975e-03, 4.69537696e-03, 5.38511681e-03,\n",
       "        4.18146398e-03, 3.65836811e-03, 1.95011679e-03, 3.63073966e-03,\n",
       "        2.56140540e-03, 3.61083878e-03]),\n",
       " 'param_max_leaf_nodes': masked_array(data=[1, 1, 1, 1, 1, 1, 1, 1, 1, 2, 2, 2, 2, 2, 2, 2, 2, 2,\n",
       "                    3, 3, 3, 3, 3, 3, 3, 3, 3, 4, 4, 4, 4, 4, 4, 4, 4, 4,\n",
       "                    5, 5, 5, 5, 5, 5, 5, 5, 5, 6, 6, 6, 6, 6, 6, 6, 6, 6,\n",
       "                    7, 7, 7, 7, 7, 7, 7, 7, 7, 8, 8, 8, 8, 8, 8, 8, 8, 8,\n",
       "                    9, 9, 9, 9, 9, 9, 9, 9, 9, 10, 10, 10, 10, 10, 10, 10,\n",
       "                    10, 10],\n",
       "              mask=[False, False, False, False, False, False, False, False,\n",
       "                    False, False, False, False, False, False, False, False,\n",
       "                    False, False, False, False, False, False, False, False,\n",
       "                    False, False, False, False, False, False, False, False,\n",
       "                    False, False, False, False, False, False, False, False,\n",
       "                    False, False, False, False, False, False, False, False,\n",
       "                    False, False, False, False, False, False, False, False,\n",
       "                    False, False, False, False, False, False, False, False,\n",
       "                    False, False, False, False, False, False, False, False,\n",
       "                    False, False, False, False, False, False, False, False,\n",
       "                    False, False, False, False, False, False, False, False,\n",
       "                    False, False],\n",
       "        fill_value='?',\n",
       "             dtype=object),\n",
       " 'param_min_samples_split': masked_array(data=[2, 3, 4, 5, 6, 7, 8, 9, 10, 2, 3, 4, 5, 6, 7, 8, 9, 10,\n",
       "                    2, 3, 4, 5, 6, 7, 8, 9, 10, 2, 3, 4, 5, 6, 7, 8, 9, 10,\n",
       "                    2, 3, 4, 5, 6, 7, 8, 9, 10, 2, 3, 4, 5, 6, 7, 8, 9, 10,\n",
       "                    2, 3, 4, 5, 6, 7, 8, 9, 10, 2, 3, 4, 5, 6, 7, 8, 9, 10,\n",
       "                    2, 3, 4, 5, 6, 7, 8, 9, 10, 2, 3, 4, 5, 6, 7, 8, 9, 10],\n",
       "              mask=[False, False, False, False, False, False, False, False,\n",
       "                    False, False, False, False, False, False, False, False,\n",
       "                    False, False, False, False, False, False, False, False,\n",
       "                    False, False, False, False, False, False, False, False,\n",
       "                    False, False, False, False, False, False, False, False,\n",
       "                    False, False, False, False, False, False, False, False,\n",
       "                    False, False, False, False, False, False, False, False,\n",
       "                    False, False, False, False, False, False, False, False,\n",
       "                    False, False, False, False, False, False, False, False,\n",
       "                    False, False, False, False, False, False, False, False,\n",
       "                    False, False, False, False, False, False, False, False,\n",
       "                    False, False],\n",
       "        fill_value='?',\n",
       "             dtype=object),\n",
       " 'params': [{'max_leaf_nodes': 1, 'min_samples_split': 2},\n",
       "  {'max_leaf_nodes': 1, 'min_samples_split': 3},\n",
       "  {'max_leaf_nodes': 1, 'min_samples_split': 4},\n",
       "  {'max_leaf_nodes': 1, 'min_samples_split': 5},\n",
       "  {'max_leaf_nodes': 1, 'min_samples_split': 6},\n",
       "  {'max_leaf_nodes': 1, 'min_samples_split': 7},\n",
       "  {'max_leaf_nodes': 1, 'min_samples_split': 8},\n",
       "  {'max_leaf_nodes': 1, 'min_samples_split': 9},\n",
       "  {'max_leaf_nodes': 1, 'min_samples_split': 10},\n",
       "  {'max_leaf_nodes': 2, 'min_samples_split': 2},\n",
       "  {'max_leaf_nodes': 2, 'min_samples_split': 3},\n",
       "  {'max_leaf_nodes': 2, 'min_samples_split': 4},\n",
       "  {'max_leaf_nodes': 2, 'min_samples_split': 5},\n",
       "  {'max_leaf_nodes': 2, 'min_samples_split': 6},\n",
       "  {'max_leaf_nodes': 2, 'min_samples_split': 7},\n",
       "  {'max_leaf_nodes': 2, 'min_samples_split': 8},\n",
       "  {'max_leaf_nodes': 2, 'min_samples_split': 9},\n",
       "  {'max_leaf_nodes': 2, 'min_samples_split': 10},\n",
       "  {'max_leaf_nodes': 3, 'min_samples_split': 2},\n",
       "  {'max_leaf_nodes': 3, 'min_samples_split': 3},\n",
       "  {'max_leaf_nodes': 3, 'min_samples_split': 4},\n",
       "  {'max_leaf_nodes': 3, 'min_samples_split': 5},\n",
       "  {'max_leaf_nodes': 3, 'min_samples_split': 6},\n",
       "  {'max_leaf_nodes': 3, 'min_samples_split': 7},\n",
       "  {'max_leaf_nodes': 3, 'min_samples_split': 8},\n",
       "  {'max_leaf_nodes': 3, 'min_samples_split': 9},\n",
       "  {'max_leaf_nodes': 3, 'min_samples_split': 10},\n",
       "  {'max_leaf_nodes': 4, 'min_samples_split': 2},\n",
       "  {'max_leaf_nodes': 4, 'min_samples_split': 3},\n",
       "  {'max_leaf_nodes': 4, 'min_samples_split': 4},\n",
       "  {'max_leaf_nodes': 4, 'min_samples_split': 5},\n",
       "  {'max_leaf_nodes': 4, 'min_samples_split': 6},\n",
       "  {'max_leaf_nodes': 4, 'min_samples_split': 7},\n",
       "  {'max_leaf_nodes': 4, 'min_samples_split': 8},\n",
       "  {'max_leaf_nodes': 4, 'min_samples_split': 9},\n",
       "  {'max_leaf_nodes': 4, 'min_samples_split': 10},\n",
       "  {'max_leaf_nodes': 5, 'min_samples_split': 2},\n",
       "  {'max_leaf_nodes': 5, 'min_samples_split': 3},\n",
       "  {'max_leaf_nodes': 5, 'min_samples_split': 4},\n",
       "  {'max_leaf_nodes': 5, 'min_samples_split': 5},\n",
       "  {'max_leaf_nodes': 5, 'min_samples_split': 6},\n",
       "  {'max_leaf_nodes': 5, 'min_samples_split': 7},\n",
       "  {'max_leaf_nodes': 5, 'min_samples_split': 8},\n",
       "  {'max_leaf_nodes': 5, 'min_samples_split': 9},\n",
       "  {'max_leaf_nodes': 5, 'min_samples_split': 10},\n",
       "  {'max_leaf_nodes': 6, 'min_samples_split': 2},\n",
       "  {'max_leaf_nodes': 6, 'min_samples_split': 3},\n",
       "  {'max_leaf_nodes': 6, 'min_samples_split': 4},\n",
       "  {'max_leaf_nodes': 6, 'min_samples_split': 5},\n",
       "  {'max_leaf_nodes': 6, 'min_samples_split': 6},\n",
       "  {'max_leaf_nodes': 6, 'min_samples_split': 7},\n",
       "  {'max_leaf_nodes': 6, 'min_samples_split': 8},\n",
       "  {'max_leaf_nodes': 6, 'min_samples_split': 9},\n",
       "  {'max_leaf_nodes': 6, 'min_samples_split': 10},\n",
       "  {'max_leaf_nodes': 7, 'min_samples_split': 2},\n",
       "  {'max_leaf_nodes': 7, 'min_samples_split': 3},\n",
       "  {'max_leaf_nodes': 7, 'min_samples_split': 4},\n",
       "  {'max_leaf_nodes': 7, 'min_samples_split': 5},\n",
       "  {'max_leaf_nodes': 7, 'min_samples_split': 6},\n",
       "  {'max_leaf_nodes': 7, 'min_samples_split': 7},\n",
       "  {'max_leaf_nodes': 7, 'min_samples_split': 8},\n",
       "  {'max_leaf_nodes': 7, 'min_samples_split': 9},\n",
       "  {'max_leaf_nodes': 7, 'min_samples_split': 10},\n",
       "  {'max_leaf_nodes': 8, 'min_samples_split': 2},\n",
       "  {'max_leaf_nodes': 8, 'min_samples_split': 3},\n",
       "  {'max_leaf_nodes': 8, 'min_samples_split': 4},\n",
       "  {'max_leaf_nodes': 8, 'min_samples_split': 5},\n",
       "  {'max_leaf_nodes': 8, 'min_samples_split': 6},\n",
       "  {'max_leaf_nodes': 8, 'min_samples_split': 7},\n",
       "  {'max_leaf_nodes': 8, 'min_samples_split': 8},\n",
       "  {'max_leaf_nodes': 8, 'min_samples_split': 9},\n",
       "  {'max_leaf_nodes': 8, 'min_samples_split': 10},\n",
       "  {'max_leaf_nodes': 9, 'min_samples_split': 2},\n",
       "  {'max_leaf_nodes': 9, 'min_samples_split': 3},\n",
       "  {'max_leaf_nodes': 9, 'min_samples_split': 4},\n",
       "  {'max_leaf_nodes': 9, 'min_samples_split': 5},\n",
       "  {'max_leaf_nodes': 9, 'min_samples_split': 6},\n",
       "  {'max_leaf_nodes': 9, 'min_samples_split': 7},\n",
       "  {'max_leaf_nodes': 9, 'min_samples_split': 8},\n",
       "  {'max_leaf_nodes': 9, 'min_samples_split': 9},\n",
       "  {'max_leaf_nodes': 9, 'min_samples_split': 10},\n",
       "  {'max_leaf_nodes': 10, 'min_samples_split': 2},\n",
       "  {'max_leaf_nodes': 10, 'min_samples_split': 3},\n",
       "  {'max_leaf_nodes': 10, 'min_samples_split': 4},\n",
       "  {'max_leaf_nodes': 10, 'min_samples_split': 5},\n",
       "  {'max_leaf_nodes': 10, 'min_samples_split': 6},\n",
       "  {'max_leaf_nodes': 10, 'min_samples_split': 7},\n",
       "  {'max_leaf_nodes': 10, 'min_samples_split': 8},\n",
       "  {'max_leaf_nodes': 10, 'min_samples_split': 9},\n",
       "  {'max_leaf_nodes': 10, 'min_samples_split': 10}],\n",
       " 'split0_test_score': array([  nan,   nan,   nan,   nan,   nan,   nan,   nan,   nan,   nan,\n",
       "        0.755, 0.755, 0.755, 0.755, 0.755, 0.755, 0.755, 0.755, 0.755,\n",
       "        0.885, 0.885, 0.885, 0.885, 0.885, 0.885, 0.885, 0.885, 0.885,\n",
       "        0.885, 0.885, 0.885, 0.885, 0.885, 0.885, 0.885, 0.885, 0.885,\n",
       "        0.885, 0.885, 0.885, 0.885, 0.885, 0.885, 0.885, 0.885, 0.885,\n",
       "        0.885, 0.885, 0.885, 0.885, 0.885, 0.885, 0.885, 0.885, 0.885,\n",
       "        0.885, 0.885, 0.885, 0.885, 0.885, 0.885, 0.885, 0.885, 0.885,\n",
       "        0.885, 0.885, 0.885, 0.885, 0.885, 0.885, 0.885, 0.885, 0.885,\n",
       "        0.885, 0.885, 0.885, 0.885, 0.885, 0.885, 0.885, 0.885, 0.885,\n",
       "        0.885, 0.885, 0.885, 0.885, 0.885, 0.885, 0.885, 0.885, 0.885]),\n",
       " 'split1_test_score': array([ nan,  nan,  nan,  nan,  nan,  nan,  nan,  nan,  nan, 0.75, 0.75,\n",
       "        0.75, 0.75, 0.75, 0.75, 0.75, 0.75, 0.75, 0.89, 0.89, 0.89, 0.89,\n",
       "        0.89, 0.89, 0.89, 0.89, 0.89, 0.89, 0.89, 0.89, 0.89, 0.89, 0.89,\n",
       "        0.89, 0.89, 0.89, 0.89, 0.89, 0.89, 0.89, 0.89, 0.89, 0.89, 0.89,\n",
       "        0.89, 0.89, 0.89, 0.89, 0.89, 0.89, 0.89, 0.89, 0.89, 0.89, 0.89,\n",
       "        0.89, 0.89, 0.89, 0.89, 0.89, 0.89, 0.89, 0.89, 0.89, 0.89, 0.89,\n",
       "        0.89, 0.89, 0.89, 0.89, 0.89, 0.89, 0.89, 0.89, 0.89, 0.89, 0.89,\n",
       "        0.89, 0.89, 0.89, 0.89, 0.89, 0.89, 0.89, 0.89, 0.89, 0.89, 0.89,\n",
       "        0.89, 0.89]),\n",
       " 'split2_test_score': array([  nan,   nan,   nan,   nan,   nan,   nan,   nan,   nan,   nan,\n",
       "        0.775, 0.775, 0.775, 0.775, 0.775, 0.775, 0.775, 0.775, 0.775,\n",
       "        0.895, 0.895, 0.895, 0.895, 0.895, 0.895, 0.895, 0.895, 0.895,\n",
       "        0.895, 0.895, 0.895, 0.895, 0.895, 0.895, 0.895, 0.895, 0.895,\n",
       "        0.895, 0.895, 0.895, 0.895, 0.895, 0.895, 0.895, 0.895, 0.895,\n",
       "        0.895, 0.895, 0.895, 0.895, 0.895, 0.895, 0.895, 0.895, 0.895,\n",
       "        0.895, 0.895, 0.895, 0.895, 0.895, 0.895, 0.895, 0.895, 0.895,\n",
       "        0.895, 0.895, 0.895, 0.895, 0.895, 0.895, 0.895, 0.895, 0.895,\n",
       "        0.895, 0.895, 0.895, 0.895, 0.895, 0.895, 0.895, 0.895, 0.895,\n",
       "        0.895, 0.895, 0.895, 0.895, 0.895, 0.895, 0.895, 0.895, 0.895]),\n",
       " 'split3_test_score': array([  nan,   nan,   nan,   nan,   nan,   nan,   nan,   nan,   nan,\n",
       "        0.76 , 0.76 , 0.76 , 0.76 , 0.76 , 0.76 , 0.76 , 0.76 , 0.76 ,\n",
       "        0.895, 0.895, 0.895, 0.895, 0.895, 0.895, 0.895, 0.895, 0.895,\n",
       "        0.895, 0.895, 0.895, 0.895, 0.895, 0.895, 0.895, 0.895, 0.895,\n",
       "        0.895, 0.895, 0.895, 0.895, 0.895, 0.895, 0.895, 0.895, 0.895,\n",
       "        0.895, 0.895, 0.895, 0.895, 0.895, 0.895, 0.895, 0.895, 0.895,\n",
       "        0.895, 0.895, 0.895, 0.895, 0.895, 0.895, 0.895, 0.895, 0.895,\n",
       "        0.895, 0.895, 0.895, 0.895, 0.895, 0.895, 0.895, 0.895, 0.895,\n",
       "        0.895, 0.895, 0.895, 0.895, 0.895, 0.895, 0.895, 0.895, 0.895,\n",
       "        0.895, 0.895, 0.895, 0.895, 0.895, 0.895, 0.895, 0.895, 0.895]),\n",
       " 'split4_test_score': array([  nan,   nan,   nan,   nan,   nan,   nan,   nan,   nan,   nan,\n",
       "        0.76 , 0.76 , 0.76 , 0.76 , 0.76 , 0.76 , 0.76 , 0.76 , 0.76 ,\n",
       "        0.895, 0.895, 0.895, 0.895, 0.895, 0.895, 0.895, 0.895, 0.895,\n",
       "        0.895, 0.895, 0.895, 0.895, 0.895, 0.895, 0.895, 0.895, 0.895,\n",
       "        0.895, 0.895, 0.895, 0.895, 0.895, 0.895, 0.895, 0.895, 0.895,\n",
       "        0.895, 0.895, 0.895, 0.895, 0.895, 0.895, 0.895, 0.895, 0.895,\n",
       "        0.895, 0.895, 0.895, 0.895, 0.895, 0.895, 0.895, 0.895, 0.895,\n",
       "        0.895, 0.895, 0.895, 0.895, 0.895, 0.895, 0.895, 0.895, 0.895,\n",
       "        0.895, 0.895, 0.895, 0.895, 0.895, 0.895, 0.895, 0.895, 0.895,\n",
       "        0.895, 0.895, 0.895, 0.895, 0.895, 0.895, 0.895, 0.895, 0.895]),\n",
       " 'mean_test_score': array([  nan,   nan,   nan,   nan,   nan,   nan,   nan,   nan,   nan,\n",
       "        0.76 , 0.76 , 0.76 , 0.76 , 0.76 , 0.76 , 0.76 , 0.76 , 0.76 ,\n",
       "        0.892, 0.892, 0.892, 0.892, 0.892, 0.892, 0.892, 0.892, 0.892,\n",
       "        0.892, 0.892, 0.892, 0.892, 0.892, 0.892, 0.892, 0.892, 0.892,\n",
       "        0.892, 0.892, 0.892, 0.892, 0.892, 0.892, 0.892, 0.892, 0.892,\n",
       "        0.892, 0.892, 0.892, 0.892, 0.892, 0.892, 0.892, 0.892, 0.892,\n",
       "        0.892, 0.892, 0.892, 0.892, 0.892, 0.892, 0.892, 0.892, 0.892,\n",
       "        0.892, 0.892, 0.892, 0.892, 0.892, 0.892, 0.892, 0.892, 0.892,\n",
       "        0.892, 0.892, 0.892, 0.892, 0.892, 0.892, 0.892, 0.892, 0.892,\n",
       "        0.892, 0.892, 0.892, 0.892, 0.892, 0.892, 0.892, 0.892, 0.892]),\n",
       " 'std_test_score': array([      nan,       nan,       nan,       nan,       nan,       nan,\n",
       "              nan,       nan,       nan, 0.0083666, 0.0083666, 0.0083666,\n",
       "        0.0083666, 0.0083666, 0.0083666, 0.0083666, 0.0083666, 0.0083666,\n",
       "        0.004    , 0.004    , 0.004    , 0.004    , 0.004    , 0.004    ,\n",
       "        0.004    , 0.004    , 0.004    , 0.004    , 0.004    , 0.004    ,\n",
       "        0.004    , 0.004    , 0.004    , 0.004    , 0.004    , 0.004    ,\n",
       "        0.004    , 0.004    , 0.004    , 0.004    , 0.004    , 0.004    ,\n",
       "        0.004    , 0.004    , 0.004    , 0.004    , 0.004    , 0.004    ,\n",
       "        0.004    , 0.004    , 0.004    , 0.004    , 0.004    , 0.004    ,\n",
       "        0.004    , 0.004    , 0.004    , 0.004    , 0.004    , 0.004    ,\n",
       "        0.004    , 0.004    , 0.004    , 0.004    , 0.004    , 0.004    ,\n",
       "        0.004    , 0.004    , 0.004    , 0.004    , 0.004    , 0.004    ,\n",
       "        0.004    , 0.004    , 0.004    , 0.004    , 0.004    , 0.004    ,\n",
       "        0.004    , 0.004    , 0.004    , 0.004    , 0.004    , 0.004    ,\n",
       "        0.004    , 0.004    , 0.004    , 0.004    , 0.004    , 0.004    ]),\n",
       " 'rank_test_score': array([82, 82, 82, 82, 82, 82, 82, 82, 82, 73, 73, 73, 73, 73, 73, 73, 73,\n",
       "        73,  1,  1,  1,  1,  1,  1,  1,  1,  1,  1,  1,  1,  1,  1,  1,  1,\n",
       "         1,  1,  1,  1,  1,  1,  1,  1,  1,  1,  1,  1,  1,  1,  1,  1,  1,\n",
       "         1,  1,  1,  1,  1,  1,  1,  1,  1,  1,  1,  1,  1,  1,  1,  1,  1,\n",
       "         1,  1,  1,  1,  1,  1,  1,  1,  1,  1,  1,  1,  1,  1,  1,  1,  1,\n",
       "         1,  1,  1,  1,  1])}"
      ]
     },
     "execution_count": 325,
     "metadata": {},
     "output_type": "execute_result"
    }
   ],
   "source": [
    "clf = GridSearchCV(RandomForestClassifier(n_estimators=250, min_impurity_decrease=0.1, random_state=42), {\n",
    "    'min_samples_split': [2,3,4,5,6,7,8,9,10],\n",
    "    'max_leaf_nodes' : [1,2,3,4,5,6,7,8,9,10]\n",
    "}, cv=5)\n",
    "\n",
    "clf.fit(X, y)\n",
    "clf.cv_results_"
   ]
  },
  {
   "cell_type": "markdown",
   "id": "ecc68114",
   "metadata": {},
   "source": [
    "We can see here that min_samples_split and max_leaf_nodes doesn't matter at the end, as min_impurity decrease stops the tree, so this is the most important parameter to estimate first."
   ]
  },
  {
   "cell_type": "code",
   "execution_count": 326,
   "id": "10c4a4f2",
   "metadata": {
    "scrolled": true
   },
   "outputs": [
    {
     "data": {
      "text/plain": [
       "{'mean_fit_time': array([0.29872437, 0.29039583, 0.31235247, 0.29239664, 0.29437451,\n",
       "        0.2875267 , 0.27360258, 0.34074326, 0.33474188, 0.29610691]),\n",
       " 'std_fit_time': array([0.00777227, 0.00706335, 0.01037617, 0.01089185, 0.0165563 ,\n",
       "        0.01059931, 0.00149585, 0.01142667, 0.01476762, 0.01100421]),\n",
       " 'mean_score_time': array([0.02596564, 0.02001734, 0.02378016, 0.02134442, 0.02213473,\n",
       "        0.02585611, 0.02427316, 0.03224669, 0.02861457, 0.02589364]),\n",
       " 'std_score_time': array([0.00425834, 0.00208781, 0.00867045, 0.0048845 , 0.00309514,\n",
       "        0.00468098, 0.00421353, 0.00406514, 0.0031894 , 0.00393353]),\n",
       " 'param_min_impurity_decrease': masked_array(data=[0.01, 0.02, 0.03, 0.04, 0.05, 0.06, 0.07, 0.08, 0.09,\n",
       "                    0.1],\n",
       "              mask=[False, False, False, False, False, False, False, False,\n",
       "                    False, False],\n",
       "        fill_value='?',\n",
       "             dtype=object),\n",
       " 'params': [{'min_impurity_decrease': 0.01},\n",
       "  {'min_impurity_decrease': 0.02},\n",
       "  {'min_impurity_decrease': 0.03},\n",
       "  {'min_impurity_decrease': 0.04},\n",
       "  {'min_impurity_decrease': 0.05},\n",
       "  {'min_impurity_decrease': 0.06},\n",
       "  {'min_impurity_decrease': 0.07},\n",
       "  {'min_impurity_decrease': 0.08},\n",
       "  {'min_impurity_decrease': 0.09},\n",
       "  {'min_impurity_decrease': 0.1}],\n",
       " 'split0_test_score': array([1.   , 1.   , 0.975, 0.975, 0.965, 0.93 , 0.93 , 0.93 , 0.9  ,\n",
       "        0.885]),\n",
       " 'split1_test_score': array([1.   , 1.   , 0.975, 0.965, 0.965, 0.94 , 0.94 , 0.94 , 0.9  ,\n",
       "        0.9  ]),\n",
       " 'split2_test_score': array([1.   , 1.   , 0.99 , 0.985, 0.985, 0.945, 0.945, 0.955, 0.915,\n",
       "        0.895]),\n",
       " 'split3_test_score': array([1.   , 1.   , 0.99 , 0.985, 0.975, 0.945, 0.945, 0.95 , 0.9  ,\n",
       "        0.895]),\n",
       " 'split4_test_score': array([1.   , 1.   , 0.99 , 0.97 , 0.97 , 0.94 , 0.94 , 0.94 , 0.905,\n",
       "        0.895]),\n",
       " 'mean_test_score': array([1.   , 1.   , 0.984, 0.976, 0.972, 0.94 , 0.94 , 0.943, 0.904,\n",
       "        0.894]),\n",
       " 'std_test_score': array([0.        , 0.        , 0.00734847, 0.008     , 0.00748331,\n",
       "        0.00547723, 0.00547723, 0.0087178 , 0.00583095, 0.00489898]),\n",
       " 'rank_test_score': array([ 1,  1,  3,  4,  5,  7,  7,  6,  9, 10])}"
      ]
     },
     "execution_count": 326,
     "metadata": {},
     "output_type": "execute_result"
    }
   ],
   "source": [
    "clf = GridSearchCV(RandomForestClassifier(n_estimators=250, min_samples_split=5, min_samples_leaf=5, random_state=42), {\n",
    "    'min_impurity_decrease': [0.01, 0.02, 0.03, 0.04, 0.05, 0.06, 0.07, 0.08, 0.09, 0.1]\n",
    "}, cv=5)\n",
    "\n",
    "clf.fit(X, y)\n",
    "clf.cv_results_"
   ]
  },
  {
   "cell_type": "code",
   "execution_count": 346,
   "id": "d2236d40",
   "metadata": {},
   "outputs": [
    {
     "data": {
      "text/plain": [
       "{'mean_fit_time': array([0.29551063, 0.33986633, 0.33136265, 0.35011306, 0.32110295,\n",
       "        0.33717511, 0.31557348, 0.32972205, 0.30993488, 0.33900802]),\n",
       " 'std_fit_time': array([0.00641143, 0.03628201, 0.02480009, 0.03373969, 0.02488027,\n",
       "        0.02262533, 0.02877204, 0.02680481, 0.01905934, 0.04575801]),\n",
       " 'mean_score_time': array([0.02245834, 0.02705433, 0.02444072, 0.02745514, 0.02461147,\n",
       "        0.02411439, 0.02668459, 0.02667837, 0.02407403, 0.02514198]),\n",
       " 'std_score_time': array([0.00365493, 0.00798879, 0.00448958, 0.00413354, 0.00441655,\n",
       "        0.00413166, 0.00383078, 0.00569362, 0.00447842, 0.00487417]),\n",
       " 'param_min_impurity_decrease': masked_array(data=[0.01, 0.02, 0.03, 0.04, 0.05, 0.06, 0.07, 0.08, 0.09,\n",
       "                    0.1],\n",
       "              mask=[False, False, False, False, False, False, False, False,\n",
       "                    False, False],\n",
       "        fill_value='?',\n",
       "             dtype=object),\n",
       " 'params': [{'min_impurity_decrease': 0.01},\n",
       "  {'min_impurity_decrease': 0.02},\n",
       "  {'min_impurity_decrease': 0.03},\n",
       "  {'min_impurity_decrease': 0.04},\n",
       "  {'min_impurity_decrease': 0.05},\n",
       "  {'min_impurity_decrease': 0.06},\n",
       "  {'min_impurity_decrease': 0.07},\n",
       "  {'min_impurity_decrease': 0.08},\n",
       "  {'min_impurity_decrease': 0.09},\n",
       "  {'min_impurity_decrease': 0.1}],\n",
       " 'split0_test_score': array([1.  , 1.  , 0.99, 0.97, 0.97, 0.94, 0.94, 0.95, 0.92, 0.9 ]),\n",
       " 'split1_test_score': array([1.  , 1.  , 0.97, 0.97, 0.96, 0.92, 0.92, 0.92, 0.88, 0.9 ]),\n",
       " 'split2_test_score': array([1.  , 1.  , 0.97, 0.96, 0.96, 0.93, 0.93, 0.93, 0.89, 0.89]),\n",
       " 'split3_test_score': array([1.  , 1.  , 0.99, 0.98, 0.97, 0.94, 0.94, 0.94, 0.9 , 0.89]),\n",
       " 'split4_test_score': array([1.  , 1.  , 1.  , 0.98, 0.98, 0.96, 0.96, 0.96, 0.91, 0.9 ]),\n",
       " 'split5_test_score': array([1.  , 1.  , 0.98, 0.98, 0.97, 0.94, 0.94, 0.94, 0.9 , 0.9 ]),\n",
       " 'split6_test_score': array([1.  , 1.  , 0.98, 0.96, 0.96, 0.93, 0.93, 0.93, 0.89, 0.89]),\n",
       " 'split7_test_score': array([1.  , 1.  , 0.99, 0.98, 0.98, 0.95, 0.95, 0.95, 0.9 , 0.9 ]),\n",
       " 'split8_test_score': array([1.  , 1.  , 0.99, 0.98, 0.98, 0.95, 0.95, 0.95, 0.92, 0.91]),\n",
       " 'split9_test_score': array([1.  , 1.  , 0.99, 0.97, 0.97, 0.94, 0.94, 0.94, 0.9 , 0.89]),\n",
       " 'mean_test_score': array([1.   , 1.   , 0.985, 0.973, 0.97 , 0.94 , 0.94 , 0.941, 0.901,\n",
       "        0.897]),\n",
       " 'std_test_score': array([0.        , 0.        , 0.00921954, 0.00781025, 0.00774597,\n",
       "        0.01095445, 0.01095445, 0.01135782, 0.01220656, 0.00640312]),\n",
       " 'rank_test_score': array([ 1,  1,  3,  4,  5,  7,  7,  6,  9, 10])}"
      ]
     },
     "execution_count": 346,
     "metadata": {},
     "output_type": "execute_result"
    }
   ],
   "source": [
    "clf = GridSearchCV(RandomForestClassifier(n_estimators=250, min_samples_split=10, min_samples_leaf=10, random_state=42), {\n",
    "    'min_impurity_decrease': [0.01, 0.02, 0.03, 0.04, 0.05, 0.06, 0.07, 0.08, 0.09, 0.1]\n",
    "}, cv=10)\n",
    "\n",
    "clf.fit(X, y)\n",
    "clf.cv_results_"
   ]
  },
  {
   "cell_type": "markdown",
   "id": "7f3373e5",
   "metadata": {},
   "source": [
    "From here we can see that by looking at the best mean scores, that 0.05 obtains a high score, as well as one of the lowest std_test_score, meaning that we will pick 0.05 for min_impurity_decrease."
   ]
  },
  {
   "cell_type": "code",
   "execution_count": 349,
   "id": "b5cd416f",
   "metadata": {},
   "outputs": [
    {
     "data": {
      "text/html": [
       "<style>#sk-container-id-96 {color: black;}#sk-container-id-96 pre{padding: 0;}#sk-container-id-96 div.sk-toggleable {background-color: white;}#sk-container-id-96 label.sk-toggleable__label {cursor: pointer;display: block;width: 100%;margin-bottom: 0;padding: 0.3em;box-sizing: border-box;text-align: center;}#sk-container-id-96 label.sk-toggleable__label-arrow:before {content: \"▸\";float: left;margin-right: 0.25em;color: #696969;}#sk-container-id-96 label.sk-toggleable__label-arrow:hover:before {color: black;}#sk-container-id-96 div.sk-estimator:hover label.sk-toggleable__label-arrow:before {color: black;}#sk-container-id-96 div.sk-toggleable__content {max-height: 0;max-width: 0;overflow: hidden;text-align: left;background-color: #f0f8ff;}#sk-container-id-96 div.sk-toggleable__content pre {margin: 0.2em;color: black;border-radius: 0.25em;background-color: #f0f8ff;}#sk-container-id-96 input.sk-toggleable__control:checked~div.sk-toggleable__content {max-height: 200px;max-width: 100%;overflow: auto;}#sk-container-id-96 input.sk-toggleable__control:checked~label.sk-toggleable__label-arrow:before {content: \"▾\";}#sk-container-id-96 div.sk-estimator input.sk-toggleable__control:checked~label.sk-toggleable__label {background-color: #d4ebff;}#sk-container-id-96 div.sk-label input.sk-toggleable__control:checked~label.sk-toggleable__label {background-color: #d4ebff;}#sk-container-id-96 input.sk-hidden--visually {border: 0;clip: rect(1px 1px 1px 1px);clip: rect(1px, 1px, 1px, 1px);height: 1px;margin: -1px;overflow: hidden;padding: 0;position: absolute;width: 1px;}#sk-container-id-96 div.sk-estimator {font-family: monospace;background-color: #f0f8ff;border: 1px dotted black;border-radius: 0.25em;box-sizing: border-box;margin-bottom: 0.5em;}#sk-container-id-96 div.sk-estimator:hover {background-color: #d4ebff;}#sk-container-id-96 div.sk-parallel-item::after {content: \"\";width: 100%;border-bottom: 1px solid gray;flex-grow: 1;}#sk-container-id-96 div.sk-label:hover label.sk-toggleable__label {background-color: #d4ebff;}#sk-container-id-96 div.sk-serial::before {content: \"\";position: absolute;border-left: 1px solid gray;box-sizing: border-box;top: 0;bottom: 0;left: 50%;z-index: 0;}#sk-container-id-96 div.sk-serial {display: flex;flex-direction: column;align-items: center;background-color: white;padding-right: 0.2em;padding-left: 0.2em;position: relative;}#sk-container-id-96 div.sk-item {position: relative;z-index: 1;}#sk-container-id-96 div.sk-parallel {display: flex;align-items: stretch;justify-content: center;background-color: white;position: relative;}#sk-container-id-96 div.sk-item::before, #sk-container-id-96 div.sk-parallel-item::before {content: \"\";position: absolute;border-left: 1px solid gray;box-sizing: border-box;top: 0;bottom: 0;left: 50%;z-index: -1;}#sk-container-id-96 div.sk-parallel-item {display: flex;flex-direction: column;z-index: 1;position: relative;background-color: white;}#sk-container-id-96 div.sk-parallel-item:first-child::after {align-self: flex-end;width: 50%;}#sk-container-id-96 div.sk-parallel-item:last-child::after {align-self: flex-start;width: 50%;}#sk-container-id-96 div.sk-parallel-item:only-child::after {width: 0;}#sk-container-id-96 div.sk-dashed-wrapped {border: 1px dashed gray;margin: 0 0.4em 0.5em 0.4em;box-sizing: border-box;padding-bottom: 0.4em;background-color: white;}#sk-container-id-96 div.sk-label label {font-family: monospace;font-weight: bold;display: inline-block;line-height: 1.2em;}#sk-container-id-96 div.sk-label-container {text-align: center;}#sk-container-id-96 div.sk-container {/* jupyter's `normalize.less` sets `[hidden] { display: none; }` but bootstrap.min.css set `[hidden] { display: none !important; }` so we also need the `!important` here to be able to override the default hidden behavior on the sphinx rendered scikit-learn.org. See: https://github.com/scikit-learn/scikit-learn/issues/21755 */display: inline-block !important;position: relative;}#sk-container-id-96 div.sk-text-repr-fallback {display: none;}</style><div id=\"sk-container-id-96\" class=\"sk-top-container\"><div class=\"sk-text-repr-fallback\"><pre>RandomForestClassifier(max_leaf_nodes=10, min_impurity_decrease=0.05,\n",
       "                       min_samples_split=10, n_estimators=250, random_state=42)</pre><b>In a Jupyter environment, please rerun this cell to show the HTML representation or trust the notebook. <br />On GitHub, the HTML representation is unable to render, please try loading this page with nbviewer.org.</b></div><div class=\"sk-container\" hidden><div class=\"sk-item\"><div class=\"sk-estimator sk-toggleable\"><input class=\"sk-toggleable__control sk-hidden--visually\" id=\"sk-estimator-id-96\" type=\"checkbox\" checked><label for=\"sk-estimator-id-96\" class=\"sk-toggleable__label sk-toggleable__label-arrow\">RandomForestClassifier</label><div class=\"sk-toggleable__content\"><pre>RandomForestClassifier(max_leaf_nodes=10, min_impurity_decrease=0.05,\n",
       "                       min_samples_split=10, n_estimators=250, random_state=42)</pre></div></div></div></div></div>"
      ],
      "text/plain": [
       "RandomForestClassifier(max_leaf_nodes=10, min_impurity_decrease=0.05,\n",
       "                       min_samples_split=10, n_estimators=250, random_state=42)"
      ]
     },
     "execution_count": 349,
     "metadata": {},
     "output_type": "execute_result"
    }
   ],
   "source": [
    "X_new_train, X_new_test, y_new_train, y_new_test = train_test_split(X, y, test_size=0.1, random_state=0)\n",
    "forrest = RandomForestClassifier(n_estimators=250, min_samples_split=10, max_leaf_nodes=10, min_impurity_decrease=0.05, random_state=42)\n",
    "forrest.fit(X_new_train, y_new_train)"
   ]
  },
  {
   "cell_type": "code",
   "execution_count": 350,
   "id": "8b8a3640",
   "metadata": {},
   "outputs": [
    {
     "name": "stdout",
     "output_type": "stream",
     "text": [
      "[0.         0.         0.03919209 0.05852987 0.03710384 0.02740012\n",
      " 0.03225067 0.00256908 0.06703074 0.13020583 0.05303663 0.09252846\n",
      " 0.02411565 0.14660771 0.05580103 0.01769492 0.04200542 0.08597965\n",
      " 0.0263962  0.02130885 0.01373854 0.00655526 0.01994947]\n",
      "['Age' 'Gender' 'Air Pollution' 'Alcohol use' 'Dust Allergy'\n",
      " 'OccuPational Hazards' 'Genetic Risk' 'chronic Lung Disease'\n",
      " 'Balanced Diet' 'Obesity' 'Smoking' 'Passive Smoker' 'Chest Pain'\n",
      " 'Coughing of Blood' 'Fatigue' 'Weight Loss' 'Shortness of Breath'\n",
      " 'Wheezing' 'Swallowing Difficulty' 'Clubbing of Finger Nails'\n",
      " 'Frequent Cold' 'Dry Cough' 'Snoring']\n"
     ]
    }
   ],
   "source": [
    "print(forrest.feature_importances_)\n",
    "print(forrest.feature_names_in_)"
   ]
  },
  {
   "cell_type": "code",
   "execution_count": 351,
   "id": "02f3d135",
   "metadata": {},
   "outputs": [
    {
     "name": "stdout",
     "output_type": "stream",
     "text": [
      "              precision    recall  f1-score   support\n",
      "\n",
      "           0       1.00      0.97      0.98        30\n",
      "           1       0.94      1.00      0.97        34\n",
      "           2       0.97      0.94      0.96        36\n",
      "\n",
      "    accuracy                           0.97       100\n",
      "   macro avg       0.97      0.97      0.97       100\n",
      "weighted avg       0.97      0.97      0.97       100\n",
      "\n"
     ]
    },
    {
     "data": {
      "image/png": "[encoded data removed]",
      "text/plain": [
       "<Figure size 432x288 with 2 Axes>"
      ]
     },
     "metadata": {
      "needs_background": "light"
     },
     "output_type": "display_data"
    }
   ],
   "source": [
    "y_pred = forrest.predict(X_new_test)\n",
    "cmx = confusion_matrix(y_new_test, y_pred)\n",
    "ConfusionMatrixDisplay(cmx, display_labels=[0,1,2]).plot(cmap=plt.cm.Blues)\n",
    "print(classification_report(y_new_test, y_pred))"
   ]
  },
  {
   "cell_type": "markdown",
   "id": "da49c342",
   "metadata": {},
   "source": [
    "There are a few features with 0 importance and a few with very low importance, that is very good."
   ]
  },
  {
   "cell_type": "code",
   "execution_count": 352,
   "id": "86768862",
   "metadata": {},
   "outputs": [
    {
     "data": {
      "text/plain": [
       "{'mean_fit_time': array([0.27267776, 0.28194857, 0.29761448, 0.27504573, 0.28289185,\n",
       "        0.28791156, 0.31739407, 0.34330354, 0.36960258, 0.32597098,\n",
       "        0.33277564, 0.3475493 , 0.30288773, 0.32933512, 0.29662061,\n",
       "        0.32073603, 0.32549267, 0.86793299, 0.67635827, 0.41760259,\n",
       "        0.36595597, 0.40971408, 0.37242684, 0.34381113, 0.3366993 ,\n",
       "        0.34576602, 0.38913703, 0.3722568 , 0.3441484 , 0.33122377,\n",
       "        0.33540516, 0.33815656, 0.33226576, 0.32285862, 0.34680486,\n",
       "        0.3199101 , 0.33764586, 0.33583975, 0.3254262 , 0.33173523,\n",
       "        0.34088492, 0.33410101, 0.30740705, 0.35182886, 0.32470965,\n",
       "        0.3250433 , 0.34344859, 0.32579927, 0.33587646, 0.32363629,\n",
       "        0.34478521, 0.33553014, 0.31175733, 0.35703864, 0.33325577,\n",
       "        0.3189611 , 0.4246922 , 0.36403556, 0.3421874 , 0.36249681,\n",
       "        0.36753654, 0.31849418, 0.33243203, 0.29868321, 0.32354794,\n",
       "        0.34316726, 0.33464589, 0.30663433, 0.35661645, 0.32705727,\n",
       "        0.31301179, 0.39412127, 0.47529902, 0.40874395, 0.44568753,\n",
       "        0.35571179, 0.48715973, 0.37930479, 0.34525847, 0.36871634,\n",
       "        0.34578176]),\n",
       " 'std_fit_time': array([0.00961169, 0.00661214, 0.01817149, 0.00535402, 0.01349738,\n",
       "        0.01490348, 0.03846902, 0.02021066, 0.01097983, 0.01757931,\n",
       "        0.01960667, 0.02588685, 0.00810836, 0.02251017, 0.0080562 ,\n",
       "        0.02034686, 0.0393342 , 0.1603261 , 0.16250621, 0.0408643 ,\n",
       "        0.03692442, 0.03050029, 0.03034813, 0.02582348, 0.02657064,\n",
       "        0.01291404, 0.02248969, 0.01314842, 0.02583398, 0.01962463,\n",
       "        0.02155835, 0.02213936, 0.02392323, 0.02073462, 0.03120917,\n",
       "        0.01888348, 0.01803719, 0.01772234, 0.02429926, 0.02097083,\n",
       "        0.02506855, 0.02218796, 0.01496896, 0.00898423, 0.01961301,\n",
       "        0.02396773, 0.01260956, 0.02600834, 0.02105401, 0.02982972,\n",
       "        0.02124436, 0.02622017, 0.01519682, 0.00887135, 0.02384248,\n",
       "        0.02488498, 0.05508532, 0.0245908 , 0.02992755, 0.04207727,\n",
       "        0.03668546, 0.02169304, 0.03350748, 0.00505974, 0.0302284 ,\n",
       "        0.01701693, 0.0185754 , 0.01526338, 0.00904441, 0.01777788,\n",
       "        0.02491943, 0.04561768, 0.02685673, 0.04555648, 0.04202168,\n",
       "        0.01460538, 0.06205744, 0.04515703, 0.04021001, 0.04736608,\n",
       "        0.03598811]),\n",
       " 'mean_score_time': array([0.02227411, 0.02904549, 0.02622209, 0.02163968, 0.02480083,\n",
       "        0.02535944, 0.02901082, 0.0309576 , 0.03194575, 0.02831759,\n",
       "        0.02760191, 0.03019142, 0.03023047, 0.0262784 , 0.02262115,\n",
       "        0.02462826, 0.03144865, 0.07586594, 0.05595474, 0.02994852,\n",
       "        0.03056164, 0.03690844, 0.02782459, 0.02762566, 0.02701077,\n",
       "        0.02548342, 0.02960882, 0.03034611, 0.02952604, 0.02625771,\n",
       "        0.02982159, 0.0293407 , 0.02868128, 0.02666583, 0.02752485,\n",
       "        0.02358689, 0.02485771, 0.0305202 , 0.02599001, 0.02906008,\n",
       "        0.02598553, 0.02824559, 0.02831197, 0.02960119, 0.02263794,\n",
       "        0.02677355, 0.02823329, 0.02776442, 0.02715125, 0.03039446,\n",
       "        0.02668595, 0.02989974, 0.0255837 , 0.03062196, 0.02433143,\n",
       "        0.02518392, 0.03205276, 0.03002663, 0.02678308, 0.03001051,\n",
       "        0.02974987, 0.02657752, 0.02739048, 0.02457585, 0.02947922,\n",
       "        0.02659531, 0.02855325, 0.02752528, 0.03027697, 0.02528529,\n",
       "        0.02594743, 0.03205724, 0.04099336, 0.03243036, 0.03618422,\n",
       "        0.02870402, 0.04029908, 0.03204737, 0.02786484, 0.02836843,\n",
       "        0.03077531]),\n",
       " 'std_score_time': array([4.19881539e-03, 6.45682163e-03, 7.04634077e-03, 7.65437828e-04,\n",
       "        4.11100664e-03, 6.55618188e-03, 5.85943741e-03, 8.38457893e-03,\n",
       "        4.18215606e-03, 3.57020514e-03, 5.26817389e-03, 2.93291517e-03,\n",
       "        5.86541980e-03, 4.92390794e-03, 3.87032616e-03, 4.63346957e-03,\n",
       "        3.52808897e-03, 1.48334707e-02, 1.75402619e-02, 7.02519281e-03,\n",
       "        8.64658269e-03, 8.91126114e-03, 3.84483554e-03, 5.10073876e-03,\n",
       "        3.45741076e-03, 3.75788875e-03, 2.99120387e-03, 9.82491581e-03,\n",
       "        3.83320509e-03, 4.25716249e-03, 7.94438345e-04, 9.90713025e-04,\n",
       "        2.29738781e-03, 4.49228720e-03, 5.96253161e-03, 3.76387242e-03,\n",
       "        4.50477362e-03, 4.08272830e-03, 5.56925980e-03, 1.15565364e-03,\n",
       "        4.05817061e-03, 8.89029087e-03, 4.01027730e-03, 8.14107972e-04,\n",
       "        3.90087726e-03, 7.27838617e-03, 3.99450690e-03, 8.06342649e-03,\n",
       "        3.55891360e-03, 1.40376835e-03, 4.45326696e-03, 8.28687100e-04,\n",
       "        4.12576841e-03, 3.87878612e-03, 5.82519274e-03, 3.71915341e-03,\n",
       "        5.35855321e-03, 4.40320299e-03, 2.19607901e-03, 2.40072590e-03,\n",
       "        4.89269217e-03, 6.17923605e-03, 4.72324782e-03, 3.92951357e-03,\n",
       "        1.00787582e-03, 4.46393020e-03, 1.74635528e-03, 4.56977551e-03,\n",
       "        4.58638032e-05, 5.53900406e-03, 3.00116957e-03, 5.10058978e-03,\n",
       "        1.28669798e-02, 3.33010087e-03, 7.11510410e-03, 3.41856760e-03,\n",
       "        1.05375933e-02, 6.08934727e-03, 4.75241443e-03, 4.02474635e-03,\n",
       "        1.63621810e-03]),\n",
       " 'param_max_leaf_nodes': masked_array(data=[2, 2, 2, 2, 2, 2, 2, 2, 2, 3, 3, 3, 3, 3, 3, 3, 3, 3,\n",
       "                    4, 4, 4, 4, 4, 4, 4, 4, 4, 5, 5, 5, 5, 5, 5, 5, 5, 5,\n",
       "                    6, 6, 6, 6, 6, 6, 6, 6, 6, 7, 7, 7, 7, 7, 7, 7, 7, 7,\n",
       "                    8, 8, 8, 8, 8, 8, 8, 8, 8, 9, 9, 9, 9, 9, 9, 9, 9, 9,\n",
       "                    10, 10, 10, 10, 10, 10, 10, 10, 10],\n",
       "              mask=[False, False, False, False, False, False, False, False,\n",
       "                    False, False, False, False, False, False, False, False,\n",
       "                    False, False, False, False, False, False, False, False,\n",
       "                    False, False, False, False, False, False, False, False,\n",
       "                    False, False, False, False, False, False, False, False,\n",
       "                    False, False, False, False, False, False, False, False,\n",
       "                    False, False, False, False, False, False, False, False,\n",
       "                    False, False, False, False, False, False, False, False,\n",
       "                    False, False, False, False, False, False, False, False,\n",
       "                    False, False, False, False, False, False, False, False,\n",
       "                    False],\n",
       "        fill_value='?',\n",
       "             dtype=object),\n",
       " 'param_min_samples_split': masked_array(data=[2, 3, 4, 5, 6, 7, 8, 9, 10, 2, 3, 4, 5, 6, 7, 8, 9, 10,\n",
       "                    2, 3, 4, 5, 6, 7, 8, 9, 10, 2, 3, 4, 5, 6, 7, 8, 9, 10,\n",
       "                    2, 3, 4, 5, 6, 7, 8, 9, 10, 2, 3, 4, 5, 6, 7, 8, 9, 10,\n",
       "                    2, 3, 4, 5, 6, 7, 8, 9, 10, 2, 3, 4, 5, 6, 7, 8, 9, 10,\n",
       "                    2, 3, 4, 5, 6, 7, 8, 9, 10],\n",
       "              mask=[False, False, False, False, False, False, False, False,\n",
       "                    False, False, False, False, False, False, False, False,\n",
       "                    False, False, False, False, False, False, False, False,\n",
       "                    False, False, False, False, False, False, False, False,\n",
       "                    False, False, False, False, False, False, False, False,\n",
       "                    False, False, False, False, False, False, False, False,\n",
       "                    False, False, False, False, False, False, False, False,\n",
       "                    False, False, False, False, False, False, False, False,\n",
       "                    False, False, False, False, False, False, False, False,\n",
       "                    False, False, False, False, False, False, False, False,\n",
       "                    False],\n",
       "        fill_value='?',\n",
       "             dtype=object),\n",
       " 'params': [{'max_leaf_nodes': 2, 'min_samples_split': 2},\n",
       "  {'max_leaf_nodes': 2, 'min_samples_split': 3},\n",
       "  {'max_leaf_nodes': 2, 'min_samples_split': 4},\n",
       "  {'max_leaf_nodes': 2, 'min_samples_split': 5},\n",
       "  {'max_leaf_nodes': 2, 'min_samples_split': 6},\n",
       "  {'max_leaf_nodes': 2, 'min_samples_split': 7},\n",
       "  {'max_leaf_nodes': 2, 'min_samples_split': 8},\n",
       "  {'max_leaf_nodes': 2, 'min_samples_split': 9},\n",
       "  {'max_leaf_nodes': 2, 'min_samples_split': 10},\n",
       "  {'max_leaf_nodes': 3, 'min_samples_split': 2},\n",
       "  {'max_leaf_nodes': 3, 'min_samples_split': 3},\n",
       "  {'max_leaf_nodes': 3, 'min_samples_split': 4},\n",
       "  {'max_leaf_nodes': 3, 'min_samples_split': 5},\n",
       "  {'max_leaf_nodes': 3, 'min_samples_split': 6},\n",
       "  {'max_leaf_nodes': 3, 'min_samples_split': 7},\n",
       "  {'max_leaf_nodes': 3, 'min_samples_split': 8},\n",
       "  {'max_leaf_nodes': 3, 'min_samples_split': 9},\n",
       "  {'max_leaf_nodes': 3, 'min_samples_split': 10},\n",
       "  {'max_leaf_nodes': 4, 'min_samples_split': 2},\n",
       "  {'max_leaf_nodes': 4, 'min_samples_split': 3},\n",
       "  {'max_leaf_nodes': 4, 'min_samples_split': 4},\n",
       "  {'max_leaf_nodes': 4, 'min_samples_split': 5},\n",
       "  {'max_leaf_nodes': 4, 'min_samples_split': 6},\n",
       "  {'max_leaf_nodes': 4, 'min_samples_split': 7},\n",
       "  {'max_leaf_nodes': 4, 'min_samples_split': 8},\n",
       "  {'max_leaf_nodes': 4, 'min_samples_split': 9},\n",
       "  {'max_leaf_nodes': 4, 'min_samples_split': 10},\n",
       "  {'max_leaf_nodes': 5, 'min_samples_split': 2},\n",
       "  {'max_leaf_nodes': 5, 'min_samples_split': 3},\n",
       "  {'max_leaf_nodes': 5, 'min_samples_split': 4},\n",
       "  {'max_leaf_nodes': 5, 'min_samples_split': 5},\n",
       "  {'max_leaf_nodes': 5, 'min_samples_split': 6},\n",
       "  {'max_leaf_nodes': 5, 'min_samples_split': 7},\n",
       "  {'max_leaf_nodes': 5, 'min_samples_split': 8},\n",
       "  {'max_leaf_nodes': 5, 'min_samples_split': 9},\n",
       "  {'max_leaf_nodes': 5, 'min_samples_split': 10},\n",
       "  {'max_leaf_nodes': 6, 'min_samples_split': 2},\n",
       "  {'max_leaf_nodes': 6, 'min_samples_split': 3},\n",
       "  {'max_leaf_nodes': 6, 'min_samples_split': 4},\n",
       "  {'max_leaf_nodes': 6, 'min_samples_split': 5},\n",
       "  {'max_leaf_nodes': 6, 'min_samples_split': 6},\n",
       "  {'max_leaf_nodes': 6, 'min_samples_split': 7},\n",
       "  {'max_leaf_nodes': 6, 'min_samples_split': 8},\n",
       "  {'max_leaf_nodes': 6, 'min_samples_split': 9},\n",
       "  {'max_leaf_nodes': 6, 'min_samples_split': 10},\n",
       "  {'max_leaf_nodes': 7, 'min_samples_split': 2},\n",
       "  {'max_leaf_nodes': 7, 'min_samples_split': 3},\n",
       "  {'max_leaf_nodes': 7, 'min_samples_split': 4},\n",
       "  {'max_leaf_nodes': 7, 'min_samples_split': 5},\n",
       "  {'max_leaf_nodes': 7, 'min_samples_split': 6},\n",
       "  {'max_leaf_nodes': 7, 'min_samples_split': 7},\n",
       "  {'max_leaf_nodes': 7, 'min_samples_split': 8},\n",
       "  {'max_leaf_nodes': 7, 'min_samples_split': 9},\n",
       "  {'max_leaf_nodes': 7, 'min_samples_split': 10},\n",
       "  {'max_leaf_nodes': 8, 'min_samples_split': 2},\n",
       "  {'max_leaf_nodes': 8, 'min_samples_split': 3},\n",
       "  {'max_leaf_nodes': 8, 'min_samples_split': 4},\n",
       "  {'max_leaf_nodes': 8, 'min_samples_split': 5},\n",
       "  {'max_leaf_nodes': 8, 'min_samples_split': 6},\n",
       "  {'max_leaf_nodes': 8, 'min_samples_split': 7},\n",
       "  {'max_leaf_nodes': 8, 'min_samples_split': 8},\n",
       "  {'max_leaf_nodes': 8, 'min_samples_split': 9},\n",
       "  {'max_leaf_nodes': 8, 'min_samples_split': 10},\n",
       "  {'max_leaf_nodes': 9, 'min_samples_split': 2},\n",
       "  {'max_leaf_nodes': 9, 'min_samples_split': 3},\n",
       "  {'max_leaf_nodes': 9, 'min_samples_split': 4},\n",
       "  {'max_leaf_nodes': 9, 'min_samples_split': 5},\n",
       "  {'max_leaf_nodes': 9, 'min_samples_split': 6},\n",
       "  {'max_leaf_nodes': 9, 'min_samples_split': 7},\n",
       "  {'max_leaf_nodes': 9, 'min_samples_split': 8},\n",
       "  {'max_leaf_nodes': 9, 'min_samples_split': 9},\n",
       "  {'max_leaf_nodes': 9, 'min_samples_split': 10},\n",
       "  {'max_leaf_nodes': 10, 'min_samples_split': 2},\n",
       "  {'max_leaf_nodes': 10, 'min_samples_split': 3},\n",
       "  {'max_leaf_nodes': 10, 'min_samples_split': 4},\n",
       "  {'max_leaf_nodes': 10, 'min_samples_split': 5},\n",
       "  {'max_leaf_nodes': 10, 'min_samples_split': 6},\n",
       "  {'max_leaf_nodes': 10, 'min_samples_split': 7},\n",
       "  {'max_leaf_nodes': 10, 'min_samples_split': 8},\n",
       "  {'max_leaf_nodes': 10, 'min_samples_split': 9},\n",
       "  {'max_leaf_nodes': 10, 'min_samples_split': 10}],\n",
       " 'split0_test_score': array([0.74 , 0.74 , 0.74 , 0.74 , 0.74 , 0.74 , 0.74 , 0.74 , 0.74 ,\n",
       "        0.9  , 0.9  , 0.9  , 0.9  , 0.9  , 0.9  , 0.9  , 0.9  , 0.9  ,\n",
       "        0.93 , 0.93 , 0.93 , 0.93 , 0.93 , 0.93 , 0.93 , 0.93 , 0.93 ,\n",
       "        0.93 , 0.93 , 0.93 , 0.93 , 0.93 , 0.93 , 0.93 , 0.93 , 0.93 ,\n",
       "        0.975, 0.975, 0.975, 0.975, 0.975, 0.975, 0.975, 0.975, 0.975,\n",
       "        0.975, 0.975, 0.975, 0.975, 0.975, 0.975, 0.975, 0.975, 0.975,\n",
       "        0.975, 0.975, 0.975, 0.975, 0.975, 0.975, 0.975, 0.975, 0.975,\n",
       "        0.975, 0.975, 0.975, 0.975, 0.975, 0.975, 0.975, 0.975, 0.975,\n",
       "        0.975, 0.975, 0.975, 0.975, 0.975, 0.975, 0.975, 0.975, 0.975]),\n",
       " 'split1_test_score': array([0.75 , 0.75 , 0.75 , 0.75 , 0.75 , 0.75 , 0.75 , 0.75 , 0.75 ,\n",
       "        0.9  , 0.9  , 0.9  , 0.9  , 0.9  , 0.9  , 0.9  , 0.9  , 0.9  ,\n",
       "        0.94 , 0.94 , 0.94 , 0.94 , 0.94 , 0.94 , 0.94 , 0.94 , 0.94 ,\n",
       "        0.965, 0.965, 0.965, 0.965, 0.965, 0.965, 0.965, 0.965, 0.965,\n",
       "        0.965, 0.965, 0.965, 0.965, 0.965, 0.965, 0.965, 0.965, 0.965,\n",
       "        0.965, 0.965, 0.965, 0.965, 0.965, 0.965, 0.965, 0.965, 0.965,\n",
       "        0.965, 0.965, 0.965, 0.965, 0.965, 0.965, 0.965, 0.965, 0.965,\n",
       "        0.965, 0.965, 0.965, 0.965, 0.965, 0.965, 0.965, 0.965, 0.965,\n",
       "        0.965, 0.965, 0.965, 0.965, 0.965, 0.965, 0.965, 0.965, 0.965]),\n",
       " 'split2_test_score': array([0.78 , 0.78 , 0.78 , 0.78 , 0.78 , 0.78 , 0.78 , 0.78 , 0.78 ,\n",
       "        0.905, 0.905, 0.905, 0.905, 0.905, 0.905, 0.905, 0.905, 0.905,\n",
       "        0.945, 0.945, 0.945, 0.945, 0.945, 0.945, 0.945, 0.945, 0.945,\n",
       "        0.945, 0.945, 0.945, 0.945, 0.945, 0.945, 0.945, 0.945, 0.945,\n",
       "        0.975, 0.975, 0.975, 0.975, 0.975, 0.975, 0.975, 0.975, 0.975,\n",
       "        0.975, 0.975, 0.975, 0.975, 0.975, 0.975, 0.975, 0.975, 0.975,\n",
       "        0.975, 0.975, 0.975, 0.975, 0.975, 0.975, 0.975, 0.975, 0.975,\n",
       "        0.975, 0.975, 0.975, 0.975, 0.975, 0.975, 0.975, 0.975, 0.975,\n",
       "        0.975, 0.975, 0.975, 0.975, 0.975, 0.975, 0.975, 0.975, 0.975]),\n",
       " 'split3_test_score': array([0.76 , 0.76 , 0.76 , 0.76 , 0.76 , 0.76 , 0.76 , 0.76 , 0.76 ,\n",
       "        0.895, 0.895, 0.895, 0.895, 0.895, 0.895, 0.895, 0.895, 0.895,\n",
       "        0.945, 0.945, 0.945, 0.945, 0.945, 0.945, 0.945, 0.945, 0.945,\n",
       "        0.945, 0.945, 0.945, 0.945, 0.945, 0.945, 0.945, 0.945, 0.945,\n",
       "        0.945, 0.945, 0.945, 0.945, 0.945, 0.945, 0.945, 0.945, 0.945,\n",
       "        0.945, 0.945, 0.945, 0.945, 0.945, 0.945, 0.945, 0.945, 0.945,\n",
       "        0.945, 0.945, 0.945, 0.945, 0.945, 0.945, 0.945, 0.945, 0.945,\n",
       "        0.945, 0.945, 0.945, 0.945, 0.945, 0.945, 0.945, 0.945, 0.945,\n",
       "        0.945, 0.945, 0.945, 0.945, 0.945, 0.945, 0.945, 0.945, 0.945]),\n",
       " 'split4_test_score': array([0.76 , 0.76 , 0.76 , 0.76 , 0.76 , 0.76 , 0.76 , 0.76 , 0.76 ,\n",
       "        0.895, 0.895, 0.895, 0.895, 0.895, 0.895, 0.895, 0.895, 0.895,\n",
       "        0.94 , 0.94 , 0.94 , 0.94 , 0.94 , 0.94 , 0.94 , 0.94 , 0.94 ,\n",
       "        0.94 , 0.94 , 0.94 , 0.94 , 0.94 , 0.94 , 0.94 , 0.94 , 0.94 ,\n",
       "        0.94 , 0.94 , 0.94 , 0.94 , 0.94 , 0.94 , 0.94 , 0.94 , 0.94 ,\n",
       "        0.94 , 0.94 , 0.94 , 0.94 , 0.94 , 0.94 , 0.94 , 0.94 , 0.94 ,\n",
       "        0.94 , 0.94 , 0.94 , 0.94 , 0.94 , 0.94 , 0.94 , 0.94 , 0.94 ,\n",
       "        0.94 , 0.94 , 0.94 , 0.94 , 0.94 , 0.94 , 0.94 , 0.94 , 0.94 ,\n",
       "        0.94 , 0.94 , 0.94 , 0.94 , 0.94 , 0.94 , 0.94 , 0.94 , 0.94 ]),\n",
       " 'mean_test_score': array([0.758, 0.758, 0.758, 0.758, 0.758, 0.758, 0.758, 0.758, 0.758,\n",
       "        0.899, 0.899, 0.899, 0.899, 0.899, 0.899, 0.899, 0.899, 0.899,\n",
       "        0.94 , 0.94 , 0.94 , 0.94 , 0.94 , 0.94 , 0.94 , 0.94 , 0.94 ,\n",
       "        0.945, 0.945, 0.945, 0.945, 0.945, 0.945, 0.945, 0.945, 0.945,\n",
       "        0.96 , 0.96 , 0.96 , 0.96 , 0.96 , 0.96 , 0.96 , 0.96 , 0.96 ,\n",
       "        0.96 , 0.96 , 0.96 , 0.96 , 0.96 , 0.96 , 0.96 , 0.96 , 0.96 ,\n",
       "        0.96 , 0.96 , 0.96 , 0.96 , 0.96 , 0.96 , 0.96 , 0.96 , 0.96 ,\n",
       "        0.96 , 0.96 , 0.96 , 0.96 , 0.96 , 0.96 , 0.96 , 0.96 , 0.96 ,\n",
       "        0.96 , 0.96 , 0.96 , 0.96 , 0.96 , 0.96 , 0.96 , 0.96 , 0.96 ]),\n",
       " 'std_test_score': array([0.0132665 , 0.0132665 , 0.0132665 , 0.0132665 , 0.0132665 ,\n",
       "        0.0132665 , 0.0132665 , 0.0132665 , 0.0132665 , 0.00374166,\n",
       "        0.00374166, 0.00374166, 0.00374166, 0.00374166, 0.00374166,\n",
       "        0.00374166, 0.00374166, 0.00374166, 0.00547723, 0.00547723,\n",
       "        0.00547723, 0.00547723, 0.00547723, 0.00547723, 0.00547723,\n",
       "        0.00547723, 0.00547723, 0.01140175, 0.01140175, 0.01140175,\n",
       "        0.01140175, 0.01140175, 0.01140175, 0.01140175, 0.01140175,\n",
       "        0.01140175, 0.0148324 , 0.0148324 , 0.0148324 , 0.0148324 ,\n",
       "        0.0148324 , 0.0148324 , 0.0148324 , 0.0148324 , 0.0148324 ,\n",
       "        0.0148324 , 0.0148324 , 0.0148324 , 0.0148324 , 0.0148324 ,\n",
       "        0.0148324 , 0.0148324 , 0.0148324 , 0.0148324 , 0.0148324 ,\n",
       "        0.0148324 , 0.0148324 , 0.0148324 , 0.0148324 , 0.0148324 ,\n",
       "        0.0148324 , 0.0148324 , 0.0148324 , 0.0148324 , 0.0148324 ,\n",
       "        0.0148324 , 0.0148324 , 0.0148324 , 0.0148324 , 0.0148324 ,\n",
       "        0.0148324 , 0.0148324 , 0.0148324 , 0.0148324 , 0.0148324 ,\n",
       "        0.0148324 , 0.0148324 , 0.0148324 , 0.0148324 , 0.0148324 ,\n",
       "        0.0148324 ]),\n",
       " 'rank_test_score': array([73, 73, 73, 73, 73, 73, 73, 73, 73, 64, 64, 64, 64, 64, 64, 64, 64,\n",
       "        64, 55, 55, 55, 55, 55, 55, 55, 55, 55, 46, 46, 46, 46, 46, 46, 46,\n",
       "        46, 46,  1,  1,  1,  1,  1,  1,  1,  1,  1,  1,  1,  1,  1,  1,  1,\n",
       "         1,  1,  1,  1,  1,  1,  1,  1,  1,  1,  1,  1,  1,  1,  1,  1,  1,\n",
       "         1,  1,  1,  1,  1,  1,  1,  1,  1,  1,  1,  1,  1])}"
      ]
     },
     "execution_count": 352,
     "metadata": {},
     "output_type": "execute_result"
    }
   ],
   "source": [
    "clf = GridSearchCV(RandomForestClassifier(n_estimators=250, min_impurity_decrease=0.05, random_state=42), {\n",
    "    'min_samples_split': [2,3,4,5,6,7,8,9,10],\n",
    "    'max_leaf_nodes' : [2,3,4,5,6,7,8,9,10]\n",
    "}, cv=5)\n",
    "\n",
    "clf.fit(X, y)\n",
    "clf.cv_results_"
   ]
  },
  {
   "cell_type": "markdown",
   "id": "15fd48ca",
   "metadata": {},
   "source": [
    "We can see here that score stabilises at max_leaf_nodes = 6, Thus we don't have to tune min_samples_split."
   ]
  },
  {
   "cell_type": "code",
   "execution_count": 365,
   "id": "dccc0efb",
   "metadata": {},
   "outputs": [
    {
     "data": {
      "text/html": [
       "<style>#sk-container-id-101 {color: black;}#sk-container-id-101 pre{padding: 0;}#sk-container-id-101 div.sk-toggleable {background-color: white;}#sk-container-id-101 label.sk-toggleable__label {cursor: pointer;display: block;width: 100%;margin-bottom: 0;padding: 0.3em;box-sizing: border-box;text-align: center;}#sk-container-id-101 label.sk-toggleable__label-arrow:before {content: \"▸\";float: left;margin-right: 0.25em;color: #696969;}#sk-container-id-101 label.sk-toggleable__label-arrow:hover:before {color: black;}#sk-container-id-101 div.sk-estimator:hover label.sk-toggleable__label-arrow:before {color: black;}#sk-container-id-101 div.sk-toggleable__content {max-height: 0;max-width: 0;overflow: hidden;text-align: left;background-color: #f0f8ff;}#sk-container-id-101 div.sk-toggleable__content pre {margin: 0.2em;color: black;border-radius: 0.25em;background-color: #f0f8ff;}#sk-container-id-101 input.sk-toggleable__control:checked~div.sk-toggleable__content {max-height: 200px;max-width: 100%;overflow: auto;}#sk-container-id-101 input.sk-toggleable__control:checked~label.sk-toggleable__label-arrow:before {content: \"▾\";}#sk-container-id-101 div.sk-estimator input.sk-toggleable__control:checked~label.sk-toggleable__label {background-color: #d4ebff;}#sk-container-id-101 div.sk-label input.sk-toggleable__control:checked~label.sk-toggleable__label {background-color: #d4ebff;}#sk-container-id-101 input.sk-hidden--visually {border: 0;clip: rect(1px 1px 1px 1px);clip: rect(1px, 1px, 1px, 1px);height: 1px;margin: -1px;overflow: hidden;padding: 0;position: absolute;width: 1px;}#sk-container-id-101 div.sk-estimator {font-family: monospace;background-color: #f0f8ff;border: 1px dotted black;border-radius: 0.25em;box-sizing: border-box;margin-bottom: 0.5em;}#sk-container-id-101 div.sk-estimator:hover {background-color: #d4ebff;}#sk-container-id-101 div.sk-parallel-item::after {content: \"\";width: 100%;border-bottom: 1px solid gray;flex-grow: 1;}#sk-container-id-101 div.sk-label:hover label.sk-toggleable__label {background-color: #d4ebff;}#sk-container-id-101 div.sk-serial::before {content: \"\";position: absolute;border-left: 1px solid gray;box-sizing: border-box;top: 0;bottom: 0;left: 50%;z-index: 0;}#sk-container-id-101 div.sk-serial {display: flex;flex-direction: column;align-items: center;background-color: white;padding-right: 0.2em;padding-left: 0.2em;position: relative;}#sk-container-id-101 div.sk-item {position: relative;z-index: 1;}#sk-container-id-101 div.sk-parallel {display: flex;align-items: stretch;justify-content: center;background-color: white;position: relative;}#sk-container-id-101 div.sk-item::before, #sk-container-id-101 div.sk-parallel-item::before {content: \"\";position: absolute;border-left: 1px solid gray;box-sizing: border-box;top: 0;bottom: 0;left: 50%;z-index: -1;}#sk-container-id-101 div.sk-parallel-item {display: flex;flex-direction: column;z-index: 1;position: relative;background-color: white;}#sk-container-id-101 div.sk-parallel-item:first-child::after {align-self: flex-end;width: 50%;}#sk-container-id-101 div.sk-parallel-item:last-child::after {align-self: flex-start;width: 50%;}#sk-container-id-101 div.sk-parallel-item:only-child::after {width: 0;}#sk-container-id-101 div.sk-dashed-wrapped {border: 1px dashed gray;margin: 0 0.4em 0.5em 0.4em;box-sizing: border-box;padding-bottom: 0.4em;background-color: white;}#sk-container-id-101 div.sk-label label {font-family: monospace;font-weight: bold;display: inline-block;line-height: 1.2em;}#sk-container-id-101 div.sk-label-container {text-align: center;}#sk-container-id-101 div.sk-container {/* jupyter's `normalize.less` sets `[hidden] { display: none; }` but bootstrap.min.css set `[hidden] { display: none !important; }` so we also need the `!important` here to be able to override the default hidden behavior on the sphinx rendered scikit-learn.org. See: https://github.com/scikit-learn/scikit-learn/issues/21755 */display: inline-block !important;position: relative;}#sk-container-id-101 div.sk-text-repr-fallback {display: none;}</style><div id=\"sk-container-id-101\" class=\"sk-top-container\"><div class=\"sk-text-repr-fallback\"><pre>RandomForestClassifier(max_leaf_nodes=6, min_impurity_decrease=0.05,\n",
       "                       n_estimators=250, random_state=42)</pre><b>In a Jupyter environment, please rerun this cell to show the HTML representation or trust the notebook. <br />On GitHub, the HTML representation is unable to render, please try loading this page with nbviewer.org.</b></div><div class=\"sk-container\" hidden><div class=\"sk-item\"><div class=\"sk-estimator sk-toggleable\"><input class=\"sk-toggleable__control sk-hidden--visually\" id=\"sk-estimator-id-101\" type=\"checkbox\" checked><label for=\"sk-estimator-id-101\" class=\"sk-toggleable__label sk-toggleable__label-arrow\">RandomForestClassifier</label><div class=\"sk-toggleable__content\"><pre>RandomForestClassifier(max_leaf_nodes=6, min_impurity_decrease=0.05,\n",
       "                       n_estimators=250, random_state=42)</pre></div></div></div></div></div>"
      ],
      "text/plain": [
       "RandomForestClassifier(max_leaf_nodes=6, min_impurity_decrease=0.05,\n",
       "                       n_estimators=250, random_state=42)"
      ]
     },
     "execution_count": 365,
     "metadata": {},
     "output_type": "execute_result"
    }
   ],
   "source": [
    "X_new_train, X_new_test, y_new_train, y_new_test = train_test_split(X, y, test_size=0.1, random_state=0)\n",
    "forrest = RandomForestClassifier(n_estimators=250, max_leaf_nodes=6, min_impurity_decrease=0.05, random_state=42)\n",
    "forrest.fit(X_new_train, y_new_train)"
   ]
  },
  {
   "cell_type": "code",
   "execution_count": 366,
   "id": "2ad9d888",
   "metadata": {},
   "outputs": [
    {
     "name": "stdout",
     "output_type": "stream",
     "text": [
      "[0.         0.         0.03893874 0.0581578  0.03728204 0.02740012\n",
      " 0.03274855 0.00256908 0.06721362 0.13071919 0.05356473 0.09215751\n",
      " 0.02430277 0.14612709 0.05511312 0.01775867 0.04220357 0.08646543\n",
      " 0.0263962  0.02130885 0.01349105 0.00655526 0.0195266 ]\n",
      "['Age' 'Gender' 'Air Pollution' 'Alcohol use' 'Dust Allergy'\n",
      " 'OccuPational Hazards' 'Genetic Risk' 'chronic Lung Disease'\n",
      " 'Balanced Diet' 'Obesity' 'Smoking' 'Passive Smoker' 'Chest Pain'\n",
      " 'Coughing of Blood' 'Fatigue' 'Weight Loss' 'Shortness of Breath'\n",
      " 'Wheezing' 'Swallowing Difficulty' 'Clubbing of Finger Nails'\n",
      " 'Frequent Cold' 'Dry Cough' 'Snoring']\n"
     ]
    }
   ],
   "source": [
    "print(forrest.feature_importances_)\n",
    "print(forrest.feature_names_in_)"
   ]
  },
  {
   "cell_type": "code",
   "execution_count": 367,
   "id": "408cb2d6",
   "metadata": {},
   "outputs": [
    {
     "name": "stdout",
     "output_type": "stream",
     "text": [
      "              precision    recall  f1-score   support\n",
      "\n",
      "           0       1.00      0.97      0.98        30\n",
      "           1       0.94      1.00      0.97        34\n",
      "           2       0.97      0.94      0.96        36\n",
      "\n",
      "    accuracy                           0.97       100\n",
      "   macro avg       0.97      0.97      0.97       100\n",
      "weighted avg       0.97      0.97      0.97       100\n",
      "\n"
     ]
    },
    {
     "data": {
      "image/png": "[encoded data removed]",
      "text/plain": [
       "<Figure size 432x288 with 2 Axes>"
      ]
     },
     "metadata": {
      "needs_background": "light"
     },
     "output_type": "display_data"
    }
   ],
   "source": [
    "y_pred = forrest.predict(X_new_test)\n",
    "cmx = confusion_matrix(y_new_test, y_pred)\n",
    "ConfusionMatrixDisplay(cmx, display_labels=[0,1,2]).plot(cmap=plt.cm.Blues)\n",
    "print(classification_report(y_new_test, y_pred))"
   ]
  },
  {
   "cell_type": "markdown",
   "id": "074eb819",
   "metadata": {},
   "source": [
    "Lastly, we have to determine the max_features:"
   ]
  },
  {
   "cell_type": "code",
   "execution_count": 369,
   "id": "a9ad9abb",
   "metadata": {},
   "outputs": [
    {
     "data": {
      "text/plain": [
       "{'mean_fit_time': array([0.29973502, 0.31387486]),\n",
       " 'std_fit_time': array([0.01366479, 0.02266582]),\n",
       " 'mean_score_time': array([0.02170768, 0.02265193]),\n",
       " 'std_score_time': array([0.00166511, 0.00404781]),\n",
       " 'param_max_features': masked_array(data=['sqrt', 'log2'],\n",
       "              mask=[False, False],\n",
       "        fill_value='?',\n",
       "             dtype=object),\n",
       " 'params': [{'max_features': 'sqrt'}, {'max_features': 'log2'}],\n",
       " 'split0_test_score': array([0.98, 0.98]),\n",
       " 'split1_test_score': array([0.92, 0.92]),\n",
       " 'split2_test_score': array([0.96, 0.96]),\n",
       " 'split3_test_score': array([0.97, 0.97]),\n",
       " 'split4_test_score': array([0.98, 0.98]),\n",
       " 'split5_test_score': array([0.95, 0.95]),\n",
       " 'split6_test_score': array([0.96, 0.96]),\n",
       " 'split7_test_score': array([0.98, 0.98]),\n",
       " 'split8_test_score': array([0.95, 0.95]),\n",
       " 'split9_test_score': array([0.94, 0.94]),\n",
       " 'mean_test_score': array([0.959, 0.959]),\n",
       " 'std_test_score': array([0.01868154, 0.01868154]),\n",
       " 'rank_test_score': array([1, 1])}"
      ]
     },
     "execution_count": 369,
     "metadata": {},
     "output_type": "execute_result"
    }
   ],
   "source": [
    "clf = GridSearchCV(RandomForestClassifier(n_estimators=250, min_impurity_decrease=0.05, max_leaf_nodes=6, random_state=42), {\n",
    "    'max_features': ['sqrt', 'log2']\n",
    "}, cv=10)\n",
    "\n",
    "clf.fit(X, y)\n",
    "clf.cv_results_"
   ]
  },
  {
   "cell_type": "code",
   "execution_count": 376,
   "id": "3f1ce58d",
   "metadata": {},
   "outputs": [
    {
     "data": {
      "text/plain": [
       "{'mean_fit_time': array([0.62356994, 0.67801106, 0.65593626, 0.6699573 , 0.67809849,\n",
       "        1.12221174]),\n",
       " 'std_fit_time': array([0.03915434, 0.0364509 , 0.04753446, 0.05654106, 0.03512085,\n",
       "        0.45434589]),\n",
       " 'mean_score_time': array([0.04580865, 0.05024447, 0.04598927, 0.0490169 , 0.04999156,\n",
       "        0.08294876]),\n",
       " 'std_score_time': array([0.00507016, 0.00420112, 0.00393564, 0.00602111, 0.0037246 ,\n",
       "        0.0363905 ]),\n",
       " 'param_random_state': masked_array(data=[0, 1, 2, 3, 4, 5],\n",
       "              mask=[False, False, False, False, False, False],\n",
       "        fill_value='?',\n",
       "             dtype=object),\n",
       " 'params': [{'random_state': 0},\n",
       "  {'random_state': 1},\n",
       "  {'random_state': 2},\n",
       "  {'random_state': 3},\n",
       "  {'random_state': 4},\n",
       "  {'random_state': 5}],\n",
       " 'split0_test_score': array([0.97, 0.97, 0.97, 0.97, 0.97, 0.97]),\n",
       " 'split1_test_score': array([0.92, 0.92, 0.92, 0.92, 0.96, 0.92]),\n",
       " 'split2_test_score': array([0.96, 0.96, 0.96, 0.96, 0.96, 0.96]),\n",
       " 'split3_test_score': array([0.97, 0.98, 0.97, 0.97, 0.97, 0.97]),\n",
       " 'split4_test_score': array([0.98, 0.99, 0.99, 0.98, 0.98, 0.98]),\n",
       " 'split5_test_score': array([0.97, 0.97, 0.97, 0.94, 0.97, 0.97]),\n",
       " 'split6_test_score': array([0.96, 0.93, 0.96, 0.96, 0.96, 0.93]),\n",
       " 'split7_test_score': array([0.98, 0.99, 0.98, 0.98, 0.98, 0.95]),\n",
       " 'split8_test_score': array([0.98, 0.98, 0.98, 0.98, 0.98, 0.98]),\n",
       " 'split9_test_score': array([0.97, 0.97, 0.98, 0.97, 0.97, 0.97]),\n",
       " 'mean_test_score': array([0.966, 0.966, 0.968, 0.963, 0.97 , 0.96 ]),\n",
       " 'std_test_score': array([0.0168523 , 0.02244994, 0.0183303 , 0.01846619, 0.00774597,\n",
       "        0.01949359]),\n",
       " 'rank_test_score': array([3, 3, 2, 5, 1, 6])}"
      ]
     },
     "execution_count": 376,
     "metadata": {},
     "output_type": "execute_result"
    }
   ],
   "source": [
    "clf = GridSearchCV(RandomForestClassifier(n_estimators=500, min_impurity_decrease=0.05, max_leaf_nodes=6), {\n",
    "    'random_state': [0,1,2,3,4,5]\n",
    "}, cv=10)\n",
    "\n",
    "clf.fit(X, y)\n",
    "clf.cv_results_"
   ]
  },
  {
   "cell_type": "code",
   "execution_count": 377,
   "id": "30e78e92",
   "metadata": {},
   "outputs": [
    {
     "data": {
      "text/plain": [
       "{'mean_fit_time': array([0.12158279, 0.26067748, 0.42699022, 0.57196355, 0.68741674,\n",
       "        0.82343063, 0.97081122, 1.12344613, 1.23735805]),\n",
       " 'std_fit_time': array([0.00863176, 0.01584477, 0.01607756, 0.02882336, 0.03960436,\n",
       "        0.05238161, 0.02215342, 0.03281574, 0.02819829]),\n",
       " 'mean_score_time': array([0.00810051, 0.0201849 , 0.03343859, 0.04693599, 0.05222449,\n",
       "        0.06553664, 0.07427659, 0.10009356, 0.1126749 ]),\n",
       " 'std_score_time': array([0.00405041, 0.00130969, 0.00372271, 0.0042292 , 0.00533156,\n",
       "        0.00636322, 0.00628747, 0.01205465, 0.01905165]),\n",
       " 'param_n_estimators': masked_array(data=[100, 200, 300, 400, 500, 600, 700, 800, 900],\n",
       "              mask=[False, False, False, False, False, False, False, False,\n",
       "                    False],\n",
       "        fill_value='?',\n",
       "             dtype=object),\n",
       " 'params': [{'n_estimators': 100},\n",
       "  {'n_estimators': 200},\n",
       "  {'n_estimators': 300},\n",
       "  {'n_estimators': 400},\n",
       "  {'n_estimators': 500},\n",
       "  {'n_estimators': 600},\n",
       "  {'n_estimators': 700},\n",
       "  {'n_estimators': 800},\n",
       "  {'n_estimators': 900}],\n",
       " 'split0_test_score': array([0.975, 0.975, 0.975, 0.975, 0.965, 0.965, 0.965, 0.965, 0.965]),\n",
       " 'split1_test_score': array([0.975, 0.965, 0.965, 0.965, 0.965, 0.965, 0.965, 0.965, 0.965]),\n",
       " 'split2_test_score': array([0.995, 0.975, 0.975, 0.985, 0.975, 0.975, 0.975, 0.975, 0.975]),\n",
       " 'split3_test_score': array([0.95 , 0.945, 0.945, 0.975, 0.975, 0.975, 0.975, 0.975, 0.975]),\n",
       " 'split4_test_score': array([0.95, 0.94, 0.94, 0.97, 0.97, 0.97, 0.97, 0.97, 0.97]),\n",
       " 'mean_test_score': array([0.969, 0.96 , 0.96 , 0.974, 0.97 , 0.97 , 0.97 , 0.97 , 0.97 ]),\n",
       " 'std_test_score': array([0.01714643, 0.0148324 , 0.0148324 , 0.00663325, 0.00447214,\n",
       "        0.00447214, 0.00447214, 0.00447214, 0.00447214]),\n",
       " 'rank_test_score': array([7, 8, 8, 1, 2, 2, 2, 2, 2])}"
      ]
     },
     "execution_count": 377,
     "metadata": {},
     "output_type": "execute_result"
    }
   ],
   "source": [
    "clf = GridSearchCV(RandomForestClassifier(min_impurity_decrease=0.05, max_leaf_nodes=6, random_state=42), {\n",
    "    'n_estimators': [100, 200, 300, 400, 500, 600, 700, 800, 900]\n",
    "}, cv=5)\n",
    "\n",
    "clf.fit(X, y)\n",
    "clf.cv_results_"
   ]
  },
  {
   "cell_type": "markdown",
   "id": "c715860a",
   "metadata": {},
   "source": [
    "They give the exact same reults, so we will use sqrt. Thus the best model we have for Gini is:\n",
    "RandomForestClassifier(n_estimators=500, min_impurity_decrease=0.05, max_leaf_nodes=6)"
   ]
  },
  {
   "cell_type": "markdown",
   "id": "a1c92b2b",
   "metadata": {},
   "source": [
    "## entropy"
   ]
  },
  {
   "cell_type": "code",
   "execution_count": 370,
   "id": "6a43257f",
   "metadata": {},
   "outputs": [],
   "source": [
    "X = df.drop([\"Level_cat\", \"index\"], axis=1)\n",
    "y = df[\"Level_cat\"]"
   ]
  },
  {
   "cell_type": "code",
   "execution_count": 385,
   "id": "1761c5cb",
   "metadata": {},
   "outputs": [
    {
     "data": {
      "text/plain": [
       "array([0.98, 0.96, 0.97, 0.98, 0.99, 0.98, 0.97, 0.98, 0.99, 0.98])"
      ]
     },
     "execution_count": 385,
     "metadata": {},
     "output_type": "execute_result"
    }
   ],
   "source": [
    "cross_val_score(RandomForestClassifier(n_estimators=500, criterion='entropy', min_samples_split=2, max_leaf_nodes=5, min_impurity_decrease=0.1, random_state=42), X, y, cv=10)"
   ]
  },
  {
   "cell_type": "code",
   "execution_count": 386,
   "id": "8fd041eb",
   "metadata": {},
   "outputs": [
    {
     "data": {
      "text/plain": [
       "array([0.98, 0.98, 0.97, 0.98, 0.99, 0.98, 0.97, 0.98, 0.99, 0.98])"
      ]
     },
     "execution_count": 386,
     "metadata": {},
     "output_type": "execute_result"
    }
   ],
   "source": [
    "cross_val_score(RandomForestClassifier(n_estimators=100, criterion='entropy', min_samples_split=2, max_leaf_nodes=5, min_impurity_decrease=0.1, random_state=42), X, y, cv=10)"
   ]
  },
  {
   "cell_type": "code",
   "execution_count": 387,
   "id": "293cc802",
   "metadata": {},
   "outputs": [
    {
     "data": {
      "text/plain": [
       "array([0.98, 0.96, 0.97, 0.98, 0.99, 0.98, 0.97, 0.98, 0.99, 0.98])"
      ]
     },
     "execution_count": 387,
     "metadata": {},
     "output_type": "execute_result"
    }
   ],
   "source": [
    "cross_val_score(RandomForestClassifier(n_estimators=250, criterion='entropy', min_samples_split=2, max_leaf_nodes=5, min_impurity_decrease=0.1, random_state=42), X, y, cv=10)"
   ]
  },
  {
   "cell_type": "code",
   "execution_count": 388,
   "id": "fd64e1ed",
   "metadata": {},
   "outputs": [
    {
     "data": {
      "text/html": [
       "<style>#sk-container-id-104 {color: black;}#sk-container-id-104 pre{padding: 0;}#sk-container-id-104 div.sk-toggleable {background-color: white;}#sk-container-id-104 label.sk-toggleable__label {cursor: pointer;display: block;width: 100%;margin-bottom: 0;padding: 0.3em;box-sizing: border-box;text-align: center;}#sk-container-id-104 label.sk-toggleable__label-arrow:before {content: \"▸\";float: left;margin-right: 0.25em;color: #696969;}#sk-container-id-104 label.sk-toggleable__label-arrow:hover:before {color: black;}#sk-container-id-104 div.sk-estimator:hover label.sk-toggleable__label-arrow:before {color: black;}#sk-container-id-104 div.sk-toggleable__content {max-height: 0;max-width: 0;overflow: hidden;text-align: left;background-color: #f0f8ff;}#sk-container-id-104 div.sk-toggleable__content pre {margin: 0.2em;color: black;border-radius: 0.25em;background-color: #f0f8ff;}#sk-container-id-104 input.sk-toggleable__control:checked~div.sk-toggleable__content {max-height: 200px;max-width: 100%;overflow: auto;}#sk-container-id-104 input.sk-toggleable__control:checked~label.sk-toggleable__label-arrow:before {content: \"▾\";}#sk-container-id-104 div.sk-estimator input.sk-toggleable__control:checked~label.sk-toggleable__label {background-color: #d4ebff;}#sk-container-id-104 div.sk-label input.sk-toggleable__control:checked~label.sk-toggleable__label {background-color: #d4ebff;}#sk-container-id-104 input.sk-hidden--visually {border: 0;clip: rect(1px 1px 1px 1px);clip: rect(1px, 1px, 1px, 1px);height: 1px;margin: -1px;overflow: hidden;padding: 0;position: absolute;width: 1px;}#sk-container-id-104 div.sk-estimator {font-family: monospace;background-color: #f0f8ff;border: 1px dotted black;border-radius: 0.25em;box-sizing: border-box;margin-bottom: 0.5em;}#sk-container-id-104 div.sk-estimator:hover {background-color: #d4ebff;}#sk-container-id-104 div.sk-parallel-item::after {content: \"\";width: 100%;border-bottom: 1px solid gray;flex-grow: 1;}#sk-container-id-104 div.sk-label:hover label.sk-toggleable__label {background-color: #d4ebff;}#sk-container-id-104 div.sk-serial::before {content: \"\";position: absolute;border-left: 1px solid gray;box-sizing: border-box;top: 0;bottom: 0;left: 50%;z-index: 0;}#sk-container-id-104 div.sk-serial {display: flex;flex-direction: column;align-items: center;background-color: white;padding-right: 0.2em;padding-left: 0.2em;position: relative;}#sk-container-id-104 div.sk-item {position: relative;z-index: 1;}#sk-container-id-104 div.sk-parallel {display: flex;align-items: stretch;justify-content: center;background-color: white;position: relative;}#sk-container-id-104 div.sk-item::before, #sk-container-id-104 div.sk-parallel-item::before {content: \"\";position: absolute;border-left: 1px solid gray;box-sizing: border-box;top: 0;bottom: 0;left: 50%;z-index: -1;}#sk-container-id-104 div.sk-parallel-item {display: flex;flex-direction: column;z-index: 1;position: relative;background-color: white;}#sk-container-id-104 div.sk-parallel-item:first-child::after {align-self: flex-end;width: 50%;}#sk-container-id-104 div.sk-parallel-item:last-child::after {align-self: flex-start;width: 50%;}#sk-container-id-104 div.sk-parallel-item:only-child::after {width: 0;}#sk-container-id-104 div.sk-dashed-wrapped {border: 1px dashed gray;margin: 0 0.4em 0.5em 0.4em;box-sizing: border-box;padding-bottom: 0.4em;background-color: white;}#sk-container-id-104 div.sk-label label {font-family: monospace;font-weight: bold;display: inline-block;line-height: 1.2em;}#sk-container-id-104 div.sk-label-container {text-align: center;}#sk-container-id-104 div.sk-container {/* jupyter's `normalize.less` sets `[hidden] { display: none; }` but bootstrap.min.css set `[hidden] { display: none !important; }` so we also need the `!important` here to be able to override the default hidden behavior on the sphinx rendered scikit-learn.org. See: https://github.com/scikit-learn/scikit-learn/issues/21755 */display: inline-block !important;position: relative;}#sk-container-id-104 div.sk-text-repr-fallback {display: none;}</style><div id=\"sk-container-id-104\" class=\"sk-top-container\"><div class=\"sk-text-repr-fallback\"><pre>RandomForestClassifier(criterion=&#x27;entropy&#x27;, max_leaf_nodes=5,\n",
       "                       min_impurity_decrease=0.1, n_estimators=250,\n",
       "                       random_state=42)</pre><b>In a Jupyter environment, please rerun this cell to show the HTML representation or trust the notebook. <br />On GitHub, the HTML representation is unable to render, please try loading this page with nbviewer.org.</b></div><div class=\"sk-container\" hidden><div class=\"sk-item\"><div class=\"sk-estimator sk-toggleable\"><input class=\"sk-toggleable__control sk-hidden--visually\" id=\"sk-estimator-id-104\" type=\"checkbox\" checked><label for=\"sk-estimator-id-104\" class=\"sk-toggleable__label sk-toggleable__label-arrow\">RandomForestClassifier</label><div class=\"sk-toggleable__content\"><pre>RandomForestClassifier(criterion=&#x27;entropy&#x27;, max_leaf_nodes=5,\n",
       "                       min_impurity_decrease=0.1, n_estimators=250,\n",
       "                       random_state=42)</pre></div></div></div></div></div>"
      ],
      "text/plain": [
       "RandomForestClassifier(criterion='entropy', max_leaf_nodes=5,\n",
       "                       min_impurity_decrease=0.1, n_estimators=250,\n",
       "                       random_state=42)"
      ]
     },
     "execution_count": 388,
     "metadata": {},
     "output_type": "execute_result"
    }
   ],
   "source": [
    "X_new_train, X_new_test, y_new_train, y_new_test = train_test_split(X, y, test_size=0.1, random_state=0)\n",
    "forrest = RandomForestClassifier(n_estimators=250, criterion='entropy', min_samples_split=2, max_leaf_nodes=5, min_impurity_decrease=0.1, random_state=42)\n",
    "forrest.fit(X_new_train, y_new_train)"
   ]
  },
  {
   "cell_type": "code",
   "execution_count": 389,
   "id": "245e2fd4",
   "metadata": {},
   "outputs": [
    {
     "name": "stdout",
     "output_type": "stream",
     "text": [
      "[0.         0.         0.04094232 0.06712386 0.04235848 0.03300944\n",
      " 0.0420287  0.0052944  0.07136723 0.13080649 0.03598639 0.10311443\n",
      " 0.02286747 0.1517674  0.05138912 0.00868023 0.03911612 0.06690156\n",
      " 0.02612527 0.01173684 0.01647791 0.01037617 0.02253021]\n",
      "['Age' 'Gender' 'Air Pollution' 'Alcohol use' 'Dust Allergy'\n",
      " 'OccuPational Hazards' 'Genetic Risk' 'chronic Lung Disease'\n",
      " 'Balanced Diet' 'Obesity' 'Smoking' 'Passive Smoker' 'Chest Pain'\n",
      " 'Coughing of Blood' 'Fatigue' 'Weight Loss' 'Shortness of Breath'\n",
      " 'Wheezing' 'Swallowing Difficulty' 'Clubbing of Finger Nails'\n",
      " 'Frequent Cold' 'Dry Cough' 'Snoring']\n"
     ]
    }
   ],
   "source": [
    "print(forrest.feature_importances_)\n",
    "print(forrest.feature_names_in_)"
   ]
  },
  {
   "cell_type": "code",
   "execution_count": 390,
   "id": "25f70880",
   "metadata": {},
   "outputs": [
    {
     "name": "stdout",
     "output_type": "stream",
     "text": [
      "              precision    recall  f1-score   support\n",
      "\n",
      "           0       1.00      0.97      0.98        30\n",
      "           1       0.94      1.00      0.97        34\n",
      "           2       0.97      0.94      0.96        36\n",
      "\n",
      "    accuracy                           0.97       100\n",
      "   macro avg       0.97      0.97      0.97       100\n",
      "weighted avg       0.97      0.97      0.97       100\n",
      "\n"
     ]
    },
    {
     "data": {
      "image/png": "[encoded data removed]",
      "text/plain": [
       "<Figure size 432x288 with 2 Axes>"
      ]
     },
     "metadata": {
      "needs_background": "light"
     },
     "output_type": "display_data"
    }
   ],
   "source": [
    "y_pred = forrest.predict(X_new_test)\n",
    "cmx = confusion_matrix(y_new_test, y_pred)\n",
    "ConfusionMatrixDisplay(cmx, display_labels=[0,1,2]).plot(cmap=plt.cm.Blues)\n",
    "print(classification_report(y_new_test, y_pred))"
   ]
  },
  {
   "cell_type": "code",
   "execution_count": 393,
   "id": "bd5acb2e",
   "metadata": {},
   "outputs": [
    {
     "data": {
      "text/plain": [
       "{'mean_fit_time': array([0.30806789, 0.28811803, 0.28734074, 0.29496989, 0.28365927,\n",
       "        0.28940883, 0.29571834, 0.28386679, 0.28433733, 0.29309912,\n",
       "        0.29477835]),\n",
       " 'std_fit_time': array([0.02895311, 0.00507487, 0.01000798, 0.00940629, 0.00069276,\n",
       "        0.00940047, 0.01505957, 0.00981351, 0.01074573, 0.00707339,\n",
       "        0.01107733]),\n",
       " 'mean_score_time': array([0.02226171, 0.02509217, 0.02589178, 0.02218809, 0.0202601 ,\n",
       "        0.02417321, 0.02300696, 0.02227674, 0.02305183, 0.03026762,\n",
       "        0.02174106]),\n",
       " 'std_score_time': array([3.12778313e-03, 3.94374021e-03, 3.87493481e-03, 4.01398870e-03,\n",
       "        5.87292281e-05, 4.24401427e-03, 2.99650555e-03, 3.08378486e-03,\n",
       "        3.71420648e-03, 5.09164297e-05, 3.44407778e-03]),\n",
       " 'param_min_impurity_decrease': masked_array(data=[0.1, 0.11, 0.12, 0.13, 0.14, 0.15, 0.16, 0.17, 0.18,\n",
       "                    0.19, 0.2],\n",
       "              mask=[False, False, False, False, False, False, False, False,\n",
       "                    False, False, False],\n",
       "        fill_value='?',\n",
       "             dtype=object),\n",
       " 'params': [{'min_impurity_decrease': 0.1},\n",
       "  {'min_impurity_decrease': 0.11},\n",
       "  {'min_impurity_decrease': 0.12},\n",
       "  {'min_impurity_decrease': 0.13},\n",
       "  {'min_impurity_decrease': 0.14},\n",
       "  {'min_impurity_decrease': 0.15},\n",
       "  {'min_impurity_decrease': 0.16},\n",
       "  {'min_impurity_decrease': 0.17},\n",
       "  {'min_impurity_decrease': 0.18},\n",
       "  {'min_impurity_decrease': 0.19},\n",
       "  {'min_impurity_decrease': 0.2}],\n",
       " 'split0_test_score': array([0.98 , 0.98 , 0.98 , 0.945, 0.945, 0.945, 0.945, 0.915, 0.915,\n",
       "        0.915, 0.915]),\n",
       " 'split1_test_score': array([0.975, 0.975, 0.975, 0.94 , 0.95 , 0.95 , 0.95 , 0.91 , 0.91 ,\n",
       "        0.91 , 0.91 ]),\n",
       " 'split2_test_score': array([0.985, 0.985, 0.985, 0.985, 0.955, 0.955, 0.955, 0.955, 0.915,\n",
       "        0.915, 0.915]),\n",
       " 'split3_test_score': array([0.98, 0.98, 0.98, 0.95, 0.95, 0.95, 0.95, 0.9 , 0.9 , 0.9 , 0.9 ]),\n",
       " 'split4_test_score': array([0.98 , 0.98 , 0.98 , 0.95 , 0.95 , 0.95 , 0.95 , 0.905, 0.905,\n",
       "        0.905, 0.895]),\n",
       " 'mean_test_score': array([0.98 , 0.98 , 0.98 , 0.954, 0.95 , 0.95 , 0.95 , 0.917, 0.909,\n",
       "        0.909, 0.907]),\n",
       " 'std_test_score': array([0.00316228, 0.00316228, 0.00316228, 0.01593738, 0.00316228,\n",
       "        0.00316228, 0.00316228, 0.01964688, 0.00583095, 0.00583095,\n",
       "        0.00812404]),\n",
       " 'rank_test_score': array([ 1,  1,  1,  4,  5,  5,  5,  8,  9,  9, 11])}"
      ]
     },
     "execution_count": 393,
     "metadata": {},
     "output_type": "execute_result"
    }
   ],
   "source": [
    "clf = GridSearchCV(RandomForestClassifier(n_estimators=250, criterion='entropy',min_samples_split=5, min_samples_leaf=5, random_state=42), {\n",
    "    'min_impurity_decrease': [0.1, 0.11, 0.12, 0.13, 0.14, 0.15, 0.16, 0.17, 0.18, 0.19, 0.2]\n",
    "}, cv=5)\n",
    "\n",
    "clf.fit(X, y)\n",
    "clf.cv_results_"
   ]
  },
  {
   "cell_type": "markdown",
   "id": "619d4387",
   "metadata": {},
   "source": [
    "The best to use is 0.14"
   ]
  },
  {
   "cell_type": "code",
   "execution_count": 397,
   "id": "7cfb1e25",
   "metadata": {},
   "outputs": [
    {
     "data": {
      "text/html": [
       "<style>#sk-container-id-106 {color: black;}#sk-container-id-106 pre{padding: 0;}#sk-container-id-106 div.sk-toggleable {background-color: white;}#sk-container-id-106 label.sk-toggleable__label {cursor: pointer;display: block;width: 100%;margin-bottom: 0;padding: 0.3em;box-sizing: border-box;text-align: center;}#sk-container-id-106 label.sk-toggleable__label-arrow:before {content: \"▸\";float: left;margin-right: 0.25em;color: #696969;}#sk-container-id-106 label.sk-toggleable__label-arrow:hover:before {color: black;}#sk-container-id-106 div.sk-estimator:hover label.sk-toggleable__label-arrow:before {color: black;}#sk-container-id-106 div.sk-toggleable__content {max-height: 0;max-width: 0;overflow: hidden;text-align: left;background-color: #f0f8ff;}#sk-container-id-106 div.sk-toggleable__content pre {margin: 0.2em;color: black;border-radius: 0.25em;background-color: #f0f8ff;}#sk-container-id-106 input.sk-toggleable__control:checked~div.sk-toggleable__content {max-height: 200px;max-width: 100%;overflow: auto;}#sk-container-id-106 input.sk-toggleable__control:checked~label.sk-toggleable__label-arrow:before {content: \"▾\";}#sk-container-id-106 div.sk-estimator input.sk-toggleable__control:checked~label.sk-toggleable__label {background-color: #d4ebff;}#sk-container-id-106 div.sk-label input.sk-toggleable__control:checked~label.sk-toggleable__label {background-color: #d4ebff;}#sk-container-id-106 input.sk-hidden--visually {border: 0;clip: rect(1px 1px 1px 1px);clip: rect(1px, 1px, 1px, 1px);height: 1px;margin: -1px;overflow: hidden;padding: 0;position: absolute;width: 1px;}#sk-container-id-106 div.sk-estimator {font-family: monospace;background-color: #f0f8ff;border: 1px dotted black;border-radius: 0.25em;box-sizing: border-box;margin-bottom: 0.5em;}#sk-container-id-106 div.sk-estimator:hover {background-color: #d4ebff;}#sk-container-id-106 div.sk-parallel-item::after {content: \"\";width: 100%;border-bottom: 1px solid gray;flex-grow: 1;}#sk-container-id-106 div.sk-label:hover label.sk-toggleable__label {background-color: #d4ebff;}#sk-container-id-106 div.sk-serial::before {content: \"\";position: absolute;border-left: 1px solid gray;box-sizing: border-box;top: 0;bottom: 0;left: 50%;z-index: 0;}#sk-container-id-106 div.sk-serial {display: flex;flex-direction: column;align-items: center;background-color: white;padding-right: 0.2em;padding-left: 0.2em;position: relative;}#sk-container-id-106 div.sk-item {position: relative;z-index: 1;}#sk-container-id-106 div.sk-parallel {display: flex;align-items: stretch;justify-content: center;background-color: white;position: relative;}#sk-container-id-106 div.sk-item::before, #sk-container-id-106 div.sk-parallel-item::before {content: \"\";position: absolute;border-left: 1px solid gray;box-sizing: border-box;top: 0;bottom: 0;left: 50%;z-index: -1;}#sk-container-id-106 div.sk-parallel-item {display: flex;flex-direction: column;z-index: 1;position: relative;background-color: white;}#sk-container-id-106 div.sk-parallel-item:first-child::after {align-self: flex-end;width: 50%;}#sk-container-id-106 div.sk-parallel-item:last-child::after {align-self: flex-start;width: 50%;}#sk-container-id-106 div.sk-parallel-item:only-child::after {width: 0;}#sk-container-id-106 div.sk-dashed-wrapped {border: 1px dashed gray;margin: 0 0.4em 0.5em 0.4em;box-sizing: border-box;padding-bottom: 0.4em;background-color: white;}#sk-container-id-106 div.sk-label label {font-family: monospace;font-weight: bold;display: inline-block;line-height: 1.2em;}#sk-container-id-106 div.sk-label-container {text-align: center;}#sk-container-id-106 div.sk-container {/* jupyter's `normalize.less` sets `[hidden] { display: none; }` but bootstrap.min.css set `[hidden] { display: none !important; }` so we also need the `!important` here to be able to override the default hidden behavior on the sphinx rendered scikit-learn.org. See: https://github.com/scikit-learn/scikit-learn/issues/21755 */display: inline-block !important;position: relative;}#sk-container-id-106 div.sk-text-repr-fallback {display: none;}</style><div id=\"sk-container-id-106\" class=\"sk-top-container\"><div class=\"sk-text-repr-fallback\"><pre>RandomForestClassifier(criterion=&#x27;entropy&#x27;, max_leaf_nodes=5,\n",
       "                       min_impurity_decrease=0.14, min_samples_split=5,\n",
       "                       n_estimators=250, random_state=42)</pre><b>In a Jupyter environment, please rerun this cell to show the HTML representation or trust the notebook. <br />On GitHub, the HTML representation is unable to render, please try loading this page with nbviewer.org.</b></div><div class=\"sk-container\" hidden><div class=\"sk-item\"><div class=\"sk-estimator sk-toggleable\"><input class=\"sk-toggleable__control sk-hidden--visually\" id=\"sk-estimator-id-106\" type=\"checkbox\" checked><label for=\"sk-estimator-id-106\" class=\"sk-toggleable__label sk-toggleable__label-arrow\">RandomForestClassifier</label><div class=\"sk-toggleable__content\"><pre>RandomForestClassifier(criterion=&#x27;entropy&#x27;, max_leaf_nodes=5,\n",
       "                       min_impurity_decrease=0.14, min_samples_split=5,\n",
       "                       n_estimators=250, random_state=42)</pre></div></div></div></div></div>"
      ],
      "text/plain": [
       "RandomForestClassifier(criterion='entropy', max_leaf_nodes=5,\n",
       "                       min_impurity_decrease=0.14, min_samples_split=5,\n",
       "                       n_estimators=250, random_state=42)"
      ]
     },
     "execution_count": 397,
     "metadata": {},
     "output_type": "execute_result"
    }
   ],
   "source": [
    "X_new_train, X_new_test, y_new_train, y_new_test = train_test_split(X, y, test_size=0.1, random_state=0)\n",
    "forrest = RandomForestClassifier(n_estimators=250, criterion=\"entropy\", min_samples_split=5, max_leaf_nodes=5, min_impurity_decrease=0.14, random_state=42)\n",
    "forrest.fit(X_new_train, y_new_train)"
   ]
  },
  {
   "cell_type": "code",
   "execution_count": 398,
   "id": "61c9015e",
   "metadata": {},
   "outputs": [
    {
     "name": "stdout",
     "output_type": "stream",
     "text": [
      "[0.         0.         0.03988355 0.07201058 0.04175126 0.03344749\n",
      " 0.04736999 0.00188078 0.08243601 0.1387333  0.03634317 0.10812655\n",
      " 0.01943966 0.16944493 0.04822409 0.00474675 0.03588432 0.06304289\n",
      " 0.02000552 0.01004452 0.01013958 0.00631546 0.01072962]\n",
      "['Age' 'Gender' 'Air Pollution' 'Alcohol use' 'Dust Allergy'\n",
      " 'OccuPational Hazards' 'Genetic Risk' 'chronic Lung Disease'\n",
      " 'Balanced Diet' 'Obesity' 'Smoking' 'Passive Smoker' 'Chest Pain'\n",
      " 'Coughing of Blood' 'Fatigue' 'Weight Loss' 'Shortness of Breath'\n",
      " 'Wheezing' 'Swallowing Difficulty' 'Clubbing of Finger Nails'\n",
      " 'Frequent Cold' 'Dry Cough' 'Snoring']\n"
     ]
    }
   ],
   "source": [
    "print(forrest.feature_importances_)\n",
    "print(forrest.feature_names_in_)"
   ]
  },
  {
   "cell_type": "code",
   "execution_count": 399,
   "id": "34d03225",
   "metadata": {},
   "outputs": [
    {
     "name": "stdout",
     "output_type": "stream",
     "text": [
      "              precision    recall  f1-score   support\n",
      "\n",
      "           0       1.00      0.97      0.98        30\n",
      "           1       1.00      0.85      0.92        34\n",
      "           2       0.86      1.00      0.92        36\n",
      "\n",
      "    accuracy                           0.94       100\n",
      "   macro avg       0.95      0.94      0.94       100\n",
      "weighted avg       0.95      0.94      0.94       100\n",
      "\n"
     ]
    },
    {
     "data": {
      "image/png": "[encoded data removed]",
      "text/plain": [
       "<Figure size 432x288 with 2 Axes>"
      ]
     },
     "metadata": {
      "needs_background": "light"
     },
     "output_type": "display_data"
    }
   ],
   "source": [
    "y_pred = forrest.predict(X_new_test)\n",
    "cmx = confusion_matrix(y_new_test, y_pred)\n",
    "ConfusionMatrixDisplay(cmx, display_labels=[0,1,2]).plot(cmap=plt.cm.Blues)\n",
    "print(classification_report(y_new_test, y_pred))"
   ]
  },
  {
   "cell_type": "code",
   "execution_count": 400,
   "id": "95cd5268",
   "metadata": {},
   "outputs": [
    {
     "data": {
      "text/plain": [
       "{'mean_fit_time': array([0.27248211, 0.32321014, 0.31960282, 0.30397606, 0.37790589,\n",
       "        0.30063729, 0.34862823, 0.40459557, 0.37665801, 0.31057658,\n",
       "        0.32284522, 0.3199945 , 0.31533532, 0.34460659, 0.34880114,\n",
       "        0.34390683, 0.29161716, 0.35093327, 0.32354441, 0.30827236,\n",
       "        0.32728362, 0.30216312, 0.3074688 , 0.44961381, 0.46839337,\n",
       "        0.36071186, 0.32159429, 0.34196644, 0.33788395, 0.39053707,\n",
       "        0.32956438, 0.28582969, 0.33041897, 0.3010098 , 0.33852825,\n",
       "        0.30717392, 0.31546416, 0.30003076, 0.3286057 , 0.32334132,\n",
       "        0.339854  , 0.34397573, 0.35994325, 0.34022999, 0.30873961,\n",
       "        0.31062655, 0.32756386, 0.30242786, 0.4154736 , 0.80763898,\n",
       "        0.47088804, 0.36067858, 0.33815789, 0.35785313, 0.35021181,\n",
       "        0.3225121 , 0.33387723, 0.33147364, 0.3231236 , 0.31730237,\n",
       "        0.31908188, 0.29107814, 0.31576457, 0.28648338, 0.30903001,\n",
       "        0.30279555, 0.29403558, 0.31544485, 0.29136086, 0.32509127,\n",
       "        0.29964113, 0.31000156, 0.32210398, 0.30671048, 0.30409784,\n",
       "        0.31709824, 0.29839921, 0.31628489, 0.30113602, 0.329705  ,\n",
       "        0.3287889 ]),\n",
       " 'std_fit_time': array([0.01213869, 0.0196095 , 0.01689944, 0.0175606 , 0.04351176,\n",
       "        0.01883359, 0.04836221, 0.06005618, 0.04478997, 0.00984573,\n",
       "        0.02661325, 0.02150435, 0.02168195, 0.06015292, 0.05416372,\n",
       "        0.03031358, 0.00599908, 0.05042817, 0.02518299, 0.0252686 ,\n",
       "        0.0337617 , 0.00309555, 0.01083237, 0.04467873, 0.05036294,\n",
       "        0.03101631, 0.02595532, 0.03071464, 0.02745514, 0.07099373,\n",
       "        0.02287255, 0.00367548, 0.02004292, 0.0047595 , 0.02780486,\n",
       "        0.01168877, 0.0253234 , 0.011488  , 0.01585149, 0.02204481,\n",
       "        0.02789278, 0.03532904, 0.01631613, 0.01973598, 0.015729  ,\n",
       "        0.02492991, 0.03174054, 0.00787316, 0.15373426, 0.05940853,\n",
       "        0.06158631, 0.03037354, 0.02202472, 0.01290403, 0.03148048,\n",
       "        0.01022732, 0.01473209, 0.04075371, 0.04667321, 0.02563926,\n",
       "        0.03509468, 0.00887851, 0.02082923, 0.00637418, 0.02416045,\n",
       "        0.02071544, 0.01546111, 0.0244338 , 0.01308863, 0.02026873,\n",
       "        0.01969303, 0.02079263, 0.01715723, 0.0203085 , 0.02366792,\n",
       "        0.02713154, 0.01088853, 0.02804575, 0.01085865, 0.01612573,\n",
       "        0.01231473]),\n",
       " 'mean_score_time': array([0.02392154, 0.02828169, 0.02513967, 0.02292523, 0.03200269,\n",
       "        0.02293649, 0.02554922, 0.02991214, 0.02810941, 0.02215223,\n",
       "        0.02609744, 0.0281805 , 0.02630515, 0.02918973, 0.03100967,\n",
       "        0.02637477, 0.02428918, 0.03664827, 0.02342234, 0.02640858,\n",
       "        0.02511458, 0.02601643, 0.02766552, 0.03350229, 0.03380451,\n",
       "        0.03002639, 0.02672234, 0.02919388, 0.02885923, 0.03300552,\n",
       "        0.02794609, 0.0242331 , 0.02864585, 0.0244607 , 0.02958512,\n",
       "        0.0213089 , 0.02691054, 0.0288959 , 0.02951612, 0.0262485 ,\n",
       "        0.02721262, 0.02610493, 0.02695327, 0.02780213, 0.02884283,\n",
       "        0.02668867, 0.02594142, 0.02595329, 0.03201256, 0.06745834,\n",
       "        0.03826962, 0.02662859, 0.02750978, 0.03143468, 0.02826867,\n",
       "        0.02619619, 0.02953057, 0.03085122, 0.028896  , 0.02642274,\n",
       "        0.02843914, 0.02229714, 0.06118088, 0.02670708, 0.02507615,\n",
       "        0.02192326, 0.02544837, 0.02603121, 0.0269918 , 0.02494164,\n",
       "        0.02714272, 0.0260592 , 0.02781949, 0.02428365, 0.02636375,\n",
       "        0.02593732, 0.02315202, 0.02580624, 0.02513204, 0.02791586,\n",
       "        0.02831116]),\n",
       " 'std_score_time': array([0.00343134, 0.0086447 , 0.00699011, 0.00403704, 0.00599987,\n",
       "        0.00484809, 0.00373462, 0.00399086, 0.01047202, 0.00280206,\n",
       "        0.00572877, 0.00299958, 0.0042409 , 0.00236744, 0.00548421,\n",
       "        0.00810453, 0.00223556, 0.0092017 , 0.00421005, 0.00213516,\n",
       "        0.00372736, 0.00137765, 0.00369111, 0.00900844, 0.0076469 ,\n",
       "        0.00796646, 0.00567195, 0.00296968, 0.00725093, 0.00450495,\n",
       "        0.00072086, 0.004191  , 0.00181432, 0.00082392, 0.00381004,\n",
       "        0.00131262, 0.00581533, 0.0025686 , 0.00152492, 0.00420842,\n",
       "        0.004343  , 0.00413695, 0.00442911, 0.00301255, 0.00461386,\n",
       "        0.00332582, 0.00433523, 0.0030843 , 0.01081386, 0.00906488,\n",
       "        0.00850922, 0.00469614, 0.00314413, 0.00987659, 0.00200886,\n",
       "        0.0052564 , 0.00251371, 0.00959625, 0.00331691, 0.00341042,\n",
       "        0.00361811, 0.00401986, 0.07081896, 0.00345148, 0.00436717,\n",
       "        0.0014848 , 0.00418465, 0.00402069, 0.00359418, 0.00414357,\n",
       "        0.00352626, 0.00393429, 0.00386399, 0.00421973, 0.00342423,\n",
       "        0.00395025, 0.00370975, 0.00383883, 0.00351667, 0.00291495,\n",
       "        0.00402916]),\n",
       " 'param_max_leaf_nodes': masked_array(data=[2, 2, 2, 2, 2, 2, 2, 2, 2, 3, 3, 3, 3, 3, 3, 3, 3, 3,\n",
       "                    4, 4, 4, 4, 4, 4, 4, 4, 4, 5, 5, 5, 5, 5, 5, 5, 5, 5,\n",
       "                    6, 6, 6, 6, 6, 6, 6, 6, 6, 7, 7, 7, 7, 7, 7, 7, 7, 7,\n",
       "                    8, 8, 8, 8, 8, 8, 8, 8, 8, 9, 9, 9, 9, 9, 9, 9, 9, 9,\n",
       "                    10, 10, 10, 10, 10, 10, 10, 10, 10],\n",
       "              mask=[False, False, False, False, False, False, False, False,\n",
       "                    False, False, False, False, False, False, False, False,\n",
       "                    False, False, False, False, False, False, False, False,\n",
       "                    False, False, False, False, False, False, False, False,\n",
       "                    False, False, False, False, False, False, False, False,\n",
       "                    False, False, False, False, False, False, False, False,\n",
       "                    False, False, False, False, False, False, False, False,\n",
       "                    False, False, False, False, False, False, False, False,\n",
       "                    False, False, False, False, False, False, False, False,\n",
       "                    False, False, False, False, False, False, False, False,\n",
       "                    False],\n",
       "        fill_value='?',\n",
       "             dtype=object),\n",
       " 'param_min_samples_split': masked_array(data=[2, 3, 4, 5, 6, 7, 8, 9, 10, 2, 3, 4, 5, 6, 7, 8, 9, 10,\n",
       "                    2, 3, 4, 5, 6, 7, 8, 9, 10, 2, 3, 4, 5, 6, 7, 8, 9, 10,\n",
       "                    2, 3, 4, 5, 6, 7, 8, 9, 10, 2, 3, 4, 5, 6, 7, 8, 9, 10,\n",
       "                    2, 3, 4, 5, 6, 7, 8, 9, 10, 2, 3, 4, 5, 6, 7, 8, 9, 10,\n",
       "                    2, 3, 4, 5, 6, 7, 8, 9, 10],\n",
       "              mask=[False, False, False, False, False, False, False, False,\n",
       "                    False, False, False, False, False, False, False, False,\n",
       "                    False, False, False, False, False, False, False, False,\n",
       "                    False, False, False, False, False, False, False, False,\n",
       "                    False, False, False, False, False, False, False, False,\n",
       "                    False, False, False, False, False, False, False, False,\n",
       "                    False, False, False, False, False, False, False, False,\n",
       "                    False, False, False, False, False, False, False, False,\n",
       "                    False, False, False, False, False, False, False, False,\n",
       "                    False, False, False, False, False, False, False, False,\n",
       "                    False],\n",
       "        fill_value='?',\n",
       "             dtype=object),\n",
       " 'params': [{'max_leaf_nodes': 2, 'min_samples_split': 2},\n",
       "  {'max_leaf_nodes': 2, 'min_samples_split': 3},\n",
       "  {'max_leaf_nodes': 2, 'min_samples_split': 4},\n",
       "  {'max_leaf_nodes': 2, 'min_samples_split': 5},\n",
       "  {'max_leaf_nodes': 2, 'min_samples_split': 6},\n",
       "  {'max_leaf_nodes': 2, 'min_samples_split': 7},\n",
       "  {'max_leaf_nodes': 2, 'min_samples_split': 8},\n",
       "  {'max_leaf_nodes': 2, 'min_samples_split': 9},\n",
       "  {'max_leaf_nodes': 2, 'min_samples_split': 10},\n",
       "  {'max_leaf_nodes': 3, 'min_samples_split': 2},\n",
       "  {'max_leaf_nodes': 3, 'min_samples_split': 3},\n",
       "  {'max_leaf_nodes': 3, 'min_samples_split': 4},\n",
       "  {'max_leaf_nodes': 3, 'min_samples_split': 5},\n",
       "  {'max_leaf_nodes': 3, 'min_samples_split': 6},\n",
       "  {'max_leaf_nodes': 3, 'min_samples_split': 7},\n",
       "  {'max_leaf_nodes': 3, 'min_samples_split': 8},\n",
       "  {'max_leaf_nodes': 3, 'min_samples_split': 9},\n",
       "  {'max_leaf_nodes': 3, 'min_samples_split': 10},\n",
       "  {'max_leaf_nodes': 4, 'min_samples_split': 2},\n",
       "  {'max_leaf_nodes': 4, 'min_samples_split': 3},\n",
       "  {'max_leaf_nodes': 4, 'min_samples_split': 4},\n",
       "  {'max_leaf_nodes': 4, 'min_samples_split': 5},\n",
       "  {'max_leaf_nodes': 4, 'min_samples_split': 6},\n",
       "  {'max_leaf_nodes': 4, 'min_samples_split': 7},\n",
       "  {'max_leaf_nodes': 4, 'min_samples_split': 8},\n",
       "  {'max_leaf_nodes': 4, 'min_samples_split': 9},\n",
       "  {'max_leaf_nodes': 4, 'min_samples_split': 10},\n",
       "  {'max_leaf_nodes': 5, 'min_samples_split': 2},\n",
       "  {'max_leaf_nodes': 5, 'min_samples_split': 3},\n",
       "  {'max_leaf_nodes': 5, 'min_samples_split': 4},\n",
       "  {'max_leaf_nodes': 5, 'min_samples_split': 5},\n",
       "  {'max_leaf_nodes': 5, 'min_samples_split': 6},\n",
       "  {'max_leaf_nodes': 5, 'min_samples_split': 7},\n",
       "  {'max_leaf_nodes': 5, 'min_samples_split': 8},\n",
       "  {'max_leaf_nodes': 5, 'min_samples_split': 9},\n",
       "  {'max_leaf_nodes': 5, 'min_samples_split': 10},\n",
       "  {'max_leaf_nodes': 6, 'min_samples_split': 2},\n",
       "  {'max_leaf_nodes': 6, 'min_samples_split': 3},\n",
       "  {'max_leaf_nodes': 6, 'min_samples_split': 4},\n",
       "  {'max_leaf_nodes': 6, 'min_samples_split': 5},\n",
       "  {'max_leaf_nodes': 6, 'min_samples_split': 6},\n",
       "  {'max_leaf_nodes': 6, 'min_samples_split': 7},\n",
       "  {'max_leaf_nodes': 6, 'min_samples_split': 8},\n",
       "  {'max_leaf_nodes': 6, 'min_samples_split': 9},\n",
       "  {'max_leaf_nodes': 6, 'min_samples_split': 10},\n",
       "  {'max_leaf_nodes': 7, 'min_samples_split': 2},\n",
       "  {'max_leaf_nodes': 7, 'min_samples_split': 3},\n",
       "  {'max_leaf_nodes': 7, 'min_samples_split': 4},\n",
       "  {'max_leaf_nodes': 7, 'min_samples_split': 5},\n",
       "  {'max_leaf_nodes': 7, 'min_samples_split': 6},\n",
       "  {'max_leaf_nodes': 7, 'min_samples_split': 7},\n",
       "  {'max_leaf_nodes': 7, 'min_samples_split': 8},\n",
       "  {'max_leaf_nodes': 7, 'min_samples_split': 9},\n",
       "  {'max_leaf_nodes': 7, 'min_samples_split': 10},\n",
       "  {'max_leaf_nodes': 8, 'min_samples_split': 2},\n",
       "  {'max_leaf_nodes': 8, 'min_samples_split': 3},\n",
       "  {'max_leaf_nodes': 8, 'min_samples_split': 4},\n",
       "  {'max_leaf_nodes': 8, 'min_samples_split': 5},\n",
       "  {'max_leaf_nodes': 8, 'min_samples_split': 6},\n",
       "  {'max_leaf_nodes': 8, 'min_samples_split': 7},\n",
       "  {'max_leaf_nodes': 8, 'min_samples_split': 8},\n",
       "  {'max_leaf_nodes': 8, 'min_samples_split': 9},\n",
       "  {'max_leaf_nodes': 8, 'min_samples_split': 10},\n",
       "  {'max_leaf_nodes': 9, 'min_samples_split': 2},\n",
       "  {'max_leaf_nodes': 9, 'min_samples_split': 3},\n",
       "  {'max_leaf_nodes': 9, 'min_samples_split': 4},\n",
       "  {'max_leaf_nodes': 9, 'min_samples_split': 5},\n",
       "  {'max_leaf_nodes': 9, 'min_samples_split': 6},\n",
       "  {'max_leaf_nodes': 9, 'min_samples_split': 7},\n",
       "  {'max_leaf_nodes': 9, 'min_samples_split': 8},\n",
       "  {'max_leaf_nodes': 9, 'min_samples_split': 9},\n",
       "  {'max_leaf_nodes': 9, 'min_samples_split': 10},\n",
       "  {'max_leaf_nodes': 10, 'min_samples_split': 2},\n",
       "  {'max_leaf_nodes': 10, 'min_samples_split': 3},\n",
       "  {'max_leaf_nodes': 10, 'min_samples_split': 4},\n",
       "  {'max_leaf_nodes': 10, 'min_samples_split': 5},\n",
       "  {'max_leaf_nodes': 10, 'min_samples_split': 6},\n",
       "  {'max_leaf_nodes': 10, 'min_samples_split': 7},\n",
       "  {'max_leaf_nodes': 10, 'min_samples_split': 8},\n",
       "  {'max_leaf_nodes': 10, 'min_samples_split': 9},\n",
       "  {'max_leaf_nodes': 10, 'min_samples_split': 10}],\n",
       " 'split0_test_score': array([0.77 , 0.77 , 0.77 , 0.77 , 0.77 , 0.77 , 0.77 , 0.77 , 0.77 ,\n",
       "        0.915, 0.915, 0.915, 0.915, 0.915, 0.915, 0.915, 0.915, 0.915,\n",
       "        0.945, 0.945, 0.945, 0.945, 0.945, 0.945, 0.945, 0.945, 0.945,\n",
       "        0.945, 0.945, 0.945, 0.945, 0.945, 0.945, 0.945, 0.945, 0.945,\n",
       "        0.945, 0.945, 0.945, 0.945, 0.945, 0.945, 0.945, 0.945, 0.945,\n",
       "        0.945, 0.945, 0.945, 0.945, 0.945, 0.945, 0.945, 0.945, 0.945,\n",
       "        0.945, 0.945, 0.945, 0.945, 0.945, 0.945, 0.945, 0.945, 0.945,\n",
       "        0.945, 0.945, 0.945, 0.945, 0.945, 0.945, 0.945, 0.945, 0.945,\n",
       "        0.945, 0.945, 0.945, 0.945, 0.945, 0.945, 0.945, 0.945, 0.945]),\n",
       " 'split1_test_score': array([0.76, 0.76, 0.76, 0.76, 0.76, 0.76, 0.76, 0.76, 0.76, 0.91, 0.91,\n",
       "        0.91, 0.91, 0.91, 0.91, 0.91, 0.91, 0.91, 0.91, 0.91, 0.91, 0.91,\n",
       "        0.91, 0.91, 0.91, 0.91, 0.91, 0.95, 0.95, 0.95, 0.95, 0.95, 0.95,\n",
       "        0.95, 0.95, 0.95, 0.95, 0.95, 0.95, 0.95, 0.95, 0.95, 0.95, 0.95,\n",
       "        0.95, 0.95, 0.95, 0.95, 0.95, 0.95, 0.95, 0.95, 0.95, 0.95, 0.95,\n",
       "        0.95, 0.95, 0.95, 0.95, 0.95, 0.95, 0.95, 0.95, 0.95, 0.95, 0.95,\n",
       "        0.95, 0.95, 0.95, 0.95, 0.95, 0.95, 0.95, 0.95, 0.95, 0.95, 0.95,\n",
       "        0.95, 0.95, 0.95, 0.95]),\n",
       " 'split2_test_score': array([0.77 , 0.77 , 0.77 , 0.77 , 0.77 , 0.77 , 0.77 , 0.77 , 0.77 ,\n",
       "        0.915, 0.915, 0.915, 0.915, 0.915, 0.915, 0.915, 0.915, 0.915,\n",
       "        0.955, 0.955, 0.955, 0.955, 0.955, 0.955, 0.955, 0.955, 0.955,\n",
       "        0.955, 0.955, 0.955, 0.955, 0.955, 0.955, 0.955, 0.955, 0.955,\n",
       "        0.955, 0.955, 0.955, 0.955, 0.955, 0.955, 0.955, 0.955, 0.955,\n",
       "        0.955, 0.955, 0.955, 0.955, 0.955, 0.955, 0.955, 0.955, 0.955,\n",
       "        0.955, 0.955, 0.955, 0.955, 0.955, 0.955, 0.955, 0.955, 0.955,\n",
       "        0.955, 0.955, 0.955, 0.955, 0.955, 0.955, 0.955, 0.955, 0.955,\n",
       "        0.955, 0.955, 0.955, 0.955, 0.955, 0.955, 0.955, 0.955, 0.955]),\n",
       " 'split3_test_score': array([0.77, 0.77, 0.77, 0.77, 0.77, 0.77, 0.77, 0.77, 0.77, 0.9 , 0.9 ,\n",
       "        0.9 , 0.9 , 0.9 , 0.9 , 0.9 , 0.9 , 0.9 , 0.95, 0.95, 0.95, 0.95,\n",
       "        0.95, 0.95, 0.95, 0.95, 0.95, 0.95, 0.95, 0.95, 0.95, 0.95, 0.95,\n",
       "        0.95, 0.95, 0.95, 0.95, 0.95, 0.95, 0.95, 0.95, 0.95, 0.95, 0.95,\n",
       "        0.95, 0.95, 0.95, 0.95, 0.95, 0.95, 0.95, 0.95, 0.95, 0.95, 0.95,\n",
       "        0.95, 0.95, 0.95, 0.95, 0.95, 0.95, 0.95, 0.95, 0.95, 0.95, 0.95,\n",
       "        0.95, 0.95, 0.95, 0.95, 0.95, 0.95, 0.95, 0.95, 0.95, 0.95, 0.95,\n",
       "        0.95, 0.95, 0.95, 0.95]),\n",
       " 'split4_test_score': array([0.76 , 0.76 , 0.76 , 0.76 , 0.76 , 0.76 , 0.76 , 0.76 , 0.76 ,\n",
       "        0.905, 0.905, 0.905, 0.905, 0.905, 0.905, 0.905, 0.905, 0.905,\n",
       "        0.905, 0.905, 0.905, 0.905, 0.905, 0.905, 0.905, 0.905, 0.905,\n",
       "        0.95 , 0.95 , 0.95 , 0.95 , 0.95 , 0.95 , 0.95 , 0.95 , 0.95 ,\n",
       "        0.95 , 0.95 , 0.95 , 0.95 , 0.95 , 0.95 , 0.95 , 0.95 , 0.95 ,\n",
       "        0.95 , 0.95 , 0.95 , 0.95 , 0.95 , 0.95 , 0.95 , 0.95 , 0.95 ,\n",
       "        0.95 , 0.95 , 0.95 , 0.95 , 0.95 , 0.95 , 0.95 , 0.95 , 0.95 ,\n",
       "        0.95 , 0.95 , 0.95 , 0.95 , 0.95 , 0.95 , 0.95 , 0.95 , 0.95 ,\n",
       "        0.95 , 0.95 , 0.95 , 0.95 , 0.95 , 0.95 , 0.95 , 0.95 , 0.95 ]),\n",
       " 'mean_test_score': array([0.766, 0.766, 0.766, 0.766, 0.766, 0.766, 0.766, 0.766, 0.766,\n",
       "        0.909, 0.909, 0.909, 0.909, 0.909, 0.909, 0.909, 0.909, 0.909,\n",
       "        0.933, 0.933, 0.933, 0.933, 0.933, 0.933, 0.933, 0.933, 0.933,\n",
       "        0.95 , 0.95 , 0.95 , 0.95 , 0.95 , 0.95 , 0.95 , 0.95 , 0.95 ,\n",
       "        0.95 , 0.95 , 0.95 , 0.95 , 0.95 , 0.95 , 0.95 , 0.95 , 0.95 ,\n",
       "        0.95 , 0.95 , 0.95 , 0.95 , 0.95 , 0.95 , 0.95 , 0.95 , 0.95 ,\n",
       "        0.95 , 0.95 , 0.95 , 0.95 , 0.95 , 0.95 , 0.95 , 0.95 , 0.95 ,\n",
       "        0.95 , 0.95 , 0.95 , 0.95 , 0.95 , 0.95 , 0.95 , 0.95 , 0.95 ,\n",
       "        0.95 , 0.95 , 0.95 , 0.95 , 0.95 , 0.95 , 0.95 , 0.95 , 0.95 ]),\n",
       " 'std_test_score': array([0.00489898, 0.00489898, 0.00489898, 0.00489898, 0.00489898,\n",
       "        0.00489898, 0.00489898, 0.00489898, 0.00489898, 0.00583095,\n",
       "        0.00583095, 0.00583095, 0.00583095, 0.00583095, 0.00583095,\n",
       "        0.00583095, 0.00583095, 0.00583095, 0.02111871, 0.02111871,\n",
       "        0.02111871, 0.02111871, 0.02111871, 0.02111871, 0.02111871,\n",
       "        0.02111871, 0.02111871, 0.00316228, 0.00316228, 0.00316228,\n",
       "        0.00316228, 0.00316228, 0.00316228, 0.00316228, 0.00316228,\n",
       "        0.00316228, 0.00316228, 0.00316228, 0.00316228, 0.00316228,\n",
       "        0.00316228, 0.00316228, 0.00316228, 0.00316228, 0.00316228,\n",
       "        0.00316228, 0.00316228, 0.00316228, 0.00316228, 0.00316228,\n",
       "        0.00316228, 0.00316228, 0.00316228, 0.00316228, 0.00316228,\n",
       "        0.00316228, 0.00316228, 0.00316228, 0.00316228, 0.00316228,\n",
       "        0.00316228, 0.00316228, 0.00316228, 0.00316228, 0.00316228,\n",
       "        0.00316228, 0.00316228, 0.00316228, 0.00316228, 0.00316228,\n",
       "        0.00316228, 0.00316228, 0.00316228, 0.00316228, 0.00316228,\n",
       "        0.00316228, 0.00316228, 0.00316228, 0.00316228, 0.00316228,\n",
       "        0.00316228]),\n",
       " 'rank_test_score': array([73, 73, 73, 73, 73, 73, 73, 73, 73, 64, 64, 64, 64, 64, 64, 64, 64,\n",
       "        64, 55, 55, 55, 55, 55, 55, 55, 55, 55,  1,  1,  1,  1,  1,  1,  1,\n",
       "         1,  1,  1,  1,  1,  1,  1,  1,  1,  1,  1,  1,  1,  1,  1,  1,  1,\n",
       "         1,  1,  1,  1,  1,  1,  1,  1,  1,  1,  1,  1,  1,  1,  1,  1,  1,\n",
       "         1,  1,  1,  1,  1,  1,  1,  1,  1,  1,  1,  1,  1])}"
      ]
     },
     "execution_count": 400,
     "metadata": {},
     "output_type": "execute_result"
    }
   ],
   "source": [
    "clf = GridSearchCV(RandomForestClassifier(n_estimators=250, criterion='entropy', min_impurity_decrease=0.14, random_state=42), {\n",
    "    'min_samples_split': [2,3,4,5,6,7,8,9,10],\n",
    "    'max_leaf_nodes' : [2,3,4,5,6,7,8,9,10]\n",
    "}, cv=5)\n",
    "\n",
    "clf.fit(X, y)\n",
    "clf.cv_results_"
   ]
  },
  {
   "cell_type": "code",
   "execution_count": 404,
   "id": "921a346f",
   "metadata": {},
   "outputs": [
    {
     "data": {
      "text/html": [
       "<style>#sk-container-id-108 {color: black;}#sk-container-id-108 pre{padding: 0;}#sk-container-id-108 div.sk-toggleable {background-color: white;}#sk-container-id-108 label.sk-toggleable__label {cursor: pointer;display: block;width: 100%;margin-bottom: 0;padding: 0.3em;box-sizing: border-box;text-align: center;}#sk-container-id-108 label.sk-toggleable__label-arrow:before {content: \"▸\";float: left;margin-right: 0.25em;color: #696969;}#sk-container-id-108 label.sk-toggleable__label-arrow:hover:before {color: black;}#sk-container-id-108 div.sk-estimator:hover label.sk-toggleable__label-arrow:before {color: black;}#sk-container-id-108 div.sk-toggleable__content {max-height: 0;max-width: 0;overflow: hidden;text-align: left;background-color: #f0f8ff;}#sk-container-id-108 div.sk-toggleable__content pre {margin: 0.2em;color: black;border-radius: 0.25em;background-color: #f0f8ff;}#sk-container-id-108 input.sk-toggleable__control:checked~div.sk-toggleable__content {max-height: 200px;max-width: 100%;overflow: auto;}#sk-container-id-108 input.sk-toggleable__control:checked~label.sk-toggleable__label-arrow:before {content: \"▾\";}#sk-container-id-108 div.sk-estimator input.sk-toggleable__control:checked~label.sk-toggleable__label {background-color: #d4ebff;}#sk-container-id-108 div.sk-label input.sk-toggleable__control:checked~label.sk-toggleable__label {background-color: #d4ebff;}#sk-container-id-108 input.sk-hidden--visually {border: 0;clip: rect(1px 1px 1px 1px);clip: rect(1px, 1px, 1px, 1px);height: 1px;margin: -1px;overflow: hidden;padding: 0;position: absolute;width: 1px;}#sk-container-id-108 div.sk-estimator {font-family: monospace;background-color: #f0f8ff;border: 1px dotted black;border-radius: 0.25em;box-sizing: border-box;margin-bottom: 0.5em;}#sk-container-id-108 div.sk-estimator:hover {background-color: #d4ebff;}#sk-container-id-108 div.sk-parallel-item::after {content: \"\";width: 100%;border-bottom: 1px solid gray;flex-grow: 1;}#sk-container-id-108 div.sk-label:hover label.sk-toggleable__label {background-color: #d4ebff;}#sk-container-id-108 div.sk-serial::before {content: \"\";position: absolute;border-left: 1px solid gray;box-sizing: border-box;top: 0;bottom: 0;left: 50%;z-index: 0;}#sk-container-id-108 div.sk-serial {display: flex;flex-direction: column;align-items: center;background-color: white;padding-right: 0.2em;padding-left: 0.2em;position: relative;}#sk-container-id-108 div.sk-item {position: relative;z-index: 1;}#sk-container-id-108 div.sk-parallel {display: flex;align-items: stretch;justify-content: center;background-color: white;position: relative;}#sk-container-id-108 div.sk-item::before, #sk-container-id-108 div.sk-parallel-item::before {content: \"\";position: absolute;border-left: 1px solid gray;box-sizing: border-box;top: 0;bottom: 0;left: 50%;z-index: -1;}#sk-container-id-108 div.sk-parallel-item {display: flex;flex-direction: column;z-index: 1;position: relative;background-color: white;}#sk-container-id-108 div.sk-parallel-item:first-child::after {align-self: flex-end;width: 50%;}#sk-container-id-108 div.sk-parallel-item:last-child::after {align-self: flex-start;width: 50%;}#sk-container-id-108 div.sk-parallel-item:only-child::after {width: 0;}#sk-container-id-108 div.sk-dashed-wrapped {border: 1px dashed gray;margin: 0 0.4em 0.5em 0.4em;box-sizing: border-box;padding-bottom: 0.4em;background-color: white;}#sk-container-id-108 div.sk-label label {font-family: monospace;font-weight: bold;display: inline-block;line-height: 1.2em;}#sk-container-id-108 div.sk-label-container {text-align: center;}#sk-container-id-108 div.sk-container {/* jupyter's `normalize.less` sets `[hidden] { display: none; }` but bootstrap.min.css set `[hidden] { display: none !important; }` so we also need the `!important` here to be able to override the default hidden behavior on the sphinx rendered scikit-learn.org. See: https://github.com/scikit-learn/scikit-learn/issues/21755 */display: inline-block !important;position: relative;}#sk-container-id-108 div.sk-text-repr-fallback {display: none;}</style><div id=\"sk-container-id-108\" class=\"sk-top-container\"><div class=\"sk-text-repr-fallback\"><pre>RandomForestClassifier(criterion=&#x27;entropy&#x27;, max_leaf_nodes=5,\n",
       "                       min_impurity_decrease=0.14, min_samples_split=5,\n",
       "                       n_estimators=250, random_state=42)</pre><b>In a Jupyter environment, please rerun this cell to show the HTML representation or trust the notebook. <br />On GitHub, the HTML representation is unable to render, please try loading this page with nbviewer.org.</b></div><div class=\"sk-container\" hidden><div class=\"sk-item\"><div class=\"sk-estimator sk-toggleable\"><input class=\"sk-toggleable__control sk-hidden--visually\" id=\"sk-estimator-id-108\" type=\"checkbox\" checked><label for=\"sk-estimator-id-108\" class=\"sk-toggleable__label sk-toggleable__label-arrow\">RandomForestClassifier</label><div class=\"sk-toggleable__content\"><pre>RandomForestClassifier(criterion=&#x27;entropy&#x27;, max_leaf_nodes=5,\n",
       "                       min_impurity_decrease=0.14, min_samples_split=5,\n",
       "                       n_estimators=250, random_state=42)</pre></div></div></div></div></div>"
      ],
      "text/plain": [
       "RandomForestClassifier(criterion='entropy', max_leaf_nodes=5,\n",
       "                       min_impurity_decrease=0.14, min_samples_split=5,\n",
       "                       n_estimators=250, random_state=42)"
      ]
     },
     "execution_count": 404,
     "metadata": {},
     "output_type": "execute_result"
    }
   ],
   "source": [
    "X_new_train, X_new_test, y_new_train, y_new_test = train_test_split(X, y, test_size=0.1, random_state=0)\n",
    "forrest = RandomForestClassifier(n_estimators=250, criterion=\"entropy\", min_samples_split=5, max_leaf_nodes=5, min_impurity_decrease=0.14, random_state=42)\n",
    "forrest.fit(X_new_train, y_new_train)"
   ]
  },
  {
   "cell_type": "code",
   "execution_count": 405,
   "id": "b9344255",
   "metadata": {},
   "outputs": [
    {
     "name": "stdout",
     "output_type": "stream",
     "text": [
      "[0.         0.         0.03988355 0.07201058 0.04175126 0.03344749\n",
      " 0.04736999 0.00188078 0.08243601 0.1387333  0.03634317 0.10812655\n",
      " 0.01943966 0.16944493 0.04822409 0.00474675 0.03588432 0.06304289\n",
      " 0.02000552 0.01004452 0.01013958 0.00631546 0.01072962]\n",
      "['Age' 'Gender' 'Air Pollution' 'Alcohol use' 'Dust Allergy'\n",
      " 'OccuPational Hazards' 'Genetic Risk' 'chronic Lung Disease'\n",
      " 'Balanced Diet' 'Obesity' 'Smoking' 'Passive Smoker' 'Chest Pain'\n",
      " 'Coughing of Blood' 'Fatigue' 'Weight Loss' 'Shortness of Breath'\n",
      " 'Wheezing' 'Swallowing Difficulty' 'Clubbing of Finger Nails'\n",
      " 'Frequent Cold' 'Dry Cough' 'Snoring']\n"
     ]
    }
   ],
   "source": [
    "print(forrest.feature_importances_)\n",
    "print(forrest.feature_names_in_)"
   ]
  },
  {
   "cell_type": "code",
   "execution_count": 406,
   "id": "7c49ab7b",
   "metadata": {},
   "outputs": [
    {
     "name": "stdout",
     "output_type": "stream",
     "text": [
      "              precision    recall  f1-score   support\n",
      "\n",
      "           0       1.00      0.97      0.98        30\n",
      "           1       1.00      0.85      0.92        34\n",
      "           2       0.86      1.00      0.92        36\n",
      "\n",
      "    accuracy                           0.94       100\n",
      "   macro avg       0.95      0.94      0.94       100\n",
      "weighted avg       0.95      0.94      0.94       100\n",
      "\n"
     ]
    },
    {
     "data": {
      "image/png": "[encoded data removed]",
      "text/plain": [
       "<Figure size 432x288 with 2 Axes>"
      ]
     },
     "metadata": {
      "needs_background": "light"
     },
     "output_type": "display_data"
    }
   ],
   "source": [
    "y_pred = forrest.predict(X_new_test)\n",
    "cmx = confusion_matrix(y_new_test, y_pred)\n",
    "ConfusionMatrixDisplay(cmx, display_labels=[0,1,2]).plot(cmap=plt.cm.Blues)\n",
    "print(classification_report(y_new_test, y_pred))"
   ]
  },
  {
   "cell_type": "code",
   "execution_count": 407,
   "id": "27357938",
   "metadata": {},
   "outputs": [
    {
     "data": {
      "text/plain": [
       "{'mean_fit_time': array([0.28985395, 0.30822611]),\n",
       " 'std_fit_time': array([0.01708188, 0.01802552]),\n",
       " 'mean_score_time': array([0.02139912, 0.02123368]),\n",
       " 'std_score_time': array([0.00325966, 0.00417308]),\n",
       " 'param_max_features': masked_array(data=['sqrt', 'log2'],\n",
       "              mask=[False, False],\n",
       "        fill_value='?',\n",
       "             dtype=object),\n",
       " 'params': [{'max_features': 'sqrt'}, {'max_features': 'log2'}],\n",
       " 'split0_test_score': array([0.95, 0.95]),\n",
       " 'split1_test_score': array([0.94, 0.94]),\n",
       " 'split2_test_score': array([0.94, 0.94]),\n",
       " 'split3_test_score': array([0.95, 0.95]),\n",
       " 'split4_test_score': array([0.97, 0.97]),\n",
       " 'split5_test_score': array([0.95, 0.95]),\n",
       " 'split6_test_score': array([0.94, 0.94]),\n",
       " 'split7_test_score': array([0.95, 0.95]),\n",
       " 'split8_test_score': array([0.96, 0.96]),\n",
       " 'split9_test_score': array([0.95, 0.95]),\n",
       " 'mean_test_score': array([0.95, 0.95]),\n",
       " 'std_test_score': array([0.00894427, 0.00894427]),\n",
       " 'rank_test_score': array([1, 1])}"
      ]
     },
     "execution_count": 407,
     "metadata": {},
     "output_type": "execute_result"
    }
   ],
   "source": [
    "clf = GridSearchCV(RandomForestClassifier(n_estimators=250, criterion='entropy', min_impurity_decrease=0.14, max_leaf_nodes=5, random_state=42), {\n",
    "    'max_features': ['sqrt', 'log2']\n",
    "}, cv=10)\n",
    "\n",
    "clf.fit(X, y)\n",
    "clf.cv_results_"
   ]
  },
  {
   "cell_type": "code",
   "execution_count": 410,
   "id": "2255ba86",
   "metadata": {},
   "outputs": [
    {
     "data": {
      "text/plain": [
       "{'mean_fit_time': array([0.58913107, 0.60443938, 0.67059131, 0.76260896, 0.68895187,\n",
       "        0.73048778]),\n",
       " 'std_fit_time': array([0.01696823, 0.03448931, 0.04475257, 0.07243351, 0.03189555,\n",
       "        0.05990433]),\n",
       " 'mean_score_time': array([0.04215338, 0.04510431, 0.05036287, 0.0545326 , 0.05082467,\n",
       "        0.05687044]),\n",
       " 'std_score_time': array([0.00300339, 0.00422439, 0.00612726, 0.00691767, 0.00119039,\n",
       "        0.00745465]),\n",
       " 'param_random_state': masked_array(data=[0, 1, 2, 3, 4, 5],\n",
       "              mask=[False, False, False, False, False, False],\n",
       "        fill_value='?',\n",
       "             dtype=object),\n",
       " 'params': [{'random_state': 0},\n",
       "  {'random_state': 1},\n",
       "  {'random_state': 2},\n",
       "  {'random_state': 3},\n",
       "  {'random_state': 4},\n",
       "  {'random_state': 5}],\n",
       " 'split0_test_score': array([0.95, 0.95, 0.95, 0.95, 0.95, 0.95]),\n",
       " 'split1_test_score': array([0.92, 0.92, 0.92, 0.94, 0.92, 0.92]),\n",
       " 'split2_test_score': array([0.94, 0.94, 0.94, 0.94, 0.94, 0.94]),\n",
       " 'split3_test_score': array([0.95, 0.95, 0.95, 0.95, 0.95, 0.95]),\n",
       " 'split4_test_score': array([0.97, 0.97, 0.97, 0.97, 0.97, 0.97]),\n",
       " 'split5_test_score': array([0.95, 0.95, 0.95, 0.95, 0.95, 0.95]),\n",
       " 'split6_test_score': array([0.94, 0.94, 0.94, 0.94, 0.94, 0.94]),\n",
       " 'split7_test_score': array([0.95, 0.95, 0.95, 0.95, 0.95, 0.95]),\n",
       " 'split8_test_score': array([0.96, 0.96, 0.96, 0.96, 0.96, 0.96]),\n",
       " 'split9_test_score': array([0.95, 0.94, 0.95, 0.95, 0.95, 0.95]),\n",
       " 'mean_test_score': array([0.948, 0.947, 0.948, 0.95 , 0.948, 0.948]),\n",
       " 'std_test_score': array([0.01249   , 0.01268858, 0.01249   , 0.00894427, 0.01249   ,\n",
       "        0.01249   ]),\n",
       " 'rank_test_score': array([2, 6, 2, 1, 2, 2])}"
      ]
     },
     "execution_count": 410,
     "metadata": {},
     "output_type": "execute_result"
    }
   ],
   "source": [
    "clf = GridSearchCV(RandomForestClassifier(n_estimators=500, criterion='entropy', min_impurity_decrease=0.14, max_leaf_nodes=5), {\n",
    "    'random_state': [0,1,2,3,4,5]\n",
    "}, cv=10)\n",
    "\n",
    "clf.fit(X, y)\n",
    "clf.cv_results_"
   ]
  },
  {
   "cell_type": "code",
   "execution_count": 411,
   "id": "f24514db",
   "metadata": {},
   "outputs": [
    {
     "data": {
      "text/plain": [
       "{'mean_fit_time': array([0.11567717, 0.25706263, 0.37265735, 0.51685162, 0.66369033,\n",
       "        0.74233813, 0.90714898, 1.03733454, 1.15380774]),\n",
       " 'std_fit_time': array([0.01337554, 0.01507215, 0.0089437 , 0.03476596, 0.0336837 ,\n",
       "        0.04494881, 0.0716802 , 0.02044158, 0.05326607]),\n",
       " 'mean_score_time': array([0.01338043, 0.02047033, 0.0310751 , 0.04422092, 0.04931793,\n",
       "        0.05556083, 0.07259946, 0.08612456, 0.09075422]),\n",
       " 'std_score_time': array([0.00402957, 0.00036333, 0.00066466, 0.00380366, 0.00564248,\n",
       "        0.00354789, 0.01004262, 0.00523149, 0.00892798]),\n",
       " 'param_n_estimators': masked_array(data=[100, 200, 300, 400, 500, 600, 700, 800, 900],\n",
       "              mask=[False, False, False, False, False, False, False, False,\n",
       "                    False],\n",
       "        fill_value='?',\n",
       "             dtype=object),\n",
       " 'params': [{'n_estimators': 100},\n",
       "  {'n_estimators': 200},\n",
       "  {'n_estimators': 300},\n",
       "  {'n_estimators': 400},\n",
       "  {'n_estimators': 500},\n",
       "  {'n_estimators': 600},\n",
       "  {'n_estimators': 700},\n",
       "  {'n_estimators': 800},\n",
       "  {'n_estimators': 900}],\n",
       " 'split0_test_score': array([0.945, 0.93 , 0.945, 0.945, 0.93 , 0.945, 0.945, 0.945, 0.945]),\n",
       " 'split1_test_score': array([0.95, 0.94, 0.95, 0.95, 0.95, 0.95, 0.95, 0.95, 0.95]),\n",
       " 'split2_test_score': array([0.955, 0.955, 0.955, 0.955, 0.955, 0.955, 0.955, 0.955, 0.955]),\n",
       " 'split3_test_score': array([0.95, 0.95, 0.95, 0.95, 0.95, 0.95, 0.95, 0.95, 0.95]),\n",
       " 'split4_test_score': array([0.95, 0.95, 0.95, 0.95, 0.95, 0.95, 0.95, 0.95, 0.95]),\n",
       " 'mean_test_score': array([0.95 , 0.945, 0.95 , 0.95 , 0.947, 0.95 , 0.95 , 0.95 , 0.95 ]),\n",
       " 'std_test_score': array([0.00316228, 0.00894427, 0.00316228, 0.00316228, 0.0087178 ,\n",
       "        0.00316228, 0.00316228, 0.00316228, 0.00316228]),\n",
       " 'rank_test_score': array([1, 9, 1, 1, 8, 1, 1, 1, 1])}"
      ]
     },
     "execution_count": 411,
     "metadata": {},
     "output_type": "execute_result"
    }
   ],
   "source": [
    "clf = GridSearchCV(RandomForestClassifier(criterion='entropy', min_impurity_decrease=0.14, max_leaf_nodes=5, random_state=42), {\n",
    "    'n_estimators': [100, 200, 300, 400, 500, 600, 700, 800, 900]\n",
    "}, cv=5)\n",
    "\n",
    "clf.fit(X, y)\n",
    "clf.cv_results_"
   ]
  },
  {
   "cell_type": "markdown",
   "id": "8ff21058",
   "metadata": {},
   "source": [
    "RandomForestClassifier(n_estimators=600, criterion='entropy', min_impurity_decrease=0.1, max_leaf_nodes=6)"
   ]
  },
  {
   "cell_type": "code",
   "execution_count": 421,
   "id": "749b6bb1",
   "metadata": {},
   "outputs": [
    {
     "data": {
      "text/html": [
       "<style>#sk-container-id-112 {color: black;}#sk-container-id-112 pre{padding: 0;}#sk-container-id-112 div.sk-toggleable {background-color: white;}#sk-container-id-112 label.sk-toggleable__label {cursor: pointer;display: block;width: 100%;margin-bottom: 0;padding: 0.3em;box-sizing: border-box;text-align: center;}#sk-container-id-112 label.sk-toggleable__label-arrow:before {content: \"▸\";float: left;margin-right: 0.25em;color: #696969;}#sk-container-id-112 label.sk-toggleable__label-arrow:hover:before {color: black;}#sk-container-id-112 div.sk-estimator:hover label.sk-toggleable__label-arrow:before {color: black;}#sk-container-id-112 div.sk-toggleable__content {max-height: 0;max-width: 0;overflow: hidden;text-align: left;background-color: #f0f8ff;}#sk-container-id-112 div.sk-toggleable__content pre {margin: 0.2em;color: black;border-radius: 0.25em;background-color: #f0f8ff;}#sk-container-id-112 input.sk-toggleable__control:checked~div.sk-toggleable__content {max-height: 200px;max-width: 100%;overflow: auto;}#sk-container-id-112 input.sk-toggleable__control:checked~label.sk-toggleable__label-arrow:before {content: \"▾\";}#sk-container-id-112 div.sk-estimator input.sk-toggleable__control:checked~label.sk-toggleable__label {background-color: #d4ebff;}#sk-container-id-112 div.sk-label input.sk-toggleable__control:checked~label.sk-toggleable__label {background-color: #d4ebff;}#sk-container-id-112 input.sk-hidden--visually {border: 0;clip: rect(1px 1px 1px 1px);clip: rect(1px, 1px, 1px, 1px);height: 1px;margin: -1px;overflow: hidden;padding: 0;position: absolute;width: 1px;}#sk-container-id-112 div.sk-estimator {font-family: monospace;background-color: #f0f8ff;border: 1px dotted black;border-radius: 0.25em;box-sizing: border-box;margin-bottom: 0.5em;}#sk-container-id-112 div.sk-estimator:hover {background-color: #d4ebff;}#sk-container-id-112 div.sk-parallel-item::after {content: \"\";width: 100%;border-bottom: 1px solid gray;flex-grow: 1;}#sk-container-id-112 div.sk-label:hover label.sk-toggleable__label {background-color: #d4ebff;}#sk-container-id-112 div.sk-serial::before {content: \"\";position: absolute;border-left: 1px solid gray;box-sizing: border-box;top: 0;bottom: 0;left: 50%;z-index: 0;}#sk-container-id-112 div.sk-serial {display: flex;flex-direction: column;align-items: center;background-color: white;padding-right: 0.2em;padding-left: 0.2em;position: relative;}#sk-container-id-112 div.sk-item {position: relative;z-index: 1;}#sk-container-id-112 div.sk-parallel {display: flex;align-items: stretch;justify-content: center;background-color: white;position: relative;}#sk-container-id-112 div.sk-item::before, #sk-container-id-112 div.sk-parallel-item::before {content: \"\";position: absolute;border-left: 1px solid gray;box-sizing: border-box;top: 0;bottom: 0;left: 50%;z-index: -1;}#sk-container-id-112 div.sk-parallel-item {display: flex;flex-direction: column;z-index: 1;position: relative;background-color: white;}#sk-container-id-112 div.sk-parallel-item:first-child::after {align-self: flex-end;width: 50%;}#sk-container-id-112 div.sk-parallel-item:last-child::after {align-self: flex-start;width: 50%;}#sk-container-id-112 div.sk-parallel-item:only-child::after {width: 0;}#sk-container-id-112 div.sk-dashed-wrapped {border: 1px dashed gray;margin: 0 0.4em 0.5em 0.4em;box-sizing: border-box;padding-bottom: 0.4em;background-color: white;}#sk-container-id-112 div.sk-label label {font-family: monospace;font-weight: bold;display: inline-block;line-height: 1.2em;}#sk-container-id-112 div.sk-label-container {text-align: center;}#sk-container-id-112 div.sk-container {/* jupyter's `normalize.less` sets `[hidden] { display: none; }` but bootstrap.min.css set `[hidden] { display: none !important; }` so we also need the `!important` here to be able to override the default hidden behavior on the sphinx rendered scikit-learn.org. See: https://github.com/scikit-learn/scikit-learn/issues/21755 */display: inline-block !important;position: relative;}#sk-container-id-112 div.sk-text-repr-fallback {display: none;}</style><div id=\"sk-container-id-112\" class=\"sk-top-container\"><div class=\"sk-text-repr-fallback\"><pre>RandomForestClassifier(criterion=&#x27;entropy&#x27;, max_leaf_nodes=6,\n",
       "                       min_impurity_decrease=0.1, n_estimators=600,\n",
       "                       random_state=42)</pre><b>In a Jupyter environment, please rerun this cell to show the HTML representation or trust the notebook. <br />On GitHub, the HTML representation is unable to render, please try loading this page with nbviewer.org.</b></div><div class=\"sk-container\" hidden><div class=\"sk-item\"><div class=\"sk-estimator sk-toggleable\"><input class=\"sk-toggleable__control sk-hidden--visually\" id=\"sk-estimator-id-112\" type=\"checkbox\" checked><label for=\"sk-estimator-id-112\" class=\"sk-toggleable__label sk-toggleable__label-arrow\">RandomForestClassifier</label><div class=\"sk-toggleable__content\"><pre>RandomForestClassifier(criterion=&#x27;entropy&#x27;, max_leaf_nodes=6,\n",
       "                       min_impurity_decrease=0.1, n_estimators=600,\n",
       "                       random_state=42)</pre></div></div></div></div></div>"
      ],
      "text/plain": [
       "RandomForestClassifier(criterion='entropy', max_leaf_nodes=6,\n",
       "                       min_impurity_decrease=0.1, n_estimators=600,\n",
       "                       random_state=42)"
      ]
     },
     "execution_count": 421,
     "metadata": {},
     "output_type": "execute_result"
    }
   ],
   "source": [
    "X_new_train, X_new_test, y_new_train, y_new_test = train_test_split(X, y, test_size=0.1, random_state=0)\n",
    "forrest = RandomForestClassifier(n_estimators=600, criterion=\"entropy\", max_leaf_nodes=6, min_impurity_decrease=0.1, random_state=42)\n",
    "forrest.fit(X_new_train, y_new_train)"
   ]
  },
  {
   "cell_type": "code",
   "execution_count": 422,
   "id": "0a792ed5",
   "metadata": {},
   "outputs": [
    {
     "name": "stdout",
     "output_type": "stream",
     "text": [
      "[0.         0.         0.04024316 0.06995892 0.04420973 0.03586585\n",
      " 0.04598799 0.00992953 0.06879824 0.12110785 0.02626438 0.10996171\n",
      " 0.01963704 0.15201837 0.05373353 0.01275875 0.03475026 0.0648134\n",
      " 0.021442   0.01650897 0.01888324 0.00911342 0.02401365]\n",
      "['Age' 'Gender' 'Air Pollution' 'Alcohol use' 'Dust Allergy'\n",
      " 'OccuPational Hazards' 'Genetic Risk' 'chronic Lung Disease'\n",
      " 'Balanced Diet' 'Obesity' 'Smoking' 'Passive Smoker' 'Chest Pain'\n",
      " 'Coughing of Blood' 'Fatigue' 'Weight Loss' 'Shortness of Breath'\n",
      " 'Wheezing' 'Swallowing Difficulty' 'Clubbing of Finger Nails'\n",
      " 'Frequent Cold' 'Dry Cough' 'Snoring']\n"
     ]
    }
   ],
   "source": [
    "print(forrest.feature_importances_)\n",
    "print(forrest.feature_names_in_)"
   ]
  },
  {
   "cell_type": "code",
   "execution_count": 423,
   "id": "3862c2f4",
   "metadata": {},
   "outputs": [
    {
     "name": "stdout",
     "output_type": "stream",
     "text": [
      "              precision    recall  f1-score   support\n",
      "\n",
      "           0       1.00      0.97      0.98        30\n",
      "           1       0.94      1.00      0.97        34\n",
      "           2       0.97      0.94      0.96        36\n",
      "\n",
      "    accuracy                           0.97       100\n",
      "   macro avg       0.97      0.97      0.97       100\n",
      "weighted avg       0.97      0.97      0.97       100\n",
      "\n"
     ]
    },
    {
     "data": {
      "image/png": "[encoded data removed]",
      "text/plain": [
       "<Figure size 432x288 with 2 Axes>"
      ]
     },
     "metadata": {
      "needs_background": "light"
     },
     "output_type": "display_data"
    }
   ],
   "source": [
    "y_pred = forrest.predict(X_new_test)\n",
    "cmx = confusion_matrix(y_new_test, y_pred)\n",
    "ConfusionMatrixDisplay(cmx, display_labels=[0,1,2]).plot(cmap=plt.cm.Blues)\n",
    "print(classification_report(y_new_test, y_pred))"
   ]
  },
  {
   "cell_type": "markdown",
   "id": "8d1e56a0",
   "metadata": {},
   "source": [
    "## Comparing our models"
   ]
  },
  {
   "cell_type": "code",
   "execution_count": 429,
   "id": "04f2b2de",
   "metadata": {},
   "outputs": [],
   "source": [
    "X = df.drop([\"Level_cat\", \"index\"], axis=1)\n",
    "y = df[\"Level_cat\"]\n",
    "\n",
    "cvs_gini = cross_val_score(RandomForestClassifier(n_estimators=500, min_samples_split=2, max_leaf_nodes=6, min_impurity_decrease=0.05, random_state=1), X, y, cv=10)\n",
    "cvs_ent = cross_val_score(RandomForestClassifier(n_estimators=600, criterion='entropy', max_leaf_nodes=6, min_impurity_decrease=0.1, random_state=1), X, y, cv=10)"
   ]
  },
  {
   "cell_type": "code",
   "execution_count": 430,
   "id": "5cf77604",
   "metadata": {},
   "outputs": [
    {
     "name": "stdout",
     "output_type": "stream",
     "text": [
      "[0.97 0.92 0.96 0.98 0.99 0.97 0.93 0.99 0.98 0.97]\n",
      "[0.98 0.96 0.97 0.98 0.99 0.98 0.97 0.99 0.99 0.98]\n"
     ]
    }
   ],
   "source": [
    "print(cvs_gini)\n",
    "print(cvs_ent)"
   ]
  },
  {
   "cell_type": "code",
   "execution_count": 431,
   "id": "9c01b22b",
   "metadata": {},
   "outputs": [
    {
     "name": "stdout",
     "output_type": "stream",
     "text": [
      "0.966\n",
      "0.9789999999999999\n"
     ]
    }
   ],
   "source": [
    "print(cvs_gini.mean())\n",
    "print(cvs_ent.mean())"
   ]
  },
  {
   "cell_type": "code",
   "execution_count": 432,
   "id": "34a53900",
   "metadata": {},
   "outputs": [],
   "source": [
    "X = df.drop([\"Level_cat\", \"index\"], axis=1)\n",
    "y = df[\"Level_cat\"]\n",
    "\n",
    "cvs_gini = cross_val_score(RandomForestClassifier(n_estimators=500, min_samples_split=2, max_leaf_nodes=6, min_impurity_decrease=0.05, random_state=42), X, y, cv=5)\n",
    "cvs_ent = cross_val_score(RandomForestClassifier(n_estimators=600, criterion='entropy', max_leaf_nodes=6, min_impurity_decrease=0.1, random_state=42), X, y, cv=5)"
   ]
  },
  {
   "cell_type": "code",
   "execution_count": 433,
   "id": "9fce482c",
   "metadata": {},
   "outputs": [
    {
     "name": "stdout",
     "output_type": "stream",
     "text": [
      "[0.965 0.965 0.975 0.975 0.97 ]\n",
      "[0.98  0.975 0.985 0.98  0.98 ]\n"
     ]
    }
   ],
   "source": [
    "print(cvs_gini)\n",
    "print(cvs_ent)"
   ]
  },
  {
   "cell_type": "code",
   "execution_count": 434,
   "id": "e6aff06b",
   "metadata": {},
   "outputs": [
    {
     "name": "stdout",
     "output_type": "stream",
     "text": [
      "0.97\n",
      "0.9800000000000001\n"
     ]
    }
   ],
   "source": [
    "print(cvs_gini.mean())\n",
    "print(cvs_ent.mean())"
   ]
  },
  {
   "cell_type": "code",
   "execution_count": 435,
   "id": "73ae37e7",
   "metadata": {},
   "outputs": [],
   "source": [
    "X = df.drop([\"Level_cat\", \"index\"], axis=1)\n",
    "y = df[\"Level_cat\"]\n",
    "\n",
    "cvs_gini = cross_val_score(RandomForestClassifier(n_estimators=500, min_samples_split=2, max_leaf_nodes=6, min_impurity_decrease=0.05, random_state=42), X, y, cv=2)\n",
    "cvs_ent = cross_val_score(RandomForestClassifier(n_estimators=600, criterion='entropy', max_leaf_nodes=6, min_impurity_decrease=0.1, random_state=42), X, y, cv=2)"
   ]
  },
  {
   "cell_type": "code",
   "execution_count": 436,
   "id": "15acf0f0",
   "metadata": {},
   "outputs": [
    {
     "name": "stdout",
     "output_type": "stream",
     "text": [
      "[0.968 0.98 ]\n",
      "[0.968 0.98 ]\n"
     ]
    }
   ],
   "source": [
    "print(cvs_gini)\n",
    "print(cvs_ent)"
   ]
  },
  {
   "cell_type": "code",
   "execution_count": 437,
   "id": "f7ecdf6d",
   "metadata": {},
   "outputs": [
    {
     "name": "stdout",
     "output_type": "stream",
     "text": [
      "0.974\n",
      "0.974\n"
     ]
    }
   ],
   "source": [
    "print(cvs_gini.mean())\n",
    "print(cvs_ent.mean())"
   ]
  },
  {
   "cell_type": "code",
   "execution_count": 438,
   "id": "3c50d610",
   "metadata": {},
   "outputs": [],
   "source": [
    "X = df.drop([\"Level_cat\", \"index\"], axis=1)\n",
    "y = df[\"Level_cat\"]\n",
    "\n",
    "cvs_gini = cross_val_score(RandomForestClassifier(n_estimators=500, min_samples_split=2, max_leaf_nodes=6, min_impurity_decrease=0.05, random_state=0), X, y, cv=20)\n",
    "cvs_ent = cross_val_score(RandomForestClassifier(n_estimators=600, criterion='entropy', max_leaf_nodes=6, min_impurity_decrease=0.1, random_state=0), X, y, cv=20)"
   ]
  },
  {
   "cell_type": "code",
   "execution_count": 439,
   "id": "8bb7037d",
   "metadata": {},
   "outputs": [
    {
     "name": "stdout",
     "output_type": "stream",
     "text": [
      "[0.94 0.96 0.96 0.88 0.94 0.92 0.98 0.9  0.98 0.98 0.98 0.96 0.92 0.94\n",
      " 0.98 0.98 0.96 0.98 0.96 1.  ]\n",
      "[0.96 1.   0.96 0.96 0.94 0.98 0.98 0.96 0.98 0.98 0.98 0.98 0.98 0.96\n",
      " 0.98 0.98 0.98 0.98 0.98 1.  ]\n"
     ]
    }
   ],
   "source": [
    "print(cvs_gini)\n",
    "print(cvs_ent)"
   ]
  },
  {
   "cell_type": "code",
   "execution_count": 440,
   "id": "beffd758",
   "metadata": {},
   "outputs": [
    {
     "name": "stdout",
     "output_type": "stream",
     "text": [
      "0.9550000000000001\n",
      "0.975\n"
     ]
    }
   ],
   "source": [
    "print(cvs_gini.mean())\n",
    "print(cvs_ent.mean())"
   ]
  },
  {
   "cell_type": "code",
   "execution_count": 441,
   "id": "52e1a3dc",
   "metadata": {},
   "outputs": [],
   "source": [
    "X = df.drop([\"Level_cat\", \"index\"], axis=1)\n",
    "y = df[\"Level_cat\"]\n",
    "\n",
    "cvs_gini = cross_val_score(RandomForestClassifier(n_estimators=500, min_samples_split=2, max_leaf_nodes=6, min_impurity_decrease=0.05, random_state=1), X, y, cv=50)\n",
    "cvs_ent = cross_val_score(RandomForestClassifier(n_estimators=600, criterion='entropy', max_leaf_nodes=6, min_impurity_decrease=0.1, random_state=1), X, y, cv=50)"
   ]
  },
  {
   "cell_type": "code",
   "execution_count": 442,
   "id": "e15cbd1a",
   "metadata": {},
   "outputs": [
    {
     "name": "stdout",
     "output_type": "stream",
     "text": [
      "[0.95 0.95 0.95 1.   1.   0.95 0.95 1.   0.9  1.   0.95 0.95 0.95 0.95\n",
      " 1.   1.   0.95 1.   0.95 0.95 0.95 1.   1.   1.   0.95 0.95 0.95 1.\n",
      " 1.   1.   0.9  1.   0.95 0.95 1.   0.9  1.   1.   0.95 1.   0.9  1.\n",
      " 1.   1.   0.95 0.95 0.95 1.   1.   1.  ]\n",
      "[0.95 0.95 1.   1.   1.   0.95 0.95 1.   0.9  1.   0.95 0.95 0.95 0.95\n",
      " 1.   1.   0.95 1.   0.95 1.   0.95 1.   1.   1.   1.   0.95 0.95 1.\n",
      " 1.   1.   0.9  1.   0.95 0.95 1.   0.9  1.   1.   0.95 1.   0.9  1.\n",
      " 1.   1.   0.95 0.95 0.95 1.   1.   1.  ]\n"
     ]
    }
   ],
   "source": [
    "print(cvs_gini)\n",
    "print(cvs_ent)"
   ]
  },
  {
   "cell_type": "code",
   "execution_count": 443,
   "id": "d0950d1f",
   "metadata": {},
   "outputs": [
    {
     "name": "stdout",
     "output_type": "stream",
     "text": [
      "0.97\n",
      "0.9730000000000001\n"
     ]
    }
   ],
   "source": [
    "print(cvs_gini.mean())\n",
    "print(cvs_ent.mean())"
   ]
  },
  {
   "cell_type": "code",
   "execution_count": 445,
   "id": "ca75596b",
   "metadata": {},
   "outputs": [],
   "source": [
    "TR = []\n",
    "BL = []\n",
    "scores = []\n",
    "for i in range(0, 20):\n",
    "    X_new_train, X_new_test, y_new_train, y_new_test = train_test_split(X, y, test_size=0.1, random_state=i)\n",
    "    forest = RandomForestClassifier(n_estimators=500, min_samples_split=2, max_leaf_nodes=6, min_impurity_decrease=0.05, random_state=1)\n",
    "    forest.fit(X_new_train, y_new_train)\n",
    "\n",
    "    y_pred = forest.predict(X_new_test)\n",
    "\n",
    "    cmx = confusion_matrix(y_new_test, y_pred)\n",
    "    TR.append(cmx[0,2])\n",
    "    scores.append(forest.score(X_new_test, y_new_test))\n",
    "    BL.append(cmx[2,0])"
   ]
  },
  {
   "cell_type": "code",
   "execution_count": 446,
   "id": "0a811d9f",
   "metadata": {},
   "outputs": [
    {
     "name": "stdout",
     "output_type": "stream",
     "text": [
      "[1, 2, 2, 0, 1, 2, 2, 0, 1, 1, 1, 1, 1, 0, 1, 0, 0, 0, 3, 1]\n",
      "[0, 0, 0, 0, 0, 0, 0, 0, 0, 0, 0, 0, 0, 0, 0, 0, 0, 0, 0, 0]\n",
      "[0.97, 0.96, 0.98, 0.98, 0.99, 0.96, 0.97, 0.95, 0.97, 0.97, 0.98, 0.97, 0.94, 1.0, 0.97, 0.91, 0.95, 0.99, 0.95, 0.98]\n"
     ]
    }
   ],
   "source": [
    "print(TR)\n",
    "print(BL)\n",
    "print(scores)"
   ]
  },
  {
   "cell_type": "code",
   "execution_count": 447,
   "id": "d3f46bc5",
   "metadata": {},
   "outputs": [
    {
     "name": "stdout",
     "output_type": "stream",
     "text": [
      "1.0\n",
      "0.0\n",
      "0.9669999999999999\n"
     ]
    }
   ],
   "source": [
    "TR = np.asarray(TR)\n",
    "BL = np.asarray(BL)\n",
    "scores = np.asarray(scores)\n",
    "print(TR.mean())\n",
    "print(BL.mean())\n",
    "print(scores.mean())"
   ]
  },
  {
   "cell_type": "code",
   "execution_count": 448,
   "id": "462ec3bf",
   "metadata": {},
   "outputs": [],
   "source": [
    "TR = []\n",
    "BL = []\n",
    "scores = []\n",
    "for i in range(0, 20):\n",
    "    X_new_train, X_new_test, y_new_train, y_new_test = train_test_split(X, y, test_size=0.1, random_state=i)\n",
    "    forest = RandomForestClassifier(n_estimators=600, criterion='entropy', max_leaf_nodes=6, min_impurity_decrease=0.1, random_state=1)\n",
    "    forest.fit(X_new_train, y_new_train)\n",
    "\n",
    "    y_pred = forest.predict(X_new_test)\n",
    "\n",
    "    cmx = confusion_matrix(y_new_test, y_pred)\n",
    "    TR.append(cmx[0,2])\n",
    "    scores.append(forest.score(X_new_test, y_new_test))\n",
    "    BL.append(cmx[2,0])"
   ]
  },
  {
   "cell_type": "code",
   "execution_count": 449,
   "id": "05f481db",
   "metadata": {},
   "outputs": [
    {
     "name": "stdout",
     "output_type": "stream",
     "text": [
      "[1, 0, 0, 0, 1, 0, 2, 0, 1, 0, 1, 1, 1, 0, 0, 0, 0, 0, 3, 0]\n",
      "[0, 0, 0, 0, 0, 0, 0, 0, 0, 0, 0, 0, 0, 0, 0, 0, 0, 0, 0, 0]\n",
      "[0.98, 0.97, 0.97, 0.99, 0.99, 0.96, 0.97, 1.0, 0.98, 0.99, 0.99, 0.99, 0.99, 1.0, 0.98, 0.96, 0.99, 0.99, 0.95, 0.99]\n"
     ]
    }
   ],
   "source": [
    "print(TR)\n",
    "print(BL)\n",
    "print(scores)"
   ]
  },
  {
   "cell_type": "code",
   "execution_count": 450,
   "id": "91f0bb63",
   "metadata": {},
   "outputs": [
    {
     "name": "stdout",
     "output_type": "stream",
     "text": [
      "0.55\n",
      "0.0\n",
      "0.9814999999999998\n"
     ]
    }
   ],
   "source": [
    "TR = np.asarray(TR)\n",
    "BL = np.asarray(BL)\n",
    "scores = np.asarray(scores)\n",
    "print(TR.mean())\n",
    "print(BL.mean())\n",
    "print(scores.mean())"
   ]
  },
  {
   "cell_type": "markdown",
   "id": "0d5e2e1f",
   "metadata": {},
   "source": [
    "Very good scores, but bad predictions for top right."
   ]
  },
  {
   "cell_type": "code",
   "execution_count": 451,
   "id": "f2e1ab56",
   "metadata": {},
   "outputs": [],
   "source": [
    "TR = []\n",
    "BL = []\n",
    "scores = []\n",
    "for i in range(0, 50):\n",
    "    X_new_train, X_new_test, y_new_train, y_new_test = train_test_split(X, y, test_size=0.1, random_state=i)\n",
    "    forest = RandomForestClassifier(n_estimators=500, min_samples_split=2, max_leaf_nodes=6, min_impurity_decrease=0.05, random_state=1)\n",
    "    forest.fit(X_new_train, y_new_train)\n",
    "\n",
    "    y_pred = forest.predict(X_new_test)\n",
    "\n",
    "    cmx = confusion_matrix(y_new_test, y_pred)\n",
    "    TR.append(cmx[0,2])\n",
    "    scores.append(forest.score(X_new_test, y_new_test))\n",
    "    BL.append(cmx[2,0])"
   ]
  },
  {
   "cell_type": "code",
   "execution_count": 452,
   "id": "29d66b28",
   "metadata": {},
   "outputs": [
    {
     "name": "stdout",
     "output_type": "stream",
     "text": [
      "[1, 2, 2, 0, 1, 2, 2, 0, 1, 1, 1, 1, 1, 0, 1, 0, 0, 0, 3, 1, 1, 2, 1, 2, 1, 1, 0, 1, 1, 1, 2, 1, 0, 1, 1, 2, 1, 2, 1, 1, 0, 0, 1, 1, 1, 1, 0, 0, 1, 2]\n",
      "[0, 0, 0, 0, 0, 0, 0, 0, 0, 0, 0, 0, 0, 0, 0, 0, 0, 0, 0, 0, 0, 0, 0, 0, 0, 0, 0, 0, 0, 0, 0, 0, 0, 0, 0, 0, 0, 0, 0, 0, 0, 0, 0, 0, 0, 0, 0, 0, 0, 0]\n",
      "[0.97, 0.96, 0.98, 0.98, 0.99, 0.96, 0.97, 0.95, 0.97, 0.97, 0.98, 0.97, 0.94, 1.0, 0.97, 0.91, 0.95, 0.99, 0.95, 0.98, 0.95, 0.96, 0.97, 0.93, 0.97, 0.97, 0.98, 0.93, 0.91, 0.96, 0.98, 0.99, 0.95, 0.87, 0.98, 0.96, 0.97, 0.95, 0.97, 0.96, 0.99, 0.92, 0.98, 0.93, 0.92, 0.97, 0.97, 0.98, 0.98, 0.95]\n"
     ]
    }
   ],
   "source": [
    "print(TR)\n",
    "print(BL)\n",
    "print(scores)"
   ]
  },
  {
   "cell_type": "code",
   "execution_count": 453,
   "id": "af8e09e5",
   "metadata": {},
   "outputs": [
    {
     "name": "stdout",
     "output_type": "stream",
     "text": [
      "1.0\n",
      "0.0\n",
      "0.9608\n"
     ]
    }
   ],
   "source": [
    "TR = np.asarray(TR)\n",
    "BL = np.asarray(BL)\n",
    "scores = np.asarray(scores)\n",
    "print(TR.mean())\n",
    "print(BL.mean())\n",
    "print(scores.mean())"
   ]
  },
  {
   "cell_type": "code",
   "execution_count": 454,
   "id": "9c23512e",
   "metadata": {},
   "outputs": [],
   "source": [
    "TR = []\n",
    "BL = []\n",
    "scores = []\n",
    "for i in range(0, 50):\n",
    "    X_new_train, X_new_test, y_new_train, y_new_test = train_test_split(X, y, test_size=0.1, random_state=i)\n",
    "    forest = RandomForestClassifier(n_estimators=600, criterion='entropy', max_leaf_nodes=6, min_impurity_decrease=0.1, random_state=1)\n",
    "    forest.fit(X_new_train, y_new_train)\n",
    "\n",
    "    y_pred = forest.predict(X_new_test)\n",
    "\n",
    "    cmx = confusion_matrix(y_new_test, y_pred)\n",
    "    TR.append(cmx[0,2])\n",
    "    scores.append(forest.score(X_new_test, y_new_test))\n",
    "    BL.append(cmx[2,0])"
   ]
  },
  {
   "cell_type": "code",
   "execution_count": 455,
   "id": "5b23dc30",
   "metadata": {},
   "outputs": [
    {
     "name": "stdout",
     "output_type": "stream",
     "text": [
      "[1, 0, 0, 0, 1, 0, 2, 0, 1, 0, 1, 1, 1, 0, 0, 0, 0, 0, 3, 0, 1, 0, 0, 2, 0, 1, 0, 1, 1, 1, 2, 0, 0, 1, 0, 2, 1, 0, 1, 1, 0, 0, 1, 1, 1, 1, 0, 0, 0, 2]\n",
      "[0, 0, 0, 0, 0, 0, 0, 0, 0, 0, 0, 0, 0, 0, 0, 0, 0, 0, 0, 0, 0, 0, 0, 0, 0, 0, 0, 0, 0, 0, 0, 0, 0, 0, 0, 0, 0, 0, 0, 0, 0, 0, 0, 0, 0, 0, 0, 0, 0, 0]\n",
      "[0.98, 0.97, 0.97, 0.99, 0.99, 0.96, 0.97, 1.0, 0.98, 0.99, 0.99, 0.99, 0.99, 1.0, 0.98, 0.96, 0.99, 0.99, 0.95, 0.99, 0.99, 0.96, 0.99, 0.98, 0.98, 0.97, 0.98, 0.93, 0.97, 0.97, 0.98, 0.99, 0.95, 0.91, 0.98, 0.96, 0.97, 0.95, 0.96, 0.96, 1.0, 0.96, 0.99, 0.96, 0.98, 0.99, 0.97, 0.96, 0.99, 0.96]\n"
     ]
    }
   ],
   "source": [
    "print(TR)\n",
    "print(BL)\n",
    "print(scores)"
   ]
  },
  {
   "cell_type": "code",
   "execution_count": 456,
   "id": "7ee3fd56",
   "metadata": {},
   "outputs": [
    {
     "name": "stdout",
     "output_type": "stream",
     "text": [
      "0.64\n",
      "0.0\n",
      "0.9743999999999999\n"
     ]
    }
   ],
   "source": [
    "TR = np.asarray(TR)\n",
    "BL = np.asarray(BL)\n",
    "scores = np.asarray(scores)\n",
    "print(TR.mean())\n",
    "print(BL.mean())\n",
    "print(scores.mean())"
   ]
  },
  {
   "cell_type": "markdown",
   "id": "3c099751",
   "metadata": {},
   "source": [
    "### The last step we will use is to use the current approach's test set."
   ]
  },
  {
   "cell_type": "code",
   "execution_count": 457,
   "id": "d7aa7b55",
   "metadata": {},
   "outputs": [],
   "source": [
    "X_train,X_test,y_train,y_test=train_test_split(X,y,test_size=0.30,random_state=1)"
   ]
  },
  {
   "cell_type": "code",
   "execution_count": 458,
   "id": "19946615",
   "metadata": {},
   "outputs": [
    {
     "data": {
      "text/html": [
       "<style>#sk-container-id-113 {color: black;}#sk-container-id-113 pre{padding: 0;}#sk-container-id-113 div.sk-toggleable {background-color: white;}#sk-container-id-113 label.sk-toggleable__label {cursor: pointer;display: block;width: 100%;margin-bottom: 0;padding: 0.3em;box-sizing: border-box;text-align: center;}#sk-container-id-113 label.sk-toggleable__label-arrow:before {content: \"▸\";float: left;margin-right: 0.25em;color: #696969;}#sk-container-id-113 label.sk-toggleable__label-arrow:hover:before {color: black;}#sk-container-id-113 div.sk-estimator:hover label.sk-toggleable__label-arrow:before {color: black;}#sk-container-id-113 div.sk-toggleable__content {max-height: 0;max-width: 0;overflow: hidden;text-align: left;background-color: #f0f8ff;}#sk-container-id-113 div.sk-toggleable__content pre {margin: 0.2em;color: black;border-radius: 0.25em;background-color: #f0f8ff;}#sk-container-id-113 input.sk-toggleable__control:checked~div.sk-toggleable__content {max-height: 200px;max-width: 100%;overflow: auto;}#sk-container-id-113 input.sk-toggleable__control:checked~label.sk-toggleable__label-arrow:before {content: \"▾\";}#sk-container-id-113 div.sk-estimator input.sk-toggleable__control:checked~label.sk-toggleable__label {background-color: #d4ebff;}#sk-container-id-113 div.sk-label input.sk-toggleable__control:checked~label.sk-toggleable__label {background-color: #d4ebff;}#sk-container-id-113 input.sk-hidden--visually {border: 0;clip: rect(1px 1px 1px 1px);clip: rect(1px, 1px, 1px, 1px);height: 1px;margin: -1px;overflow: hidden;padding: 0;position: absolute;width: 1px;}#sk-container-id-113 div.sk-estimator {font-family: monospace;background-color: #f0f8ff;border: 1px dotted black;border-radius: 0.25em;box-sizing: border-box;margin-bottom: 0.5em;}#sk-container-id-113 div.sk-estimator:hover {background-color: #d4ebff;}#sk-container-id-113 div.sk-parallel-item::after {content: \"\";width: 100%;border-bottom: 1px solid gray;flex-grow: 1;}#sk-container-id-113 div.sk-label:hover label.sk-toggleable__label {background-color: #d4ebff;}#sk-container-id-113 div.sk-serial::before {content: \"\";position: absolute;border-left: 1px solid gray;box-sizing: border-box;top: 0;bottom: 0;left: 50%;z-index: 0;}#sk-container-id-113 div.sk-serial {display: flex;flex-direction: column;align-items: center;background-color: white;padding-right: 0.2em;padding-left: 0.2em;position: relative;}#sk-container-id-113 div.sk-item {position: relative;z-index: 1;}#sk-container-id-113 div.sk-parallel {display: flex;align-items: stretch;justify-content: center;background-color: white;position: relative;}#sk-container-id-113 div.sk-item::before, #sk-container-id-113 div.sk-parallel-item::before {content: \"\";position: absolute;border-left: 1px solid gray;box-sizing: border-box;top: 0;bottom: 0;left: 50%;z-index: -1;}#sk-container-id-113 div.sk-parallel-item {display: flex;flex-direction: column;z-index: 1;position: relative;background-color: white;}#sk-container-id-113 div.sk-parallel-item:first-child::after {align-self: flex-end;width: 50%;}#sk-container-id-113 div.sk-parallel-item:last-child::after {align-self: flex-start;width: 50%;}#sk-container-id-113 div.sk-parallel-item:only-child::after {width: 0;}#sk-container-id-113 div.sk-dashed-wrapped {border: 1px dashed gray;margin: 0 0.4em 0.5em 0.4em;box-sizing: border-box;padding-bottom: 0.4em;background-color: white;}#sk-container-id-113 div.sk-label label {font-family: monospace;font-weight: bold;display: inline-block;line-height: 1.2em;}#sk-container-id-113 div.sk-label-container {text-align: center;}#sk-container-id-113 div.sk-container {/* jupyter's `normalize.less` sets `[hidden] { display: none; }` but bootstrap.min.css set `[hidden] { display: none !important; }` so we also need the `!important` here to be able to override the default hidden behavior on the sphinx rendered scikit-learn.org. See: https://github.com/scikit-learn/scikit-learn/issues/21755 */display: inline-block !important;position: relative;}#sk-container-id-113 div.sk-text-repr-fallback {display: none;}</style><div id=\"sk-container-id-113\" class=\"sk-top-container\"><div class=\"sk-text-repr-fallback\"><pre>RandomForestClassifier(max_leaf_nodes=6, min_impurity_decrease=0.05,\n",
       "                       n_estimators=500, random_state=1)</pre><b>In a Jupyter environment, please rerun this cell to show the HTML representation or trust the notebook. <br />On GitHub, the HTML representation is unable to render, please try loading this page with nbviewer.org.</b></div><div class=\"sk-container\" hidden><div class=\"sk-item\"><div class=\"sk-estimator sk-toggleable\"><input class=\"sk-toggleable__control sk-hidden--visually\" id=\"sk-estimator-id-113\" type=\"checkbox\" checked><label for=\"sk-estimator-id-113\" class=\"sk-toggleable__label sk-toggleable__label-arrow\">RandomForestClassifier</label><div class=\"sk-toggleable__content\"><pre>RandomForestClassifier(max_leaf_nodes=6, min_impurity_decrease=0.05,\n",
       "                       n_estimators=500, random_state=1)</pre></div></div></div></div></div>"
      ],
      "text/plain": [
       "RandomForestClassifier(max_leaf_nodes=6, min_impurity_decrease=0.05,\n",
       "                       n_estimators=500, random_state=1)"
      ]
     },
     "execution_count": 458,
     "metadata": {},
     "output_type": "execute_result"
    }
   ],
   "source": [
    "forest = RandomForestClassifier(n_estimators=500, min_samples_split=2, max_leaf_nodes=6, min_impurity_decrease=0.05, random_state=1)\n",
    "forest.fit(X_train, y_train)"
   ]
  },
  {
   "cell_type": "code",
   "execution_count": 459,
   "id": "9e8dd332",
   "metadata": {},
   "outputs": [
    {
     "name": "stdout",
     "output_type": "stream",
     "text": [
      "0.9766666666666667\n"
     ]
    },
    {
     "data": {
      "image/png": "[encoded data removed]",
      "text/plain": [
       "<Figure size 432x288 with 2 Axes>"
      ]
     },
     "metadata": {
      "needs_background": "light"
     },
     "output_type": "display_data"
    }
   ],
   "source": [
    "y_pred = forest.predict(X_test)\n",
    "print(forest.score(X_test, y_test))\n",
    "cmx = confusion_matrix(y_test, y_pred)\n",
    "ConfusionMatrixDisplay(cmx, display_labels=[0,1,2]).plot(cmap=plt.cm.Blues)\n",
    "plt.show()"
   ]
  },
  {
   "cell_type": "markdown",
   "id": "908b57a2",
   "metadata": {},
   "source": [
    "A much higer score than the current approach of 0.903333333\n",
    "We obtain a score of 0.976666667"
   ]
  },
  {
   "cell_type": "code",
   "execution_count": 460,
   "id": "42760f7a",
   "metadata": {},
   "outputs": [
    {
     "data": {
      "text/html": [
       "<style>#sk-container-id-114 {color: black;}#sk-container-id-114 pre{padding: 0;}#sk-container-id-114 div.sk-toggleable {background-color: white;}#sk-container-id-114 label.sk-toggleable__label {cursor: pointer;display: block;width: 100%;margin-bottom: 0;padding: 0.3em;box-sizing: border-box;text-align: center;}#sk-container-id-114 label.sk-toggleable__label-arrow:before {content: \"▸\";float: left;margin-right: 0.25em;color: #696969;}#sk-container-id-114 label.sk-toggleable__label-arrow:hover:before {color: black;}#sk-container-id-114 div.sk-estimator:hover label.sk-toggleable__label-arrow:before {color: black;}#sk-container-id-114 div.sk-toggleable__content {max-height: 0;max-width: 0;overflow: hidden;text-align: left;background-color: #f0f8ff;}#sk-container-id-114 div.sk-toggleable__content pre {margin: 0.2em;color: black;border-radius: 0.25em;background-color: #f0f8ff;}#sk-container-id-114 input.sk-toggleable__control:checked~div.sk-toggleable__content {max-height: 200px;max-width: 100%;overflow: auto;}#sk-container-id-114 input.sk-toggleable__control:checked~label.sk-toggleable__label-arrow:before {content: \"▾\";}#sk-container-id-114 div.sk-estimator input.sk-toggleable__control:checked~label.sk-toggleable__label {background-color: #d4ebff;}#sk-container-id-114 div.sk-label input.sk-toggleable__control:checked~label.sk-toggleable__label {background-color: #d4ebff;}#sk-container-id-114 input.sk-hidden--visually {border: 0;clip: rect(1px 1px 1px 1px);clip: rect(1px, 1px, 1px, 1px);height: 1px;margin: -1px;overflow: hidden;padding: 0;position: absolute;width: 1px;}#sk-container-id-114 div.sk-estimator {font-family: monospace;background-color: #f0f8ff;border: 1px dotted black;border-radius: 0.25em;box-sizing: border-box;margin-bottom: 0.5em;}#sk-container-id-114 div.sk-estimator:hover {background-color: #d4ebff;}#sk-container-id-114 div.sk-parallel-item::after {content: \"\";width: 100%;border-bottom: 1px solid gray;flex-grow: 1;}#sk-container-id-114 div.sk-label:hover label.sk-toggleable__label {background-color: #d4ebff;}#sk-container-id-114 div.sk-serial::before {content: \"\";position: absolute;border-left: 1px solid gray;box-sizing: border-box;top: 0;bottom: 0;left: 50%;z-index: 0;}#sk-container-id-114 div.sk-serial {display: flex;flex-direction: column;align-items: center;background-color: white;padding-right: 0.2em;padding-left: 0.2em;position: relative;}#sk-container-id-114 div.sk-item {position: relative;z-index: 1;}#sk-container-id-114 div.sk-parallel {display: flex;align-items: stretch;justify-content: center;background-color: white;position: relative;}#sk-container-id-114 div.sk-item::before, #sk-container-id-114 div.sk-parallel-item::before {content: \"\";position: absolute;border-left: 1px solid gray;box-sizing: border-box;top: 0;bottom: 0;left: 50%;z-index: -1;}#sk-container-id-114 div.sk-parallel-item {display: flex;flex-direction: column;z-index: 1;position: relative;background-color: white;}#sk-container-id-114 div.sk-parallel-item:first-child::after {align-self: flex-end;width: 50%;}#sk-container-id-114 div.sk-parallel-item:last-child::after {align-self: flex-start;width: 50%;}#sk-container-id-114 div.sk-parallel-item:only-child::after {width: 0;}#sk-container-id-114 div.sk-dashed-wrapped {border: 1px dashed gray;margin: 0 0.4em 0.5em 0.4em;box-sizing: border-box;padding-bottom: 0.4em;background-color: white;}#sk-container-id-114 div.sk-label label {font-family: monospace;font-weight: bold;display: inline-block;line-height: 1.2em;}#sk-container-id-114 div.sk-label-container {text-align: center;}#sk-container-id-114 div.sk-container {/* jupyter's `normalize.less` sets `[hidden] { display: none; }` but bootstrap.min.css set `[hidden] { display: none !important; }` so we also need the `!important` here to be able to override the default hidden behavior on the sphinx rendered scikit-learn.org. See: https://github.com/scikit-learn/scikit-learn/issues/21755 */display: inline-block !important;position: relative;}#sk-container-id-114 div.sk-text-repr-fallback {display: none;}</style><div id=\"sk-container-id-114\" class=\"sk-top-container\"><div class=\"sk-text-repr-fallback\"><pre>RandomForestClassifier(criterion=&#x27;entropy&#x27;, max_leaf_nodes=6,\n",
       "                       min_impurity_decrease=0.1, n_estimators=600,\n",
       "                       random_state=1)</pre><b>In a Jupyter environment, please rerun this cell to show the HTML representation or trust the notebook. <br />On GitHub, the HTML representation is unable to render, please try loading this page with nbviewer.org.</b></div><div class=\"sk-container\" hidden><div class=\"sk-item\"><div class=\"sk-estimator sk-toggleable\"><input class=\"sk-toggleable__control sk-hidden--visually\" id=\"sk-estimator-id-114\" type=\"checkbox\" checked><label for=\"sk-estimator-id-114\" class=\"sk-toggleable__label sk-toggleable__label-arrow\">RandomForestClassifier</label><div class=\"sk-toggleable__content\"><pre>RandomForestClassifier(criterion=&#x27;entropy&#x27;, max_leaf_nodes=6,\n",
       "                       min_impurity_decrease=0.1, n_estimators=600,\n",
       "                       random_state=1)</pre></div></div></div></div></div>"
      ],
      "text/plain": [
       "RandomForestClassifier(criterion='entropy', max_leaf_nodes=6,\n",
       "                       min_impurity_decrease=0.1, n_estimators=600,\n",
       "                       random_state=1)"
      ]
     },
     "execution_count": 460,
     "metadata": {},
     "output_type": "execute_result"
    }
   ],
   "source": [
    "forest = RandomForestClassifier(n_estimators=600, criterion='entropy', max_leaf_nodes=6, min_impurity_decrease=0.1, random_state=1)\n",
    "forest.fit(X_train, y_train)"
   ]
  },
  {
   "cell_type": "code",
   "execution_count": 461,
   "id": "7ef13fbf",
   "metadata": {},
   "outputs": [
    {
     "name": "stdout",
     "output_type": "stream",
     "text": [
      "0.9766666666666667\n"
     ]
    },
    {
     "data": {
      "image/png": "[encoded data removed]",
      "text/plain": [
       "<Figure size 432x288 with 2 Axes>"
      ]
     },
     "metadata": {
      "needs_background": "light"
     },
     "output_type": "display_data"
    }
   ],
   "source": [
    "y_pred = forest.predict(X_test)\n",
    "print(forest.score(X_test, y_test))\n",
    "cmx = confusion_matrix(y_test, y_pred)\n",
    "ConfusionMatrixDisplay(cmx, display_labels=[0,1,2]).plot(cmap=plt.cm.Blues)\n",
    "plt.show()"
   ]
  },
  {
   "cell_type": "markdown",
   "id": "5fc32403",
   "metadata": {},
   "source": [
    "A much higher score of 0.9766666, but it is the same as the gini random forest, but we can see that the top right has 0 entries."
   ]
  },
  {
   "cell_type": "code",
   "execution_count": 467,
   "id": "246b082f",
   "metadata": {},
   "outputs": [
    {
     "data": {
      "text/html": [
       "<style>#sk-container-id-118 {color: black;}#sk-container-id-118 pre{padding: 0;}#sk-container-id-118 div.sk-toggleable {background-color: white;}#sk-container-id-118 label.sk-toggleable__label {cursor: pointer;display: block;width: 100%;margin-bottom: 0;padding: 0.3em;box-sizing: border-box;text-align: center;}#sk-container-id-118 label.sk-toggleable__label-arrow:before {content: \"▸\";float: left;margin-right: 0.25em;color: #696969;}#sk-container-id-118 label.sk-toggleable__label-arrow:hover:before {color: black;}#sk-container-id-118 div.sk-estimator:hover label.sk-toggleable__label-arrow:before {color: black;}#sk-container-id-118 div.sk-toggleable__content {max-height: 0;max-width: 0;overflow: hidden;text-align: left;background-color: #f0f8ff;}#sk-container-id-118 div.sk-toggleable__content pre {margin: 0.2em;color: black;border-radius: 0.25em;background-color: #f0f8ff;}#sk-container-id-118 input.sk-toggleable__control:checked~div.sk-toggleable__content {max-height: 200px;max-width: 100%;overflow: auto;}#sk-container-id-118 input.sk-toggleable__control:checked~label.sk-toggleable__label-arrow:before {content: \"▾\";}#sk-container-id-118 div.sk-estimator input.sk-toggleable__control:checked~label.sk-toggleable__label {background-color: #d4ebff;}#sk-container-id-118 div.sk-label input.sk-toggleable__control:checked~label.sk-toggleable__label {background-color: #d4ebff;}#sk-container-id-118 input.sk-hidden--visually {border: 0;clip: rect(1px 1px 1px 1px);clip: rect(1px, 1px, 1px, 1px);height: 1px;margin: -1px;overflow: hidden;padding: 0;position: absolute;width: 1px;}#sk-container-id-118 div.sk-estimator {font-family: monospace;background-color: #f0f8ff;border: 1px dotted black;border-radius: 0.25em;box-sizing: border-box;margin-bottom: 0.5em;}#sk-container-id-118 div.sk-estimator:hover {background-color: #d4ebff;}#sk-container-id-118 div.sk-parallel-item::after {content: \"\";width: 100%;border-bottom: 1px solid gray;flex-grow: 1;}#sk-container-id-118 div.sk-label:hover label.sk-toggleable__label {background-color: #d4ebff;}#sk-container-id-118 div.sk-serial::before {content: \"\";position: absolute;border-left: 1px solid gray;box-sizing: border-box;top: 0;bottom: 0;left: 50%;z-index: 0;}#sk-container-id-118 div.sk-serial {display: flex;flex-direction: column;align-items: center;background-color: white;padding-right: 0.2em;padding-left: 0.2em;position: relative;}#sk-container-id-118 div.sk-item {position: relative;z-index: 1;}#sk-container-id-118 div.sk-parallel {display: flex;align-items: stretch;justify-content: center;background-color: white;position: relative;}#sk-container-id-118 div.sk-item::before, #sk-container-id-118 div.sk-parallel-item::before {content: \"\";position: absolute;border-left: 1px solid gray;box-sizing: border-box;top: 0;bottom: 0;left: 50%;z-index: -1;}#sk-container-id-118 div.sk-parallel-item {display: flex;flex-direction: column;z-index: 1;position: relative;background-color: white;}#sk-container-id-118 div.sk-parallel-item:first-child::after {align-self: flex-end;width: 50%;}#sk-container-id-118 div.sk-parallel-item:last-child::after {align-self: flex-start;width: 50%;}#sk-container-id-118 div.sk-parallel-item:only-child::after {width: 0;}#sk-container-id-118 div.sk-dashed-wrapped {border: 1px dashed gray;margin: 0 0.4em 0.5em 0.4em;box-sizing: border-box;padding-bottom: 0.4em;background-color: white;}#sk-container-id-118 div.sk-label label {font-family: monospace;font-weight: bold;display: inline-block;line-height: 1.2em;}#sk-container-id-118 div.sk-label-container {text-align: center;}#sk-container-id-118 div.sk-container {/* jupyter's `normalize.less` sets `[hidden] { display: none; }` but bootstrap.min.css set `[hidden] { display: none !important; }` so we also need the `!important` here to be able to override the default hidden behavior on the sphinx rendered scikit-learn.org. See: https://github.com/scikit-learn/scikit-learn/issues/21755 */display: inline-block !important;position: relative;}#sk-container-id-118 div.sk-text-repr-fallback {display: none;}</style><div id=\"sk-container-id-118\" class=\"sk-top-container\"><div class=\"sk-text-repr-fallback\"><pre>RandomForestClassifier(max_leaf_nodes=6, min_impurity_decrease=0.05,\n",
       "                       n_estimators=500)</pre><b>In a Jupyter environment, please rerun this cell to show the HTML representation or trust the notebook. <br />On GitHub, the HTML representation is unable to render, please try loading this page with nbviewer.org.</b></div><div class=\"sk-container\" hidden><div class=\"sk-item\"><div class=\"sk-estimator sk-toggleable\"><input class=\"sk-toggleable__control sk-hidden--visually\" id=\"sk-estimator-id-118\" type=\"checkbox\" checked><label for=\"sk-estimator-id-118\" class=\"sk-toggleable__label sk-toggleable__label-arrow\">RandomForestClassifier</label><div class=\"sk-toggleable__content\"><pre>RandomForestClassifier(max_leaf_nodes=6, min_impurity_decrease=0.05,\n",
       "                       n_estimators=500)</pre></div></div></div></div></div>"
      ],
      "text/plain": [
       "RandomForestClassifier(max_leaf_nodes=6, min_impurity_decrease=0.05,\n",
       "                       n_estimators=500)"
      ]
     },
     "execution_count": 467,
     "metadata": {},
     "output_type": "execute_result"
    }
   ],
   "source": [
    "forest = RandomForestClassifier(n_estimators=500, min_samples_split=2, max_leaf_nodes=6, min_impurity_decrease=0.05)\n",
    "forest.fit(X_train, y_train)"
   ]
  },
  {
   "cell_type": "code",
   "execution_count": 468,
   "id": "9aef44c8",
   "metadata": {},
   "outputs": [
    {
     "name": "stdout",
     "output_type": "stream",
     "text": [
      "0.9766666666666667\n"
     ]
    },
    {
     "data": {
      "image/png": "[encoded data removed]",
      "text/plain": [
       "<Figure size 432x288 with 2 Axes>"
      ]
     },
     "metadata": {
      "needs_background": "light"
     },
     "output_type": "display_data"
    }
   ],
   "source": [
    "y_pred = forest.predict(X_test)\n",
    "print(forest.score(X_test, y_test))\n",
    "cmx = confusion_matrix(y_test, y_pred)\n",
    "ConfusionMatrixDisplay(cmx, display_labels=[0,1,2]).plot(cmap=plt.cm.Blues)\n",
    "plt.show()"
   ]
  },
  {
   "cell_type": "code",
   "execution_count": 469,
   "id": "80d29836",
   "metadata": {},
   "outputs": [
    {
     "data": {
      "text/html": [
       "<style>#sk-container-id-119 {color: black;}#sk-container-id-119 pre{padding: 0;}#sk-container-id-119 div.sk-toggleable {background-color: white;}#sk-container-id-119 label.sk-toggleable__label {cursor: pointer;display: block;width: 100%;margin-bottom: 0;padding: 0.3em;box-sizing: border-box;text-align: center;}#sk-container-id-119 label.sk-toggleable__label-arrow:before {content: \"▸\";float: left;margin-right: 0.25em;color: #696969;}#sk-container-id-119 label.sk-toggleable__label-arrow:hover:before {color: black;}#sk-container-id-119 div.sk-estimator:hover label.sk-toggleable__label-arrow:before {color: black;}#sk-container-id-119 div.sk-toggleable__content {max-height: 0;max-width: 0;overflow: hidden;text-align: left;background-color: #f0f8ff;}#sk-container-id-119 div.sk-toggleable__content pre {margin: 0.2em;color: black;border-radius: 0.25em;background-color: #f0f8ff;}#sk-container-id-119 input.sk-toggleable__control:checked~div.sk-toggleable__content {max-height: 200px;max-width: 100%;overflow: auto;}#sk-container-id-119 input.sk-toggleable__control:checked~label.sk-toggleable__label-arrow:before {content: \"▾\";}#sk-container-id-119 div.sk-estimator input.sk-toggleable__control:checked~label.sk-toggleable__label {background-color: #d4ebff;}#sk-container-id-119 div.sk-label input.sk-toggleable__control:checked~label.sk-toggleable__label {background-color: #d4ebff;}#sk-container-id-119 input.sk-hidden--visually {border: 0;clip: rect(1px 1px 1px 1px);clip: rect(1px, 1px, 1px, 1px);height: 1px;margin: -1px;overflow: hidden;padding: 0;position: absolute;width: 1px;}#sk-container-id-119 div.sk-estimator {font-family: monospace;background-color: #f0f8ff;border: 1px dotted black;border-radius: 0.25em;box-sizing: border-box;margin-bottom: 0.5em;}#sk-container-id-119 div.sk-estimator:hover {background-color: #d4ebff;}#sk-container-id-119 div.sk-parallel-item::after {content: \"\";width: 100%;border-bottom: 1px solid gray;flex-grow: 1;}#sk-container-id-119 div.sk-label:hover label.sk-toggleable__label {background-color: #d4ebff;}#sk-container-id-119 div.sk-serial::before {content: \"\";position: absolute;border-left: 1px solid gray;box-sizing: border-box;top: 0;bottom: 0;left: 50%;z-index: 0;}#sk-container-id-119 div.sk-serial {display: flex;flex-direction: column;align-items: center;background-color: white;padding-right: 0.2em;padding-left: 0.2em;position: relative;}#sk-container-id-119 div.sk-item {position: relative;z-index: 1;}#sk-container-id-119 div.sk-parallel {display: flex;align-items: stretch;justify-content: center;background-color: white;position: relative;}#sk-container-id-119 div.sk-item::before, #sk-container-id-119 div.sk-parallel-item::before {content: \"\";position: absolute;border-left: 1px solid gray;box-sizing: border-box;top: 0;bottom: 0;left: 50%;z-index: -1;}#sk-container-id-119 div.sk-parallel-item {display: flex;flex-direction: column;z-index: 1;position: relative;background-color: white;}#sk-container-id-119 div.sk-parallel-item:first-child::after {align-self: flex-end;width: 50%;}#sk-container-id-119 div.sk-parallel-item:last-child::after {align-self: flex-start;width: 50%;}#sk-container-id-119 div.sk-parallel-item:only-child::after {width: 0;}#sk-container-id-119 div.sk-dashed-wrapped {border: 1px dashed gray;margin: 0 0.4em 0.5em 0.4em;box-sizing: border-box;padding-bottom: 0.4em;background-color: white;}#sk-container-id-119 div.sk-label label {font-family: monospace;font-weight: bold;display: inline-block;line-height: 1.2em;}#sk-container-id-119 div.sk-label-container {text-align: center;}#sk-container-id-119 div.sk-container {/* jupyter's `normalize.less` sets `[hidden] { display: none; }` but bootstrap.min.css set `[hidden] { display: none !important; }` so we also need the `!important` here to be able to override the default hidden behavior on the sphinx rendered scikit-learn.org. See: https://github.com/scikit-learn/scikit-learn/issues/21755 */display: inline-block !important;position: relative;}#sk-container-id-119 div.sk-text-repr-fallback {display: none;}</style><div id=\"sk-container-id-119\" class=\"sk-top-container\"><div class=\"sk-text-repr-fallback\"><pre>RandomForestClassifier(criterion=&#x27;entropy&#x27;, max_leaf_nodes=6,\n",
       "                       min_impurity_decrease=0.1, n_estimators=600,\n",
       "                       random_state=1)</pre><b>In a Jupyter environment, please rerun this cell to show the HTML representation or trust the notebook. <br />On GitHub, the HTML representation is unable to render, please try loading this page with nbviewer.org.</b></div><div class=\"sk-container\" hidden><div class=\"sk-item\"><div class=\"sk-estimator sk-toggleable\"><input class=\"sk-toggleable__control sk-hidden--visually\" id=\"sk-estimator-id-119\" type=\"checkbox\" checked><label for=\"sk-estimator-id-119\" class=\"sk-toggleable__label sk-toggleable__label-arrow\">RandomForestClassifier</label><div class=\"sk-toggleable__content\"><pre>RandomForestClassifier(criterion=&#x27;entropy&#x27;, max_leaf_nodes=6,\n",
       "                       min_impurity_decrease=0.1, n_estimators=600,\n",
       "                       random_state=1)</pre></div></div></div></div></div>"
      ],
      "text/plain": [
       "RandomForestClassifier(criterion='entropy', max_leaf_nodes=6,\n",
       "                       min_impurity_decrease=0.1, n_estimators=600,\n",
       "                       random_state=1)"
      ]
     },
     "execution_count": 469,
     "metadata": {},
     "output_type": "execute_result"
    }
   ],
   "source": [
    "forest = RandomForestClassifier(n_estimators=600, criterion='entropy', max_leaf_nodes=6, min_impurity_decrease=0.1, random_state=1)\n",
    "forest.fit(X_train, y_train)"
   ]
  },
  {
   "cell_type": "code",
   "execution_count": 470,
   "id": "fb1406d9",
   "metadata": {},
   "outputs": [
    {
     "name": "stdout",
     "output_type": "stream",
     "text": [
      "0.9766666666666667\n"
     ]
    },
    {
     "data": {
      "image/png": "[encoded data removed]",
      "text/plain": [
       "<Figure size 432x288 with 2 Axes>"
      ]
     },
     "metadata": {
      "needs_background": "light"
     },
     "output_type": "display_data"
    }
   ],
   "source": [
    "y_pred = forest.predict(X_test)\n",
    "print(forest.score(X_test, y_test))\n",
    "cmx = confusion_matrix(y_test, y_pred)\n",
    "ConfusionMatrixDisplay(cmx, display_labels=[0,1,2]).plot(cmap=plt.cm.Blues)\n",
    "plt.show()"
   ]
  },
  {
   "cell_type": "markdown",
   "id": "bd980fde",
   "metadata": {},
   "source": [
    "# The better random forest model and the one we will use is:\n",
    "RandomForestClassifier(n_estimators=600, criterion='entropy', max_leaf_nodes=6, min_impurity_decrease=0.1)"
   ]
  }
 ],
 "metadata": {
  "kernelspec": {
   "display_name": "Python 3 (ipykernel)",
   "language": "python",
   "name": "python3"
  },
  "language_info": {
   "codemirror_mode": {
    "name": "ipython",
    "version": 3
   },
   "file_extension": ".py",
   "mimetype": "text/x-python",
   "name": "python",
   "nbconvert_exporter": "python",
   "pygments_lexer": "ipython3",
   "version": "3.9.12"
  }
 },
 "nbformat": 4,
 "nbformat_minor": 5
}
