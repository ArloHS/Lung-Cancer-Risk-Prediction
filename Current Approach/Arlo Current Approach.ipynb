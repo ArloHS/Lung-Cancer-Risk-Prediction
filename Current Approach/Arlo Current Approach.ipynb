{
 "cells": [
  {
   "cell_type": "code",
   "execution_count": 2,
   "id": "89c6c869",
   "metadata": {},
   "outputs": [],
   "source": [
    "import pandas as pd \n",
    "import numpy as np\n",
    "import matplotlib.pyplot as plt"
   ]
  },
  {
   "cell_type": "code",
   "execution_count": 3,
   "id": "cfdb1923",
   "metadata": {},
   "outputs": [],
   "source": [
    "from sklearn.model_selection import train_test_split, cross_val_score, KFold\n",
    "from sklearn.linear_model import LogisticRegression\n",
    "from sklearn.metrics import confusion_matrix, accuracy_score"
   ]
  },
  {
   "cell_type": "code",
   "execution_count": 4,
   "id": "6ac8c804",
   "metadata": {},
   "outputs": [],
   "source": [
    "df=pd.read_csv('cancer patient data sets.csv')"
   ]
  },
  {
   "cell_type": "code",
   "execution_count": 5,
   "id": "dd674492",
   "metadata": {},
   "outputs": [
    {
     "data": {
      "text/html": [
       "<div>\n",
       "<style scoped>\n",
       "    .dataframe tbody tr th:only-of-type {\n",
       "        vertical-align: middle;\n",
       "    }\n",
       "\n",
       "    .dataframe tbody tr th {\n",
       "        vertical-align: top;\n",
       "    }\n",
       "\n",
       "    .dataframe thead th {\n",
       "        text-align: right;\n",
       "    }\n",
       "</style>\n",
       "<table border=\"1\" class=\"dataframe\">\n",
       "  <thead>\n",
       "    <tr style=\"text-align: right;\">\n",
       "      <th></th>\n",
       "      <th>index</th>\n",
       "      <th>Patient Id</th>\n",
       "      <th>Age</th>\n",
       "      <th>Gender</th>\n",
       "      <th>Air Pollution</th>\n",
       "      <th>Alcohol use</th>\n",
       "      <th>Dust Allergy</th>\n",
       "      <th>OccuPational Hazards</th>\n",
       "      <th>Genetic Risk</th>\n",
       "      <th>chronic Lung Disease</th>\n",
       "      <th>...</th>\n",
       "      <th>Fatigue</th>\n",
       "      <th>Weight Loss</th>\n",
       "      <th>Shortness of Breath</th>\n",
       "      <th>Wheezing</th>\n",
       "      <th>Swallowing Difficulty</th>\n",
       "      <th>Clubbing of Finger Nails</th>\n",
       "      <th>Frequent Cold</th>\n",
       "      <th>Dry Cough</th>\n",
       "      <th>Snoring</th>\n",
       "      <th>Level</th>\n",
       "    </tr>\n",
       "  </thead>\n",
       "  <tbody>\n",
       "    <tr>\n",
       "      <th>0</th>\n",
       "      <td>0</td>\n",
       "      <td>P1</td>\n",
       "      <td>33</td>\n",
       "      <td>1</td>\n",
       "      <td>2</td>\n",
       "      <td>4</td>\n",
       "      <td>5</td>\n",
       "      <td>4</td>\n",
       "      <td>3</td>\n",
       "      <td>2</td>\n",
       "      <td>...</td>\n",
       "      <td>3</td>\n",
       "      <td>4</td>\n",
       "      <td>2</td>\n",
       "      <td>2</td>\n",
       "      <td>3</td>\n",
       "      <td>1</td>\n",
       "      <td>2</td>\n",
       "      <td>3</td>\n",
       "      <td>4</td>\n",
       "      <td>Low</td>\n",
       "    </tr>\n",
       "    <tr>\n",
       "      <th>1</th>\n",
       "      <td>1</td>\n",
       "      <td>P10</td>\n",
       "      <td>17</td>\n",
       "      <td>1</td>\n",
       "      <td>3</td>\n",
       "      <td>1</td>\n",
       "      <td>5</td>\n",
       "      <td>3</td>\n",
       "      <td>4</td>\n",
       "      <td>2</td>\n",
       "      <td>...</td>\n",
       "      <td>1</td>\n",
       "      <td>3</td>\n",
       "      <td>7</td>\n",
       "      <td>8</td>\n",
       "      <td>6</td>\n",
       "      <td>2</td>\n",
       "      <td>1</td>\n",
       "      <td>7</td>\n",
       "      <td>2</td>\n",
       "      <td>Medium</td>\n",
       "    </tr>\n",
       "    <tr>\n",
       "      <th>2</th>\n",
       "      <td>2</td>\n",
       "      <td>P100</td>\n",
       "      <td>35</td>\n",
       "      <td>1</td>\n",
       "      <td>4</td>\n",
       "      <td>5</td>\n",
       "      <td>6</td>\n",
       "      <td>5</td>\n",
       "      <td>5</td>\n",
       "      <td>4</td>\n",
       "      <td>...</td>\n",
       "      <td>8</td>\n",
       "      <td>7</td>\n",
       "      <td>9</td>\n",
       "      <td>2</td>\n",
       "      <td>1</td>\n",
       "      <td>4</td>\n",
       "      <td>6</td>\n",
       "      <td>7</td>\n",
       "      <td>2</td>\n",
       "      <td>High</td>\n",
       "    </tr>\n",
       "    <tr>\n",
       "      <th>3</th>\n",
       "      <td>3</td>\n",
       "      <td>P1000</td>\n",
       "      <td>37</td>\n",
       "      <td>1</td>\n",
       "      <td>7</td>\n",
       "      <td>7</td>\n",
       "      <td>7</td>\n",
       "      <td>7</td>\n",
       "      <td>6</td>\n",
       "      <td>7</td>\n",
       "      <td>...</td>\n",
       "      <td>4</td>\n",
       "      <td>2</td>\n",
       "      <td>3</td>\n",
       "      <td>1</td>\n",
       "      <td>4</td>\n",
       "      <td>5</td>\n",
       "      <td>6</td>\n",
       "      <td>7</td>\n",
       "      <td>5</td>\n",
       "      <td>High</td>\n",
       "    </tr>\n",
       "    <tr>\n",
       "      <th>4</th>\n",
       "      <td>4</td>\n",
       "      <td>P101</td>\n",
       "      <td>46</td>\n",
       "      <td>1</td>\n",
       "      <td>6</td>\n",
       "      <td>8</td>\n",
       "      <td>7</td>\n",
       "      <td>7</td>\n",
       "      <td>7</td>\n",
       "      <td>6</td>\n",
       "      <td>...</td>\n",
       "      <td>3</td>\n",
       "      <td>2</td>\n",
       "      <td>4</td>\n",
       "      <td>1</td>\n",
       "      <td>4</td>\n",
       "      <td>2</td>\n",
       "      <td>4</td>\n",
       "      <td>2</td>\n",
       "      <td>3</td>\n",
       "      <td>High</td>\n",
       "    </tr>\n",
       "  </tbody>\n",
       "</table>\n",
       "<p>5 rows × 26 columns</p>\n",
       "</div>"
      ],
      "text/plain": [
       "   index Patient Id  Age  Gender  Air Pollution  Alcohol use  Dust Allergy  \\\n",
       "0      0         P1   33       1              2            4             5   \n",
       "1      1        P10   17       1              3            1             5   \n",
       "2      2       P100   35       1              4            5             6   \n",
       "3      3      P1000   37       1              7            7             7   \n",
       "4      4       P101   46       1              6            8             7   \n",
       "\n",
       "   OccuPational Hazards  Genetic Risk  chronic Lung Disease  ...  Fatigue  \\\n",
       "0                     4             3                     2  ...        3   \n",
       "1                     3             4                     2  ...        1   \n",
       "2                     5             5                     4  ...        8   \n",
       "3                     7             6                     7  ...        4   \n",
       "4                     7             7                     6  ...        3   \n",
       "\n",
       "   Weight Loss  Shortness of Breath  Wheezing  Swallowing Difficulty  \\\n",
       "0            4                    2         2                      3   \n",
       "1            3                    7         8                      6   \n",
       "2            7                    9         2                      1   \n",
       "3            2                    3         1                      4   \n",
       "4            2                    4         1                      4   \n",
       "\n",
       "   Clubbing of Finger Nails  Frequent Cold  Dry Cough  Snoring   Level  \n",
       "0                         1              2          3        4     Low  \n",
       "1                         2              1          7        2  Medium  \n",
       "2                         4              6          7        2    High  \n",
       "3                         5              6          7        5    High  \n",
       "4                         2              4          2        3    High  \n",
       "\n",
       "[5 rows x 26 columns]"
      ]
     },
     "execution_count": 5,
     "metadata": {},
     "output_type": "execute_result"
    }
   ],
   "source": [
    "df.head()"
   ]
  },
  {
   "cell_type": "code",
   "execution_count": 6,
   "id": "9190e773",
   "metadata": {},
   "outputs": [],
   "source": [
    "df=df[['Age', 'Gender', 'Air Pollution', 'Alcohol use',\n",
    "       'Dust Allergy', 'OccuPational Hazards', 'Genetic Risk',\n",
    "       'chronic Lung Disease', 'Balanced Diet', 'Obesity', 'Smoking',\n",
    "       'Passive Smoker', 'Chest Pain', 'Coughing of Blood', 'Fatigue',\n",
    "       'Weight Loss', 'Shortness of Breath', 'Wheezing',\n",
    "       'Swallowing Difficulty', 'Clubbing of Finger Nails', 'Frequent Cold',\n",
    "       'Dry Cough', 'Snoring', 'Level']]"
   ]
  },
  {
   "cell_type": "code",
   "execution_count": 7,
   "id": "7f20863e",
   "metadata": {},
   "outputs": [],
   "source": [
    "df=df.replace({'Level':{'Low': 1, 'Medium': 2, 'High': 3}})"
   ]
  },
  {
   "cell_type": "code",
   "execution_count": 8,
   "id": "85bbc49a",
   "metadata": {},
   "outputs": [],
   "source": [
    "import seaborn as sns\n",
    "sns.set()"
   ]
  },
  {
   "cell_type": "code",
   "execution_count": 9,
   "id": "20cc05db",
   "metadata": {},
   "outputs": [],
   "source": [
    "df=df[['Age','Coughing of Blood','Dust Allergy','Passive Smoker','OccuPational Hazards','Air Pollution','chronic Lung Disease','Shortness of Breath','Dry Cough','Snoring','Swallowing Difficulty','Level']]"
   ]
  },
  {
   "cell_type": "code",
   "execution_count": 10,
   "id": "58880157",
   "metadata": {},
   "outputs": [],
   "source": [
    "X=df.drop('Level',axis=1)\n",
    "\n",
    "y=df['Level']"
   ]
  },
  {
   "cell_type": "code",
   "execution_count": 11,
   "id": "e5a814a3",
   "metadata": {},
   "outputs": [],
   "source": [
    "from sklearn.model_selection import train_test_split\n",
    "X_train,X_test,y_train,y_test=train_test_split(X,y,test_size=0.30,random_state=1)\n"
   ]
  },
  {
   "cell_type": "code",
   "execution_count": 12,
   "id": "48b06def",
   "metadata": {},
   "outputs": [
    {
     "data": {
      "text/plain": [
       "LogisticRegression(solver='liblinear')"
      ]
     },
     "execution_count": 12,
     "metadata": {},
     "output_type": "execute_result"
    }
   ],
   "source": [
    "from sklearn.linear_model import LogisticRegression\n",
    "Classifier = LogisticRegression(solver='liblinear')\n",
    "Classifier.fit(X_train,y_train)"
   ]
  },
  {
   "cell_type": "code",
   "execution_count": 13,
   "id": "47306493",
   "metadata": {},
   "outputs": [],
   "source": [
    "y_test_hat = Classifier.predict(X_test)"
   ]
  },
  {
   "cell_type": "code",
   "execution_count": 14,
   "id": "9386fd71",
   "metadata": {},
   "outputs": [
    {
     "data": {
      "text/html": [
       "<div>\n",
       "<style scoped>\n",
       "    .dataframe tbody tr th:only-of-type {\n",
       "        vertical-align: middle;\n",
       "    }\n",
       "\n",
       "    .dataframe tbody tr th {\n",
       "        vertical-align: top;\n",
       "    }\n",
       "\n",
       "    .dataframe thead th {\n",
       "        text-align: right;\n",
       "    }\n",
       "</style>\n",
       "<table border=\"1\" class=\"dataframe\">\n",
       "  <thead>\n",
       "    <tr style=\"text-align: right;\">\n",
       "      <th></th>\n",
       "      <th>Actual</th>\n",
       "      <th>Predictions</th>\n",
       "    </tr>\n",
       "  </thead>\n",
       "  <tbody>\n",
       "    <tr>\n",
       "      <th>507</th>\n",
       "      <td>2</td>\n",
       "      <td>2</td>\n",
       "    </tr>\n",
       "    <tr>\n",
       "      <th>818</th>\n",
       "      <td>1</td>\n",
       "      <td>1</td>\n",
       "    </tr>\n",
       "    <tr>\n",
       "      <th>452</th>\n",
       "      <td>2</td>\n",
       "      <td>1</td>\n",
       "    </tr>\n",
       "    <tr>\n",
       "      <th>368</th>\n",
       "      <td>1</td>\n",
       "      <td>1</td>\n",
       "    </tr>\n",
       "    <tr>\n",
       "      <th>242</th>\n",
       "      <td>3</td>\n",
       "      <td>3</td>\n",
       "    </tr>\n",
       "    <tr>\n",
       "      <th>929</th>\n",
       "      <td>1</td>\n",
       "      <td>1</td>\n",
       "    </tr>\n",
       "    <tr>\n",
       "      <th>262</th>\n",
       "      <td>1</td>\n",
       "      <td>1</td>\n",
       "    </tr>\n",
       "    <tr>\n",
       "      <th>810</th>\n",
       "      <td>1</td>\n",
       "      <td>2</td>\n",
       "    </tr>\n",
       "    <tr>\n",
       "      <th>318</th>\n",
       "      <td>3</td>\n",
       "      <td>3</td>\n",
       "    </tr>\n",
       "    <tr>\n",
       "      <th>49</th>\n",
       "      <td>1</td>\n",
       "      <td>1</td>\n",
       "    </tr>\n",
       "  </tbody>\n",
       "</table>\n",
       "</div>"
      ],
      "text/plain": [
       "     Actual  Predictions\n",
       "507       2            2\n",
       "818       1            1\n",
       "452       2            1\n",
       "368       1            1\n",
       "242       3            3\n",
       "929       1            1\n",
       "262       1            1\n",
       "810       1            2\n",
       "318       3            3\n",
       "49        1            1"
      ]
     },
     "execution_count": 14,
     "metadata": {},
     "output_type": "execute_result"
    }
   ],
   "source": [
    "Results = pd.DataFrame({'Actual':y_test,'Predictions':y_test_hat})\n",
    "Results.head(10)"
   ]
  },
  {
   "cell_type": "code",
   "execution_count": 15,
   "id": "3d2dc65d",
   "metadata": {},
   "outputs": [
    {
     "name": "stdout",
     "output_type": "stream",
     "text": [
      "0.9033333333333333\n"
     ]
    }
   ],
   "source": [
    "from sklearn.metrics import accuracy_score\n",
    "print(accuracy_score(y_test,y_test_hat))"
   ]
  },
  {
   "cell_type": "code",
   "execution_count": 16,
   "id": "4426544d",
   "metadata": {},
   "outputs": [
    {
     "name": "stdout",
     "output_type": "stream",
     "text": [
      "0.9257142857142857\n"
     ]
    }
   ],
   "source": [
    "y_train_hat = Classifier.predict(X_train)\n",
    "\n",
    "print(accuracy_score(y_train,y_train_hat))"
   ]
  },
  {
   "cell_type": "code",
   "execution_count": 17,
   "id": "8d2d4601",
   "metadata": {},
   "outputs": [
    {
     "name": "stdout",
     "output_type": "stream",
     "text": [
      "(300, 3)\n"
     ]
    }
   ],
   "source": [
    "y_test_hat_proba = Classifier.predict_proba(X_test)\n",
    "\n",
    "print(y_test_hat_proba.shape)"
   ]
  },
  {
   "cell_type": "code",
   "execution_count": 18,
   "id": "8b346be0",
   "metadata": {},
   "outputs": [
    {
     "data": {
      "text/html": [
       "<div>\n",
       "<style scoped>\n",
       "    .dataframe tbody tr th:only-of-type {\n",
       "        vertical-align: middle;\n",
       "    }\n",
       "\n",
       "    .dataframe tbody tr th {\n",
       "        vertical-align: top;\n",
       "    }\n",
       "\n",
       "    .dataframe thead th {\n",
       "        text-align: right;\n",
       "    }\n",
       "</style>\n",
       "<table border=\"1\" class=\"dataframe\">\n",
       "  <thead>\n",
       "    <tr style=\"text-align: right;\">\n",
       "      <th></th>\n",
       "      <th>Actual</th>\n",
       "      <th>Predictions</th>\n",
       "      <th>Prob(Class = 3)</th>\n",
       "    </tr>\n",
       "  </thead>\n",
       "  <tbody>\n",
       "    <tr>\n",
       "      <th>507</th>\n",
       "      <td>2</td>\n",
       "      <td>2</td>\n",
       "      <td>0.806446</td>\n",
       "    </tr>\n",
       "    <tr>\n",
       "      <th>818</th>\n",
       "      <td>1</td>\n",
       "      <td>1</td>\n",
       "      <td>0.066676</td>\n",
       "    </tr>\n",
       "    <tr>\n",
       "      <th>452</th>\n",
       "      <td>2</td>\n",
       "      <td>1</td>\n",
       "      <td>0.023600</td>\n",
       "    </tr>\n",
       "    <tr>\n",
       "      <th>368</th>\n",
       "      <td>1</td>\n",
       "      <td>1</td>\n",
       "      <td>0.000991</td>\n",
       "    </tr>\n",
       "    <tr>\n",
       "      <th>242</th>\n",
       "      <td>3</td>\n",
       "      <td>3</td>\n",
       "      <td>0.161223</td>\n",
       "    </tr>\n",
       "  </tbody>\n",
       "</table>\n",
       "</div>"
      ],
      "text/plain": [
       "     Actual  Predictions  Prob(Class = 3)\n",
       "507       2            2         0.806446\n",
       "818       1            1         0.066676\n",
       "452       2            1         0.023600\n",
       "368       1            1         0.000991\n",
       "242       3            3         0.161223"
      ]
     },
     "execution_count": 18,
     "metadata": {},
     "output_type": "execute_result"
    }
   ],
   "source": [
    "\n",
    "pls = y_test_hat_proba[:,1]\n",
    "\n",
    "Results = pd.DataFrame({'Actual':y_test,'Predictions':y_test_hat,'Prob(Class = 3)':pls})\n",
    "\n",
    "Results.head(5)"
   ]
  },
  {
   "cell_type": "code",
   "execution_count": 19,
   "id": "d324bcf6",
   "metadata": {},
   "outputs": [
    {
     "name": "stdout",
     "output_type": "stream",
     "text": [
      "[[ 71  18   0]\n",
      " [  7  85   4]\n",
      " [  0   0 115]]\n"
     ]
    }
   ],
   "source": [
    "from sklearn.metrics import confusion_matrix\n",
    "\n",
    "cm = confusion_matrix(y_test,y_test_hat)\n",
    "\n",
    "print(cm)"
   ]
  },
  {
   "cell_type": "code",
   "execution_count": 20,
   "id": "08614e42",
   "metadata": {},
   "outputs": [
    {
     "data": {
      "text/plain": [
       "Text(66.5, 0.5, 'True Label')"
      ]
     },
     "execution_count": 20,
     "metadata": {},
     "output_type": "execute_result"
    },
    {
     "data": {
      "image/png": "[encoded data removed]",
      "text/plain": [
       "<Figure size 720x504 with 2 Axes>"
      ]
     },
     "metadata": {},
     "output_type": "display_data"
    }
   ],
   "source": [
    "import seaborn as sn\n",
    "plt.figure(figsize = (10,7))\n",
    "sn.heatmap(cm, annot=True)\n",
    "plt.title('Confusion Matrix - Test Data')\n",
    "plt.xlabel('Predicted Label')\n",
    "plt.ylabel('True Label')"
   ]
  },
  {
   "cell_type": "code",
   "execution_count": 21,
   "id": "cd736887",
   "metadata": {},
   "outputs": [],
   "source": [
    "from sklearn.metrics import precision_score, recall_score, accuracy_score, f1_score, confusion_matrix, ConfusionMatrixDisplay, classification_report\n"
   ]
  },
  {
   "cell_type": "code",
   "execution_count": 22,
   "id": "9735f960",
   "metadata": {},
   "outputs": [],
   "source": [
    "def perform(y_pred):\n",
    "    print(\"Precision : \", precision_score(y_test, y_test_hat, average = 'micro'))\n",
    "    print(\"Recall : \", recall_score(y_test, y_test_hat, average = 'micro'))\n",
    "    print(\"Accuracy : \", accuracy_score(y_test, y_test_hat))\n",
    "    print(\"F1 Score : \", f1_score(y_test, y_test_hat, average = 'micro'))\n",
    "    cm = confusion_matrix(y_test, y_pred)\n",
    "    print(\"\\n\", cm)\n",
    "    print(\"\\n\")\n",
    "    print(\"**\"*27 + \"\\n\" + \" \"* 16 + \"Classification Report\\n\" + \"**\"*27)\n",
    "    print(classification_report(y_test, y_test_hat))\n",
    "    print(\"**\"*27+\"\\n\")\n",
    "    \n",
    "    cm = ConfusionMatrixDisplay(confusion_matrix = cm, display_labels=['Low', 'Medium', 'High'])\n",
    "    cm.plot()"
   ]
  },
  {
   "cell_type": "code",
   "execution_count": 23,
   "id": "0fb58c8b",
   "metadata": {},
   "outputs": [
    {
     "name": "stdout",
     "output_type": "stream",
     "text": [
      "Precision :  0.9033333333333333\n",
      "Recall :  0.9033333333333333\n",
      "Accuracy :  0.9033333333333333\n",
      "F1 Score :  0.9033333333333333\n",
      "\n",
      " [[ 71  18   0]\n",
      " [  7  85   4]\n",
      " [  0   0 115]]\n",
      "\n",
      "\n",
      "******************************************************\n",
      "                Classification Report\n",
      "******************************************************\n",
      "              precision    recall  f1-score   support\n",
      "\n",
      "           1       0.91      0.80      0.85        89\n",
      "           2       0.83      0.89      0.85        96\n",
      "           3       0.97      1.00      0.98       115\n",
      "\n",
      "    accuracy                           0.90       300\n",
      "   macro avg       0.90      0.89      0.90       300\n",
      "weighted avg       0.90      0.90      0.90       300\n",
      "\n",
      "******************************************************\n",
      "\n"
     ]
    },
    {
     "data": {
      "image/png": "[encoded data removed]",
      "text/plain": [
       "<Figure size 432x288 with 2 Axes>"
      ]
     },
     "metadata": {},
     "output_type": "display_data"
    }
   ],
   "source": [
    "perform(y_test_hat)"
   ]
  },
  {
   "cell_type": "code",
   "execution_count": 24,
   "id": "9df51b6e",
   "metadata": {},
   "outputs": [
    {
     "name": "stdout",
     "output_type": "stream",
     "text": [
      "              precision    recall  f1-score   support\n",
      "\n",
      "           1       0.91      0.80      0.85        89\n",
      "           2       0.83      0.89      0.85        96\n",
      "           3       0.97      1.00      0.98       115\n",
      "\n",
      "    accuracy                           0.90       300\n",
      "   macro avg       0.90      0.89      0.90       300\n",
      "weighted avg       0.90      0.90      0.90       300\n",
      "\n"
     ]
    }
   ],
   "source": [
    "from sklearn.metrics import classification_report\n",
    "print(classification_report(y_test,y_test_hat))"
   ]
  },
  {
   "cell_type": "code",
   "execution_count": 34,
   "id": "125f9d10",
   "metadata": {},
   "outputs": [
    {
     "name": "stdout",
     "output_type": "stream",
     "text": [
      "Accuracy: 0.90\n",
      "Precision for Class 1: 0.91\n",
      "Recall for Class 1: 0.80\n",
      "Precision for Class 2: 0.83\n",
      "Recall for Class 2: 0.89\n",
      "Precision for Class 3: 0.97\n",
      "Recall for Class 3: 1.00\n"
     ]
    },
    {
     "data": {
      "image/png": "[encoded data removed]",
      "text/plain": [
       "<Figure size 432x288 with 1 Axes>"
      ]
     },
     "metadata": {},
     "output_type": "display_data"
    }
   ],
   "source": [
    "import numpy as np\n",
    "from sklearn.metrics import classification_report, accuracy_score, roc_curve, auc, roc_auc_score\n",
    "import matplotlib.pyplot as plt\n",
    "\n",
    "# Assuming y_test, y_test_hat are defined, and you have a probability output for each class\n",
    "y_probas = Classifier.predict_proba(X_test)  # Ensure this gives a probability for each class\n",
    "\n",
    "# Calculate Accuracy\n",
    "accuracy = accuracy_score(y_test, y_test_hat)\n",
    "\n",
    "# Generate a classification report\n",
    "report = classification_report(y_test, y_test_hat, output_dict=True)\n",
    "\n",
    "# Print Accuracy\n",
    "print(f\"Accuracy: {accuracy:.2f}\")\n",
    "\n",
    "# Extracting and printing precision and recall for each class\n",
    "for label in [1, 2, 3]:  # These are your class labels\n",
    "    precision = report[str(label)]['precision']\n",
    "    recall = report[str(label)]['recall']\n",
    "    print(f\"Precision for Class {label}: {precision:.2f}\")\n",
    "    print(f\"Recall for Class {label}: {recall:.2f}\")\n",
    "\n",
    "# To plot ROC AUC curve for multi-class, you need to binarize the output\n",
    "from sklearn.preprocessing import label_binarize\n",
    "y_test_binarized = label_binarize(y_test, classes=[1, 2, 3])\n",
    "n_classes = y_test_binarized.shape[1]\n",
    "\n",
    "# Compute ROC curve and ROC area for each class\n",
    "fpr = dict()\n",
    "tpr = dict()\n",
    "roc_auc = dict()\n",
    "for i in range(n_classes):\n",
    "    fpr[i], tpr[i], _ = roc_curve(y_test_binarized[:, i], y_probas[:, i])\n",
    "    roc_auc[i] = auc(fpr[i], tpr[i])\n",
    "\n",
    "# Plotting each class ROC Curve\n",
    "plt.figure()\n",
    "colors = ['blue', 'red', 'green']\n",
    "for i, color in enumerate(colors):\n",
    "    plt.plot(fpr[i], tpr[i], color=color, lw=2,\n",
    "             label=f'ROC curve of class {i+1} (area = {roc_auc[i]:.2f})')\n",
    "plt.plot([0, 1], [0, 1], 'k--', lw=2)\n",
    "plt.xlim([0.0, 1.0])\n",
    "plt.ylim([0.0, 1.05])\n",
    "plt.xlabel('False Positive Rate')\n",
    "plt.ylabel('True Positive Rate')\n",
    "plt.title('Multi-class ROC')\n",
    "plt.legend(loc=\"lower right\")\n",
    "plt.show()\n"
   ]
  },
  {
   "cell_type": "code",
   "execution_count": 36,
   "id": "8b49b679",
   "metadata": {},
   "outputs": [
    {
     "name": "stdout",
     "output_type": "stream",
     "text": [
      "Overall Metrics:\n",
      "Accuracy: 0.90\n",
      "Macro Precision: 0.90\n",
      "Macro Recall: 0.89\n",
      "Weighted Precision: 0.90\n",
      "Weighted Recall: 0.90\n",
      "Micro Precision (and Recall): 0.90\n"
     ]
    }
   ],
   "source": [
    "from sklearn.metrics import classification_report, accuracy_score\n",
    "from sklearn.metrics import precision_score, recall_score\n",
    "\n",
    "# Example usage (assuming y_test and y_test_hat are already defined)\n",
    "report = classification_report(y_test, y_test_hat, output_dict=True)\n",
    "\n",
    "# Overall metrics\n",
    "accuracy = accuracy_score(y_test, y_test_hat)  # Overall accuracy\n",
    "macro_precision = report['macro avg']['precision']\n",
    "macro_recall = report['macro avg']['recall']\n",
    "weighted_precision = report['weighted avg']['precision']\n",
    "weighted_recall = report['weighted avg']['recall']\n",
    "\n",
    "# Direct calculation of micro-averaged precision and recall\n",
    "micro_precision = precision_score(y_test, y_test_hat, average='micro')\n",
    "micro_recall = recall_score(y_test, y_test_hat, average='micro')\n",
    "\n",
    "print(\"Overall Metrics:\")\n",
    "print(f\"Accuracy: {accuracy:.2f}\")\n",
    "print(f\"Macro Precision: {macro_precision:.2f}\")\n",
    "print(f\"Macro Recall: {macro_recall:.2f}\")\n",
    "print(f\"Weighted Precision: {weighted_precision:.2f}\")\n",
    "print(f\"Weighted Recall: {weighted_recall:.2f}\")\n",
    "print(f\"Micro Precision (and Recall): {micro_precision:.2f}\")\n"
   ]
  },
  {
   "cell_type": "code",
   "execution_count": 37,
   "id": "113b49a9",
   "metadata": {},
   "outputs": [
    {
     "data": {
      "image/png": "[encoded data removed]",
      "text/plain": [
       "<Figure size 432x288 with 1 Axes>"
      ]
     },
     "metadata": {},
     "output_type": "display_data"
    }
   ],
   "source": [
    "from sklearn.metrics import roc_curve, auc\n",
    "from sklearn.preprocessing import label_binarize\n",
    "from itertools import cycle\n",
    "import numpy as np\n",
    "import matplotlib.pyplot as plt\n",
    "\n",
    "# Assume y_test are your true labels and y_probas are the probability predictions from your model\n",
    "# y_probas should be of shape (n_samples, n_classes)\n",
    "n_classes = 3  # Number of classes\n",
    "\n",
    "# Binarize the output\n",
    "y_test_binarized = label_binarize(y_test, classes=[1, 2, 3])\n",
    "\n",
    "# Compute ROC curve and ROC AUC for each class\n",
    "fpr = dict()\n",
    "tpr = dict()\n",
    "roc_auc = dict()\n",
    "for i in range(n_classes):\n",
    "    fpr[i], tpr[i], _ = roc_curve(y_test_binarized[:, i], y_probas[:, i])\n",
    "    roc_auc[i] = auc(fpr[i], tpr[i])\n",
    "\n",
    "# Compute macro-average ROC curve and ROC AUC\n",
    "# First aggregate all false positive rates\n",
    "all_fpr = np.unique(np.concatenate([fpr[i] for i in range(n_classes)]))\n",
    "\n",
    "# Then interpolate all ROC curves at these points\n",
    "mean_tpr = np.zeros_like(all_fpr)\n",
    "for i in range(n_classes):\n",
    "    mean_tpr += np.interp(all_fpr, fpr[i], tpr[i])\n",
    "\n",
    "# Finally average it and compute AUC\n",
    "mean_tpr /= n_classes\n",
    "\n",
    "macro_roc_auc = auc(all_fpr, mean_tpr)\n",
    "\n",
    "# Plot the macro-average ROC curve\n",
    "plt.figure()\n",
    "plt.plot(all_fpr, mean_tpr, label='Macro-average ROC curve (area = {0:0.2f})'\n",
    "               ''.format(macro_roc_auc), color='navy', linestyle=':', linewidth=4)\n",
    "\n",
    "plt.plot([0, 1], [0, 1], 'k--', lw=2)\n",
    "plt.xlim([0.0, 1.0])\n",
    "plt.ylim([0.0, 1.05])\n",
    "plt.xlabel('False Positive Rate')\n",
    "plt.ylabel('True Positive Rate')\n",
    "plt.title('Macro-Average ROC Curve for Multi-Class')\n",
    "plt.legend(loc=\"lower right\")\n",
    "plt.show()\n"
   ]
  },
  {
   "cell_type": "code",
   "execution_count": 38,
   "id": "ef92edeb",
   "metadata": {},
   "outputs": [
    {
     "data": {
      "image/png": "[encoded data removed]",
      "text/plain": [
       "<Figure size 720x576 with 1 Axes>"
      ]
     },
     "metadata": {},
     "output_type": "display_data"
    }
   ],
   "source": [
    "from sklearn.metrics import roc_curve, auc\n",
    "from sklearn.preprocessing import label_binarize\n",
    "import numpy as np\n",
    "import matplotlib.pyplot as plt\n",
    "\n",
    "# Assume y_test are your true labels and y_probas are the probability predictions from your model\n",
    "# y_probas should be of shape (n_samples, n_classes)\n",
    "n_classes = 3  # Number of classes\n",
    "\n",
    "# Binarize the output\n",
    "y_test_binarized = label_binarize(y_test, classes=[1, 2, 3])\n",
    "\n",
    "# Compute ROC curve and ROC AUC for each class\n",
    "fpr = dict()\n",
    "tpr = dict()\n",
    "roc_auc = dict()\n",
    "for i in range(n_classes):\n",
    "    fpr[i], tpr[i], _ = roc_curve(y_test_binarized[:, i], y_probas[:, i])\n",
    "    roc_auc[i] = auc(fpr[i], tpr[i])\n",
    "\n",
    "# Compute macro-average ROC curve and ROC AUC\n",
    "all_fpr = np.unique(np.concatenate([fpr[i] for i in range(n_classes)]))\n",
    "mean_tpr = np.zeros_like(all_fpr)\n",
    "for i in range(n_classes):\n",
    "    mean_tpr += np.interp(all_fpr, fpr[i], tpr[i])\n",
    "mean_tpr /= n_classes\n",
    "macro_roc_auc = auc(all_fpr, mean_tpr)\n",
    "\n",
    "# Plot the macro-average ROC curve\n",
    "plt.figure(figsize=(10, 8))  # Set the size of the plot\n",
    "plt.plot(all_fpr, mean_tpr, color='darkorange', linestyle='-', linewidth=3,\n",
    "         label=f'Macro-average ROC curve (area = {macro_roc_auc:.2f})')\n",
    "\n",
    "plt.plot([0, 1], [0, 1], linestyle='--', lw=2, color='gray', label='Chance (area = 0.5)', alpha=0.8)\n",
    "\n",
    "plt.xlim([0.0, 1.0])\n",
    "plt.ylim([0.0, 1.05])\n",
    "plt.xlabel('False Positive Rate', fontsize=16)\n",
    "plt.ylabel('True Positive Rate', fontsize=16)\n",
    "plt.title('Enhanced Macro-Average ROC Curve for Multi-Class', fontsize=20)\n",
    "plt.legend(loc=\"lower right\", fontsize=14)\n",
    "plt.grid(True)\n",
    "plt.xticks(fontsize=12)\n",
    "plt.yticks(fontsize=12)\n",
    "plt.show()\n"
   ]
  },
  {
   "cell_type": "code",
   "execution_count": 41,
   "id": "7ce27993",
   "metadata": {},
   "outputs": [
    {
     "name": "stderr",
     "output_type": "stream",
     "text": [
      "C:\\Users\\arlos\\AppData\\Local\\Temp\\ipykernel_23900\\2428002720.py:29: UserWarning: color is redundantly defined by the 'color' keyword argument and the fmt string \"k--\" (-> color='k'). The keyword argument will take precedence.\n",
      "  plt.plot([0, 1], [0, 1], 'k--', lw=2, color='gray', alpha=0.8)  # Chance line\n"
     ]
    },
    {
     "data": {
      "image/png": "[encoded data removed]",
      "text/plain": [
       "<Figure size 720x576 with 1 Axes>"
      ]
     },
     "metadata": {},
     "output_type": "display_data"
    }
   ],
   "source": [
    "import numpy as np\n",
    "from sklearn.metrics import classification_report, accuracy_score, roc_curve, auc\n",
    "from sklearn.preprocessing import label_binarize\n",
    "import matplotlib.pyplot as plt\n",
    "from itertools import cycle\n",
    "\n",
    "# Assuming you have y_test, y_test_hat, and y_probas defined correctly\n",
    "# Here's how you compute and plot the ROC curves with correct indexing:\n",
    "\n",
    "# Binarize the output\n",
    "y_test_binarized = label_binarize(y_test, classes=[1, 2, 3])\n",
    "n_classes = y_test_binarized.shape[1]\n",
    "\n",
    "# Compute ROC curve and ROC AUC for each class\n",
    "fpr = dict()\n",
    "tpr = dict()\n",
    "roc_auc = dict()\n",
    "for i in range(n_classes):\n",
    "    fpr[i], tpr[i], _ = roc_curve(y_test_binarized[:, i], y_probas[:, i])\n",
    "    roc_auc[i] = auc(fpr[i], tpr[i])\n",
    "\n",
    "# Plotting each class ROC Curve\n",
    "plt.figure(figsize=(10, 8))  # Make the plot larger\n",
    "colors = cycle(['blue', 'red', 'green'])  # Colors for each class\n",
    "for i in range(n_classes):  # Use range(n_classes) to correctly index dictionaries\n",
    "    plt.plot(fpr[i], tpr[i], color=next(colors), lw=3,\n",
    "             label=f'ROC curve of class {i+1} (area = {roc_auc[i]:.2f})')\n",
    "\n",
    "plt.plot([0, 1], [0, 1], 'k--', lw=2, color='gray', alpha=0.8)  # Chance line\n",
    "plt.xlim([0.0, 1.0])\n",
    "plt.ylim([0.0, 1.05])\n",
    "plt.xlabel('False Positive Rate', fontsize=16)\n",
    "plt.ylabel('True Positive Rate', fontsize=16)\n",
    "plt.title('Enhanced Multi-class ROC Curves', fontsize=20)\n",
    "plt.legend(loc=\"lower right\", fontsize=14)\n",
    "plt.grid(True)  # Add grid for better readability\n",
    "plt.xticks(fontsize=12)\n",
    "plt.yticks(fontsize=12)\n",
    "plt.show()\n"
   ]
  },
  {
   "cell_type": "code",
   "execution_count": null,
   "id": "46bcf1fd",
   "metadata": {},
   "outputs": [],
   "source": []
  },
  {
   "cell_type": "code",
   "execution_count": null,
   "id": "cfa094dd",
   "metadata": {},
   "outputs": [],
   "source": []
  }
 ],
 "metadata": {
  "kernelspec": {
   "display_name": "Python 3 (ipykernel)",
   "language": "python",
   "name": "python3"
  },
  "language_info": {
   "codemirror_mode": {
    "name": "ipython",
    "version": 3
   },
   "file_extension": ".py",
   "mimetype": "text/x-python",
   "name": "python",
   "nbconvert_exporter": "python",
   "pygments_lexer": "ipython3",
   "version": "3.9.12"
  }
 },
 "nbformat": 4,
 "nbformat_minor": 5
}
